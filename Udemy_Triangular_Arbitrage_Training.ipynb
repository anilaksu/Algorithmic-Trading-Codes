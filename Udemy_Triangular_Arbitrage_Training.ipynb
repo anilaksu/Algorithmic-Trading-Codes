{
  "nbformat": 4,
  "nbformat_minor": 0,
  "metadata": {
    "colab": {
      "provenance": [],
      "authorship_tag": "ABX9TyNjhKZPwPQ0wD3kwwzkAC03",
      "include_colab_link": true
    },
    "kernelspec": {
      "name": "python3",
      "display_name": "Python 3"
    },
    "language_info": {
      "name": "python"
    }
  },
  "cells": [
    {
      "cell_type": "markdown",
      "metadata": {
        "id": "view-in-github",
        "colab_type": "text"
      },
      "source": [
        "<a href=\"https://colab.research.google.com/github/anilaksu/Algorithmic-Trading-Codes/blob/main/Udemy_Triangular_Arbitrage_Training.ipynb\" target=\"_parent\"><img src=\"https://colab.research.google.com/assets/colab-badge.svg\" alt=\"Open In Colab\"/></a>"
      ]
    },
    {
      "cell_type": "markdown",
      "source": [
        "# **Triangular Arbitrage for Crypto with Python Udemy Training**\n",
        "\n",
        "\n",
        "Anil Aksu\n",
        "\n",
        "Personal e-mail: aaa293@cornell.edu\n",
        "\n",
        "\n",
        "\n",
        "**Outline:**\n",
        "\n",
        "\n",
        "1.  CEFI Triangular Arbitrage\n",
        "  * Synchronous vs Asynchronous\n",
        "  * Blocking & Timeouts\n",
        "  * Scraping with Selenium\n",
        "  * Asynchronous Functions\n",
        "  * Asynchronous Iterators\n",
        "2. DEFI Triangular Arbitrage\n",
        "  * Coroutine Objects and Async Functions\n",
        "  * Ways of running coroutines\n",
        "  * Cancelling coroutines\n",
        "  * Awaitable Objects\n",
        "\n",
        "\n",
        "\n",
        "Clone GitHub Repo:\n",
        "\n",
        "git clone https://github.com/CryptoWizardsNet/poloniex-tri-arb\n",
        "\n",
        "\n",
        "\n",
        "If you have never used GitHub before or do not have GitHub working on your command line:\n",
        "\n",
        "https://www.youtube.com/watch?v=CKcqniGu3tA\n",
        "\n",
        "https://git-scm.com/book/en/v2/Getting-Started-Installing-Git\n",
        "\n",
        "\n",
        "\n",
        "Google Colab Notebook:\n",
        "\n",
        "https://colab.research.google.com/drive/1gvX613_dwF5p6Hea9xMYeC-KokE9e9C_?usp=sharing\n",
        "\n",
        "\n",
        "\n",
        "Poloniex latest docs:\n",
        "\n",
        "https://docs.poloniex.com/#introduction\n",
        "\n",
        "\n",
        "\n",
        "Binance latest docs:\n",
        "\n",
        "https://binance-docs.github.io/apidocs/spot/en/#kline-candlestick-data"
      ],
      "metadata": {
        "id": "ghlOehn-HIE2"
      }
    },
    {
      "cell_type": "code",
      "source": [
        "from google.colab import drive\n",
        "drive.mount('/content/gdrive')\n",
        "%cd /content/gdrive/MyDrive/ColabNotebooks/FinanceAlgorithms\n",
        "!ls # special shell command to view the files in the home directory of the notebook environment"
      ],
      "metadata": {
        "colab": {
          "base_uri": "https://localhost:8080/"
        },
        "id": "66Z_Nqv4Oi8s",
        "outputId": "8effdb6c-c515-4b95-bd7a-0edfbd2b96b3"
      },
      "execution_count": null,
      "outputs": [
        {
          "output_type": "stream",
          "name": "stdout",
          "text": [
            "Mounted at /content/gdrive\n",
            "/content/gdrive/MyDrive/ColabNotebooks/FinanceAlgorithms\n",
            " 2013-03-08options.csv\t      EURUSD_Options_Data.csv\t   OptionsTrading.ipynb\n",
            " 2013-03-08stocks.csv\t      EURUSD_Options_Data.gsheet   PriceJump.gdraw\n",
            "'Asynchronous Python.ipynb'  'ForEx&IndexData.xls'\t  'Stock Markets Codes.ipynb'\n",
            " async_scrape.py\t      local.csv\n"
          ]
        }
      ]
    },
    {
      "cell_type": "markdown",
      "source": [
        "#**1. How to pull any API Data**"
      ],
      "metadata": {
        "id": "Q39-mq18Rz8A"
      }
    },
    {
      "cell_type": "code",
      "source": [
        "# Here we install required libraries for API data manipulation\n",
        "!python3 -V\n",
        "!which pip3\n",
        "!pip3 install requests --upgrade --no-cache-dir"
      ],
      "metadata": {
        "colab": {
          "base_uri": "https://localhost:8080/"
        },
        "id": "sqfLm1RrUCKG",
        "outputId": "458b87e3-c1bc-45b0-c56b-494c0057a32a"
      },
      "execution_count": 1,
      "outputs": [
        {
          "output_type": "stream",
          "name": "stdout",
          "text": [
            "Python 3.10.12\n",
            "/usr/local/bin/pip3\n",
            "Requirement already satisfied: requests in /usr/local/lib/python3.10/dist-packages (2.31.0)\n",
            "Requirement already satisfied: charset-normalizer<4,>=2 in /usr/local/lib/python3.10/dist-packages (from requests) (3.3.2)\n",
            "Requirement already satisfied: idna<4,>=2.5 in /usr/local/lib/python3.10/dist-packages (from requests) (3.6)\n",
            "Requirement already satisfied: urllib3<3,>=1.21.1 in /usr/local/lib/python3.10/dist-packages (from requests) (2.0.7)\n",
            "Requirement already satisfied: certifi>=2017.4.17 in /usr/local/lib/python3.10/dist-packages (from requests) (2024.2.2)\n"
          ]
        }
      ]
    },
    {
      "cell_type": "code",
      "source": [
        "# Here we import required libraries\n",
        "import requests\n",
        "import json"
      ],
      "metadata": {
        "id": "2XIyeg1NLhdH"
      },
      "execution_count": 2,
      "outputs": []
    },
    {
      "cell_type": "code",
      "source": [
        "# Poloniex prices\n",
        "prices = requests.get(\"https://api.poloniex.com/markets/price\")\n",
        "prices_list = []\n",
        "\n",
        "if prices.status_code == 200:\n",
        "  prices_json = json.loads(prices.text)\n",
        "  for p in prices_json:\n",
        "    prices_list.append({\"ticker\": p[\"symbol\"], \"price\" : p[\"price\"]})"
      ],
      "metadata": {
        "id": "MyEk407EL1Ur"
      },
      "execution_count": 8,
      "outputs": []
    },
    {
      "cell_type": "code",
      "source": [
        "print(prices_list)"
      ],
      "metadata": {
        "colab": {
          "base_uri": "https://localhost:8080/"
        },
        "id": "M0Bd9JfMNAWy",
        "outputId": "91a8e3a4-6225-40f3-a4da-666e3174b27a"
      },
      "execution_count": 9,
      "outputs": [
        {
          "output_type": "stream",
          "name": "stdout",
          "text": [
            "[{'ticker': 'BTS_BTC', 'price': '0.0000000551'}, {'ticker': 'DASH_BTC', 'price': '0.000567'}, {'ticker': 'DOGE_BTC', 'price': '0.000001704'}, {'ticker': 'LTC_BTC', 'price': '0.001332'}, {'ticker': 'XLM_BTC', 'price': '0.00000213'}, {'ticker': 'XEM_BTC', 'price': '0.00000045'}, {'ticker': 'XMR_BTC', 'price': '0.002264'}, {'ticker': 'XRP_BTC', 'price': '0.00000992'}, {'ticker': 'BTC_USDT', 'price': '56419.68'}, {'ticker': 'DASH_USDT', 'price': '32.82'}, {'ticker': 'LTC_USDT', 'price': '75.142'}, {'ticker': 'XLM_USDT', 'price': '0.1201'}, {'ticker': 'XMR_USDT', 'price': '128.86'}, {'ticker': 'XRP_USDT', 'price': '0.5594'}, {'ticker': 'ETH_BTC', 'price': '0.05766'}, {'ticker': 'ETH_USDT', 'price': '3255.49'}, {'ticker': 'SC_BTC', 'price': '0.0000001642'}, {'ticker': 'DCR_BTC', 'price': '0.000392'}, {'ticker': 'LSK_BTC', 'price': '0.00001513'}, {'ticker': 'STEEM_BTC', 'price': '0.00000449'}, {'ticker': 'ETC_BTC', 'price': '0.000502'}, {'ticker': 'ETC_ETH', 'price': '0.00864'}, {'ticker': 'ETC_USDT', 'price': '28.38'}, {'ticker': 'ARDR_BTC', 'price': '0.000001293'}, {'ticker': 'ZEC_BTC', 'price': '0.000511'}, {'ticker': 'ZEC_ETH', 'price': '0.00913'}, {'ticker': 'ZEC_USDT', 'price': '29.59'}, {'ticker': 'ZRX_BTC', 'price': '0.00000674'}, {'ticker': 'ZRX_ETH', 'price': '0.0001171'}, {'ticker': 'CVC_BTC', 'price': '0.000002158'}, {'ticker': 'OMG_BTC', 'price': '0.00001399'}, {'ticker': 'GAS_BTC', 'price': '0.0001131'}, {'ticker': 'STORJ_BTC', 'price': '0.00001279'}, {'ticker': 'EOS_BTC', 'price': '0.00001464'}, {'ticker': 'EOS_ETH', 'price': '0.0002471'}, {'ticker': 'EOS_USDT', 'price': '0.8258'}, {'ticker': 'SNT_BTC', 'price': '0.000000651'}, {'ticker': 'KNC_BTC', 'price': '0.0000125'}, {'ticker': 'BAT_BTC', 'price': '0.00000502'}, {'ticker': 'BAT_USDT', 'price': '0.2628'}, {'ticker': 'LOOM_BTC', 'price': '0.000001809'}, {'ticker': 'DOGE_USDT', 'price': '0.095869'}, {'ticker': 'LSK_USDT', 'price': '1.0301'}, {'ticker': 'SC_USDT', 'price': '0.009263'}, {'ticker': 'ZRX_USDT', 'price': '0.3733'}, {'ticker': 'QTUM_BTC', 'price': '0.0000612'}, {'ticker': 'QTUM_USDT', 'price': '3.421'}, {'ticker': 'BTC_USDC', 'price': '56408.03'}, {'ticker': 'ETH_USDC', 'price': '3258.94'}, {'ticker': 'USDT_USDC', 'price': '1.00289'}, {'ticker': 'MANA_BTC', 'price': '0.0000094'}, {'ticker': 'MANA_USDT', 'price': '0.542'}, {'ticker': 'BNT_BTC', 'price': '0.00001534'}, {'ticker': 'BCHSV_BTC', 'price': '0.001448'}, {'ticker': 'BCHSV_USDC', 'price': '69.74'}, {'ticker': 'XRP_USDC', 'price': '0.5739'}, {'ticker': 'XMR_USDC', 'price': '132'}, {'ticker': 'XLM_USDC', 'price': '0.1189'}, {'ticker': 'DOGE_USDC', 'price': '0.095'}, {'ticker': 'LTC_USDC', 'price': '75.42'}, {'ticker': 'ZEC_USDC', 'price': '30.29'}, {'ticker': 'NMR_BTC', 'price': '0.0005739'}, {'ticker': 'POLY_BTC', 'price': '0.000001875'}, {'ticker': 'LPT_BTC', 'price': '0.0002662'}, {'ticker': 'ATOM_BTC', 'price': '0.000197'}, {'ticker': 'ATOM_USDC', 'price': '11.09'}, {'ticker': 'ATOM_USDT', 'price': '11.102'}, {'ticker': 'DASH_USDC', 'price': '30.35'}, {'ticker': 'EOS_USDC', 'price': '0.8264'}, {'ticker': 'ETC_USDC', 'price': '26.95'}, {'ticker': 'BCHSV_USDT', 'price': '86.49'}, {'ticker': 'TRX_BTC', 'price': '0.000002503'}, {'ticker': 'TRX_USDC', 'price': '0.14176'}, {'ticker': 'TRX_USDT', 'price': '0.14117'}, {'ticker': 'ETH_TRX', 'price': '23041.93'}, {'ticker': 'XRP_TRX', 'price': '3.959'}, {'ticker': 'BTT_USDT', 'price': '0.0000011143'}, {'ticker': 'BTT_TRX', 'price': '0.0000079'}, {'ticker': 'WIN_USDT', 'price': '0.00013646'}, {'ticker': 'WIN_TRX', 'price': '0.000963'}, {'ticker': 'STEEM_TRX', 'price': '1.635'}, {'ticker': 'LINK_BTC', 'price': '0.0003427'}, {'ticker': 'LINK_TRX', 'price': '135.59'}, {'ticker': 'XTZ_BTC', 'price': '0.00002012'}, {'ticker': 'XTZ_USDT', 'price': '1.1344'}, {'ticker': 'XTZ_TRX', 'price': '7.73'}, {'ticker': 'USDJ_USDT', 'price': '1.1042'}, {'ticker': 'SNX_BTC', 'price': '0.000071'}, {'ticker': 'SNX_USDT', 'price': '4.004'}, {'ticker': 'SNX_TRX', 'price': '28.23'}, {'ticker': 'MATIC_BTC', 'price': '0.00001863'}, {'ticker': 'MATIC_USDT', 'price': '1.05026'}, {'ticker': 'MATIC_TRX', 'price': '7.62'}, {'ticker': 'MKR_BTC', 'price': '0.0385'}, {'ticker': 'MKR_USDT', 'price': '2149.64'}, {'ticker': 'DAI_USDT', 'price': '1.00016'}, {'ticker': 'NEO_BTC', 'price': '0.0002393'}, {'ticker': 'NEO_USDT', 'price': '13.3'}, {'ticker': 'NEO_TRX', 'price': '95.08'}, {'ticker': 'SWFTC_BTC', 'price': '0.000000031'}, {'ticker': 'SWFTC_USDT', 'price': '0.001725'}, {'ticker': 'SWFTC_TRX', 'price': '0.02182'}, {'ticker': 'JST_USDT', 'price': '0.033908'}, {'ticker': 'JST_TRX', 'price': '0.2405'}, {'ticker': 'STEEM_USDT', 'price': '0.24923'}, {'ticker': 'LINK_USDT', 'price': '19.3362'}, {'ticker': 'AVA_BTC', 'price': '0.00001087'}, {'ticker': 'AVA_USDT', 'price': '0.6159'}, {'ticker': 'AVA_TRX', 'price': '4.32'}, {'ticker': 'XRPBULL_USDT', 'price': '0.00000323'}, {'ticker': 'CHR_BTC', 'price': '0.000007713'}, {'ticker': 'CHR_USDT', 'price': '0.4315'}, {'ticker': 'CHR_TRX', 'price': '3.085'}, {'ticker': 'BTC_BNB', 'price': '139.23'}, {'ticker': 'BNB_USDT', 'price': '398.68'}, {'ticker': 'BNB_TRX', 'price': '2876.2'}, {'ticker': 'MDT_BTC', 'price': '0.000001381'}, {'ticker': 'MDT_USDT', 'price': '0.07115'}, {'ticker': 'MDT_TRX', 'price': '0.3913'}, {'ticker': 'COMP_USDT', 'price': '76.54'}, {'ticker': 'COMP_ETH', 'price': '0.02319'}, {'ticker': 'REN_BTC', 'price': '0.000001351'}, {'ticker': 'REN_USDT', 'price': '0.0761'}, {'ticker': 'LRC_BTC', 'price': '0.00000549'}, {'ticker': 'LRC_USDT', 'price': '0.2977'}, {'ticker': 'BAL_USDT', 'price': '4.803'}, {'ticker': 'WRX_BTC', 'price': '0.00000502'}, {'ticker': 'WRX_USDT', 'price': '0.2679'}, {'ticker': 'WRX_TRX', 'price': '1.6'}, {'ticker': 'SXP_BTC', 'price': '0.00000709'}, {'ticker': 'SXP_USDT', 'price': '0.3583'}, {'ticker': 'SXP_TRX', 'price': '2.6'}, {'ticker': 'YFI_USDT', 'price': '8494.38'}, {'ticker': 'STPT_BTC', 'price': '0.000001053'}, {'ticker': 'STPT_USDT', 'price': '0.05713'}, {'ticker': 'UMA_USDT', 'price': '4.183'}, {'ticker': 'RING_USDT', 'price': '0.0025'}, {'ticker': 'SWAP_BTC', 'price': '0.000002209'}, {'ticker': 'SWAP_USDT', 'price': '0.1478'}, {'ticker': 'GEEQ_USDT', 'price': '0.0937'}, {'ticker': 'BAND_USDT', 'price': '2.14'}, {'ticker': 'DOS_USDT', 'price': '0.001011'}, {'ticker': 'DIA_USDT', 'price': '0.5192'}, {'ticker': 'TRB_USDT', 'price': '117.04'}, {'ticker': 'CRV_USDT', 'price': '0.5783'}, {'ticker': 'OM_USDT', 'price': '0.22214'}, {'ticker': 'OCEAN_USDT', 'price': '0.7221'}, {'ticker': 'BLY_USDT', 'price': '0.004518'}, {'ticker': 'SWINGBY_BTC', 'price': '0.00000000645'}, {'ticker': 'SWINGBY_USDT', 'price': '0.000442'}, {'ticker': 'SWINGBY_TRX', 'price': '0.00259'}, {'ticker': 'PRQ_USDT', 'price': '0.0998'}, {'ticker': 'DOT_USDT', 'price': '8.133'}, {'ticker': 'RSR_USDT', 'price': '0.003511'}, {'ticker': 'WNXM_USDT', 'price': '57.76'}, {'ticker': 'FCT2_USDT', 'price': '0.0594'}, {'ticker': 'FCT2_BTC', 'price': '0.000001002'}, {'ticker': 'SUSHI_USDT', 'price': '1.559'}, {'ticker': 'YFII_USDT', 'price': '720.02'}, {'ticker': 'FUND_USDT', 'price': '0.25747'}, {'ticker': 'FUND_TRX', 'price': '1.8268'}, {'ticker': 'FUND_BTC', 'price': '0.000004538'}, {'ticker': 'AKRO_USDT', 'price': '0.004852'}, {'ticker': 'AKRO_BTC', 'price': '0.000000097'}, {'ticker': 'UNI_USDT', 'price': '11.0053'}, {'ticker': 'DHT_USDT', 'price': '0.018'}, {'ticker': 'CVP_USDT', 'price': '0.0211'}, {'ticker': 'GHST_USDT', 'price': '1.0486'}, {'ticker': 'REPV2_BTC', 'price': '0.0000125'}, {'ticker': 'REPV2_USDT', 'price': '0.73'}, {'ticker': 'RARI_USDT', 'price': '1.146'}, {'ticker': 'AMP_BTC', 'price': '0.0000000537'}, {'ticker': 'AMP_USDT', 'price': '0.004702'}, {'ticker': 'AMP_TRX', 'price': '0.0346'}, {'ticker': 'SAND_BTC', 'price': '0.00000932'}, {'ticker': 'SAND_USDT', 'price': '0.5459'}, {'ticker': 'POLS_USDT', 'price': '0.9612'}, {'ticker': 'AAVE_BTC', 'price': '0.001829'}, {'ticker': 'AAVE_USDT', 'price': '103.22'}, {'ticker': 'CVT_BTC', 'price': '0.00000004874'}, {'ticker': 'CVT_USDT', 'price': '0.00125'}, {'ticker': 'INJ_BTC', 'price': '0.00066442'}, {'ticker': 'INJ_USDT', 'price': '37'}, {'ticker': 'BCH_BTC', 'price': '0.005295'}, {'ticker': 'BCH_USDT', 'price': '298.45'}, {'ticker': 'BCH_USDC', 'price': '299.57'}, {'ticker': 'SENSO_BTC', 'price': '0.000001239'}, {'ticker': 'SENSO_USDT', 'price': '0.0656'}, {'ticker': 'KP3R_USDT', 'price': '74.71'}, {'ticker': 'GLM_BTC', 'price': '0.0000043'}, {'ticker': 'GLM_USDT', 'price': '0.2069'}, {'ticker': 'ZLOT_USDT', 'price': '4'}, {'ticker': 'WBTC_BTC', 'price': '0.8'}, {'ticker': 'WBTC_USDT', 'price': '45918.07'}, {'ticker': 'FRONT_BTC', 'price': '0.00001018'}, {'ticker': 'FRONT_USDT', 'price': '0.5676'}, {'ticker': 'API3_USDT', 'price': '3.9717'}, {'ticker': 'BADGER_USDT', 'price': '4.574'}, {'ticker': 'FARM_BTC', 'price': '0.000803'}, {'ticker': 'FARM_USDT', 'price': '45.59'}, {'ticker': 'DOT_BTC', 'price': '0.0001442'}, {'ticker': 'GRT_USDT', 'price': '0.2858'}, {'ticker': 'ESD_USDT', 'price': '0.000702'}, {'ticker': 'ONEINCH_USDT', 'price': '0.4701'}, {'ticker': 'REEF_USDT', 'price': '0.002018'}, {'ticker': 'LON_USDT', 'price': '0.3739'}, {'ticker': 'ROOK_USDT', 'price': '0.37'}, {'ticker': 'TRU_USDT', 'price': '0.07327'}, {'ticker': 'CUDOS_USDT', 'price': '0.018004'}, {'ticker': 'BOND_USDT', 'price': '3.63'}, {'ticker': 'TUSD_USDT', 'price': '0.97084'}, {'ticker': 'TUSD_USDC', 'price': '0.9712'}, {'ticker': 'WETH_USDT', 'price': '1899'}, {'ticker': 'TRU_BTC', 'price': '0.000001218'}, {'ticker': 'FTT_USDT', 'price': '1.794'}, {'ticker': 'SRM_USDT', 'price': '0.0491'}, {'ticker': 'LPT_USDT', 'price': '14.02'}, {'ticker': 'BTC_TUSD', 'price': '58165.36'}, {'ticker': 'ETH_TUSD', 'price': '3345.21'}, {'ticker': 'ALPHA_USDT', 'price': '0.1243'}, {'ticker': 'TORN_USDT', 'price': '1.22'}, {'ticker': 'ZKS_USDT', 'price': '0.05505'}, {'ticker': 'RNDR_USDT', 'price': '7.1079'}, {'ticker': 'KCS_USDT', 'price': '8.47'}, {'ticker': 'FIL_BTC', 'price': '0.000144'}, {'ticker': 'FIL_USDT', 'price': '8.15'}, {'ticker': 'XYM_BTC', 'price': '0.000000431'}, {'ticker': 'XYM_USDT', 'price': '0.02516'}, {'ticker': 'LIVE_USDT', 'price': '0.01281'}, {'ticker': 'SHIB_USDT', 'price': '0.000010484'}, {'ticker': 'AKITA_USDT', 'price': '0.000000109'}, {'ticker': 'KLV_USDT', 'price': '0.00348'}, {'ticker': 'KLV_BTC', 'price': '0.0000000157'}, {'ticker': 'KLV_TRX', 'price': '0.0232'}, {'ticker': 'LQTY_USDT', 'price': '1.4783'}, {'ticker': 'DEGO_USDT', 'price': '2.1'}, {'ticker': 'ELON_USDT', 'price': '0.0000001442'}, {'ticker': 'QUICK_USDT', 'price': '0.0599'}, {'ticker': 'MVL_USDT', 'price': '0.0028'}, {'ticker': 'NFT_USDT', 'price': '0.00000044993'}, {'ticker': 'NFT_TRX', 'price': '0.000003188'}, {'ticker': 'HT_USDT', 'price': '1.174'}, {'ticker': 'CTSI_USDT', 'price': '0.21'}, {'ticker': 'RLC_USDT', 'price': '3.9737'}, {'ticker': 'ERSDL_USDT', 'price': '0.00396'}, {'ticker': 'RUNE_USDT', 'price': '5.674'}, {'ticker': 'KISHU_TRX', 'price': '0.000000000984'}, {'ticker': 'GTC_USDT', 'price': '1.959'}, {'ticker': 'OKB_USDT', 'price': '36'}, {'ticker': 'SUN_USDT', 'price': '0.0113667'}, {'ticker': 'SUN_TRX', 'price': '0.07867'}, {'ticker': 'XEC_USDT', 'price': '0.0000357'}, {'ticker': 'CAKE_USDT', 'price': '3.325'}, {'ticker': 'XVS_USDT', 'price': '10.991'}, {'ticker': 'BURGER_USDT', 'price': '0.5502'}, {'ticker': 'AXS_USDT', 'price': '8.65'}, {'ticker': 'ALPACA_USDT', 'price': '0.1988'}, {'ticker': 'C98_USDT', 'price': '0.3872'}, {'ticker': 'PERP_USDT', 'price': '1.4557'}, {'ticker': 'TRU_TUSD', 'price': '0.07688'}, {'ticker': 'ACH1_USDT', 'price': '0.02168'}, {'ticker': 'CLV_USDT', 'price': '0.0616'}, {'ticker': 'YGG_USDT', 'price': '0.5686'}, {'ticker': 'ALICE_USDT', 'price': '1.561'}, {'ticker': 'AUDIO_USDT', 'price': '0.2677'}, {'ticker': 'BIT_USDT', 'price': '0.5961'}, {'ticker': 'BNB_USDC', 'price': '398.82'}, {'ticker': 'LINK_USDC', 'price': '19.176'}, {'ticker': 'MBOX_USDT', 'price': '0.3498'}, {'ticker': 'MATTER_USDT', 'price': '0.0497'}, {'ticker': 'MATTER_TRX', 'price': '0.341'}, {'ticker': 'AGLD_USDT', 'price': '1.3595'}, {'ticker': 'MATIC_USDC', 'price': '1.0453'}, {'ticker': 'MANA_USDC', 'price': '0.4918'}, {'ticker': 'XEM_USDC', 'price': '0.02545'}, {'ticker': 'BTT_USDC', 'price': '0.0000011172'}, {'ticker': 'SRM_USDC', 'price': '0.0579'}, {'ticker': 'XEM_USDT', 'price': '0.02743'}, {'ticker': 'SRM_BTC', 'price': '0.00000103'}, {'ticker': 'DYDX_USDT', 'price': '3.367'}, {'ticker': 'XCAD_USDT', 'price': '1.2'}, {'ticker': 'GALA_USDT', 'price': '0.03522'}, {'ticker': 'LDO_USDT', 'price': '3.548'}, {'ticker': 'BTRST_USDT', 'price': '0.866'}, {'ticker': 'FLOKI_USDT', 'price': '0.00004361'}, {'ticker': 'TOKE_USDT', 'price': '1'}, {'ticker': 'WNCG_USDT', 'price': '0.034'}, {'ticker': 'MLN_USDT', 'price': '18.5'}, {'ticker': 'WOO_USDT', 'price': '0.5003'}, {'ticker': 'ENJ_USDT', 'price': '0.2366'}, {'ticker': 'CHZ_USDT', 'price': '0.13774'}, {'ticker': 'SLP_USDT', 'price': '0.00414'}, {'ticker': 'OGN_USDT', 'price': '0.1809'}, {'ticker': 'PLA_USDT', 'price': '0.2072'}, {'ticker': 'TLM_USDT', 'price': '0.02028'}, {'ticker': 'SUPER_USDT', 'price': '1.0524'}, {'ticker': 'ILV_USDT', 'price': '125.19'}, {'ticker': 'ERN_USDT', 'price': '2.1142'}, {'ticker': 'SPELL_USDT', 'price': '0.000964'}, {'ticker': 'EFI_USDT', 'price': '0.0467'}, {'ticker': 'RACA_USDT', 'price': '0.0001757'}, {'ticker': 'AVAX_USDT', 'price': '39.543'}, {'ticker': 'GMEE_USDT', 'price': '0.02273'}, {'ticker': 'CVX_USDT', 'price': '5.581'}, {'ticker': 'SHIB_USDC', 'price': '0.00001043'}, {'ticker': 'AVAX_USDC', 'price': '38.13'}, {'ticker': 'AVAX_BTC', 'price': '0.000699'}, {'ticker': 'ENS_USDT', 'price': '20.87'}, {'ticker': 'IMX_USDT', 'price': '3.341'}, {'ticker': 'KDOE_USDT', 'price': '0.006262'}, {'ticker': 'GN_USDT', 'price': '0.00000044'}, {'ticker': 'SAITAMA_USDT', 'price': '0.0010047'}, {'ticker': 'BOBA_USDT', 'price': '0.232'}, {'ticker': 'POLYDOGE_USDT', 'price': '0.000000006852'}, {'ticker': 'HEX_USDT', 'price': '0.00908'}, {'ticker': 'FXS_USDT', 'price': '9.03'}, {'ticker': 'DYP_USDT', 'price': '0.1198'}, {'ticker': 'TRIBE_USDT', 'price': '0.2999'}, {'ticker': 'SOL_USDT', 'price': '111.88'}, {'ticker': 'SOL_BTC', 'price': '0.001977'}, {'ticker': 'SOL_USDC', 'price': '110.79'}, {'ticker': 'DORA_USDT', 'price': '1.252'}, {'ticker': 'PEOPLE_USDT', 'price': '0.03247'}, {'ticker': 'PSP_USDT', 'price': '0.05'}, {'ticker': 'NEXO_USDT', 'price': '1.137'}, {'ticker': 'FTM_USDT', 'price': '0.451'}, {'ticker': 'BNX_USDT', 'price': '0.291'}, {'ticker': 'QI_USDT', 'price': '0.01999'}, {'ticker': 'ADA_USDT', 'price': '0.62362'}, {'ticker': 'REQ_USDT', 'price': '0.1082'}, {'ticker': 'SAMO_USDT', 'price': '0.00903'}, {'ticker': 'ATLAS_USDT', 'price': '0.005511'}, {'ticker': 'POLIS_USDT', 'price': '0.3887'}, {'ticker': 'FIDA_USDT', 'price': '0.3474'}, {'ticker': 'BICO_USDT', 'price': '0.3835'}, {'ticker': 'GODS_USDT', 'price': '0.1436'}, {'ticker': 'RBN_USDT', 'price': '0.55'}, {'ticker': 'PYR_USDT', 'price': '7.271'}, {'ticker': 'SOS_USDT', 'price': '0.0000000219'}, {'ticker': 'HIGH_USDT', 'price': '1.6513'}, {'ticker': 'VOXEL_USDT', 'price': '0.3'}, {'ticker': 'ADA_BTC', 'price': '0.000011'}, {'ticker': 'ADA_USDC', 'price': '0.6238'}, {'ticker': 'CTC_USDT', 'price': '0.3501'}, {'ticker': 'METIS_USDT', 'price': '68.03'}, {'ticker': 'OOKI_USDT', 'price': '0.002'}, {'ticker': 'LOOKS_USDT', 'price': '0.12'}, {'ticker': 'FTM_USDC', 'price': '0.4496'}, {'ticker': 'FTM_BTC', 'price': '0.00000804'}, {'ticker': 'SHPING_USDT', 'price': '0.00443'}, {'ticker': 'LOKA_USDT', 'price': '0.2857'}, {'ticker': 'VRA_USDT', 'price': '0.0069'}, {'ticker': 'SUKU_USDT', 'price': '0.03157'}, {'ticker': 'NCT_USDT', 'price': '0.00701'}, {'ticker': 'HUNT_USDT', 'price': '0.1507'}, {'ticker': 'TITAN_USDT', 'price': '0.005'}, {'ticker': 'UMEE_USDT', 'price': '0.00487'}, {'ticker': 'ALPINE_USDT', 'price': '1.61'}, {'ticker': 'GMT_USDT', 'price': '0.2672'}, {'ticker': 'AERGO_USDT', 'price': '0.0954'}, {'ticker': 'APE_USDT', 'price': '2.306'}, {'ticker': 'NVIR_USDT', 'price': '0.00596'}, {'ticker': 'STG_USDT', 'price': '0.6648'}, {'ticker': 'CULT_USDT', 'price': '0.000001941'}, {'ticker': 'KSM_USDT', 'price': '49.7'}, {'ticker': 'ZELIX_USDT', 'price': '0.0007021'}, {'ticker': 'CEEK_USDT', 'price': '0.0511'}, {'ticker': 'NYM_USDT', 'price': '0.2099'}, {'ticker': 'CAW_USDT', 'price': '0.000000069'}, {'ticker': 'DAR_USDT', 'price': '0.2105'}, {'ticker': 'USDD_USDT', 'price': '0.99761'}, {'ticker': 'GAL_USDT', 'price': '3.372'}, {'ticker': 'FITFI_USDT', 'price': '0.00694'}, {'ticker': 'USDD_USDC', 'price': '1.00008'}, {'ticker': 'BTC_USDD', 'price': '56448.38'}, {'ticker': 'ETH_USDD', 'price': '3259.9'}, {'ticker': 'TRX_USDD', 'price': '0.14139'}, {'ticker': 'BTT_USDD', 'price': '0.0000011026'}, {'ticker': 'NFT_USDD', 'price': '0.00000045151'}, {'ticker': 'JST_USDD', 'price': '0.033939'}, {'ticker': 'WIN_USDD', 'price': '0.00013648'}, {'ticker': 'SUN_USDD', 'price': '0.011364'}, {'ticker': 'TUSD_USDD', 'price': '0.97551'}, {'ticker': 'ELON_USDD', 'price': '0.0000001442'}, {'ticker': 'SHIB_USDD', 'price': '0.000010433'}, {'ticker': 'DOGE_USDD', 'price': '0.09436'}, {'ticker': 'XRP_USDD', 'price': '0.5606'}, {'ticker': 'LTC_USDD', 'price': '75.03'}, {'ticker': 'DOT_USDD', 'price': '8.149'}, {'ticker': 'XCN_USDT', 'price': '0.0017'}, {'ticker': 'FRAX_USDT', 'price': '0.9999'}, {'ticker': 'FRAX_USDD', 'price': '1.0007'}, {'ticker': 'KUB_USDT', 'price': '2.466'}, {'ticker': 'KUB_USDD', 'price': '2.263'}, {'ticker': 'KSM_USDD', 'price': '40'}, {'ticker': 'WLKN_USDT', 'price': '0.00505'}, {'ticker': 'WLKN_USDD', 'price': '0.01054'}, {'ticker': 'BNT_USDT', 'price': '0.8542'}, {'ticker': 'LOOM_USDT', 'price': '0.09997'}, {'ticker': 'KNC_USDT', 'price': '0.6746'}, {'ticker': 'SNT_USDT', 'price': '0.04'}, {'ticker': 'LUNA_USDT', 'price': '0.703'}, {'ticker': 'LUNC_USDT', 'price': '0.00013247'}, {'ticker': 'LUNC_USDD', 'price': '0.00013027'}, {'ticker': 'ETHW_USDD', 'price': '3.224'}, {'ticker': 'ETHW_USDT', 'price': '3.21'}, {'ticker': 'ETHW_ETH', 'price': '0.001'}, {'ticker': 'POLOTEST2_POLOTEST1', 'price': '5.5'}, {'ticker': 'POLOTEST3_POLOTEST4', 'price': '5.5'}, {'ticker': 'POLOTEST2_POLOTEST4', 'price': '5.5'}, {'ticker': 'POLOTEST2_POLOTEST3', 'price': '5.5'}, {'ticker': 'POLOTEST1_POLOTEST4', 'price': '5.5'}, {'ticker': 'POLOTEST1_POLOTEST3', 'price': '5.5'}, {'ticker': 'POLOTEST1_POLOTEST2', 'price': '5.5'}, {'ticker': 'SANTOS_USDT', 'price': '5.3873'}, {'ticker': 'NMR_USDT', 'price': '31.82'}, {'ticker': 'CVC_USDT', 'price': '0.1181'}, {'ticker': 'STORJ_USDT', 'price': '0.7154'}, {'ticker': 'OMG_USDT', 'price': '0.7567'}, {'ticker': 'ETHF_USDT', 'price': '8.211'}, {'ticker': 'ETHF_USDD', 'price': '8.198'}, {'ticker': 'POLY_USDT', 'price': '0.1199'}, {'ticker': 'DC_USDT', 'price': '0.0077'}, {'ticker': 'DC_USDD', 'price': '0.013776'}, {'ticker': 'SSV_USDT', 'price': '33.94'}, {'ticker': 'SSV_USDD', 'price': '30'}, {'ticker': 'APX_USDT', 'price': '0.022'}, {'ticker': 'APX_USDD', 'price': '0.1'}, {'ticker': 'LUNA_USDD', 'price': '0.687'}, {'ticker': 'AFC_USDD', 'price': '0.75'}, {'ticker': 'AFC_USDT', 'price': '1.4291'}, {'ticker': 'CITY_USDD', 'price': '0.466'}, {'ticker': 'CITY_USDT', 'price': '3.211'}, {'ticker': 'ZBC_USDD', 'price': '0.01'}, {'ticker': 'ZBC_USDT', 'price': '0.00906'}, {'ticker': 'CHZ_USDD', 'price': '0.14999'}, {'ticker': 'XEN_USDD', 'price': '0.00000037'}, {'ticker': 'XEN_USDT', 'price': '0.00000046'}, {'ticker': 'BTS_USDT', 'price': '0.00385'}, {'ticker': 'DCR_USDT', 'price': '22.09'}, {'ticker': 'ARDR_USDT', 'price': '0.10128'}, {'ticker': 'GAS_USDT', 'price': '6.386'}, {'ticker': 'SANTOS_USDD', 'price': '6'}, {'ticker': 'HFT_USDD', 'price': '0.35'}, {'ticker': 'HFT_USDT', 'price': '0.4549'}, {'ticker': 'OP_USDD', 'price': '6.4996'}, {'ticker': 'OP_USDT', 'price': '3.8227'}, {'ticker': 'GMX_USDD', 'price': '41.97'}, {'ticker': 'GMX_USDT', 'price': '56.99'}, {'ticker': 'NEAR_USDD', 'price': '3.051'}, {'ticker': 'NEAR_USDT', 'price': '3.999'}, {'ticker': 'ACM_USDD', 'price': '3.5'}, {'ticker': 'ACM_USDT', 'price': '3.72'}, {'ticker': 'JUV_USDD', 'price': '2.9998'}, {'ticker': 'JUV_USDT', 'price': '5'}, {'ticker': 'ASR_USDD', 'price': '2'}, {'ticker': 'ASR_USDT', 'price': '2'}, {'ticker': 'PSG_USDD', 'price': '2.985'}, {'ticker': 'PSG_USDT', 'price': '3.961'}, {'ticker': 'TON_USDT', 'price': '2.1122'}, {'ticker': 'MASK_USDD', 'price': '3.539'}, {'ticker': 'MASK_USDT', 'price': '3.541'}, {'ticker': 'ARG_USDD', 'price': '0.528'}, {'ticker': 'ARG_USDT', 'price': '2.126'}, {'ticker': 'POR_USDD', 'price': '5'}, {'ticker': 'POR_USDT', 'price': '3.095'}, {'ticker': 'APT_USDD', 'price': '10.329'}, {'ticker': 'APT_USDT', 'price': '10.523'}, {'ticker': 'VELO_USDT', 'price': '0.005145'}, {'ticker': 'VINU_USDD', 'price': '0.00000001419'}, {'ticker': 'VINU_USDT', 'price': '0.00000001498'}, {'ticker': 'BAR_USDD', 'price': '2.001'}, {'ticker': 'BAR_USDT', 'price': '2.299'}, {'ticker': 'ATM_USDD', 'price': '1.17'}, {'ticker': 'ATM_USDT', 'price': '2.899'}, {'ticker': 'CEL_USDT', 'price': '0.1749'}, {'ticker': 'BITCI_USDD', 'price': '0.003318'}, {'ticker': 'BITCI_USDT', 'price': '0.0016'}, {'ticker': 'BFT_USDD', 'price': '0.0745'}, {'ticker': 'BFT_USDT', 'price': '0.11'}, {'ticker': 'VGX_USDD', 'price': '0.22'}, {'ticker': 'VGX_USDT', 'price': '0.1085'}, {'ticker': 'PORTO_USDD', 'price': '0.99'}, {'ticker': 'PORTO_USDT', 'price': '2.976'}, {'ticker': 'LAZIO_USDD', 'price': '1.33'}, {'ticker': 'LAZIO_USDT', 'price': '2.859'}, {'ticker': 'TON_USDD', 'price': '1.9768'}, {'ticker': 'FLR_USDT', 'price': '0.0488'}, {'ticker': 'UT_USDT', 'price': '0.0065'}, {'ticker': 'TRR_USDT', 'price': '0.011'}, {'ticker': 'BONK_USDD', 'price': '0.000011329'}, {'ticker': 'BONK_USDT', 'price': '0.000013673'}, {'ticker': 'OG_USDD', 'price': '1.891'}, {'ticker': 'OG_USDT', 'price': '4.602'}, {'ticker': 'VOLT_USDT', 'price': '0.000000486'}, {'ticker': 'CEL_USDD', 'price': '0.0677'}, {'ticker': 'DUSK_USDT', 'price': '0.2873'}, {'ticker': 'PSI_USDT', 'price': '0.021'}, {'ticker': 'GNS_USDT', 'price': '6.455'}, {'ticker': 'SUDO_USDT', 'price': '0.24'}, {'ticker': 'IGU_USDT', 'price': '0.03'}, {'ticker': 'BABYDOGE_USDT', 'price': '0.000000000911'}, {'ticker': 'KON_USDT', 'price': '0.00105'}, {'ticker': 'ICP_USDT', 'price': '13.149'}, {'ticker': 'BLUR_USDT', 'price': '0.7177'}, {'ticker': 'CARMIN_USDT', 'price': '0.00654899'}, {'ticker': 'FET_USDT', 'price': '1.1049'}, {'ticker': 'CORE_USDT', 'price': '0.67'}, {'ticker': 'IMGNAI_USDT', 'price': '0.0265'}, {'ticker': 'AGIX_USDT', 'price': '0.681'}, {'ticker': 'RPL_USDT', 'price': '31.36'}, {'ticker': 'TSUKA_USDT', 'price': '0.02046'}, {'ticker': 'FACTR_USDT', 'price': '0.05424'}, {'ticker': 'GPT_USDT', 'price': '0.00733'}, {'ticker': 'BONE_USDT', 'price': '0.5598'}, {'ticker': 'ALI_USDT', 'price': '0.04331'}, {'ticker': 'SDAO_USDT', 'price': '0.4363'}, {'ticker': 'GFT_USDT', 'price': '0.0206'}, {'ticker': 'COLLAB_USDT', 'price': '0.01097'}, {'ticker': 'LOGT_USDT', 'price': '0.001'}, {'ticker': 'RDNT_USDT', 'price': '0.3355'}, {'ticker': 'ROCK_USDT', 'price': '0.000159'}, {'ticker': 'MUTE_USDT', 'price': '0.3505'}, {'ticker': 'RIF_USDT', 'price': '0.1426'}, {'ticker': 'BRISE_USDT', 'price': '0.0000001206'}, {'ticker': 'POOLX_USDT', 'price': '5.5'}, {'ticker': 'PAW_USDT', 'price': '0.00000172'}, {'ticker': 'PENDLE_USDT', 'price': '2.8205'}, {'ticker': 'ID_USDT', 'price': '0.6033'}, {'ticker': 'ARB_USDT', 'price': '1.9408'}, {'ticker': 'PERL_USDT', 'price': '0.00225'}, {'ticker': 'GDX_USDT', 'price': '0.0023'}, {'ticker': 'RIO_USDT', 'price': '0.7799'}, {'ticker': 'USH_USDT', 'price': '0.0163'}, {'ticker': 'RUG_USDT', 'price': '0.00000009'}, {'ticker': 'BOBO_USDT', 'price': '0.000000000856'}, {'ticker': 'MEMEME_USDT', 'price': '0.0000035'}, {'ticker': 'BABYPEPE_USDT', 'price': '0.000000000172'}, {'ticker': 'CGPT_USDT', 'price': '0.3685'}, {'ticker': 'CHAD_USDT', 'price': '0.00000309'}, {'ticker': 'WOJAK_USDT', 'price': '0.0002004'}, {'ticker': 'AGI_USDT', 'price': '0.0041'}, {'ticker': 'PEPE_USDT', 'price': '0.00000209686'}, {'ticker': 'AIDOGE_USDT', 'price': '0.00000000024'}, {'ticker': 'LZM_USDT', 'price': '0.04263'}, {'ticker': 'WIFI_USDT', 'price': '0.12365'}, {'ticker': 'RMV_USDT', 'price': '0.03808'}, {'ticker': 'POOH_USDT', 'price': '0.0000000031'}, {'ticker': 'RIBBIT_USDT', 'price': '0.00000000085'}, {'ticker': 'TURBO_USDT', 'price': '0.00023'}, {'ticker': 'CLIPS_USDT', 'price': '0.00000101'}, {'ticker': 'WSB_USDT', 'price': '0.0000016'}, {'ticker': 'POGAI_USDT', 'price': '0.0000623'}, {'ticker': 'FLOKICEO_USDT', 'price': '0.00000000000698'}, {'ticker': 'SUI_USDT', 'price': '1.6776'}, {'ticker': 'BOB_USDT', 'price': '0.00004502'}, {'ticker': 'SOV_USDT', 'price': '0.0000000022'}, {'ticker': 'SOLO_USDT', 'price': '0.1581'}, {'ticker': 'COREUM_USDT', 'price': '0.1429'}, {'ticker': 'REKT_USDT', 'price': '0.00000000063'}, {'ticker': 'CAPO_USDT', 'price': '0.000332'}, {'ticker': 'BAM_USDT', 'price': '0.0000000027'}, {'ticker': 'BEN_USDT', 'price': '0.00000000494'}, {'ticker': 'KING_USDT', 'price': '0.0000276'}, {'ticker': 'WSTREETBABY_USDT', 'price': '0.0000000065'}, {'ticker': 'BIBI_USDT', 'price': '0.0000000017999'}, {'ticker': 'FOUR_USDT', 'price': '0.00000115'}, {'ticker': 'SPONGE_USDT', 'price': '0.000499'}, {'ticker': 'RFD_USDT', 'price': '0.00000764'}, {'ticker': 'WEWE_USDT', 'price': '0.00000059'}, {'ticker': 'LIMO_USDT', 'price': '0.00934'}, {'ticker': 'OGGY_USDT', 'price': '0.00000000001595'}, {'ticker': 'DONS_USDT', 'price': '0.000075'}, {'ticker': 'PEPEAI_USDT', 'price': '0.00000000241'}, {'ticker': 'SIMPSON_USDT', 'price': '0.00000000000472'}, {'ticker': 'HARRY_USDT', 'price': '0.045999'}, {'ticker': 'LADYS_USDT', 'price': '0.0000000699'}, {'ticker': 'MONG_USDT', 'price': '0.000000013463'}, {'ticker': 'LBR_USDT', 'price': '0.159'}, {'ticker': 'PAPI_USDT', 'price': '0.00000026'}, {'ticker': 'AMC_USDT', 'price': '0.0645'}, {'ticker': 'PSYOP_USDT', 'price': '0.000118'}, {'ticker': 'DMT_USDT', 'price': '0.02'}, {'ticker': 'BNBDADDY_USDT', 'price': '0.000000078'}, {'ticker': 'BIG_USDT', 'price': '0.000001606'}, {'ticker': 'LVL_USDT', 'price': '0.337'}, {'ticker': 'KWENTA_USDT', 'price': '51.97'}, {'ticker': 'DUMMY_USDT', 'price': '0.0000000705'}, {'ticker': 'LOVESNOOPY_USDT', 'price': '0.00000000373'}, {'ticker': 'INU_USDT', 'price': '0.00000000558'}, {'ticker': 'FERC_USDT', 'price': '0.0999'}, {'ticker': 'STT_USDT', 'price': '0.8259'}, {'ticker': 'JESUS_USDT', 'price': '0.00000014'}, {'ticker': 'WFAI_USDT', 'price': '0.00000000199'}, {'ticker': 'PEPE2_USDT', 'price': '0.00000004001'}, {'ticker': 'MMT_USDT', 'price': '0.0731'}, {'ticker': 'UPP_USDT', 'price': '0.08692'}, {'ticker': 'TOKAMAK_USDT', 'price': '2.3333'}, {'ticker': 'MPWR_USDT', 'price': '0.00013'}, {'ticker': 'MAV_USDT', 'price': '0.5961'}, {'ticker': 'TITTY_USDT', 'price': '0.000000012'}, {'ticker': 'L_USDT', 'price': '0.0000006001'}, {'ticker': 'FUMO_USDT', 'price': '6100'}, {'ticker': 'TOMI_USDT', 'price': '0.516'}, {'ticker': 'OX_USDT', 'price': '0.0063'}, {'ticker': 'ORDI_USDT', 'price': '67.579'}, {'ticker': 'VMPX_USDT', 'price': '0.0592'}, {'ticker': 'PLANET_USDT', 'price': '0.00012976'}, {'ticker': 'PC_USDT', 'price': '0.00000000018'}, {'ticker': 'VOW_USDT', 'price': '0.4237'}, {'ticker': 'UNIBOT_USDT', 'price': '74.01'}, {'ticker': 'HOPPY_USDT', 'price': '0.00000000036'}, {'ticker': 'OSMO_USDT', 'price': '1.5978'}, {'ticker': 'WSTUSDT_USDT', 'price': '0.9668'}, {'ticker': 'HNTAI_USDT', 'price': '0.0093'}, {'ticker': 'JARED_USDT', 'price': '0.00000068'}, {'ticker': 'BTC2_USDT', 'price': '0.099'}, {'ticker': 'HAM_USDT', 'price': '0.000000000911'}, {'ticker': 'POP_USDT', 'price': '0.0001014'}, {'ticker': 'WPEPE_USDT', 'price': '0.00017'}, {'ticker': 'PEPE20_USDT', 'price': '0.000000000045'}, {'ticker': 'SHIB2_USDT', 'price': '0.00000000385'}, {'ticker': 'DOGE2_USDT', 'price': '0.00000000499'}, {'ticker': 'BSWAP_USDT', 'price': '0.36'}, {'ticker': 'TOSHI_USDT', 'price': '0.000135922'}, {'ticker': 'XRP8_USDT', 'price': '0.024'}, {'ticker': 'WINR_USDT', 'price': '0.076'}, {'ticker': 'PNDC_USDT', 'price': '0.000000312'}, {'ticker': 'RLB_USDT', 'price': '0.25'}, {'ticker': 'TEST_USDT', 'price': '0.000208'}, {'ticker': 'XTOKEN_USDT', 'price': '0.00000284'}, {'ticker': 'COCO_USDT', 'price': '0.00351'}, {'ticker': 'WLD_USDT', 'price': '7.928'}, {'ticker': 'X_USDT', 'price': '0.000000000119'}, {'ticker': 'BAD_USDT', 'price': '0.00000002301'}, {'ticker': 'HAMS_USDT', 'price': '0.0094'}, {'ticker': 'MOG_USDT', 'price': '0.00000007'}, {'ticker': 'LOOT_USDT', 'price': '0.3333'}, {'ticker': 'SG_USDT', 'price': '0.0035'}, {'ticker': 'BTP_USDT', 'price': '0.22'}, {'ticker': 'AITECH_USDT', 'price': '0.13878'}, {'ticker': 'SHIA_USDT', 'price': '0.0572'}, {'ticker': 'SHARES_USDT', 'price': '0.39'}, {'ticker': 'LL_USDT', 'price': '0.00000000132'}, {'ticker': 'AXE_USDT', 'price': '1.91'}, {'ticker': 'NONE_USDT', 'price': '0.07'}, {'ticker': 'BPD_USDT', 'price': '0.000002'}, {'ticker': 'RXT_USDT', 'price': '0.0229'}, {'ticker': 'FOOM_USDT', 'price': '0.000000016'}, {'ticker': 'AIMBOT_USDT', 'price': '8'}, {'ticker': 'SPURDO_USDT', 'price': '0.00000000195'}, {'ticker': 'STMX_USDT', 'price': '0.007766'}, {'ticker': 'GMMT_USDT', 'price': '0.494'}, {'ticker': 'APX1_USDT', 'price': '0.000028'}, {'ticker': 'GOLD1_USDT', 'price': '0.04'}, {'ticker': 'SMURFCAT_USDT', 'price': '0.00012082'}, {'ticker': 'SATS_USDT', 'price': '0.000000498878'}, {'ticker': 'TIP_USDT', 'price': '0.0001658'}, {'ticker': 'HIFI_USDT', 'price': '0.61'}, {'ticker': 'VEXT_USDT', 'price': '0.2327'}, {'ticker': 'BANANA_USDT', 'price': '20.479'}, {'ticker': 'CCROWD_USDT', 'price': '0.00776'}, {'ticker': 'DOBO_USDT', 'price': '0.001652'}, {'ticker': 'DORKL_USDT', 'price': '0.001335'}, {'ticker': 'SHEPE_USDT', 'price': '0.00000000039'}, {'ticker': 'SHIB42069_USDT', 'price': '0.0001'}, {'ticker': 'ETHPEPE2_USDT', 'price': '0.000006'}, {'ticker': 'TISM_USDT', 'price': '0.000027'}, {'ticker': 'ETF_USDT', 'price': '0.017'}, {'ticker': 'LMI_USDT', 'price': '0.00013'}, {'ticker': 'NAKA_USDT', 'price': '2.002'}, {'ticker': 'NLC_USDT', 'price': '0.00314'}, {'ticker': 'SIX_USDT', 'price': '0.0332'}, {'ticker': 'HAY_USDT', 'price': '320856.98'}, {'ticker': 'APU_USDT', 'price': '0.000000044'}, {'ticker': 'REKT2_USDT', 'price': '2.6'}, {'ticker': 'NATI_USDT', 'price': '0.00000004749'}, {'ticker': 'BIGTIME_USDT', 'price': '0.4225'}, {'ticker': 'SAFEREUM_USDT', 'price': '0.0000002003'}, {'ticker': 'OPOS_USDT', 'price': '0.101'}, {'ticker': 'OCISLY_USDT', 'price': '0.00000139'}, {'ticker': 'RFR_USDT', 'price': '0.000062'}, {'ticker': 'DAWN_USDT', 'price': '0.0022'}, {'ticker': 'RATS_USDT', 'price': '0.00025184'}, {'ticker': 'BRCBTCS_USDT', 'price': '0.999'}, {'ticker': 'BRCSHIB_USDT', 'price': '0.00000000949'}, {'ticker': 'CATS_USDT', 'price': '0.002769'}, {'ticker': 'PAAL_USDT', 'price': '0.398206'}, {'ticker': 'DORK_USDT', 'price': '0.0000108'}, {'ticker': 'IO_USDT', 'price': '0.0000443'}, {'ticker': 'GROK_USDT', 'price': '0.00619'}, {'ticker': 'KEKEC_USDT', 'price': '0.00002683'}, {'ticker': 'VAULT_USDT', 'price': '0.37837'}, {'ticker': 'KAS_USDT', 'price': '0.17359'}, {'ticker': 'BYPASS_USDT', 'price': '0.0155'}, {'ticker': 'AMO_USDT', 'price': '0.001769'}, {'ticker': 'MEMELAND_USDT', 'price': '0.020017'}, {'ticker': 'CRE_USDT', 'price': '0.00012997'}, {'ticker': 'MILK_USDT', 'price': '0.0187'}, {'ticker': 'JTO_USDT', 'price': '2.501'}, {'ticker': 'FTN_USDT', 'price': '1.7246'}, {'ticker': 'BLOX_USDT', 'price': '0.03708'}, {'ticker': 'IOT_USDT', 'price': '0.002083'}, {'ticker': 'HNT_USDT', 'price': '8.396'}, {'ticker': 'MOBILE_USDT', 'price': '0.003758'}, {'ticker': 'MYRO_USDT', 'price': '0.07094'}, {'ticker': 'PMG_USDT', 'price': '0.0971'}, {'ticker': 'MND_USDT', 'price': '0.1825'}, {'ticker': 'BYTE_USDT', 'price': '0.00001989'}, {'ticker': 'FLIP_USDT', 'price': '6.5'}, {'ticker': 'WEB_USDT', 'price': '0.000002082'}, {'ticker': 'GEC_USDT', 'price': '0.298'}, {'ticker': 'DOMO_USDT', 'price': '0.1155'}, {'ticker': 'STX_USDT', 'price': '3.0546'}, {'ticker': 'MNDE_USDT', 'price': '0.2163'}, {'ticker': 'TURT_USDT', 'price': '0.00946'}, {'ticker': 'MUBI_USDT', 'price': '0.14'}, {'ticker': 'NFP_USDT', 'price': '0.1159'}, {'ticker': 'BFIC_USDT', 'price': '12.91'}, {'ticker': 'DOVI_USDT', 'price': '0.07'}, {'ticker': 'XPE_USDT', 'price': '0.3165'}, {'ticker': 'SEEU_USDT', 'price': '0.0000401'}, {'ticker': 'BOO_USDT', 'price': '0.000195'}, {'ticker': 'ANALOS_USDT', 'price': '0.000105'}, {'ticker': 'KNOB_USDT', 'price': '0.000042'}, {'ticker': 'AI_USDT', 'price': '0.0006'}, {'ticker': 'PONKE_USDT', 'price': '0.03341'}, {'ticker': 'ACE_USDT', 'price': '11.55'}, {'ticker': 'ZERO_USDT', 'price': '0.2591'}, {'ticker': 'SILLY_USDT', 'price': '0.0272'}, {'ticker': 'SPEERO_USDT', 'price': '0.0000000265'}, {'ticker': 'COM_USDT', 'price': '1.413'}, {'ticker': 'RAY_USDT', 'price': '0.99'}, {'ticker': 'RDEX_USDT', 'price': '0.1183'}, {'ticker': 'CSAS_USDT', 'price': '0.019'}, {'ticker': 'DSWP_USDT', 'price': '0.0651'}, {'ticker': 'MMSS_USDT', 'price': '0.3164'}, {'ticker': 'LONG1_USDT', 'price': '0.0305'}, {'ticker': 'SHDW1_USDT', 'price': '1.3'}, {'ticker': 'ZKF_USDT', 'price': '0.00724'}, {'ticker': 'COQ_USDT', 'price': '0.000001496'}, {'ticker': 'USEDCAR_USDT', 'price': '0.01294'}, {'ticker': 'GUAC_USDT', 'price': '0.000000169'}, {'ticker': 'BSSB1_USDT', 'price': '1.798'}, {'ticker': 'ORDS_USDT', 'price': '0.18715'}, {'ticker': 'AI1_USDT', 'price': '1.6259'}, {'ticker': 'FERRET_USDT', 'price': '0.000177'}, {'ticker': 'MUSKX_USDT', 'price': '0.0002'}, {'ticker': 'MYRA_USDT', 'price': '0.0006522'}, {'ticker': 'DACC_USDT', 'price': '0.0000343'}, {'ticker': 'ZUZALU_USDT', 'price': '0.002001'}, {'ticker': 'EGG_USDT', 'price': '0.00197'}, {'ticker': 'BOZO_USDT', 'price': '0.0000000501'}, {'ticker': 'TRAC_USDT', 'price': '5.199'}, {'ticker': 'RSTK_USDT', 'price': '0.3487'}, {'ticker': 'FENTANYL_USDT', 'price': '0.0000051'}, {'ticker': 'SFARM_USDT', 'price': '0.183'}, {'ticker': 'TROLL_USDT', 'price': '0.0000000495'}, {'ticker': 'ROUP_USDT', 'price': '0.004502'}, {'ticker': 'WIF_USDT', 'price': '0.5656'}, {'ticker': 'HTX_USDT', 'price': '0.000001861'}, {'ticker': 'SBF_USDT', 'price': '0.00318'}, {'ticker': 'BFI_USDT', 'price': '0.0000111'}, {'ticker': 'SMILEY_USDT', 'price': '0.000000000004'}, {'ticker': 'SAVM_USDT', 'price': '5.03'}, {'ticker': 'ONDO_USDT', 'price': '0.4667'}, {'ticker': 'CROCCAT_USDT', 'price': '0.000068'}, {'ticker': 'MOCKJUP_USDT', 'price': '0.00235'}, {'ticker': 'EACC_USDT', 'price': '0.000001859'}, {'ticker': 'GENESIS_USDT', 'price': '0.000016'}, {'ticker': 'WYNN_USDT', 'price': '0.00711'}, {'ticker': 'BAKE_USDT', 'price': '0.4097'}, {'ticker': 'TRUMP_USDT', 'price': '7.2321'}, {'ticker': 'CHOW_USDT', 'price': '0.000000349'}, {'ticker': 'SPOODY_USDT', 'price': '0.004429'}, {'ticker': 'HONK_USDT', 'price': '0.00924'}, {'ticker': 'GTAI_USDT', 'price': '2.5029'}, {'ticker': 'ALT_USDT', 'price': '0.48646'}, {'ticker': 'FOMO_USDT', 'price': '0.0146'}, {'ticker': 'LAMBOSOL_USDT', 'price': '0.0271'}, {'ticker': 'INS_USDT', 'price': '0.5532'}, {'ticker': 'FORK_USDT', 'price': '0.000241'}, {'ticker': 'HODL_USDT', 'price': '0.000155'}, {'ticker': 'JUP_USDT', 'price': '0.5018'}, {'ticker': 'SSB_USDT', 'price': '0.000035'}, {'ticker': 'MEOW_USDT', 'price': '0.000000703'}, {'ticker': 'TELEPATHY_USDT', 'price': '0.185'}, {'ticker': 'WEN_USDT', 'price': '0.0000866'}, {'ticker': 'GME_USDT', 'price': '0.00125'}, {'ticker': 'VEC_USDT', 'price': '36.95'}, {'ticker': 'PEAS_USDT', 'price': '4.07'}, {'ticker': 'SNOW_USDT', 'price': '0.000000000416'}, {'ticker': 'PONK_USDT', 'price': '0.00000000445'}, {'ticker': 'CHINU_USDT', 'price': '0.000873'}, {'ticker': 'AERODROME_USDT', 'price': '0.09001'}, {'ticker': 'PIXEL_USDT', 'price': '0.5988'}, {'ticker': 'STRK_USDT', 'price': '1.946'}, {'ticker': 'JIVA_USDT', 'price': '0.00143'}, {'ticker': 'SORA_USDT', 'price': '0.01074'}, {'ticker': 'MAVIA_USDT', 'price': '7.74'}, {'ticker': 'SPYRO_USDT', 'price': '0.000001164'}, {'ticker': 'NAVX_USDT', 'price': '0.1198'}, {'ticker': 'WHALES_USDT', 'price': '3.9342'}, {'ticker': 'LMWR_USDT', 'price': '0.8119'}, {'ticker': 'BFICGOLD_BFIC', 'price': '0.1932'}, {'ticker': 'YES_USDT', 'price': '14.12'}, {'ticker': 'GMEONETH_USDT', 'price': '0.000056'}, {'ticker': 'SQUIDSOL_USDT', 'price': '0.0002196'}, {'ticker': 'FART_USDT', 'price': '0.00000022'}, {'ticker': 'ZETA_USDT', 'price': '2.4889'}, {'ticker': 'PEBO_USDT', 'price': '0.0001799'}, {'ticker': 'MOBY_USDT', 'price': '3.931'}, {'ticker': 'CHAT_USDT', 'price': '1.587'}, {'ticker': 'BENDOG_USDT', 'price': '0.008131'}, {'ticker': 'PORK_USDT', 'price': '0.00000029'}, {'ticker': 'NADA_USDT', 'price': '0.03052'}, {'ticker': 'XPET_USDT', 'price': '1.0799'}]\n"
          ]
        }
      ]
    },
    {
      "cell_type": "code",
      "source": [
        "# Poloniex Orderbook\n",
        "ticker = \"DASH_BTC\"\n",
        "limit = 20\n",
        "# Structure Orderbook\n",
        "ask_prices = []\n",
        "ask_sizes = []\n",
        "counts = 0\n",
        "\n",
        "ob = requests.get(f\"https://api.poloniex.com/markets/{ticker}/orderBook?limit={limit}\")\n",
        "\n",
        "if ob.status_code == 200:\n",
        "  ob_json = json.loads(ob.text)\n",
        "  for a in ob_json[\"asks\"]:\n",
        "    if counts% 2 == 0:\n",
        "      ask_prices.append({\"ticker\": p[\"symbol\"], \"price\" : p[\"price\"]})\n",
        "    counts += 1"
      ],
      "metadata": {
        "id": "LtCZe-hUNQnL"
      },
      "execution_count": null,
      "outputs": []
    },
    {
      "cell_type": "code",
      "source": [],
      "metadata": {
        "id": "okT1XD0VOj2w"
      },
      "execution_count": 10,
      "outputs": []
    },
    {
      "cell_type": "markdown",
      "source": [
        "##1.2 Sync vs Async\n",
        "\n",
        "It is basically consecutive vs concurrent"
      ],
      "metadata": {
        "id": "wv5CWvGKTfo8"
      }
    },
    {
      "cell_type": "markdown",
      "source": [
        "**Synchronous Code**"
      ],
      "metadata": {
        "id": "oock4_irUjea"
      }
    },
    {
      "cell_type": "code",
      "source": [
        "import asyncio\n",
        "\n",
        "# This is how we define async function\n",
        "async def main():\n",
        "  print('hello...')\n",
        "  await asyncio.sleep(2) # Here we give a pause for 2 seconds\n",
        "  print('...world')\n",
        "  return 'bye'\n",
        "\n",
        "\n",
        "# To run an asynchronous function, we need to run as follows:\n",
        "await main()\n",
        "\n",
        "# Here we create a coroutine object\n",
        "# result =  main()\n",
        "# try:\n",
        "#   result.send(None)\n",
        "# except StopIteration as e:\n",
        "#   print('result was:', e.value)"
      ],
      "metadata": {
        "colab": {
          "base_uri": "https://localhost:8080/",
          "height": 70
        },
        "id": "COlw38TQXE7f",
        "outputId": "bc32a238-e515-496c-ed9b-f342580b2658"
      },
      "execution_count": null,
      "outputs": [
        {
          "output_type": "stream",
          "name": "stdout",
          "text": [
            "hello...\n",
            "...world\n"
          ]
        },
        {
          "output_type": "execute_result",
          "data": {
            "text/plain": [
              "'bye'"
            ],
            "application/vnd.google.colaboratory.intrinsic+json": {
              "type": "string"
            }
          },
          "metadata": {},
          "execution_count": 116
        }
      ]
    },
    {
      "cell_type": "markdown",
      "source": [
        "##1.5 Asynchronous Iterators"
      ],
      "metadata": {
        "id": "PrqgGbfKa9YQ"
      }
    },
    {
      "cell_type": "code",
      "source": [
        "# The Asynchronous Generators\n",
        "import asyncio\n",
        "\n",
        "async def download(urls):\n",
        "  for url in urls:\n",
        "    await asyncio.sleep(1)\n",
        "    response = {'status': 200, 'data': f'content of {url}'}\n",
        "    if url == 'bing.com':\n",
        "      response['status'] = 500\n",
        "    yield response\n",
        "\n",
        "async def main():\n",
        "  urls = [\n",
        "      'google.com',\n",
        "      'bing.com',\n",
        "      'duckduckgo.com'\n",
        "  ]\n",
        "\n",
        "  responses = [value async for value in download(urls) if value['status'] != 200]\n",
        "  print(responses)\n",
        "\n",
        "await main()"
      ],
      "metadata": {
        "colab": {
          "base_uri": "https://localhost:8080/"
        },
        "id": "TNBIyKXejeXZ",
        "outputId": "452d31ab-e33d-46c4-c428-0a39e5f14ef2"
      },
      "execution_count": null,
      "outputs": [
        {
          "output_type": "stream",
          "name": "stdout",
          "text": [
            "[{'status': 500, 'data': 'content of bing.com'}]\n"
          ]
        }
      ]
    },
    {
      "cell_type": "markdown",
      "source": [
        "#**2. Coroutines & Awaitables**"
      ],
      "metadata": {
        "id": "zbJsvM2_Pjg2"
      }
    },
    {
      "cell_type": "markdown",
      "source": [
        "##2.1 Coroutines Objects and Async Functions"
      ],
      "metadata": {
        "id": "vgP5fqDfSIo2"
      }
    },
    {
      "cell_type": "code",
      "source": [
        "import asyncio\n",
        "import inspect\n",
        "\n",
        "async def main():\n",
        "  pass\n",
        "\n",
        "print(type(main))\n",
        "print(inspect.iscoroutinefunction(main))\n",
        "print(dir(main()))"
      ],
      "metadata": {
        "colab": {
          "base_uri": "https://localhost:8080/"
        },
        "id": "LJHtKJyRSOqD",
        "outputId": "a8ccb67c-50c5-4175-fb1f-17983b4fd97d"
      },
      "execution_count": null,
      "outputs": [
        {
          "output_type": "stream",
          "name": "stdout",
          "text": [
            "<class 'function'>\n",
            "True\n",
            "['__await__', '__class__', '__del__', '__delattr__', '__dir__', '__doc__', '__eq__', '__format__', '__ge__', '__getattribute__', '__gt__', '__hash__', '__init__', '__init_subclass__', '__le__', '__lt__', '__name__', '__ne__', '__new__', '__qualname__', '__reduce__', '__reduce_ex__', '__repr__', '__setattr__', '__sizeof__', '__str__', '__subclasshook__', 'close', 'cr_await', 'cr_code', 'cr_frame', 'cr_origin', 'cr_running', 'send', 'throw']\n"
          ]
        },
        {
          "output_type": "stream",
          "name": "stderr",
          "text": [
            "<ipython-input-143-56483b0f906b>:9: RuntimeWarning: coroutine 'main' was never awaited\n",
            "  print(dir(main()))\n",
            "RuntimeWarning: Enable tracemalloc to get the object allocation traceback\n"
          ]
        }
      ]
    },
    {
      "cell_type": "markdown",
      "source": [
        "##2.2 Ways of Running Coroutines"
      ],
      "metadata": {
        "id": "XT00nREcmeH3"
      }
    },
    {
      "cell_type": "code",
      "source": [
        "import asyncio\n",
        "import inspect\n",
        "\n",
        "async def main():\n",
        "  print('The main function')\n",
        "\n",
        "# 1. using await\n",
        "await main()\n",
        "# 2. creating a task\n",
        "asyncio.create_task(main())"
      ],
      "metadata": {
        "colab": {
          "base_uri": "https://localhost:8080/"
        },
        "id": "yOwuVcD9mc-Y",
        "outputId": "03e3c596-53d7-4e85-cd0a-e2a302d18346"
      },
      "execution_count": null,
      "outputs": [
        {
          "output_type": "stream",
          "name": "stdout",
          "text": [
            "The main function\n"
          ]
        },
        {
          "output_type": "execute_result",
          "data": {
            "text/plain": [
              "<Task pending name='Task-58' coro=<main() running at <ipython-input-145-bc733164109c>:4>>"
            ]
          },
          "metadata": {},
          "execution_count": 145
        },
        {
          "output_type": "stream",
          "name": "stdout",
          "text": [
            "The main function\n"
          ]
        }
      ]
    },
    {
      "cell_type": "markdown",
      "source": [
        "##2.3 Cancelling Coroutines"
      ],
      "metadata": {
        "id": "zLSKoMVWnN-w"
      }
    },
    {
      "cell_type": "code",
      "source": [
        "import asyncio\n",
        "\n",
        "async def stopwatch():\n",
        "  count = 0\n",
        "  while True:\n",
        "      await asyncio.sleep(1)\n",
        "      count += 1\n",
        "      print(count)\n",
        "\n",
        "async def main():\n",
        "  task = asyncio.create_task(stopwatch())\n",
        "  await asyncio.sleep(3)\n",
        "  task.cancel()   # Here we say \"Cancel the task after 3rd second\"\n",
        "\n",
        "await main()"
      ],
      "metadata": {
        "colab": {
          "base_uri": "https://localhost:8080/"
        },
        "id": "MO_zSzganU7-",
        "outputId": "86e23783-0e56-4f83-822b-821319ee7177"
      },
      "execution_count": null,
      "outputs": [
        {
          "output_type": "stream",
          "name": "stdout",
          "text": [
            "1\n",
            "2\n"
          ]
        }
      ]
    },
    {
      "cell_type": "markdown",
      "source": [
        "##2.4 Awaitable Objects"
      ],
      "metadata": {
        "id": "UkUmRmb1oZXb"
      }
    },
    {
      "cell_type": "code",
      "source": [
        "import asyncio\n",
        "\n",
        "class Stopwatch:\n",
        "  def __await__(self):\n",
        "    yield\n",
        "\n",
        "async def main():\n",
        "  await Stopwatch()\n",
        "\n",
        "await main()"
      ],
      "metadata": {
        "id": "fRO9IWwjodfG"
      },
      "execution_count": null,
      "outputs": []
    },
    {
      "cell_type": "markdown",
      "source": [
        "#**3. Tasks, Futures and the Event Loop**"
      ],
      "metadata": {
        "id": "1Ot24NPGo4so"
      }
    },
    {
      "cell_type": "markdown",
      "source": [
        "##3.1 Using Task Objects"
      ],
      "metadata": {
        "id": "Y7eaS5tUpB_A"
      }
    },
    {
      "cell_type": "code",
      "source": [
        "import asyncio\n",
        "\n",
        "async def stopwatch():\n",
        "  count = 0\n",
        "  while count < 4:\n",
        "      await asyncio.sleep(1)\n",
        "      count += 1\n",
        "      print(count)\n",
        "\n",
        "def callb(task):\n",
        "  print('task is done', task)\n",
        "\n",
        "async def main():\n",
        "  task = asyncio.create_task(stopwatch())\n",
        "  task.set_name('My Task')\n",
        "  task.add_done_callback(callb)\n",
        "  print(task.get_name())\n",
        "  print(task.get_coro())\n",
        "  print(task.get_name())\n",
        "  await task\n",
        "\n",
        "await main()"
      ],
      "metadata": {
        "colab": {
          "base_uri": "https://localhost:8080/"
        },
        "id": "XlgE8641pFjr",
        "outputId": "147c6672-1545-4324-8840-0c8f36c49c02"
      },
      "execution_count": null,
      "outputs": [
        {
          "output_type": "stream",
          "name": "stdout",
          "text": [
            "My Task\n",
            "<coroutine object stopwatch at 0x7ea2787a4660>\n",
            "My Task\n",
            "1\n",
            "2\n",
            "3\n",
            "4\n",
            "task is done <Task finished name='My Task' coro=<stopwatch() done, defined at <ipython-input-150-b87e2fe8d0a6>:3> result=None>\n"
          ]
        }
      ]
    },
    {
      "cell_type": "markdown",
      "source": [
        "##3.2 Interacting with the Event Loop:"
      ],
      "metadata": {
        "id": "JtcmR96OqMhU"
      }
    },
    {
      "cell_type": "code",
      "source": [
        "import asyncio\n",
        "\n",
        "async def stopwatch():\n",
        "  count = 0\n",
        "  while count < 4:\n",
        "      await asyncio.sleep(1)\n",
        "      count += 1\n",
        "      print(count)\n",
        "\n",
        "def callb(task):\n",
        "  print('task is done', task)\n",
        "\n",
        "async def main():\n",
        "  print(asyncio.get_running_loop())\n",
        "  task = asyncio.create_task(stopwatch())\n",
        "  task.add_done_callback(callb)\n",
        "\n",
        "  await task\n",
        "\n",
        "await main()"
      ],
      "metadata": {
        "colab": {
          "base_uri": "https://localhost:8080/"
        },
        "id": "Mh-wehySrOoN",
        "outputId": "07e3c948-e133-47eb-a2f5-5d2998098287"
      },
      "execution_count": null,
      "outputs": [
        {
          "output_type": "stream",
          "name": "stdout",
          "text": [
            "<_UnixSelectorEventLoop running=True closed=False debug=False>\n",
            "1\n",
            "2\n",
            "3\n",
            "4\n",
            "task is done <Task finished name='Task-69' coro=<stopwatch() done, defined at <ipython-input-151-f16058d61056>:3> result=None>\n"
          ]
        }
      ]
    },
    {
      "cell_type": "markdown",
      "source": [
        "##3.3 The concept of the future:"
      ],
      "metadata": {
        "id": "wla_cgp0rPJ6"
      }
    },
    {
      "cell_type": "code",
      "source": [
        "import asyncio\n",
        "\n",
        "async def stopwatch():\n",
        "  count = 0\n",
        "  while count < 4:\n",
        "      await asyncio.sleep(1)\n",
        "      count += 1\n",
        "      print(count)\n",
        "\n",
        "def callb(task):\n",
        "  print('task is done', task)\n",
        "\n",
        "async def main():\n",
        "  task = asyncio.create_task(stopwatch())\n",
        "  task.add_done_callback(callb)\n",
        "  print(asyncio.isfuture(task))\n",
        "\n",
        "  await task\n",
        "\n",
        "await main()"
      ],
      "metadata": {
        "colab": {
          "base_uri": "https://localhost:8080/"
        },
        "id": "b9oqkjWXruu7",
        "outputId": "d9acdd96-b9a1-49da-9af0-da8474b33956"
      },
      "execution_count": null,
      "outputs": [
        {
          "output_type": "stream",
          "name": "stdout",
          "text": [
            "True\n",
            "1\n",
            "2\n",
            "3\n",
            "4\n",
            "task is done <Task finished name='Task-71' coro=<stopwatch() done, defined at <ipython-input-152-fd9b0fb67711>:3> result=None>\n"
          ]
        }
      ]
    }
  ]
}