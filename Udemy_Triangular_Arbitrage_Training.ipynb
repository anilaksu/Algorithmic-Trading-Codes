{
  "nbformat": 4,
  "nbformat_minor": 0,
  "metadata": {
    "colab": {
      "provenance": [],
      "authorship_tag": "ABX9TyNEWbcJPsC04nOJwWI5qMsD",
      "include_colab_link": true
    },
    "kernelspec": {
      "name": "python3",
      "display_name": "Python 3"
    },
    "language_info": {
      "name": "python"
    }
  },
  "cells": [
    {
      "cell_type": "markdown",
      "metadata": {
        "id": "view-in-github",
        "colab_type": "text"
      },
      "source": [
        "<a href=\"https://colab.research.google.com/github/anilaksu/Algorithmic-Trading-Codes/blob/main/Udemy_Triangular_Arbitrage_Training.ipynb\" target=\"_parent\"><img src=\"https://colab.research.google.com/assets/colab-badge.svg\" alt=\"Open In Colab\"/></a>"
      ]
    },
    {
      "cell_type": "markdown",
      "source": [
        "# **Triangular Arbitrage for Crypto with Python Udemy Training**\n",
        "\n",
        "\n",
        "Anil Aksu\n",
        "\n",
        "Personal e-mail: aaa293@cornell.edu\n",
        "\n",
        "\n",
        "\n",
        "**Outline:**\n",
        "\n",
        "\n",
        "1.  CEFI Triangular Arbitrage\n",
        "  * Synchronous vs Asynchronous\n",
        "  * Blocking & Timeouts\n",
        "  * Scraping with Selenium\n",
        "  * Asynchronous Functions\n",
        "  * Asynchronous Iterators\n",
        "2. DEFI Triangular Arbitrage\n",
        "  * Coroutine Objects and Async Functions\n",
        "  * Ways of running coroutines\n",
        "  * Cancelling coroutines\n",
        "  * Awaitable Objects\n",
        "\n",
        "\n",
        "\n",
        "Clone GitHub Repo:\n",
        "\n",
        "git clone https://github.com/CryptoWizardsNet/poloniex-tri-arb\n",
        "\n",
        "\n",
        "\n",
        "If you have never used GitHub before or do not have GitHub working on your command line:\n",
        "\n",
        "https://www.youtube.com/watch?v=CKcqniGu3tA\n",
        "\n",
        "https://git-scm.com/book/en/v2/Getting-Started-Installing-Git\n",
        "\n",
        "\n",
        "\n",
        "Google Colab Notebook:\n",
        "\n",
        "https://colab.research.google.com/drive/1gvX613_dwF5p6Hea9xMYeC-KokE9e9C_?usp=sharing\n",
        "\n",
        "\n",
        "\n",
        "Poloniex latest docs:\n",
        "\n",
        "https://docs.poloniex.com/#introduction\n",
        "\n",
        "\n",
        "\n",
        "Binance latest docs:\n",
        "\n",
        "https://binance-docs.github.io/apidocs/spot/en/#kline-candlestick-data"
      ],
      "metadata": {
        "id": "ghlOehn-HIE2"
      }
    },
    {
      "cell_type": "code",
      "source": [
        "from google.colab import drive\n",
        "drive.mount('/content/gdrive')\n",
        "%cd /content/gdrive/MyDrive/ColabNotebooks/FinanceAlgorithms\n",
        "!ls # special shell command to view the files in the home directory of the notebook environment"
      ],
      "metadata": {
        "colab": {
          "base_uri": "https://localhost:8080/"
        },
        "id": "66Z_Nqv4Oi8s",
        "outputId": "8effdb6c-c515-4b95-bd7a-0edfbd2b96b3"
      },
      "execution_count": null,
      "outputs": [
        {
          "output_type": "stream",
          "name": "stdout",
          "text": [
            "Mounted at /content/gdrive\n",
            "/content/gdrive/MyDrive/ColabNotebooks/FinanceAlgorithms\n",
            " 2013-03-08options.csv\t      EURUSD_Options_Data.csv\t   OptionsTrading.ipynb\n",
            " 2013-03-08stocks.csv\t      EURUSD_Options_Data.gsheet   PriceJump.gdraw\n",
            "'Asynchronous Python.ipynb'  'ForEx&IndexData.xls'\t  'Stock Markets Codes.ipynb'\n",
            " async_scrape.py\t      local.csv\n"
          ]
        }
      ]
    },
    {
      "cell_type": "markdown",
      "source": [
        "#**1. How to pull any API Data**"
      ],
      "metadata": {
        "id": "Q39-mq18Rz8A"
      }
    },
    {
      "cell_type": "code",
      "source": [
        "# Here we install required libraries for API data manipulation\n",
        "!python3 -V\n",
        "!which pip3\n",
        "!pip3 install requests --upgrade --no-cache-dir"
      ],
      "metadata": {
        "colab": {
          "base_uri": "https://localhost:8080/"
        },
        "id": "sqfLm1RrUCKG",
        "outputId": "458b87e3-c1bc-45b0-c56b-494c0057a32a"
      },
      "execution_count": null,
      "outputs": [
        {
          "output_type": "stream",
          "name": "stdout",
          "text": [
            "Python 3.10.12\n",
            "/usr/local/bin/pip3\n",
            "Requirement already satisfied: requests in /usr/local/lib/python3.10/dist-packages (2.31.0)\n",
            "Requirement already satisfied: charset-normalizer<4,>=2 in /usr/local/lib/python3.10/dist-packages (from requests) (3.3.2)\n",
            "Requirement already satisfied: idna<4,>=2.5 in /usr/local/lib/python3.10/dist-packages (from requests) (3.6)\n",
            "Requirement already satisfied: urllib3<3,>=1.21.1 in /usr/local/lib/python3.10/dist-packages (from requests) (2.0.7)\n",
            "Requirement already satisfied: certifi>=2017.4.17 in /usr/local/lib/python3.10/dist-packages (from requests) (2024.2.2)\n"
          ]
        }
      ]
    },
    {
      "cell_type": "code",
      "source": [
        "# Here we import required libraries\n",
        "import requests\n",
        "import json"
      ],
      "metadata": {
        "id": "2XIyeg1NLhdH"
      },
      "execution_count": 2,
      "outputs": []
    },
    {
      "cell_type": "code",
      "source": [
        "# Poloniex prices\n",
        "prices = requests.get(\"https://api.poloniex.com/markets/price\")\n",
        "prices_list = []\n",
        "\n",
        "if prices.status_code == 200:\n",
        "  prices_json = json.loads(prices.text)\n",
        "  for p in prices_json:\n",
        "    prices_list.append({\"ticker\": p[\"symbol\"], \"price\" : p[\"price\"]})"
      ],
      "metadata": {
        "id": "MyEk407EL1Ur"
      },
      "execution_count": null,
      "outputs": []
    },
    {
      "cell_type": "code",
      "source": [
        "print(prices_list)"
      ],
      "metadata": {
        "colab": {
          "base_uri": "https://localhost:8080/"
        },
        "id": "M0Bd9JfMNAWy",
        "outputId": "300a6ac6-719a-409e-a89e-aa5b4541d8ac"
      },
      "execution_count": null,
      "outputs": [
        {
          "output_type": "stream",
          "name": "stdout",
          "text": [
            "[{'ticker': 'BTS_BTC', 'price': '0.0000000625'}, {'ticker': 'DASH_BTC', 'price': '0.000624'}, {'ticker': 'DOGE_BTC', 'price': '0.0000025'}, {'ticker': 'LTC_BTC', 'price': '0.001401'}, {'ticker': 'XLM_BTC', 'price': '0.00000224'}, {'ticker': 'XEM_BTC', 'price': '0.000000515'}, {'ticker': 'XMR_BTC', 'price': '0.002226'}, {'ticker': 'XRP_BTC', 'price': '0.00000983'}, {'ticker': 'BTC_USDT', 'price': '64959.13'}, {'ticker': 'DASH_USDT', 'price': '39.5'}, {'ticker': 'LTC_USDT', 'price': '91.135'}, {'ticker': 'XLM_USDT', 'price': '0.1454'}, {'ticker': 'XMR_USDT', 'price': '144.98'}, {'ticker': 'XRP_USDT', 'price': '0.6387'}, {'ticker': 'ETH_BTC', 'price': '0.05428'}, {'ticker': 'ETH_USDT', 'price': '3524.25'}, {'ticker': 'SC_BTC', 'price': '0.00000014'}, {'ticker': 'DCR_BTC', 'price': '0.000402'}, {'ticker': 'LSK_BTC', 'price': '0.0000185'}, {'ticker': 'STEEM_BTC', 'price': '0.00000459'}, {'ticker': 'ETC_BTC', 'price': '0.000528'}, {'ticker': 'ETC_ETH', 'price': '0.00965'}, {'ticker': 'ETC_USDT', 'price': '34.366'}, {'ticker': 'ARDR_BTC', 'price': '0.000001912'}, {'ticker': 'ZEC_BTC', 'price': '0.000535'}, {'ticker': 'ZEC_ETH', 'price': '0.00951'}, {'ticker': 'ZEC_USDT', 'price': '32.5'}, {'ticker': 'ZRX_BTC', 'price': '0.00000686'}, {'ticker': 'ZRX_ETH', 'price': '0.00011'}, {'ticker': 'CVC_BTC', 'price': '0.000001955'}, {'ticker': 'OMG_BTC', 'price': '0.00001644'}, {'ticker': 'GAS_BTC', 'price': '0.0001186'}, {'ticker': 'STORJ_BTC', 'price': '0.0000122'}, {'ticker': 'EOS_BTC', 'price': '0.0000173'}, {'ticker': 'EOS_ETH', 'price': '0.0003273'}, {'ticker': 'EOS_USDT', 'price': '1.125'}, {'ticker': 'SNT_BTC', 'price': '0.00000065'}, {'ticker': 'KNC_BTC', 'price': '0.00001173'}, {'ticker': 'BAT_BTC', 'price': '0.00000479'}, {'ticker': 'BAT_USDT', 'price': '0.3293'}, {'ticker': 'LOOM_BTC', 'price': '0.00000175'}, {'ticker': 'DOGE_USDT', 'price': '0.163483'}, {'ticker': 'LSK_USDT', 'price': '1.2178'}, {'ticker': 'SC_USDT', 'price': '0.009097'}, {'ticker': 'ZRX_USDT', 'price': '0.4303'}, {'ticker': 'QTUM_BTC', 'price': '0.0000777'}, {'ticker': 'QTUM_USDT', 'price': '5.446'}, {'ticker': 'BTC_USDC', 'price': '64895.38'}, {'ticker': 'ETH_USDC', 'price': '3515.83'}, {'ticker': 'USDT_USDC', 'price': '0.99967'}, {'ticker': 'MANA_BTC', 'price': '0.00001071'}, {'ticker': 'MANA_USDT', 'price': '0.6814'}, {'ticker': 'BNT_BTC', 'price': '0.00001251'}, {'ticker': 'BCHSV_BTC', 'price': '0.00177'}, {'ticker': 'BCHSV_USDC', 'price': '120'}, {'ticker': 'XRP_USDC', 'price': '0.605'}, {'ticker': 'XMR_USDC', 'price': '148'}, {'ticker': 'XLM_USDC', 'price': '0.1287'}, {'ticker': 'DOGE_USDC', 'price': '0.152'}, {'ticker': 'LTC_USDC', 'price': '91.9'}, {'ticker': 'ZEC_USDC', 'price': '32.18'}, {'ticker': 'NMR_BTC', 'price': '0.0005484'}, {'ticker': 'POLY_BTC', 'price': '0.000001364'}, {'ticker': 'LPT_BTC', 'price': '0.0002354'}, {'ticker': 'ATOM_BTC', 'price': '0.000194'}, {'ticker': 'ATOM_USDC', 'price': '12.66'}, {'ticker': 'ATOM_USDT', 'price': '12.638'}, {'ticker': 'DASH_USDC', 'price': '38.37'}, {'ticker': 'EOS_USDC', 'price': '1.1111'}, {'ticker': 'ETC_USDC', 'price': '35'}, {'ticker': 'BCHSV_USDT', 'price': '109.29'}, {'ticker': 'TRX_BTC', 'price': '0.000002161'}, {'ticker': 'TRX_USDC', 'price': '0.14493'}, {'ticker': 'TRX_USDT', 'price': '0.14063'}, {'ticker': 'ETH_TRX', 'price': '24975.09'}, {'ticker': 'XRP_TRX', 'price': '4.548'}, {'ticker': 'BTT_USDT', 'price': '0.000001515'}, {'ticker': 'BTT_TRX', 'price': '0.00001082'}, {'ticker': 'WIN_USDT', 'price': '0.00017416'}, {'ticker': 'WIN_TRX', 'price': '0.001202'}, {'ticker': 'STEEM_TRX', 'price': '1.821'}, {'ticker': 'LINK_BTC', 'price': '0.0003187'}, {'ticker': 'LINK_TRX', 'price': '146.73'}, {'ticker': 'XTZ_BTC', 'price': '0.00002218'}, {'ticker': 'XTZ_USDT', 'price': '1.4717'}, {'ticker': 'XTZ_TRX', 'price': '8.94'}, {'ticker': 'USDJ_USDT', 'price': '1.1127'}, {'ticker': 'SNX_BTC', 'price': '0.0000677'}, {'ticker': 'SNX_USDT', 'price': '4.41'}, {'ticker': 'SNX_TRX', 'price': '29.88'}, {'ticker': 'MATIC_BTC', 'price': '0.0000183'}, {'ticker': 'MATIC_USDT', 'price': '1.10683'}, {'ticker': 'MATIC_TRX', 'price': '7.9'}, {'ticker': 'MKR_BTC', 'price': '0.03211'}, {'ticker': 'MKR_USDT', 'price': '2103.57'}, {'ticker': 'DAI_USDT', 'price': '1.00038'}, {'ticker': 'NEO_BTC', 'price': '0.0002868'}, {'ticker': 'NEO_USDT', 'price': '17.18'}, {'ticker': 'NEO_TRX', 'price': '121.92'}, {'ticker': 'SWFTC_BTC', 'price': '0.0000000299'}, {'ticker': 'SWFTC_USDT', 'price': '0.001707'}, {'ticker': 'SWFTC_TRX', 'price': '0.02182'}, {'ticker': 'JST_USDT', 'price': '0.040921'}, {'ticker': 'JST_TRX', 'price': '0.2869'}, {'ticker': 'STEEM_USDT', 'price': '0.29727'}, {'ticker': 'LINK_USDT', 'price': '20.7254'}, {'ticker': 'AVA_BTC', 'price': '0.00001165'}, {'ticker': 'AVA_USDT', 'price': '0.7557'}, {'ticker': 'AVA_TRX', 'price': '5.37'}, {'ticker': 'XRPBULL_USDT', 'price': '0.00000323'}, {'ticker': 'CHR_BTC', 'price': '0.000006644'}, {'ticker': 'CHR_USDT', 'price': '0.37'}, {'ticker': 'CHR_TRX', 'price': '2.7'}, {'ticker': 'BTC_BNB', 'price': '137.8'}, {'ticker': 'BNB_USDT', 'price': '421.72'}, {'ticker': 'BNB_TRX', 'price': '2996.09'}, {'ticker': 'MDT_BTC', 'price': '0.000001488'}, {'ticker': 'MDT_USDT', 'price': '0.07264'}, {'ticker': 'MDT_TRX', 'price': '0.7123'}, {'ticker': 'COMP_USDT', 'price': '84.91'}, {'ticker': 'COMP_ETH', 'price': '0.02707'}, {'ticker': 'REN_BTC', 'price': '0.00000136'}, {'ticker': 'REN_USDT', 'price': '0.0895'}, {'ticker': 'LRC_BTC', 'price': '0.00000517'}, {'ticker': 'LRC_USDT', 'price': '0.376'}, {'ticker': 'BAL_USDT', 'price': '5.342'}, {'ticker': 'WRX_BTC', 'price': '0.00000527'}, {'ticker': 'WRX_USDT', 'price': '0.3386'}, {'ticker': 'WRX_TRX', 'price': '2.4'}, {'ticker': 'SXP_BTC', 'price': '0.00000678'}, {'ticker': 'SXP_USDT', 'price': '0.5'}, {'ticker': 'SXP_TRX', 'price': '3.7'}, {'ticker': 'YFI_USDT', 'price': '9508.2'}, {'ticker': 'STPT_BTC', 'price': '0.000001'}, {'ticker': 'STPT_USDT', 'price': '0.0657'}, {'ticker': 'UMA_USDT', 'price': '3.73'}, {'ticker': 'RING_USDT', 'price': '0.004'}, {'ticker': 'SWAP_BTC', 'price': '0.000002113'}, {'ticker': 'SWAP_USDT', 'price': '0.1252'}, {'ticker': 'GEEQ_USDT', 'price': '0.0949'}, {'ticker': 'BAND_USDT', 'price': '2.3'}, {'ticker': 'DOS_USDT', 'price': '0.001011'}, {'ticker': 'DIA_USDT', 'price': '0.6087'}, {'ticker': 'TRB_USDT', 'price': '120.12'}, {'ticker': 'CRV_USDT', 'price': '0.62'}, {'ticker': 'OM_USDT', 'price': '0.27'}, {'ticker': 'OCEAN_USDT', 'price': '1.0949'}, {'ticker': 'BLY_USDT', 'price': '0.004517'}, {'ticker': 'SWINGBY_BTC', 'price': '0.00000000426'}, {'ticker': 'SWINGBY_USDT', 'price': '0.000244'}, {'ticker': 'SWINGBY_TRX', 'price': '0.00278'}, {'ticker': 'PRQ_USDT', 'price': '0.0887'}, {'ticker': 'DOT_USDT', 'price': '10.1'}, {'ticker': 'RSR_USDT', 'price': '0.003999'}, {'ticker': 'WNXM_USDT', 'price': '68.98'}, {'ticker': 'FCT2_USDT', 'price': '0.06758'}, {'ticker': 'FCT2_BTC', 'price': '0.000001074'}, {'ticker': 'SUSHI_USDT', 'price': '1.7453'}, {'ticker': 'YFII_USDT', 'price': '798.97'}, {'ticker': 'FUND_USDT', 'price': '0.26332'}, {'ticker': 'FUND_TRX', 'price': '1.7068'}, {'ticker': 'FUND_BTC', 'price': '0.000004067'}, {'ticker': 'AKRO_USDT', 'price': '0.007'}, {'ticker': 'AKRO_BTC', 'price': '0.0000000951'}, {'ticker': 'UNI_USDT', 'price': '12.4988'}, {'ticker': 'DHT_USDT', 'price': '0.1047'}, {'ticker': 'CVP_USDT', 'price': '0.496'}, {'ticker': 'GHST_USDT', 'price': '1.0594'}, {'ticker': 'REPV2_BTC', 'price': '0.000017'}, {'ticker': 'REPV2_USDT', 'price': '1.036'}, {'ticker': 'RARI_USDT', 'price': '1.096'}, {'ticker': 'AMP_BTC', 'price': '0.0000000762'}, {'ticker': 'AMP_USDT', 'price': '0.005007'}, {'ticker': 'AMP_TRX', 'price': '0.0285'}, {'ticker': 'SAND_BTC', 'price': '0.00001595'}, {'ticker': 'SAND_USDT', 'price': '0.7022'}, {'ticker': 'POLS_USDT', 'price': '0.9999'}, {'ticker': 'AAVE_BTC', 'price': '0.001738'}, {'ticker': 'AAVE_USDT', 'price': '113.43'}, {'ticker': 'CVT_BTC', 'price': '0.00000004874'}, {'ticker': 'CVT_USDT', 'price': '0.00125'}, {'ticker': 'INJ_BTC', 'price': '0.00066677'}, {'ticker': 'INJ_USDT', 'price': '39.8'}, {'ticker': 'BCH_BTC', 'price': '0.00701'}, {'ticker': 'BCH_USDT', 'price': '454.89'}, {'ticker': 'BCH_USDC', 'price': '365.03'}, {'ticker': 'SENSO_BTC', 'price': '0.000001097'}, {'ticker': 'SENSO_USDT', 'price': '0.0688'}, {'ticker': 'KP3R_USDT', 'price': '89.1'}, {'ticker': 'GLM_BTC', 'price': '0.00000504'}, {'ticker': 'GLM_USDT', 'price': '0.3152'}, {'ticker': 'ZLOT_USDT', 'price': '4'}, {'ticker': 'WBTC_BTC', 'price': '0.96'}, {'ticker': 'WBTC_USDT', 'price': '59043.43'}, {'ticker': 'FRONT_BTC', 'price': '0.00001045'}, {'ticker': 'FRONT_USDT', 'price': '0.6701'}, {'ticker': 'API3_USDT', 'price': '3.4781'}, {'ticker': 'BADGER_USDT', 'price': '5.059'}, {'ticker': 'FARM_BTC', 'price': '0.000803'}, {'ticker': 'FARM_USDT', 'price': '47.27'}, {'ticker': 'DOT_BTC', 'price': '0.0001555'}, {'ticker': 'GRT_USDT', 'price': '0.3151'}, {'ticker': 'ESD_USDT', 'price': '0.000702'}, {'ticker': 'ONEINCH_USDT', 'price': '0.534'}, {'ticker': 'REEF_USDT', 'price': '0.001995'}, {'ticker': 'LON_USDT', 'price': '0.4308'}, {'ticker': 'ROOK_USDT', 'price': '0.38'}, {'ticker': 'TRU_USDT', 'price': '0.08214'}, {'ticker': 'CUDOS_USDT', 'price': '0.01849'}, {'ticker': 'BOND_USDT', 'price': '3.86'}, {'ticker': 'TUSD_USDT', 'price': '0.99765'}, {'ticker': 'TUSD_USDC', 'price': '0.99721'}, {'ticker': 'WETH_USDT', 'price': '1400.01'}, {'ticker': 'TRU_BTC', 'price': '0.000001202'}, {'ticker': 'FTT_USDT', 'price': '2.181'}, {'ticker': 'SRM_USDT', 'price': '0.0519'}, {'ticker': 'LPT_USDT', 'price': '13.84'}, {'ticker': 'BTC_TUSD', 'price': '64573.98'}, {'ticker': 'ETH_TUSD', 'price': '3529.62'}, {'ticker': 'ALPHA_USDT', 'price': '0.1455'}, {'ticker': 'TORN_USDT', 'price': '1.57'}, {'ticker': 'ZKS_USDT', 'price': '0.015'}, {'ticker': 'RNDR_USDT', 'price': '8'}, {'ticker': 'KCS_USDT', 'price': '9.59'}, {'ticker': 'FIL_BTC', 'price': '0.000156'}, {'ticker': 'FIL_USDT', 'price': '10.127'}, {'ticker': 'XYM_BTC', 'price': '0.000000473'}, {'ticker': 'XYM_USDT', 'price': '0.03'}, {'ticker': 'LIVE_USDT', 'price': '0.01281'}, {'ticker': 'SHIB_USDT', 'price': '0.000026979'}, {'ticker': 'AKITA_USDT', 'price': '0.0000002201'}, {'ticker': 'KLV_USDT', 'price': '0.00418'}, {'ticker': 'KLV_BTC', 'price': '0.0000000654'}, {'ticker': 'KLV_TRX', 'price': '0.0319'}, {'ticker': 'LQTY_USDT', 'price': '1.736'}, {'ticker': 'DEGO_USDT', 'price': '2.299'}, {'ticker': 'ELON_USDT', 'price': '0.0000002129'}, {'ticker': 'QUICK_USDT', 'price': '0.0753'}, {'ticker': 'MVL_USDT', 'price': '0.002999'}, {'ticker': 'NFT_USDT', 'price': '0.00000068331'}, {'ticker': 'NFT_TRX', 'price': '0.000004759'}, {'ticker': 'HT_USDT', 'price': '1.172'}, {'ticker': 'CTSI_USDT', 'price': '0.3734'}, {'ticker': 'RLC_USDT', 'price': '3.89'}, {'ticker': 'ERSDL_USDT', 'price': '0.003391'}, {'ticker': 'RUNE_USDT', 'price': '5.7241'}, {'ticker': 'KISHU_TRX', 'price': '0.000000002096'}, {'ticker': 'GTC_USDT', 'price': '2.103'}, {'ticker': 'OKB_USDT', 'price': '36'}, {'ticker': 'SUN_USDT', 'price': '0.0116875'}, {'ticker': 'SUN_TRX', 'price': '0.07899'}, {'ticker': 'XEC_USDT', 'price': '0.00004602'}, {'ticker': 'CAKE_USDT', 'price': '3.354'}, {'ticker': 'XVS_USDT', 'price': '10.567'}, {'ticker': 'BURGER_USDT', 'price': '0.5001'}, {'ticker': 'AXS_USDT', 'price': '10.93'}, {'ticker': 'ALPACA_USDT', 'price': '0.2494'}, {'ticker': 'C98_USDT', 'price': '0.4274'}, {'ticker': 'PERP_USDT', 'price': '1.2453'}, {'ticker': 'TRU_TUSD', 'price': '0.08216'}, {'ticker': 'ACH1_USDT', 'price': '0.02161'}, {'ticker': 'CLV_USDT', 'price': '0.0712'}, {'ticker': 'YGG_USDT', 'price': '0.6681'}, {'ticker': 'ALICE_USDT', 'price': '2.004'}, {'ticker': 'AUDIO_USDT', 'price': '0.2999'}, {'ticker': 'BIT_USDT', 'price': '0.5961'}, {'ticker': 'BNB_USDC', 'price': '435.6'}, {'ticker': 'LINK_USDC', 'price': '19.693'}, {'ticker': 'MBOX_USDT', 'price': '0.4949'}, {'ticker': 'MATTER_USDT', 'price': '0.0599'}, {'ticker': 'MATTER_TRX', 'price': '0.33'}, {'ticker': 'AGLD_USDT', 'price': '1.5895'}, {'ticker': 'MATIC_USDC', 'price': '1.2499'}, {'ticker': 'MANA_USDC', 'price': '0.677'}, {'ticker': 'XEM_USDC', 'price': '0.04892'}, {'ticker': 'BTT_USDC', 'price': '0.0000014939'}, {'ticker': 'SRM_USDC', 'price': '0.0565'}, {'ticker': 'XEM_USDT', 'price': '0.03332'}, {'ticker': 'SRM_BTC', 'price': '0.00000052'}, {'ticker': 'DYDX_USDT', 'price': '3.6'}, {'ticker': 'XCAD_USDT', 'price': '1.7698'}, {'ticker': 'GALA_USDT', 'price': '0.04865'}, {'ticker': 'LDO_USDT', 'price': '3.368'}, {'ticker': 'BTRST_USDT', 'price': '1.086'}, {'ticker': 'FLOKI_USDT', 'price': '0.000157'}, {'ticker': 'TOKE_USDT', 'price': '1.388'}, {'ticker': 'WNCG_USDT', 'price': '0.0333'}, {'ticker': 'MLN_USDT', 'price': '20.23'}, {'ticker': 'WOO_USDT', 'price': '0.59'}, {'ticker': 'ENJ_USDT', 'price': '0.2366'}, {'ticker': 'CHZ_USDT', 'price': '0.1552'}, {'ticker': 'SLP_USDT', 'price': '0.008'}, {'ticker': 'OGN_USDT', 'price': '0.1406'}, {'ticker': 'PLA_USDT', 'price': '0.2072'}, {'ticker': 'TLM_USDT', 'price': '0.0257'}, {'ticker': 'SUPER_USDT', 'price': '1.4075'}, {'ticker': 'ILV_USDT', 'price': '93.01'}, {'ticker': 'ERN_USDT', 'price': '1.5604'}, {'ticker': 'SPELL_USDT', 'price': '0.0015'}, {'ticker': 'EFI_USDT', 'price': '0.0467'}, {'ticker': 'RACA_USDT', 'price': '0.0003006'}, {'ticker': 'AVAX_USDT', 'price': '43.337'}, {'ticker': 'GMEE_USDT', 'price': '0.02002'}, {'ticker': 'CVX_USDT', 'price': '5.165'}, {'ticker': 'SHIB_USDC', 'price': '0.00002885'}, {'ticker': 'AVAX_USDC', 'price': '40.71'}, {'ticker': 'AVAX_BTC', 'price': '0.000663'}, {'ticker': 'ENS_USDT', 'price': '15.47'}, {'ticker': 'IMX_USDT', 'price': '3.2243'}, {'ticker': 'KDOE_USDT', 'price': '0.004964'}, {'ticker': 'GN_USDT', 'price': '0.00000044'}, {'ticker': 'SAITAMA_USDT', 'price': '0.000994'}, {'ticker': 'BOBA_USDT', 'price': '0.2185'}, {'ticker': 'POLYDOGE_USDT', 'price': '0.000000013'}, {'ticker': 'HEX_USDT', 'price': '0.00954'}, {'ticker': 'FXS_USDT', 'price': '8.861'}, {'ticker': 'DYP_USDT', 'price': '0.1002'}, {'ticker': 'TRIBE_USDT', 'price': '0.2654'}, {'ticker': 'SOL_USDT', 'price': '132.493'}, {'ticker': 'SOL_BTC', 'price': '0.002037'}, {'ticker': 'SOL_USDC', 'price': '130'}, {'ticker': 'DORA_USDT', 'price': '0.67'}, {'ticker': 'PEOPLE_USDT', 'price': '0.05251'}, {'ticker': 'PSP_USDT', 'price': '0.05945'}, {'ticker': 'NEXO_USDT', 'price': '1.3723'}, {'ticker': 'FTM_USDT', 'price': '0.7406'}, {'ticker': 'BNX_USDT', 'price': '0.3158'}, {'ticker': 'QI_USDT', 'price': '0.02389'}, {'ticker': 'ADA_USDT', 'price': '0.79247'}, {'ticker': 'REQ_USDT', 'price': '0.1082'}, {'ticker': 'SAMO_USDT', 'price': '0.01654'}, {'ticker': 'ATLAS_USDT', 'price': '0.006859'}, {'ticker': 'POLIS_USDT', 'price': '0.5444'}, {'ticker': 'FIDA_USDT', 'price': '0.406'}, {'ticker': 'BICO_USDT', 'price': '0.6799'}, {'ticker': 'GODS_USDT', 'price': '0.1436'}, {'ticker': 'RBN_USDT', 'price': '0.75'}, {'ticker': 'PYR_USDT', 'price': '8.522'}, {'ticker': 'SOS_USDT', 'price': '0.0000000255'}, {'ticker': 'HIGH_USDT', 'price': '2.1275'}, {'ticker': 'VOXEL_USDT', 'price': '0.3101'}, {'ticker': 'ADA_BTC', 'price': '0.00001221'}, {'ticker': 'ADA_USDC', 'price': '0.7775'}, {'ticker': 'CTC_USDT', 'price': '0.5376'}, {'ticker': 'METIS_USDT', 'price': '95.95'}, {'ticker': 'OOKI_USDT', 'price': '0.001803'}, {'ticker': 'LOOKS_USDT', 'price': '0.095'}, {'ticker': 'FTM_USDC', 'price': '0.6999'}, {'ticker': 'FTM_BTC', 'price': '0.00001038'}, {'ticker': 'SHPING_USDT', 'price': '0.00443'}, {'ticker': 'LOKA_USDT', 'price': '0.3656'}, {'ticker': 'VRA_USDT', 'price': '0.012833'}, {'ticker': 'SUKU_USDT', 'price': '0.03539'}, {'ticker': 'NCT_USDT', 'price': '0.01117'}, {'ticker': 'HUNT_USDT', 'price': '0.1507'}, {'ticker': 'TITAN_USDT', 'price': '0.004'}, {'ticker': 'UMEE_USDT', 'price': '0.00485'}, {'ticker': 'ALPINE_USDT', 'price': '2.501'}, {'ticker': 'GMT_USDT', 'price': '0.2287'}, {'ticker': 'AERGO_USDT', 'price': '0.0954'}, {'ticker': 'APE_USDT', 'price': '2.156'}, {'ticker': 'NVIR_USDT', 'price': '0.00485'}, {'ticker': 'STG_USDT', 'price': '0.7117'}, {'ticker': 'CULT_USDT', 'price': '0.0000017'}, {'ticker': 'KSM_USDT', 'price': '56.34'}, {'ticker': 'ZELIX_USDT', 'price': '0.0005204'}, {'ticker': 'CEEK_USDT', 'price': '0.0577'}, {'ticker': 'NYM_USDT', 'price': '0.25'}, {'ticker': 'CAW_USDT', 'price': '0.00000007983'}, {'ticker': 'DAR_USDT', 'price': '0.2346'}, {'ticker': 'USDD_USDT', 'price': '1.00194'}, {'ticker': 'GAL_USDT', 'price': '2.753'}, {'ticker': 'FITFI_USDT', 'price': '0.01071'}, {'ticker': 'USDD_USDC', 'price': '1.00073'}, {'ticker': 'BTC_USDD', 'price': '64785.05'}, {'ticker': 'ETH_USDD', 'price': '3490.93'}, {'ticker': 'TRX_USDD', 'price': '0.14034'}, {'ticker': 'BTT_USDD', 'price': '0.0000015072'}, {'ticker': 'NFT_USDD', 'price': '0.00000068129'}, {'ticker': 'JST_USDD', 'price': '0.040231'}, {'ticker': 'WIN_USDD', 'price': '0.00017678'}, {'ticker': 'SUN_USDD', 'price': '0.0116459'}, {'ticker': 'TUSD_USDD', 'price': '1.00481'}, {'ticker': 'ELON_USDD', 'price': '0.0000002136'}, {'ticker': 'SHIB_USDD', 'price': '0.000026914'}, {'ticker': 'DOGE_USDD', 'price': '0.15986'}, {'ticker': 'XRP_USDD', 'price': '0.6401'}, {'ticker': 'LTC_USDD', 'price': '90.9'}, {'ticker': 'DOT_USDD', 'price': '8.311'}, {'ticker': 'XCN_USDT', 'price': '0.0017'}, {'ticker': 'FRAX_USDT', 'price': '0.3333'}, {'ticker': 'FRAX_USDD', 'price': '1.0007'}, {'ticker': 'KUB_USDT', 'price': '2.884'}, {'ticker': 'KUB_USDD', 'price': '2.263'}, {'ticker': 'KSM_USDD', 'price': '40'}, {'ticker': 'WLKN_USDT', 'price': '0.00515'}, {'ticker': 'WLKN_USDD', 'price': '0.01054'}, {'ticker': 'BNT_USDT', 'price': '0.7437'}, {'ticker': 'LOOM_USDT', 'price': '0.10201'}, {'ticker': 'KNC_USDT', 'price': '0.7219'}, {'ticker': 'SNT_USDT', 'price': '0.04914'}, {'ticker': 'LUNA_USDT', 'price': '0.85'}, {'ticker': 'LUNC_USDT', 'price': '0.00019382'}, {'ticker': 'LUNC_USDD', 'price': '0.0001675'}, {'ticker': 'ETHW_USDD', 'price': '3.694'}, {'ticker': 'ETHW_USDT', 'price': '3.707'}, {'ticker': 'ETHW_ETH', 'price': '0.00103'}, {'ticker': 'POLOTEST2_POLOTEST1', 'price': '5.5'}, {'ticker': 'POLOTEST3_POLOTEST4', 'price': '5.5'}, {'ticker': 'POLOTEST2_POLOTEST4', 'price': '5.5'}, {'ticker': 'POLOTEST2_POLOTEST3', 'price': '5.5'}, {'ticker': 'POLOTEST1_POLOTEST4', 'price': '5.5'}, {'ticker': 'POLOTEST1_POLOTEST3', 'price': '5.5'}, {'ticker': 'POLOTEST1_POLOTEST2', 'price': '5.5'}, {'ticker': 'SANTOS_USDT', 'price': '7.0662'}, {'ticker': 'NMR_USDT', 'price': '33.73'}, {'ticker': 'CVC_USDT', 'price': '0.1271'}, {'ticker': 'STORJ_USDT', 'price': '0.8289'}, {'ticker': 'OMG_USDT', 'price': '1.0434'}, {'ticker': 'ETHF_USDT', 'price': '7.782'}, {'ticker': 'ETHF_USDD', 'price': '7.8'}, {'ticker': 'POLY_USDT', 'price': '0.0949'}, {'ticker': 'DC_USDT', 'price': '0.0078'}, {'ticker': 'DC_USDD', 'price': '0.0069'}, {'ticker': 'SSV_USDT', 'price': '33.52'}, {'ticker': 'SSV_USDD', 'price': '30'}, {'ticker': 'APX_USDT', 'price': '0.02188'}, {'ticker': 'APX_USDD', 'price': '0.1'}, {'ticker': 'LUNA_USDD', 'price': '0.687'}, {'ticker': 'AFC_USDD', 'price': '0.75'}, {'ticker': 'AFC_USDT', 'price': '1.1701'}, {'ticker': 'CITY_USDD', 'price': '0.466'}, {'ticker': 'CITY_USDT', 'price': '3.3'}, {'ticker': 'ZBC_USDD', 'price': '0.01'}, {'ticker': 'ZBC_USDT', 'price': '0.0151'}, {'ticker': 'CHZ_USDD', 'price': '0.1422'}, {'ticker': 'XEN_USDD', 'price': '0.00000087'}, {'ticker': 'XEN_USDT', 'price': '0.00000128'}, {'ticker': 'BTS_USDT', 'price': '0.00387'}, {'ticker': 'DCR_USDT', 'price': '25.5'}, {'ticker': 'ARDR_USDT', 'price': '0.12'}, {'ticker': 'GAS_USDT', 'price': '7.342'}, {'ticker': 'SANTOS_USDD', 'price': '6'}, {'ticker': 'HFT_USDD', 'price': '0.35'}, {'ticker': 'HFT_USDT', 'price': '0.4974'}, {'ticker': 'OP_USDD', 'price': '6.4996'}, {'ticker': 'OP_USDT', 'price': '3.9433'}, {'ticker': 'GMX_USDD', 'price': '41.97'}, {'ticker': 'GMX_USDT', 'price': '73'}, {'ticker': 'NEAR_USDD', 'price': '4.46'}, {'ticker': 'NEAR_USDT', 'price': '4.553'}, {'ticker': 'ACM_USDD', 'price': '3.5'}, {'ticker': 'ACM_USDT', 'price': '3.4998'}, {'ticker': 'JUV_USDD', 'price': '2.9998'}, {'ticker': 'JUV_USDT', 'price': '5'}, {'ticker': 'ASR_USDD', 'price': '2'}, {'ticker': 'ASR_USDT', 'price': '1.5'}, {'ticker': 'PSG_USDD', 'price': '2.985'}, {'ticker': 'PSG_USDT', 'price': '4.425'}, {'ticker': 'TON_USDT', 'price': '3.175'}, {'ticker': 'MASK_USDD', 'price': '3.539'}, {'ticker': 'MASK_USDT', 'price': '3.51'}, {'ticker': 'ARG_USDD', 'price': '0.528'}, {'ticker': 'ARG_USDT', 'price': '2.126'}, {'ticker': 'POR_USDD', 'price': '5'}, {'ticker': 'POR_USDT', 'price': '2.2'}, {'ticker': 'APT_USDD', 'price': '12.27'}, {'ticker': 'APT_USDT', 'price': '12.559'}, {'ticker': 'VELO_USDT', 'price': '0.007299'}, {'ticker': 'VINU_USDD', 'price': '0.0000000149'}, {'ticker': 'VINU_USDT', 'price': '0.00000002567'}, {'ticker': 'BAR_USDD', 'price': '2.001'}, {'ticker': 'BAR_USDT', 'price': '3.065'}, {'ticker': 'ATM_USDD', 'price': '1.17'}, {'ticker': 'ATM_USDT', 'price': '2.899'}, {'ticker': 'CEL_USDT', 'price': '0.1699'}, {'ticker': 'BITCI_USDD', 'price': '0.003318'}, {'ticker': 'BITCI_USDT', 'price': '0.0015'}, {'ticker': 'BFT_USDD', 'price': '0.075'}, {'ticker': 'BFT_USDT', 'price': '0.0999'}, {'ticker': 'VGX_USDD', 'price': '0.22'}, {'ticker': 'VGX_USDT', 'price': '0.1355'}, {'ticker': 'PORTO_USDD', 'price': '0.99'}, {'ticker': 'PORTO_USDT', 'price': '2.976'}, {'ticker': 'LAZIO_USDD', 'price': '1.33'}, {'ticker': 'LAZIO_USDT', 'price': '2.952'}, {'ticker': 'TON_USDD', 'price': '3.409'}, {'ticker': 'FLR_USDT', 'price': '0.04101'}, {'ticker': 'UT_USDT', 'price': '0.00573'}, {'ticker': 'TRR_USDT', 'price': '0.0125'}, {'ticker': 'BONK_USDD', 'price': '0.000024999'}, {'ticker': 'BONK_USDT', 'price': '0.000034467'}, {'ticker': 'OG_USDD', 'price': '1.891'}, {'ticker': 'OG_USDT', 'price': '4.248'}, {'ticker': 'VOLT_USDT', 'price': '0.00000074159'}, {'ticker': 'CEL_USDD', 'price': '0.0677'}, {'ticker': 'DUSK_USDT', 'price': '0.3286'}, {'ticker': 'PSI_USDT', 'price': '0.022'}, {'ticker': 'GNS_USDT', 'price': '6.454'}, {'ticker': 'SUDO_USDT', 'price': '0.24'}, {'ticker': 'IGU_USDT', 'price': '0.0398'}, {'ticker': 'BABYDOGE_USDT', 'price': '0.000000001899'}, {'ticker': 'KON_USDT', 'price': '0.00094'}, {'ticker': 'ICP_USDT', 'price': '13.346'}, {'ticker': 'BLUR_USDT', 'price': '0.7136'}, {'ticker': 'CARMIN_USDT', 'price': '0.00500022'}, {'ticker': 'FET_USDT', 'price': '1.8998'}, {'ticker': 'CORE_USDT', 'price': '0.77'}, {'ticker': 'IMGNAI_USDT', 'price': '0.02625'}, {'ticker': 'AGIX_USDT', 'price': '0.9897'}, {'ticker': 'RPL_USDT', 'price': '31.05'}, {'ticker': 'TSUKA_USDT', 'price': '0.03368'}, {'ticker': 'FACTR_USDT', 'price': '0.05932'}, {'ticker': 'GPT_USDT', 'price': '0.012'}, {'ticker': 'BONE_USDT', 'price': '0.7101'}, {'ticker': 'ALI_USDT', 'price': '0.04689'}, {'ticker': 'SDAO_USDT', 'price': '0.3785'}, {'ticker': 'GFT_USDT', 'price': '0.0246'}, {'ticker': 'COLLAB_USDT', 'price': '0.00991'}, {'ticker': 'LOGT_USDT', 'price': '0.002'}, {'ticker': 'RDNT_USDT', 'price': '0.3299'}, {'ticker': 'ROCK_USDT', 'price': '0.000249'}, {'ticker': 'MUTE_USDT', 'price': '0.6847'}, {'ticker': 'RIF_USDT', 'price': '0.1427'}, {'ticker': 'BRISE_USDT', 'price': '0.0000002036'}, {'ticker': 'POOLX_USDT', 'price': '5.5'}, {'ticker': 'PAW_USDT', 'price': '0.00000404'}, {'ticker': 'PENDLE_USDT', 'price': '3.3234'}, {'ticker': 'ID_USDT', 'price': '0.4612'}, {'ticker': 'ARB_USDT', 'price': '2.0108'}, {'ticker': 'PERL_USDT', 'price': '0.00224'}, {'ticker': 'GDX_USDT', 'price': '0.0014'}, {'ticker': 'RIO_USDT', 'price': '0.8252'}, {'ticker': 'USH_USDT', 'price': '0.0323'}, {'ticker': 'RUG_USDT', 'price': '0.00000039'}, {'ticker': 'BOBO_USDT', 'price': '0.000000001972'}, {'ticker': 'MEMEME_USDT', 'price': '0.0000062'}, {'ticker': 'BABYPEPE_USDT', 'price': '0.00000000074'}, {'ticker': 'CGPT_USDT', 'price': '0.3724'}, {'ticker': 'CHAD_USDT', 'price': '0.00000083'}, {'ticker': 'WOJAK_USDT', 'price': '0.0006925'}, {'ticker': 'AGI_USDT', 'price': '0.004'}, {'ticker': 'PEPE_USDT', 'price': '0.00000739971'}, {'ticker': 'AIDOGE_USDT', 'price': '0.0000000003028'}, {'ticker': 'LZM_USDT', 'price': '0.04731'}, {'ticker': 'WIFI_USDT', 'price': '0.17994'}, {'ticker': 'RMV_USDT', 'price': '0.03687'}, {'ticker': 'POOH_USDT', 'price': '0.0000000046'}, {'ticker': 'RIBBIT_USDT', 'price': '0.00000000394'}, {'ticker': 'TURBO_USDT', 'price': '0.000652'}, {'ticker': 'CLIPS_USDT', 'price': '0.00000064'}, {'ticker': 'WSB_USDT', 'price': '0.0000021'}, {'ticker': 'POGAI_USDT', 'price': '0.0001003'}, {'ticker': 'FLOKICEO_USDT', 'price': '0.00000000000963'}, {'ticker': 'SUI_USDT', 'price': '1.525'}, {'ticker': 'BOB_USDT', 'price': '0.00004749'}, {'ticker': 'SOV_USDT', 'price': '0.0000000058'}, {'ticker': 'SOLO_USDT', 'price': '0.1586'}, {'ticker': 'COREUM_USDT', 'price': '0.1513'}, {'ticker': 'REKT_USDT', 'price': '0.00000000127'}, {'ticker': 'CAPO_USDT', 'price': '0.001127'}, {'ticker': 'BAM_USDT', 'price': '0.0000000038'}, {'ticker': 'BEN_USDT', 'price': '0.00000000609'}, {'ticker': 'KING_USDT', 'price': '0.0000276'}, {'ticker': 'WSTREETBABY_USDT', 'price': '0.0000000106'}, {'ticker': 'BIBI_USDT', 'price': '0.0000000016919'}, {'ticker': 'FOUR_USDT', 'price': '0.00000116'}, {'ticker': 'SPONGE_USDT', 'price': '0.000413'}, {'ticker': 'RFD_USDT', 'price': '0.00000485'}, {'ticker': 'WEWE_USDT', 'price': '0.00000076'}, {'ticker': 'LIMO_USDT', 'price': '0.01021'}, {'ticker': 'OGGY_USDT', 'price': '0.0000000000245'}, {'ticker': 'DONS_USDT', 'price': '0.0000935'}, {'ticker': 'PEPEAI_USDT', 'price': '0.00000000397'}, {'ticker': 'SIMPSON_USDT', 'price': '0.00000000000675'}, {'ticker': 'HARRY_USDT', 'price': '0.069997'}, {'ticker': 'LADYS_USDT', 'price': '0.0000001046'}, {'ticker': 'MONG_USDT', 'price': '0.000000019987'}, {'ticker': 'LBR_USDT', 'price': '0.266'}, {'ticker': 'PAPI_USDT', 'price': '0.000000262'}, {'ticker': 'AMC_USDT', 'price': '0.0668'}, {'ticker': 'PSYOP_USDT', 'price': '0.000129'}, {'ticker': 'DMT_USDT', 'price': '0.02'}, {'ticker': 'BNBDADDY_USDT', 'price': '0.00000007'}, {'ticker': 'BIG_USDT', 'price': '0.000002151'}, {'ticker': 'LVL_USDT', 'price': '0.337'}, {'ticker': 'KWENTA_USDT', 'price': '40.01'}, {'ticker': 'DUMMY_USDT', 'price': '0.0000000787'}, {'ticker': 'LOVESNOOPY_USDT', 'price': '0.0000000029'}, {'ticker': 'INU_USDT', 'price': '0.00000001099'}, {'ticker': 'FERC_USDT', 'price': '0.07'}, {'ticker': 'STT_USDT', 'price': '0.8'}, {'ticker': 'JESUS_USDT', 'price': '0.00000017154'}, {'ticker': 'WFAI_USDT', 'price': '0.0000000052'}, {'ticker': 'PEPE2_USDT', 'price': '0.000000064'}, {'ticker': 'MMT_USDT', 'price': '0.073'}, {'ticker': 'UPP_USDT', 'price': '0.08689'}, {'ticker': 'TOKAMAK_USDT', 'price': '2.5998'}, {'ticker': 'MPWR_USDT', 'price': '0.00013'}, {'ticker': 'MAV_USDT', 'price': '0.6482'}, {'ticker': 'TITTY_USDT', 'price': '0.000000014'}, {'ticker': 'L_USDT', 'price': '0.0000014444'}, {'ticker': 'FUMO_USDT', 'price': '6899.05'}, {'ticker': 'TOMI_USDT', 'price': '0.641'}, {'ticker': 'OX_USDT', 'price': '0.00888'}, {'ticker': 'ORDI_USDT', 'price': '80.673'}, {'ticker': 'VMPX_USDT', 'price': '0.0462'}, {'ticker': 'PLANET_USDT', 'price': '0.00007528'}, {'ticker': 'PC_USDT', 'price': '0.00000000025'}, {'ticker': 'VOW_USDT', 'price': '0.4243'}, {'ticker': 'UNIBOT_USDT', 'price': '74.01'}, {'ticker': 'HOPPY_USDT', 'price': '0.00000000053'}, {'ticker': 'OSMO_USDT', 'price': '1.5814'}, {'ticker': 'WSTUSDT_USDT', 'price': '0.9502'}, {'ticker': 'HNTAI_USDT', 'price': '0.0093'}, {'ticker': 'JARED_USDT', 'price': '0.00000068'}, {'ticker': 'BTC2_USDT', 'price': '0.0899'}, {'ticker': 'HAM_USDT', 'price': '0.0000000011'}, {'ticker': 'POP_USDT', 'price': '0.0001118'}, {'ticker': 'WPEPE_USDT', 'price': '0.00029'}, {'ticker': 'PEPE20_USDT', 'price': '0.0000000001'}, {'ticker': 'SHIB2_USDT', 'price': '0.0000000038'}, {'ticker': 'DOGE2_USDT', 'price': '0.00000000637'}, {'ticker': 'BSWAP_USDT', 'price': '0.27'}, {'ticker': 'TOSHI_USDT', 'price': '0.000222273'}, {'ticker': 'XRP8_USDT', 'price': '0.03385'}, {'ticker': 'WINR_USDT', 'price': '0.06277'}, {'ticker': 'PNDC_USDT', 'price': '0.0000003'}, {'ticker': 'RLB_USDT', 'price': '0.2354'}, {'ticker': 'TEST_USDT', 'price': '0.000137'}, {'ticker': 'XTOKEN_USDT', 'price': '0.00000335'}, {'ticker': 'COCO_USDT', 'price': '0.002'}, {'ticker': 'WLD_USDT', 'price': '8.055'}, {'ticker': 'X_USDT', 'price': '0.0000000001017'}, {'ticker': 'BAD_USDT', 'price': '0.00000003306'}, {'ticker': 'HAMS_USDT', 'price': '0.0094'}, {'ticker': 'MOG_USDT', 'price': '0.000000374'}, {'ticker': 'LOOT_USDT', 'price': '0.4'}, {'ticker': 'SG_USDT', 'price': '0.0035'}, {'ticker': 'BTP_USDT', 'price': '0.22'}, {'ticker': 'AITECH_USDT', 'price': '0.10122'}, {'ticker': 'SHIA_USDT', 'price': '0.0356'}, {'ticker': 'SHARES_USDT', 'price': '0.36'}, {'ticker': 'LL_USDT', 'price': '0.00000000132'}, {'ticker': 'AXE_USDT', 'price': '1.86'}, {'ticker': 'NONE_USDT', 'price': '0.15'}, {'ticker': 'BPD_USDT', 'price': '0.0000028'}, {'ticker': 'RXT_USDT', 'price': '0.0135'}, {'ticker': 'FOOM_USDT', 'price': '0.00000002611'}, {'ticker': 'AIMBOT_USDT', 'price': '5.999'}, {'ticker': 'SPURDO_USDT', 'price': '0.00000000499'}, {'ticker': 'STMX_USDT', 'price': '0.008855'}, {'ticker': 'GMMT_USDT', 'price': '0.4524'}, {'ticker': 'APX1_USDT', 'price': '0.000035'}, {'ticker': 'GOLD1_USDT', 'price': '0.0598'}, {'ticker': 'SMURFCAT_USDT', 'price': '0.0002795'}, {'ticker': 'SATS_USDT', 'price': '0.000000705177'}, {'ticker': 'TIP_USDT', 'price': '0.0002374'}, {'ticker': 'HIFI_USDT', 'price': '0.711'}, {'ticker': 'VEXT_USDT', 'price': '0.158'}, {'ticker': 'BANANA_USDT', 'price': '18.999'}, {'ticker': 'CCROWD_USDT', 'price': '0.0075'}, {'ticker': 'DOBO_USDT', 'price': '0.001999'}, {'ticker': 'DORKL_USDT', 'price': '0.0015'}, {'ticker': 'SHEPE_USDT', 'price': '0.00000000077'}, {'ticker': 'SHIB42069_USDT', 'price': '0.001239'}, {'ticker': 'ETHPEPE2_USDT', 'price': '0.000007'}, {'ticker': 'TISM_USDT', 'price': '0.000046'}, {'ticker': 'ETF_USDT', 'price': '0.01419'}, {'ticker': 'LMI_USDT', 'price': '0.000091'}, {'ticker': 'NAKA_USDT', 'price': '2.4684'}, {'ticker': 'NLC_USDT', 'price': '0.004'}, {'ticker': 'SIX_USDT', 'price': '0.0412'}, {'ticker': 'HAY_USDT', 'price': '455553.88'}, {'ticker': 'APU_USDT', 'price': '0.0000003'}, {'ticker': 'REKT2_USDT', 'price': '2.6'}, {'ticker': 'NATI_USDT', 'price': '0.00000004345'}, {'ticker': 'BIGTIME_USDT', 'price': '0.4852'}, {'ticker': 'SAFEREUM_USDT', 'price': '0.0000002943'}, {'ticker': 'OPOS_USDT', 'price': '0.149'}, {'ticker': 'OCISLY_USDT', 'price': '0.00000126'}, {'ticker': 'RFR_USDT', 'price': '0.000033'}, {'ticker': 'DAWN_USDT', 'price': '0.0019'}, {'ticker': 'RATS_USDT', 'price': '0.00043674'}, {'ticker': 'BRCBTCS_USDT', 'price': '0.8'}, {'ticker': 'BRCSHIB_USDT', 'price': '0.00000001697'}, {'ticker': 'CATS_USDT', 'price': '0.002786'}, {'ticker': 'PAAL_USDT', 'price': '0.50613'}, {'ticker': 'DORK_USDT', 'price': '0.0000129'}, {'ticker': 'IO_USDT', 'price': '0.0000443'}, {'ticker': 'GROK_USDT', 'price': '0.0088312'}, {'ticker': 'KEKEC_USDT', 'price': '0.00015001'}, {'ticker': 'VAULT_USDT', 'price': '0.24848'}, {'ticker': 'KAS_USDT', 'price': '0.1767'}, {'ticker': 'BYPASS_USDT', 'price': '0.0169'}, {'ticker': 'AMO_USDT', 'price': '0.001769'}, {'ticker': 'MEMELAND_USDT', 'price': '0.021018'}, {'ticker': 'CRE_USDT', 'price': '0.00012997'}, {'ticker': 'MILK_USDT', 'price': '0.023'}, {'ticker': 'JTO_USDT', 'price': '2.552'}, {'ticker': 'FTN_USDT', 'price': '1.7598'}, {'ticker': 'BLOX_USDT', 'price': '0.03997'}, {'ticker': 'IOT_USDT', 'price': '0.0021'}, {'ticker': 'HNT_USDT', 'price': '8.117'}, {'ticker': 'MOBILE_USDT', 'price': '0.003664'}, {'ticker': 'MYRO_USDT', 'price': '0.2'}, {'ticker': 'PMG_USDT', 'price': '0.14'}, {'ticker': 'MND_USDT', 'price': '0.17'}, {'ticker': 'BYTE_USDT', 'price': '0.00003016'}, {'ticker': 'FLIP_USDT', 'price': '7.941'}, {'ticker': 'WEB_USDT', 'price': '0.000002995'}, {'ticker': 'GEC_USDT', 'price': '0.294'}, {'ticker': 'DOMO_USDT', 'price': '0.2096'}, {'ticker': 'STX_USDT', 'price': '3.132'}, {'ticker': 'MNDE_USDT', 'price': '0.219'}, {'ticker': 'TURT_USDT', 'price': '0.01816'}, {'ticker': 'MUBI_USDT', 'price': '0.1506'}, {'ticker': 'NFP_USDT', 'price': '0.6074'}, {'ticker': 'BFIC_USDT', 'price': '14.54'}, {'ticker': 'DOVI_USDT', 'price': '1.5'}, {'ticker': 'XPE_USDT', 'price': '0.3922'}, {'ticker': 'SEEU_USDT', 'price': '0.000045'}, {'ticker': 'BOO_USDT', 'price': '0.000205'}, {'ticker': 'ANALOS_USDT', 'price': '0.000199'}, {'ticker': 'KNOB_USDT', 'price': '0.000123'}, {'ticker': 'AI_USDT', 'price': '0.00095'}, {'ticker': 'PONKE_USDT', 'price': '0.065'}, {'ticker': 'ACE_USDT', 'price': '12.14'}, {'ticker': 'ZERO_USDT', 'price': '0.5243'}, {'ticker': 'SILLY_USDT', 'price': '0.059'}, {'ticker': 'SPEERO_USDT', 'price': '0.0000001248'}, {'ticker': 'COM_USDT', 'price': '1.292'}, {'ticker': 'RAY_USDT', 'price': '1.1959'}, {'ticker': 'RDEX_USDT', 'price': '0.2104'}, {'ticker': 'CSAS_USDT', 'price': '0.019'}, {'ticker': 'DSWP_USDT', 'price': '0.13'}, {'ticker': 'MMSS_USDT', 'price': '0.543'}, {'ticker': 'LONG1_USDT', 'price': '0.0602'}, {'ticker': 'SHDW1_USDT', 'price': '1.31'}, {'ticker': 'ZKF_USDT', 'price': '0.00825'}, {'ticker': 'COQ_USDT', 'price': '0.00000297'}, {'ticker': 'USEDCAR_USDT', 'price': '0.04544'}, {'ticker': 'GUAC_USDT', 'price': '0.0000002202'}, {'ticker': 'BSSB1_USDT', 'price': '2.13'}, {'ticker': 'ORDS_USDT', 'price': '0.22212'}, {'ticker': 'AI1_USDT', 'price': '1.62'}, {'ticker': 'FERRET_USDT', 'price': '0.000344'}, {'ticker': 'MUSKX_USDT', 'price': '0.0002'}, {'ticker': 'MYRA_USDT', 'price': '0.005'}, {'ticker': 'DACC_USDT', 'price': '0.0000368'}, {'ticker': 'ZUZALU_USDT', 'price': '0.005579'}, {'ticker': 'EGG_USDT', 'price': '0.00363'}, {'ticker': 'BOZO_USDT', 'price': '0.0000000654'}, {'ticker': 'TRAC_USDT', 'price': '4.008'}, {'ticker': 'RSTK_USDT', 'price': '0.2554'}, {'ticker': 'FENTANYL_USDT', 'price': '0.000005'}, {'ticker': 'SFARM_USDT', 'price': '0.251'}, {'ticker': 'TROLL_USDT', 'price': '0.000000099'}, {'ticker': 'ROUP_USDT', 'price': '0.006999'}, {'ticker': 'WIF_USDT', 'price': '1.8772'}, {'ticker': 'HTX_USDT', 'price': '0.000001907'}, {'ticker': 'SBF_USDT', 'price': '0.02744'}, {'ticker': 'BFI_USDT', 'price': '0.00001'}, {'ticker': 'SMILEY_USDT', 'price': '0.000000000006717'}, {'ticker': 'SAVM_USDT', 'price': '9.87'}, {'ticker': 'ONDO_USDT', 'price': '0.5225'}, {'ticker': 'CROCCAT_USDT', 'price': '0.000527'}, {'ticker': 'MOCKJUP_USDT', 'price': '0.00393'}, {'ticker': 'EACC_USDT', 'price': '0.000000861'}, {'ticker': 'GENESIS_USDT', 'price': '0.000035'}, {'ticker': 'WYNN_USDT', 'price': '0.0105'}, {'ticker': 'BAKE_USDT', 'price': '0.4097'}, {'ticker': 'TRUMP_USDT', 'price': '9.9333'}, {'ticker': 'CHOW_USDT', 'price': '0.000000207'}, {'ticker': 'SPOODY_USDT', 'price': '0.004054'}, {'ticker': 'HONK_USDT', 'price': '0.0218'}, {'ticker': 'GTAI_USDT', 'price': '3.827'}, {'ticker': 'ALT_USDT', 'price': '0.38007'}, {'ticker': 'FOMO_USDT', 'price': '0.0146'}, {'ticker': 'LAMBOSOL_USDT', 'price': '0.0047'}, {'ticker': 'INS_USDT', 'price': '0.6'}, {'ticker': 'FORK_USDT', 'price': '0.001505'}, {'ticker': 'HODL_USDT', 'price': '0.001388'}, {'ticker': 'JUP_USDT', 'price': '0.6653'}, {'ticker': 'SSB_USDT', 'price': '0.000066'}, {'ticker': 'MEOW_USDT', 'price': '0.00000187'}, {'ticker': 'TELEPATHY_USDT', 'price': '0.145'}, {'ticker': 'WEN_USDT', 'price': '0.0003244'}, {'ticker': 'GME_USDT', 'price': '0.003813'}, {'ticker': 'VEC_USDT', 'price': '35.45'}, {'ticker': 'PEAS_USDT', 'price': '4.15'}, {'ticker': 'SNOW_USDT', 'price': '0.000000000407'}, {'ticker': 'PONK_USDT', 'price': '0.00000001534'}, {'ticker': 'CHINU_USDT', 'price': '0.001232'}, {'ticker': 'AERODROME_USDT', 'price': '0.23472'}, {'ticker': 'PIXEL_USDT', 'price': '0.5487'}, {'ticker': 'STRK_USDT', 'price': '1.865'}, {'ticker': 'JIVA_USDT', 'price': '0.00141'}, {'ticker': 'SORA_USDT', 'price': '0.01312'}, {'ticker': 'MAVIA_USDT', 'price': '6.08'}, {'ticker': 'SPYRO_USDT', 'price': '0.000000591'}, {'ticker': 'NAVX_USDT', 'price': '0.1192'}, {'ticker': 'WHALES_USDT', 'price': '2.5'}, {'ticker': 'LMWR_USDT', 'price': '0.7396'}, {'ticker': 'BFICGOLD_BFIC', 'price': '0.1845'}, {'ticker': 'YES_USDT', 'price': '10.01'}, {'ticker': 'GMEONETH_USDT', 'price': '0.000048'}, {'ticker': 'SQUIDSOL_USDT', 'price': '0.0002196'}, {'ticker': 'FART_USDT', 'price': '0.0000003'}, {'ticker': 'ZETA_USDT', 'price': '2.2041'}, {'ticker': 'PEBO_USDT', 'price': '0.0001799'}, {'ticker': 'AC_USDT', 'price': '0.5645'}, {'ticker': 'DZHV_USDT', 'price': '0.0227'}, {'ticker': 'TREMP_USDT', 'price': '0.04604'}, {'ticker': 'BIF_USDT', 'price': '0.002153'}, {'ticker': 'SHU_USDT', 'price': '0.5144'}, {'ticker': 'TBANK_USDT', 'price': '1.5146'}, {'ticker': 'ICENETWORK_USDT', 'price': '0.00348'}, {'ticker': 'MOBY_USDT', 'price': '1.913'}, {'ticker': 'CHAT_USDT', 'price': '2.147'}, {'ticker': 'ML_USDT', 'price': '0.59837'}, {'ticker': 'BENDOG_USDT', 'price': '0.012071'}, {'ticker': 'BEOBLE_USDT', 'price': '0.23264'}, {'ticker': 'PORK_USDT', 'price': '0.00000036'}, {'ticker': 'NADA_USDT', 'price': '0.02972'}, {'ticker': 'XPET_USDT', 'price': '0.7592'}]\n"
          ]
        }
      ]
    },
    {
      "cell_type": "code",
      "source": [
        "# Poloniex Orderbook\n",
        "ticker = \"DASH_BTC\"\n",
        "limit = 20\n",
        "# Structure Orderbook\n",
        "ask_prices = []\n",
        "ask_sizes = []\n",
        "counts = 0\n",
        "\n",
        "ob = requests.get(f\"https://api.poloniex.com/markets/{ticker}/orderBook?limit={limit}\")\n",
        "\n",
        "if ob.status_code == 200:\n",
        "  ob_json = json.loads(ob.text)\n",
        "  for a in ob_json[\"asks\"]:\n",
        "    if counts% 2 == 0:\n",
        "      ask_prices.append(a)\n",
        "    else:\n",
        "      ask_sizes.append(a)\n",
        "    counts += 1\n",
        "print(ask_prices)\n",
        "print(ask_sizes)"
      ],
      "metadata": {
        "id": "LtCZe-hUNQnL",
        "colab": {
          "base_uri": "https://localhost:8080/"
        },
        "outputId": "d0688154-962a-4e91-ba2d-ad01fde472ec"
      },
      "execution_count": null,
      "outputs": [
        {
          "output_type": "stream",
          "name": "stdout",
          "text": [
            "['0.000625', '0.000627', '0.000629', '0.000649', '0.00065', '0.000658', '0.000667', '0.000668', '0.000679', '0.00068', '0.000684', '0.000687', '0.000689', '0.000694', '0.000698', '0.0007', '0.000705', '0.00072', '0.000728', '0.000731']\n",
            "['3.19', '25.87', '1.84', '0.05', '40', '0.74', '0.08', '0.99', '0.05', '0.07', '0.10', '0.02', '0.10', '0.10', '0.72', '0.02', '0.02', '2.27', '0.06', '0.04']\n"
          ]
        }
      ]
    },
    {
      "cell_type": "code",
      "source": [
        "# Binance Historical Data\n",
        "symbol = \"BTCUSDT\"\n",
        "interval = \"1d\"\n",
        "candles = requests.get(f\"https://data.binance.us/api/v3/klines?symbol={symbol}&interval={interval}\")\n",
        "candles_json = []\n",
        "\n",
        "if candles.status_code == 200:\n",
        "  candles_json = json.loads(candles.text)\n",
        "  print(candles_json)"
      ],
      "metadata": {
        "id": "okT1XD0VOj2w"
      },
      "execution_count": null,
      "outputs": []
    },
    {
      "cell_type": "markdown",
      "source": [
        "#2. Structuring Pairs\n",
        "\n",
        "\n",
        "\n",
        "*   Step 0: Gather Correct Coins\n",
        "*   Step 1: Structure Triangular Pairs\n",
        "\n",
        "You can find the relevant documentation in the following link: https://docs.poloniex.com#introduction\n",
        "\n"
      ],
      "metadata": {
        "id": "wv5CWvGKTfo8"
      }
    },
    {
      "cell_type": "code",
      "source": [
        "import requests\n",
        "import json"
      ],
      "metadata": {
        "id": "COlw38TQXE7f"
      },
      "execution_count": 3,
      "outputs": []
    },
    {
      "cell_type": "code",
      "source": [
        "def get_coin_tickers(url):\n",
        "  '''\n",
        "      This function returns the trade activities at the given url\n",
        "  '''\n",
        "  req = requests.get(url)\n",
        "  coin_json = json.loads(req.text)\n",
        "  return coin_json\n",
        "\n",
        "def collect_tradeables(coin_json):\n",
        "  '''\n",
        "      This function returns the tradeable pairs at the given json\n",
        "  '''\n",
        "  coin_list = set()\n",
        "  # List of all tradeable coins\n",
        "  for coin in coin_json:\n",
        "    #print(coin)\n",
        "    coin_list.add(coin['symbol'])\n",
        "\n",
        "  coin_list = list(coin_list) # Here we convert to list\n",
        "  return coin_list\n"
      ],
      "metadata": {
        "id": "d_rbs7nwV0uN"
      },
      "execution_count": 12,
      "outputs": []
    },
    {
      "cell_type": "code",
      "source": [
        "def structure_triangular_pairs(coin_list):\n",
        "  '''\n",
        "      This function returns the list of pairs that form triangule\n",
        "  '''\n",
        "  # Declare Variables\n",
        "  triangular_pairs_list = []\n",
        "  remove_duplicates_list = []\n",
        "  pairs_list = coin_list\n",
        "\n",
        "  # Get Pair A\n",
        "  for pair_a in coin_list:\n",
        "    pair_a_split = pair_a.split(\"_\")\n",
        "    a_base = pair_a_split[0]\n",
        "    a_quote = pair_a_split[1]\n",
        "\n",
        "    # Assign A to a box\n",
        "    a_pair_box = [a_base, a_quote]\n",
        "\n",
        "    # Get Pair B\n",
        "    for pair_b in coin_list:\n",
        "      pair_b_split = pair_b.split(\"_\")\n",
        "      b_base = pair_b_split[0]\n",
        "      b_quote = pair_b_split[1]\n",
        "\n",
        "      # Check Pair B\n",
        "      if pair_b != pair_a:\n",
        "        if  b_base in a_pair_box or b_quote in a_pair_box:\n",
        "\n",
        "          # Get Pair B\n",
        "          for pair_c in coin_list:\n",
        "            pair_c_split = pair_c.split(\"_\")\n",
        "            c_base = pair_c_split[0]\n",
        "            c_quote = pair_c_split[1]\n",
        "\n",
        "          # Count the number of matching C itmes\n",
        "          if pair_c != pair_a and pair_c != pair_b:\n",
        "            combine_all = [pair_a, pair_b, pair_c]\n",
        "            pair_box = [a_base, a_quote, b_base, b_quote, c_base, c_quote]\n",
        "\n",
        "            counts_c_base = 0\n",
        "            for i in pair_box:\n",
        "              if i == c_base:\n",
        "                counts_c_base += 1\n",
        "\n",
        "            counts_c_quote = 0\n",
        "            for i in pair_box:\n",
        "              if i == c_quote:\n",
        "                counts_c_quote += 1\n",
        "\n",
        "          # Determining Triangular Match\n",
        "          if  counts_c_base == 2 and counts_c_quote == 2 and c_base != c_quote:\n",
        "            combined = pair_a + \",\" + pair_b + \",\" + pair_c\n",
        "            unique_item = ''.join(sorted(combine_all))\n",
        "\n",
        "            if unique_item not in remove_duplicates_list:\n",
        "              match_dict = {\n",
        "                  \"a_base\": a_base,\n",
        "                  \"b_base\": b_base,\n",
        "                  \"c_base\": c_base,\n",
        "                  \"a_quote\": a_quote,\n",
        "                  \"b_quote\": b_quote,\n",
        "                  \"c_quote\": c_quote,\n",
        "                  \"pair_a\": pair_a,\n",
        "                  \"pair_b\": pair_b,\n",
        "                  \"pair_c\": pair_c,\n",
        "              }\n",
        "            triangular_pairs_list.append(match_dict)\n",
        "            remove_duplicates_list.append(unique_item)\n",
        "\n",
        "  #return structured_pairs"
      ],
      "metadata": {
        "id": "ZLjiWkH1ZuI6"
      },
      "execution_count": 26,
      "outputs": []
    },
    {
      "cell_type": "code",
      "source": [
        "# Extract list of coins and prices from Exchange\n",
        "url = \"https://api.poloniex.com/markets/price\"\n",
        "\n",
        "coin_json = get_coin_tickers(url)          # Here we get the json format of trade activities at the given url\n",
        "coin_list = collect_tradeables(coin_json)  # Here we get the list of coins\n",
        "structure_triangular_pairs(coin_list)\n",
        "#print(coin_list)"
      ],
      "metadata": {
        "colab": {
          "base_uri": "https://localhost:8080/"
        },
        "id": "4FbUfQerVfVq",
        "outputId": "1bf1bb1b-f5cc-4bbf-9e13-fc5992c7f2b6"
      },
      "execution_count": 24,
      "outputs": [
        {
          "output_type": "stream",
          "name": "stdout",
          "text": [
            "BTC_USDTCHR_BTCCHR_USDT\n",
            "CHR_TRXCHR_USDTTRX_USDT\n",
            "BTC_USDTCHR_BTCCHR_USDT\n",
            "CHR_TRXCHR_USDTTRX_USDT\n"
          ]
        }
      ]
    },
    {
      "cell_type": "markdown",
      "source": [
        "##1.5 Asynchronous Iterators"
      ],
      "metadata": {
        "id": "PrqgGbfKa9YQ"
      }
    },
    {
      "cell_type": "code",
      "source": [
        "# The Asynchronous Generators\n",
        "import asyncio\n",
        "\n",
        "async def download(urls):\n",
        "  for url in urls:\n",
        "    await asyncio.sleep(1)\n",
        "    response = {'status': 200, 'data': f'content of {url}'}\n",
        "    if url == 'bing.com':\n",
        "      response['status'] = 500\n",
        "    yield response\n",
        "\n",
        "async def main():\n",
        "  urls = [\n",
        "      'google.com',\n",
        "      'bing.com',\n",
        "      'duckduckgo.com'\n",
        "  ]\n",
        "\n",
        "  responses = [value async for value in download(urls) if value['status'] != 200]\n",
        "  print(responses)\n",
        "\n",
        "await main()"
      ],
      "metadata": {
        "colab": {
          "base_uri": "https://localhost:8080/"
        },
        "id": "TNBIyKXejeXZ",
        "outputId": "452d31ab-e33d-46c4-c428-0a39e5f14ef2"
      },
      "execution_count": null,
      "outputs": [
        {
          "output_type": "stream",
          "name": "stdout",
          "text": [
            "[{'status': 500, 'data': 'content of bing.com'}]\n"
          ]
        }
      ]
    },
    {
      "cell_type": "markdown",
      "source": [
        "#**2. Coroutines & Awaitables**"
      ],
      "metadata": {
        "id": "zbJsvM2_Pjg2"
      }
    },
    {
      "cell_type": "markdown",
      "source": [
        "##2.1 Coroutines Objects and Async Functions"
      ],
      "metadata": {
        "id": "vgP5fqDfSIo2"
      }
    },
    {
      "cell_type": "code",
      "source": [
        "import asyncio\n",
        "import inspect\n",
        "\n",
        "async def main():\n",
        "  pass\n",
        "\n",
        "print(type(main))\n",
        "print(inspect.iscoroutinefunction(main))\n",
        "print(dir(main()))"
      ],
      "metadata": {
        "colab": {
          "base_uri": "https://localhost:8080/"
        },
        "id": "LJHtKJyRSOqD",
        "outputId": "a8ccb67c-50c5-4175-fb1f-17983b4fd97d"
      },
      "execution_count": null,
      "outputs": [
        {
          "output_type": "stream",
          "name": "stdout",
          "text": [
            "<class 'function'>\n",
            "True\n",
            "['__await__', '__class__', '__del__', '__delattr__', '__dir__', '__doc__', '__eq__', '__format__', '__ge__', '__getattribute__', '__gt__', '__hash__', '__init__', '__init_subclass__', '__le__', '__lt__', '__name__', '__ne__', '__new__', '__qualname__', '__reduce__', '__reduce_ex__', '__repr__', '__setattr__', '__sizeof__', '__str__', '__subclasshook__', 'close', 'cr_await', 'cr_code', 'cr_frame', 'cr_origin', 'cr_running', 'send', 'throw']\n"
          ]
        },
        {
          "output_type": "stream",
          "name": "stderr",
          "text": [
            "<ipython-input-143-56483b0f906b>:9: RuntimeWarning: coroutine 'main' was never awaited\n",
            "  print(dir(main()))\n",
            "RuntimeWarning: Enable tracemalloc to get the object allocation traceback\n"
          ]
        }
      ]
    },
    {
      "cell_type": "markdown",
      "source": [
        "##2.2 Ways of Running Coroutines"
      ],
      "metadata": {
        "id": "XT00nREcmeH3"
      }
    },
    {
      "cell_type": "code",
      "source": [
        "import asyncio\n",
        "import inspect\n",
        "\n",
        "async def main():\n",
        "  print('The main function')\n",
        "\n",
        "# 1. using await\n",
        "await main()\n",
        "# 2. creating a task\n",
        "asyncio.create_task(main())"
      ],
      "metadata": {
        "colab": {
          "base_uri": "https://localhost:8080/"
        },
        "id": "yOwuVcD9mc-Y",
        "outputId": "03e3c596-53d7-4e85-cd0a-e2a302d18346"
      },
      "execution_count": null,
      "outputs": [
        {
          "output_type": "stream",
          "name": "stdout",
          "text": [
            "The main function\n"
          ]
        },
        {
          "output_type": "execute_result",
          "data": {
            "text/plain": [
              "<Task pending name='Task-58' coro=<main() running at <ipython-input-145-bc733164109c>:4>>"
            ]
          },
          "metadata": {},
          "execution_count": 145
        },
        {
          "output_type": "stream",
          "name": "stdout",
          "text": [
            "The main function\n"
          ]
        }
      ]
    },
    {
      "cell_type": "markdown",
      "source": [
        "##2.3 Cancelling Coroutines"
      ],
      "metadata": {
        "id": "zLSKoMVWnN-w"
      }
    },
    {
      "cell_type": "code",
      "source": [
        "import asyncio\n",
        "\n",
        "async def stopwatch():\n",
        "  count = 0\n",
        "  while True:\n",
        "      await asyncio.sleep(1)\n",
        "      count += 1\n",
        "      print(count)\n",
        "\n",
        "async def main():\n",
        "  task = asyncio.create_task(stopwatch())\n",
        "  await asyncio.sleep(3)\n",
        "  task.cancel()   # Here we say \"Cancel the task after 3rd second\"\n",
        "\n",
        "await main()"
      ],
      "metadata": {
        "colab": {
          "base_uri": "https://localhost:8080/"
        },
        "id": "MO_zSzganU7-",
        "outputId": "86e23783-0e56-4f83-822b-821319ee7177"
      },
      "execution_count": null,
      "outputs": [
        {
          "output_type": "stream",
          "name": "stdout",
          "text": [
            "1\n",
            "2\n"
          ]
        }
      ]
    },
    {
      "cell_type": "markdown",
      "source": [
        "##2.4 Awaitable Objects"
      ],
      "metadata": {
        "id": "UkUmRmb1oZXb"
      }
    },
    {
      "cell_type": "code",
      "source": [
        "import asyncio\n",
        "\n",
        "class Stopwatch:\n",
        "  def __await__(self):\n",
        "    yield\n",
        "\n",
        "async def main():\n",
        "  await Stopwatch()\n",
        "\n",
        "await main()"
      ],
      "metadata": {
        "id": "fRO9IWwjodfG"
      },
      "execution_count": null,
      "outputs": []
    },
    {
      "cell_type": "markdown",
      "source": [
        "#**3. Tasks, Futures and the Event Loop**"
      ],
      "metadata": {
        "id": "1Ot24NPGo4so"
      }
    },
    {
      "cell_type": "markdown",
      "source": [
        "##3.1 Using Task Objects"
      ],
      "metadata": {
        "id": "Y7eaS5tUpB_A"
      }
    },
    {
      "cell_type": "code",
      "source": [
        "import asyncio\n",
        "\n",
        "async def stopwatch():\n",
        "  count = 0\n",
        "  while count < 4:\n",
        "      await asyncio.sleep(1)\n",
        "      count += 1\n",
        "      print(count)\n",
        "\n",
        "def callb(task):\n",
        "  print('task is done', task)\n",
        "\n",
        "async def main():\n",
        "  task = asyncio.create_task(stopwatch())\n",
        "  task.set_name('My Task')\n",
        "  task.add_done_callback(callb)\n",
        "  print(task.get_name())\n",
        "  print(task.get_coro())\n",
        "  print(task.get_name())\n",
        "  await task\n",
        "\n",
        "await main()"
      ],
      "metadata": {
        "colab": {
          "base_uri": "https://localhost:8080/"
        },
        "id": "XlgE8641pFjr",
        "outputId": "147c6672-1545-4324-8840-0c8f36c49c02"
      },
      "execution_count": null,
      "outputs": [
        {
          "output_type": "stream",
          "name": "stdout",
          "text": [
            "My Task\n",
            "<coroutine object stopwatch at 0x7ea2787a4660>\n",
            "My Task\n",
            "1\n",
            "2\n",
            "3\n",
            "4\n",
            "task is done <Task finished name='My Task' coro=<stopwatch() done, defined at <ipython-input-150-b87e2fe8d0a6>:3> result=None>\n"
          ]
        }
      ]
    },
    {
      "cell_type": "markdown",
      "source": [
        "##3.2 Interacting with the Event Loop:"
      ],
      "metadata": {
        "id": "JtcmR96OqMhU"
      }
    },
    {
      "cell_type": "code",
      "source": [
        "import asyncio\n",
        "\n",
        "async def stopwatch():\n",
        "  count = 0\n",
        "  while count < 4:\n",
        "      await asyncio.sleep(1)\n",
        "      count += 1\n",
        "      print(count)\n",
        "\n",
        "def callb(task):\n",
        "  print('task is done', task)\n",
        "\n",
        "async def main():\n",
        "  print(asyncio.get_running_loop())\n",
        "  task = asyncio.create_task(stopwatch())\n",
        "  task.add_done_callback(callb)\n",
        "\n",
        "  await task\n",
        "\n",
        "await main()"
      ],
      "metadata": {
        "colab": {
          "base_uri": "https://localhost:8080/"
        },
        "id": "Mh-wehySrOoN",
        "outputId": "07e3c948-e133-47eb-a2f5-5d2998098287"
      },
      "execution_count": null,
      "outputs": [
        {
          "output_type": "stream",
          "name": "stdout",
          "text": [
            "<_UnixSelectorEventLoop running=True closed=False debug=False>\n",
            "1\n",
            "2\n",
            "3\n",
            "4\n",
            "task is done <Task finished name='Task-69' coro=<stopwatch() done, defined at <ipython-input-151-f16058d61056>:3> result=None>\n"
          ]
        }
      ]
    },
    {
      "cell_type": "markdown",
      "source": [
        "##3.3 The concept of the future:"
      ],
      "metadata": {
        "id": "wla_cgp0rPJ6"
      }
    },
    {
      "cell_type": "code",
      "source": [
        "import asyncio\n",
        "\n",
        "async def stopwatch():\n",
        "  count = 0\n",
        "  while count < 4:\n",
        "      await asyncio.sleep(1)\n",
        "      count += 1\n",
        "      print(count)\n",
        "\n",
        "def callb(task):\n",
        "  print('task is done', task)\n",
        "\n",
        "async def main():\n",
        "  task = asyncio.create_task(stopwatch())\n",
        "  task.add_done_callback(callb)\n",
        "  print(asyncio.isfuture(task))\n",
        "\n",
        "  await task\n",
        "\n",
        "await main()"
      ],
      "metadata": {
        "colab": {
          "base_uri": "https://localhost:8080/"
        },
        "id": "b9oqkjWXruu7",
        "outputId": "d9acdd96-b9a1-49da-9af0-da8474b33956"
      },
      "execution_count": null,
      "outputs": [
        {
          "output_type": "stream",
          "name": "stdout",
          "text": [
            "True\n",
            "1\n",
            "2\n",
            "3\n",
            "4\n",
            "task is done <Task finished name='Task-71' coro=<stopwatch() done, defined at <ipython-input-152-fd9b0fb67711>:3> result=None>\n"
          ]
        }
      ]
    }
  ]
}