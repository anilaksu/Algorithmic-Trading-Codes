{
  "nbformat": 4,
  "nbformat_minor": 0,
  "metadata": {
    "colab": {
      "provenance": [],
      "authorship_tag": "ABX9TyPYMeVneqt11FQcDndJEgyU",
      "include_colab_link": true
    },
    "kernelspec": {
      "name": "python3",
      "display_name": "Python 3"
    },
    "language_info": {
      "name": "python"
    }
  },
  "cells": [
    {
      "cell_type": "markdown",
      "metadata": {
        "id": "view-in-github",
        "colab_type": "text"
      },
      "source": [
        "<a href=\"https://colab.research.google.com/github/anilaksu/Algorithmic-Trading-Codes/blob/Web-scraping-with-Asyncio-in-Python/Asynchronous_Python.ipynb\" target=\"_parent\"><img src=\"https://colab.research.google.com/assets/colab-badge.svg\" alt=\"Open In Colab\"/></a>"
      ]
    },
    {
      "cell_type": "markdown",
      "source": [
        "# **Web scraping with Asyncio and Python**\n",
        "\n",
        "\n",
        "Anil Aksu\n",
        "\n",
        "Personal e-mail: aaa293@cornell.edu\n",
        "\n",
        "**Asyncio allows us to concurrent programming in Python**\n",
        "\n",
        "**Outline:**\n",
        "\n",
        "\n",
        "1.   Fundamentals\n",
        "  * Synchronous vs Asynchronous\n",
        "  * Blocking & Timeouts\n",
        "  * Scraping with Selenium\n",
        "  * Async Web Scraping with chrome driver and arsenic\n",
        "  * Hide Arsenic logs\n",
        "2.   Extraction & Formatting\n",
        "  * Async Data with Python Pandas\n",
        "  * Prepare to scrape multiple URLS\n",
        "  * Extract Product Data\n",
        "  * Async Product Data Extraction\n",
        "3.   Prepare for re-usability\n",
        "  * Modules & Submodules\n",
        "  * Service Specific Submodule\n",
        "  * Decouple logging & scraper\n",
        "4.   Storing Data\n",
        "  * Synchronous SQL storage with Pandas\n",
        "  * Store scrapped data to SQL\n",
        "  * Inspect stored data in Jupyter\n",
        "  * Scraping URLs from stored link table\n",
        "  * Scrape paginated list view\n",
        "  * Results & Timing\n",
        "\n"
      ],
      "metadata": {
        "id": "ghlOehn-HIE2"
      }
    },
    {
      "cell_type": "code",
      "source": [
        "from google.colab import drive\n",
        "drive.mount('/content/gdrive')\n",
        "%cd /content/gdrive/MyDrive/ColabNotebooks/FinanceAlgorithms\n",
        "!ls # special shell command to view the files in the home directory of the notebook environment"
      ],
      "metadata": {
        "colab": {
          "base_uri": "https://localhost:8080/"
        },
        "id": "66Z_Nqv4Oi8s",
        "outputId": "c9fc0463-20a9-467a-9d58-543b1a28d4b4"
      },
      "execution_count": 24,
      "outputs": [
        {
          "output_type": "stream",
          "name": "stdout",
          "text": [
            "Mounted at /content/gdrive\n",
            "/content/gdrive/MyDrive/ColabNotebooks/FinanceAlgorithms\n",
            " 2013-03-08options.csv\t      EURUSD_Options_Data.csv\t   OptionsTrading.ipynb\n",
            " 2013-03-08stocks.csv\t      EURUSD_Options_Data.gsheet   PriceJump.gdraw\n",
            "'Asynchronous Python.ipynb'  'ForEx&IndexData.xls'\t  'Stock Markets Codes.ipynb'\n"
          ]
        }
      ]
    },
    {
      "cell_type": "markdown",
      "source": [
        "#**1.Fundamentals**"
      ],
      "metadata": {
        "id": "Q39-mq18Rz8A"
      }
    },
    {
      "cell_type": "code",
      "source": [
        "# Here we install required libraries for asynchronous programming\n",
        "!python3 -V\n",
        "!which pip3\n",
        "!pip3 install requests-html --upgrade --no-cache-dir\n",
        "!pip3 install selenium --upgrade --no-cache-dir\n",
        "!pip3 install arsenic --upgrade --no-cache-dir\n",
        "!pip3 install google-chrome-stable --upgrade --no-cache-dir"
      ],
      "metadata": {
        "colab": {
          "base_uri": "https://localhost:8080/"
        },
        "id": "sqfLm1RrUCKG",
        "outputId": "80be5d6c-74f7-440e-f59d-58ec83a09a84"
      },
      "execution_count": 73,
      "outputs": [
        {
          "output_type": "stream",
          "name": "stdout",
          "text": [
            "Python 3.10.12\n",
            "/usr/local/bin/pip3\n",
            "Requirement already satisfied: requests-html in /usr/local/lib/python3.10/dist-packages (0.10.0)\n",
            "Requirement already satisfied: requests in /usr/local/lib/python3.10/dist-packages (from requests-html) (2.31.0)\n",
            "Requirement already satisfied: pyquery in /usr/local/lib/python3.10/dist-packages (from requests-html) (2.0.0)\n",
            "Requirement already satisfied: fake-useragent in /usr/local/lib/python3.10/dist-packages (from requests-html) (1.4.0)\n",
            "Requirement already satisfied: parse in /usr/local/lib/python3.10/dist-packages (from requests-html) (1.20.1)\n",
            "Requirement already satisfied: bs4 in /usr/local/lib/python3.10/dist-packages (from requests-html) (0.0.2)\n",
            "Requirement already satisfied: w3lib in /usr/local/lib/python3.10/dist-packages (from requests-html) (2.1.2)\n",
            "Requirement already satisfied: pyppeteer>=0.0.14 in /usr/local/lib/python3.10/dist-packages (from requests-html) (2.0.0)\n",
            "Requirement already satisfied: appdirs<2.0.0,>=1.4.3 in /usr/local/lib/python3.10/dist-packages (from pyppeteer>=0.0.14->requests-html) (1.4.4)\n",
            "Requirement already satisfied: certifi>=2023 in /usr/local/lib/python3.10/dist-packages (from pyppeteer>=0.0.14->requests-html) (2024.2.2)\n",
            "Requirement already satisfied: importlib-metadata>=1.4 in /usr/local/lib/python3.10/dist-packages (from pyppeteer>=0.0.14->requests-html) (7.0.1)\n",
            "Requirement already satisfied: pyee<12.0.0,>=11.0.0 in /usr/local/lib/python3.10/dist-packages (from pyppeteer>=0.0.14->requests-html) (11.1.0)\n",
            "Requirement already satisfied: tqdm<5.0.0,>=4.42.1 in /usr/local/lib/python3.10/dist-packages (from pyppeteer>=0.0.14->requests-html) (4.66.2)\n",
            "Requirement already satisfied: urllib3<2.0.0,>=1.25.8 in /usr/local/lib/python3.10/dist-packages (from pyppeteer>=0.0.14->requests-html) (1.26.18)\n",
            "Requirement already satisfied: websockets<11.0,>=10.0 in /usr/local/lib/python3.10/dist-packages (from pyppeteer>=0.0.14->requests-html) (10.4)\n",
            "Requirement already satisfied: beautifulsoup4 in /usr/local/lib/python3.10/dist-packages (from bs4->requests-html) (4.12.3)\n",
            "Requirement already satisfied: lxml>=2.1 in /usr/local/lib/python3.10/dist-packages (from pyquery->requests-html) (4.9.4)\n",
            "Requirement already satisfied: cssselect>=1.2.0 in /usr/local/lib/python3.10/dist-packages (from pyquery->requests-html) (1.2.0)\n",
            "Requirement already satisfied: charset-normalizer<4,>=2 in /usr/local/lib/python3.10/dist-packages (from requests->requests-html) (3.3.2)\n",
            "Requirement already satisfied: idna<4,>=2.5 in /usr/local/lib/python3.10/dist-packages (from requests->requests-html) (3.6)\n",
            "Requirement already satisfied: zipp>=0.5 in /usr/local/lib/python3.10/dist-packages (from importlib-metadata>=1.4->pyppeteer>=0.0.14->requests-html) (3.17.0)\n",
            "Requirement already satisfied: typing-extensions in /usr/local/lib/python3.10/dist-packages (from pyee<12.0.0,>=11.0.0->pyppeteer>=0.0.14->requests-html) (4.9.0)\n",
            "Requirement already satisfied: soupsieve>1.2 in /usr/local/lib/python3.10/dist-packages (from beautifulsoup4->bs4->requests-html) (2.5)\n",
            "Requirement already satisfied: selenium in /usr/local/lib/python3.10/dist-packages (4.18.1)\n",
            "Requirement already satisfied: urllib3[socks]<3,>=1.26 in /usr/local/lib/python3.10/dist-packages (from selenium) (1.26.18)\n",
            "Requirement already satisfied: trio~=0.17 in /usr/local/lib/python3.10/dist-packages (from selenium) (0.24.0)\n",
            "Requirement already satisfied: trio-websocket~=0.9 in /usr/local/lib/python3.10/dist-packages (from selenium) (0.11.1)\n",
            "Requirement already satisfied: certifi>=2021.10.8 in /usr/local/lib/python3.10/dist-packages (from selenium) (2024.2.2)\n",
            "Requirement already satisfied: typing_extensions>=4.9.0 in /usr/local/lib/python3.10/dist-packages (from selenium) (4.9.0)\n",
            "Requirement already satisfied: attrs>=20.1.0 in /usr/local/lib/python3.10/dist-packages (from trio~=0.17->selenium) (23.2.0)\n",
            "Requirement already satisfied: sortedcontainers in /usr/local/lib/python3.10/dist-packages (from trio~=0.17->selenium) (2.4.0)\n",
            "Requirement already satisfied: idna in /usr/local/lib/python3.10/dist-packages (from trio~=0.17->selenium) (3.6)\n",
            "Requirement already satisfied: outcome in /usr/local/lib/python3.10/dist-packages (from trio~=0.17->selenium) (1.3.0.post0)\n",
            "Requirement already satisfied: sniffio>=1.3.0 in /usr/local/lib/python3.10/dist-packages (from trio~=0.17->selenium) (1.3.0)\n",
            "Requirement already satisfied: exceptiongroup in /usr/local/lib/python3.10/dist-packages (from trio~=0.17->selenium) (1.2.0)\n",
            "Requirement already satisfied: wsproto>=0.14 in /usr/local/lib/python3.10/dist-packages (from trio-websocket~=0.9->selenium) (1.2.0)\n",
            "Requirement already satisfied: PySocks!=1.5.7,<2.0,>=1.5.6 in /usr/local/lib/python3.10/dist-packages (from urllib3[socks]<3,>=1.26->selenium) (1.7.1)\n",
            "Requirement already satisfied: h11<1,>=0.9.0 in /usr/local/lib/python3.10/dist-packages (from wsproto>=0.14->trio-websocket~=0.9->selenium) (0.14.0)\n",
            "Requirement already satisfied: arsenic in /usr/local/lib/python3.10/dist-packages (21.8)\n",
            "Requirement already satisfied: aiohttp>=3 in /usr/local/lib/python3.10/dist-packages (from arsenic) (3.9.3)\n",
            "Requirement already satisfied: attrs>=17.4.0 in /usr/local/lib/python3.10/dist-packages (from arsenic) (23.2.0)\n",
            "Requirement already satisfied: structlog<21.0.0,>=20.1.0 in /usr/local/lib/python3.10/dist-packages (from arsenic) (20.2.0)\n",
            "Requirement already satisfied: aiosignal>=1.1.2 in /usr/local/lib/python3.10/dist-packages (from aiohttp>=3->arsenic) (1.3.1)\n",
            "Requirement already satisfied: frozenlist>=1.1.1 in /usr/local/lib/python3.10/dist-packages (from aiohttp>=3->arsenic) (1.4.1)\n",
            "Requirement already satisfied: multidict<7.0,>=4.5 in /usr/local/lib/python3.10/dist-packages (from aiohttp>=3->arsenic) (6.0.5)\n",
            "Requirement already satisfied: yarl<2.0,>=1.0 in /usr/local/lib/python3.10/dist-packages (from aiohttp>=3->arsenic) (1.9.4)\n",
            "Requirement already satisfied: async-timeout<5.0,>=4.0 in /usr/local/lib/python3.10/dist-packages (from aiohttp>=3->arsenic) (4.0.3)\n",
            "Requirement already satisfied: idna>=2.0 in /usr/local/lib/python3.10/dist-packages (from yarl<2.0,>=1.0->aiohttp>=3->arsenic) (3.6)\n",
            "\u001b[31mERROR: Could not find a version that satisfies the requirement google-chrome-stable (from versions: none)\u001b[0m\u001b[31m\n",
            "\u001b[0m\u001b[31mERROR: No matching distribution found for google-chrome-stable\u001b[0m\u001b[31m\n",
            "\u001b[0mCollecting chromedriver-autoinstaller\n",
            "  Downloading chromedriver_autoinstaller-0.6.4-py3-none-any.whl (7.6 kB)\n",
            "Requirement already satisfied: packaging>=23.1 in /usr/local/lib/python3.10/dist-packages (from chromedriver-autoinstaller) (23.2)\n",
            "Installing collected packages: chromedriver-autoinstaller\n",
            "Successfully installed chromedriver-autoinstaller-0.6.4\n"
          ]
        }
      ]
    },
    {
      "cell_type": "markdown",
      "source": [
        "##1.2 Sync vs Async\n",
        "\n",
        "It is basically consecutive vs concurrent"
      ],
      "metadata": {
        "id": "wv5CWvGKTfo8"
      }
    },
    {
      "cell_type": "markdown",
      "source": [
        "**Synchronous Code**"
      ],
      "metadata": {
        "id": "oock4_irUjea"
      }
    },
    {
      "cell_type": "code",
      "execution_count": 5,
      "metadata": {
        "colab": {
          "base_uri": "https://localhost:8080/"
        },
        "id": "VBD8m0c_Gli_",
        "outputId": "2ae1ef55-1329-445b-b745-43d474841ed4"
      },
      "outputs": [
        {
          "output_type": "stream",
          "name": "stdout",
          "text": [
            "0\t1s\n",
            "1\t3s\n",
            "2\t2s\n",
            "3\t4s\n"
          ]
        }
      ],
      "source": [
        "import time # it gives us the run time\n",
        "\n",
        "iteration_times = [1, 3, 2, 4]\n",
        "\n",
        "# It emulates the processes that take some time\n",
        "def sleeper(seconds, i = -1):\n",
        "  if i != -1:\n",
        "    print(f\"{i}\\t{seconds}s\")\n",
        "  time.sleep(seconds)\n",
        "\n",
        "def run():\n",
        "  for i, second in enumerate(iteration_times):\n",
        "    sleeper(second, i=i)\n",
        "\n",
        "run()"
      ]
    },
    {
      "cell_type": "markdown",
      "source": [
        "**Asynchronous Code**"
      ],
      "metadata": {
        "id": "qJywZrSAVXL4"
      }
    },
    {
      "cell_type": "code",
      "source": [
        "import asyncio\n",
        "\n",
        "iteration_times = [1, 3, 2, 4]\n",
        "\n",
        "async def a_sleeper(seconds, i = -1):\n",
        "  if i != -1:\n",
        "    print(f\"{i}\\t{seconds}s\")\n",
        "  await asyncio.sleep(seconds)\n",
        "\n",
        "async def a_run():\n",
        "  results = []\n",
        "  for i, second in enumerate(iteration_times):\n",
        "    results.append(\n",
        "        asyncio.create_task(a_sleeper(second, i=i))\n",
        "        )\n",
        "  return results\n",
        "\n",
        "results = await a_run()\n",
        "\n",
        "print(results)"
      ],
      "metadata": {
        "colab": {
          "base_uri": "https://localhost:8080/"
        },
        "id": "3kP878CaVbye",
        "outputId": "aac5dbd3-7d72-40ed-c29e-b6628ba05915"
      },
      "execution_count": 11,
      "outputs": [
        {
          "output_type": "stream",
          "name": "stdout",
          "text": [
            "[<Task pending name='Task-23' coro=<a_sleeper() running at <ipython-input-11-2040a03a9e27>:5>>, <Task pending name='Task-24' coro=<a_sleeper() running at <ipython-input-11-2040a03a9e27>:5>>, <Task pending name='Task-25' coro=<a_sleeper() running at <ipython-input-11-2040a03a9e27>:5>>, <Task pending name='Task-26' coro=<a_sleeper() running at <ipython-input-11-2040a03a9e27>:5>>]\n",
            "0\t1s\n",
            "1\t3s\n",
            "2\t2s\n",
            "3\t4s\n"
          ]
        }
      ]
    },
    {
      "cell_type": "markdown",
      "source": [
        "##1.2 Blocking & Timeouts"
      ],
      "metadata": {
        "id": "Ac2L5b_cYW7W"
      }
    },
    {
      "cell_type": "code",
      "source": [
        "def sleeper(seconds, i = -1):\n",
        "  if i != -1:\n",
        "    print(f\"{i}\\t{seconds}s\")\n",
        "  time.sleep(seconds)"
      ],
      "metadata": {
        "id": "Ei2u5j5XYahJ"
      },
      "execution_count": 13,
      "outputs": []
    },
    {
      "cell_type": "code",
      "source": [
        "async def a_sleeper(seconds, i = -1, timeout = 4):\n",
        "  if i != -1:\n",
        "    print(f\"{i}\\t{seconds}s\")\n",
        "  await asyncio.wait_for(asyncio.sleep(seconds), timeout=timeout)\n",
        "\n",
        "await a_sleeper(3) #Allows us to block tasks similar to cells in this notebook"
      ],
      "metadata": {
        "id": "uf1PhzX3Y0Zf"
      },
      "execution_count": 49,
      "outputs": []
    },
    {
      "cell_type": "code",
      "source": [
        "# Running asynchronously here allows us to run this code cell and still use rest of the notebook except for the result here\n",
        "loop = asyncio.get_event_loop()\n",
        "# loop = asyncio.new_event_loop()\n",
        "# asyncio.run()\n",
        "loop.create_task(a_sleeper(123))"
      ],
      "metadata": {
        "colab": {
          "base_uri": "https://localhost:8080/"
        },
        "id": "gZZl6w0-ZRJO",
        "outputId": "a22884a8-0c3e-454a-a07c-988abab9a60e"
      },
      "execution_count": 23,
      "outputs": [
        {
          "output_type": "execute_result",
          "data": {
            "text/plain": [
              "<Task pending name='Task-33' coro=<a_sleeper() running at <ipython-input-14-f326cdd00bdf>:1>>"
            ]
          },
          "metadata": {},
          "execution_count": 23
        }
      ]
    },
    {
      "cell_type": "code",
      "source": [
        "# Here we can assign status of tasks based on the execution time using timeout\n",
        "done, pending = await asyncio.wait([a_sleeper(1), a_sleeper(4)], timeout = 2)"
      ],
      "metadata": {
        "colab": {
          "base_uri": "https://localhost:8080/"
        },
        "id": "5UyPMxU8aKIA",
        "outputId": "995e8dda-2422-40a6-a8c0-a6a8796252e1"
      },
      "execution_count": 37,
      "outputs": [
        {
          "output_type": "stream",
          "name": "stderr",
          "text": [
            "<ipython-input-37-425562a28b43>:2: DeprecationWarning: The explicit passing of coroutine objects to asyncio.wait() is deprecated since Python 3.8, and scheduled for removal in Python 3.11.\n",
            "  done, pending = await asyncio.wait([a_sleeper(1), a_sleeper(4)], timeout = 2)\n"
          ]
        }
      ]
    },
    {
      "cell_type": "code",
      "source": [
        "done"
      ],
      "metadata": {
        "colab": {
          "base_uri": "https://localhost:8080/"
        },
        "id": "3E57vcy2amGU",
        "outputId": "76876b31-b733-4b2a-d83d-55249cc3d082"
      },
      "execution_count": 38,
      "outputs": [
        {
          "output_type": "execute_result",
          "data": {
            "text/plain": [
              "{<Task finished name='Task-46' coro=<a_sleeper() done, defined at <ipython-input-14-f326cdd00bdf>:1> result=None>}"
            ]
          },
          "metadata": {},
          "execution_count": 38
        }
      ]
    },
    {
      "cell_type": "code",
      "source": [
        "pending"
      ],
      "metadata": {
        "colab": {
          "base_uri": "https://localhost:8080/"
        },
        "id": "Rk2kqiWhcW7r",
        "outputId": "e17b483c-f176-4abc-cc05-41ebf6eae8e0"
      },
      "execution_count": 39,
      "outputs": [
        {
          "output_type": "execute_result",
          "data": {
            "text/plain": [
              "{<Task finished name='Task-47' coro=<a_sleeper() done, defined at <ipython-input-14-f326cdd00bdf>:1> result=None>}"
            ]
          },
          "metadata": {},
          "execution_count": 39
        }
      ]
    },
    {
      "cell_type": "code",
      "source": [
        "# It will finish the pending task\n",
        "await asyncio.wait(pending)"
      ],
      "metadata": {
        "colab": {
          "base_uri": "https://localhost:8080/"
        },
        "id": "8RKE64eybOxa",
        "outputId": "31734e8d-b2c2-42cd-bba5-d4bb9121429f"
      },
      "execution_count": 32,
      "outputs": [
        {
          "output_type": "execute_result",
          "data": {
            "text/plain": [
              "({<Task finished name='Task-36' coro=<a_sleeper() done, defined at <ipython-input-14-f326cdd00bdf>:1> result=None>},\n",
              " set())"
            ]
          },
          "metadata": {},
          "execution_count": 32
        }
      ]
    },
    {
      "cell_type": "code",
      "source": [
        "# This returns if a task passes timeout limit\n",
        "try:\n",
        "  await asyncio.wait_for(a_sleeper(5), timeout = 3)\n",
        "except asyncio.TimeoutError:\n",
        "  print(\"Task failed\")"
      ],
      "metadata": {
        "colab": {
          "base_uri": "https://localhost:8080/"
        },
        "id": "hT-lWbhNa-dn",
        "outputId": "58bebd6b-dbb8-419d-cf92-76de69aa66bc"
      },
      "execution_count": 43,
      "outputs": [
        {
          "output_type": "stream",
          "name": "stdout",
          "text": [
            "Task failed\n"
          ]
        }
      ]
    },
    {
      "cell_type": "markdown",
      "source": [
        "##1.3 Scraping with Selenium"
      ],
      "metadata": {
        "id": "khXnfRi6dwRO"
      }
    },
    {
      "cell_type": "code",
      "source": [
        "url = 'https://www.spoonflower.com/en/shop?on=fabric%27'"
      ],
      "metadata": {
        "id": "nJjHR15VdznA"
      },
      "execution_count": 8,
      "outputs": []
    },
    {
      "cell_type": "code",
      "source": [
        "import re\n",
        "import requests\n",
        "from requests_html import HTML\n",
        "import pandas as pd\n",
        "\n",
        "from selenium import webdriver\n",
        "from selenium.webdriver.chrome.options import Options"
      ],
      "metadata": {
        "id": "2bYRXABxJgzn"
      },
      "execution_count": 23,
      "outputs": []
    },
    {
      "cell_type": "code",
      "source": [
        "def scraper(url):\n",
        "  options = Options()\n",
        "  options.add_argument(\"--headless\")\n",
        "  options.add_argument(\"--no-sandbox\");\n",
        "  options.add_argument(\"--disable-dev-shm-usage\");\n",
        "  driver = webdriver.Chrome(options = options)\n",
        "  driver.get(url)\n",
        "  return driver.page_source\n",
        "\n",
        "def extract_id_slug(url_path):\n",
        "  regex = r\"^[^\\s]+/(?P<id>\\d+)-(?P<slug>[\\w_-]+)$\"\n",
        "  group = re.match(regex, url_path)\n",
        "  if not group:\n",
        "    return None, None\n",
        "  return group['id'], group['slug']"
      ],
      "metadata": {
        "id": "NS1SdMb9KDxE"
      },
      "execution_count": 19,
      "outputs": []
    },
    {
      "cell_type": "code",
      "source": [
        "# Here we pull the data from the page\n",
        "content = scraper(url)\n",
        "html_r = HTML(html = content)"
      ],
      "metadata": {
        "id": "r1jAXw3oLaHH"
      },
      "execution_count": 15,
      "outputs": []
    },
    {
      "cell_type": "code",
      "source": [
        "fabric_links = [x for x in list(html_r.links) if x.startswith(\"/en/fabric\")]   # Links for fabric images\n",
        "\n",
        "datas = []\n",
        "\n",
        "for path in fabric_links:\n",
        "  id_, slug_ = extract_id_slug(path) #product id and product\n",
        "  data = {\n",
        "      \"id\" : id_,\n",
        "      \"slug\" : slug_,\n",
        "      \"path\" : path,\n",
        "      \"scraped\" : 0 # True / False -> 1 / 0\n",
        "  }\n",
        "  datas.append(data)\n",
        "  #print(id_, slug_)"
      ],
      "metadata": {
        "id": "diQpM0FcMn3r"
      },
      "execution_count": 22,
      "outputs": []
    },
    {
      "cell_type": "code",
      "source": [
        "# Here we save it to dataframe\n",
        "df = pd.DataFrame(datas)\n",
        "df.head()"
      ],
      "metadata": {
        "colab": {
          "base_uri": "https://localhost:8080/",
          "height": 206
        },
        "id": "K69kzdNINqfr",
        "outputId": "15d700e7-6c4b-4a6e-d4d4-85992a2eda5a"
      },
      "execution_count": 25,
      "outputs": [
        {
          "output_type": "execute_result",
          "data": {
            "text/plain": [
              "         id                                               slug  \\\n",
              "0  15632743        whimsigothic-moth-wallpaper-24-by-garabateo   \n",
              "1  12300699  cozy-night-sky-large-full-moon-stars-over-clou...   \n",
              "2  12878048  blackthorn-by-william-morris-antique-colors-24...   \n",
              "3  13614377  vintage-summer-romanticism-maximalism-moody-fl...   \n",
              "4   3730688  william-morris-antiqued-pimpernel-original-on-...   \n",
              "\n",
              "                                                path  scraped  \n",
              "0  /en/fabric/15632743-whimsigothic-moth-wallpape...        0  \n",
              "1  /en/fabric/12300699-cozy-night-sky-large-full-...        0  \n",
              "2  /en/fabric/12878048-blackthorn-by-william-morr...        0  \n",
              "3  /en/fabric/13614377-vintage-summer-romanticism...        0  \n",
              "4  /en/fabric/3730688-william-morris-antiqued-pim...        0  "
            ],
            "text/html": [
              "\n",
              "  <div id=\"df-71dc93b7-e57f-41dd-9d3d-49fdc9da1d1c\" class=\"colab-df-container\">\n",
              "    <div>\n",
              "<style scoped>\n",
              "    .dataframe tbody tr th:only-of-type {\n",
              "        vertical-align: middle;\n",
              "    }\n",
              "\n",
              "    .dataframe tbody tr th {\n",
              "        vertical-align: top;\n",
              "    }\n",
              "\n",
              "    .dataframe thead th {\n",
              "        text-align: right;\n",
              "    }\n",
              "</style>\n",
              "<table border=\"1\" class=\"dataframe\">\n",
              "  <thead>\n",
              "    <tr style=\"text-align: right;\">\n",
              "      <th></th>\n",
              "      <th>id</th>\n",
              "      <th>slug</th>\n",
              "      <th>path</th>\n",
              "      <th>scraped</th>\n",
              "    </tr>\n",
              "  </thead>\n",
              "  <tbody>\n",
              "    <tr>\n",
              "      <th>0</th>\n",
              "      <td>15632743</td>\n",
              "      <td>whimsigothic-moth-wallpaper-24-by-garabateo</td>\n",
              "      <td>/en/fabric/15632743-whimsigothic-moth-wallpape...</td>\n",
              "      <td>0</td>\n",
              "    </tr>\n",
              "    <tr>\n",
              "      <th>1</th>\n",
              "      <td>12300699</td>\n",
              "      <td>cozy-night-sky-large-full-moon-stars-over-clou...</td>\n",
              "      <td>/en/fabric/12300699-cozy-night-sky-large-full-...</td>\n",
              "      <td>0</td>\n",
              "    </tr>\n",
              "    <tr>\n",
              "      <th>2</th>\n",
              "      <td>12878048</td>\n",
              "      <td>blackthorn-by-william-morris-antique-colors-24...</td>\n",
              "      <td>/en/fabric/12878048-blackthorn-by-william-morr...</td>\n",
              "      <td>0</td>\n",
              "    </tr>\n",
              "    <tr>\n",
              "      <th>3</th>\n",
              "      <td>13614377</td>\n",
              "      <td>vintage-summer-romanticism-maximalism-moody-fl...</td>\n",
              "      <td>/en/fabric/13614377-vintage-summer-romanticism...</td>\n",
              "      <td>0</td>\n",
              "    </tr>\n",
              "    <tr>\n",
              "      <th>4</th>\n",
              "      <td>3730688</td>\n",
              "      <td>william-morris-antiqued-pimpernel-original-on-...</td>\n",
              "      <td>/en/fabric/3730688-william-morris-antiqued-pim...</td>\n",
              "      <td>0</td>\n",
              "    </tr>\n",
              "  </tbody>\n",
              "</table>\n",
              "</div>\n",
              "    <div class=\"colab-df-buttons\">\n",
              "\n",
              "  <div class=\"colab-df-container\">\n",
              "    <button class=\"colab-df-convert\" onclick=\"convertToInteractive('df-71dc93b7-e57f-41dd-9d3d-49fdc9da1d1c')\"\n",
              "            title=\"Convert this dataframe to an interactive table.\"\n",
              "            style=\"display:none;\">\n",
              "\n",
              "  <svg xmlns=\"http://www.w3.org/2000/svg\" height=\"24px\" viewBox=\"0 -960 960 960\">\n",
              "    <path d=\"M120-120v-720h720v720H120Zm60-500h600v-160H180v160Zm220 220h160v-160H400v160Zm0 220h160v-160H400v160ZM180-400h160v-160H180v160Zm440 0h160v-160H620v160ZM180-180h160v-160H180v160Zm440 0h160v-160H620v160Z\"/>\n",
              "  </svg>\n",
              "    </button>\n",
              "\n",
              "  <style>\n",
              "    .colab-df-container {\n",
              "      display:flex;\n",
              "      gap: 12px;\n",
              "    }\n",
              "\n",
              "    .colab-df-convert {\n",
              "      background-color: #E8F0FE;\n",
              "      border: none;\n",
              "      border-radius: 50%;\n",
              "      cursor: pointer;\n",
              "      display: none;\n",
              "      fill: #1967D2;\n",
              "      height: 32px;\n",
              "      padding: 0 0 0 0;\n",
              "      width: 32px;\n",
              "    }\n",
              "\n",
              "    .colab-df-convert:hover {\n",
              "      background-color: #E2EBFA;\n",
              "      box-shadow: 0px 1px 2px rgba(60, 64, 67, 0.3), 0px 1px 3px 1px rgba(60, 64, 67, 0.15);\n",
              "      fill: #174EA6;\n",
              "    }\n",
              "\n",
              "    .colab-df-buttons div {\n",
              "      margin-bottom: 4px;\n",
              "    }\n",
              "\n",
              "    [theme=dark] .colab-df-convert {\n",
              "      background-color: #3B4455;\n",
              "      fill: #D2E3FC;\n",
              "    }\n",
              "\n",
              "    [theme=dark] .colab-df-convert:hover {\n",
              "      background-color: #434B5C;\n",
              "      box-shadow: 0px 1px 3px 1px rgba(0, 0, 0, 0.15);\n",
              "      filter: drop-shadow(0px 1px 2px rgba(0, 0, 0, 0.3));\n",
              "      fill: #FFFFFF;\n",
              "    }\n",
              "  </style>\n",
              "\n",
              "    <script>\n",
              "      const buttonEl =\n",
              "        document.querySelector('#df-71dc93b7-e57f-41dd-9d3d-49fdc9da1d1c button.colab-df-convert');\n",
              "      buttonEl.style.display =\n",
              "        google.colab.kernel.accessAllowed ? 'block' : 'none';\n",
              "\n",
              "      async function convertToInteractive(key) {\n",
              "        const element = document.querySelector('#df-71dc93b7-e57f-41dd-9d3d-49fdc9da1d1c');\n",
              "        const dataTable =\n",
              "          await google.colab.kernel.invokeFunction('convertToInteractive',\n",
              "                                                    [key], {});\n",
              "        if (!dataTable) return;\n",
              "\n",
              "        const docLinkHtml = 'Like what you see? Visit the ' +\n",
              "          '<a target=\"_blank\" href=https://colab.research.google.com/notebooks/data_table.ipynb>data table notebook</a>'\n",
              "          + ' to learn more about interactive tables.';\n",
              "        element.innerHTML = '';\n",
              "        dataTable['output_type'] = 'display_data';\n",
              "        await google.colab.output.renderOutput(dataTable, element);\n",
              "        const docLink = document.createElement('div');\n",
              "        docLink.innerHTML = docLinkHtml;\n",
              "        element.appendChild(docLink);\n",
              "      }\n",
              "    </script>\n",
              "  </div>\n",
              "\n",
              "\n",
              "<div id=\"df-28fbd012-9daf-4980-9cdf-27ab49aa9825\">\n",
              "  <button class=\"colab-df-quickchart\" onclick=\"quickchart('df-28fbd012-9daf-4980-9cdf-27ab49aa9825')\"\n",
              "            title=\"Suggest charts\"\n",
              "            style=\"display:none;\">\n",
              "\n",
              "<svg xmlns=\"http://www.w3.org/2000/svg\" height=\"24px\"viewBox=\"0 0 24 24\"\n",
              "     width=\"24px\">\n",
              "    <g>\n",
              "        <path d=\"M19 3H5c-1.1 0-2 .9-2 2v14c0 1.1.9 2 2 2h14c1.1 0 2-.9 2-2V5c0-1.1-.9-2-2-2zM9 17H7v-7h2v7zm4 0h-2V7h2v10zm4 0h-2v-4h2v4z\"/>\n",
              "    </g>\n",
              "</svg>\n",
              "  </button>\n",
              "\n",
              "<style>\n",
              "  .colab-df-quickchart {\n",
              "      --bg-color: #E8F0FE;\n",
              "      --fill-color: #1967D2;\n",
              "      --hover-bg-color: #E2EBFA;\n",
              "      --hover-fill-color: #174EA6;\n",
              "      --disabled-fill-color: #AAA;\n",
              "      --disabled-bg-color: #DDD;\n",
              "  }\n",
              "\n",
              "  [theme=dark] .colab-df-quickchart {\n",
              "      --bg-color: #3B4455;\n",
              "      --fill-color: #D2E3FC;\n",
              "      --hover-bg-color: #434B5C;\n",
              "      --hover-fill-color: #FFFFFF;\n",
              "      --disabled-bg-color: #3B4455;\n",
              "      --disabled-fill-color: #666;\n",
              "  }\n",
              "\n",
              "  .colab-df-quickchart {\n",
              "    background-color: var(--bg-color);\n",
              "    border: none;\n",
              "    border-radius: 50%;\n",
              "    cursor: pointer;\n",
              "    display: none;\n",
              "    fill: var(--fill-color);\n",
              "    height: 32px;\n",
              "    padding: 0;\n",
              "    width: 32px;\n",
              "  }\n",
              "\n",
              "  .colab-df-quickchart:hover {\n",
              "    background-color: var(--hover-bg-color);\n",
              "    box-shadow: 0 1px 2px rgba(60, 64, 67, 0.3), 0 1px 3px 1px rgba(60, 64, 67, 0.15);\n",
              "    fill: var(--button-hover-fill-color);\n",
              "  }\n",
              "\n",
              "  .colab-df-quickchart-complete:disabled,\n",
              "  .colab-df-quickchart-complete:disabled:hover {\n",
              "    background-color: var(--disabled-bg-color);\n",
              "    fill: var(--disabled-fill-color);\n",
              "    box-shadow: none;\n",
              "  }\n",
              "\n",
              "  .colab-df-spinner {\n",
              "    border: 2px solid var(--fill-color);\n",
              "    border-color: transparent;\n",
              "    border-bottom-color: var(--fill-color);\n",
              "    animation:\n",
              "      spin 1s steps(1) infinite;\n",
              "  }\n",
              "\n",
              "  @keyframes spin {\n",
              "    0% {\n",
              "      border-color: transparent;\n",
              "      border-bottom-color: var(--fill-color);\n",
              "      border-left-color: var(--fill-color);\n",
              "    }\n",
              "    20% {\n",
              "      border-color: transparent;\n",
              "      border-left-color: var(--fill-color);\n",
              "      border-top-color: var(--fill-color);\n",
              "    }\n",
              "    30% {\n",
              "      border-color: transparent;\n",
              "      border-left-color: var(--fill-color);\n",
              "      border-top-color: var(--fill-color);\n",
              "      border-right-color: var(--fill-color);\n",
              "    }\n",
              "    40% {\n",
              "      border-color: transparent;\n",
              "      border-right-color: var(--fill-color);\n",
              "      border-top-color: var(--fill-color);\n",
              "    }\n",
              "    60% {\n",
              "      border-color: transparent;\n",
              "      border-right-color: var(--fill-color);\n",
              "    }\n",
              "    80% {\n",
              "      border-color: transparent;\n",
              "      border-right-color: var(--fill-color);\n",
              "      border-bottom-color: var(--fill-color);\n",
              "    }\n",
              "    90% {\n",
              "      border-color: transparent;\n",
              "      border-bottom-color: var(--fill-color);\n",
              "    }\n",
              "  }\n",
              "</style>\n",
              "\n",
              "  <script>\n",
              "    async function quickchart(key) {\n",
              "      const quickchartButtonEl =\n",
              "        document.querySelector('#' + key + ' button');\n",
              "      quickchartButtonEl.disabled = true;  // To prevent multiple clicks.\n",
              "      quickchartButtonEl.classList.add('colab-df-spinner');\n",
              "      try {\n",
              "        const charts = await google.colab.kernel.invokeFunction(\n",
              "            'suggestCharts', [key], {});\n",
              "      } catch (error) {\n",
              "        console.error('Error during call to suggestCharts:', error);\n",
              "      }\n",
              "      quickchartButtonEl.classList.remove('colab-df-spinner');\n",
              "      quickchartButtonEl.classList.add('colab-df-quickchart-complete');\n",
              "    }\n",
              "    (() => {\n",
              "      let quickchartButtonEl =\n",
              "        document.querySelector('#df-28fbd012-9daf-4980-9cdf-27ab49aa9825 button');\n",
              "      quickchartButtonEl.style.display =\n",
              "        google.colab.kernel.accessAllowed ? 'block' : 'none';\n",
              "    })();\n",
              "  </script>\n",
              "</div>\n",
              "    </div>\n",
              "  </div>\n"
            ],
            "application/vnd.google.colaboratory.intrinsic+json": {
              "type": "dataframe",
              "variable_name": "df",
              "summary": "{\n  \"name\": \"df\",\n  \"rows\": 84,\n  \"fields\": [\n    {\n      \"column\": \"id\",\n      \"properties\": {\n        \"dtype\": \"string\",\n        \"num_unique_values\": 84,\n        \"samples\": [\n          \"7748646\",\n          \"15632743\",\n          \"11634796\"\n        ],\n        \"semantic_type\": \"\",\n        \"description\": \"\"\n      }\n    },\n    {\n      \"column\": \"slug\",\n      \"properties\": {\n        \"dtype\": \"string\",\n        \"num_unique_values\": 82,\n        \"samples\": [\n          \"retro-whimsy-daisy-flower-power-on-blue-eggshell-floral-large-scale-by-winkeltriple\",\n          \"whimsigothic-moth-wallpaper-24-by-garabateo\",\n          \"year-rabbit-by-nickleen\"\n        ],\n        \"semantic_type\": \"\",\n        \"description\": \"\"\n      }\n    },\n    {\n      \"column\": \"path\",\n      \"properties\": {\n        \"dtype\": \"string\",\n        \"num_unique_values\": 84,\n        \"samples\": [\n          \"/en/fabric/7748646-emerald-eden-by-catalinakim\",\n          \"/en/fabric/15632743-whimsigothic-moth-wallpaper-24-by-garabateo\",\n          \"/en/fabric/11634796-heron-plants-light-medium-by-nina_leth\"\n        ],\n        \"semantic_type\": \"\",\n        \"description\": \"\"\n      }\n    },\n    {\n      \"column\": \"scraped\",\n      \"properties\": {\n        \"dtype\": \"number\",\n        \"std\": 0,\n        \"min\": 0,\n        \"max\": 0,\n        \"num_unique_values\": 1,\n        \"samples\": [\n          0\n        ],\n        \"semantic_type\": \"\",\n        \"description\": \"\"\n      }\n    }\n  ]\n}"
            }
          },
          "metadata": {},
          "execution_count": 25
        }
      ]
    },
    {
      "cell_type": "code",
      "source": [
        "# Here we save it to the local\n",
        "df.to_csv(\"local.csv\", index = False)\n",
        "df = pd.read_csv(\"local.csv\")\n",
        "df.head(5)"
      ],
      "metadata": {
        "colab": {
          "base_uri": "https://localhost:8080/",
          "height": 206
        },
        "id": "zS1NixczO5PR",
        "outputId": "1937a1cd-863a-4db7-efa7-29c8b5a23a48"
      },
      "execution_count": 26,
      "outputs": [
        {
          "output_type": "execute_result",
          "data": {
            "text/plain": [
              "         id                                               slug  \\\n",
              "0  15632743        whimsigothic-moth-wallpaper-24-by-garabateo   \n",
              "1  12300699  cozy-night-sky-large-full-moon-stars-over-clou...   \n",
              "2  12878048  blackthorn-by-william-morris-antique-colors-24...   \n",
              "3  13614377  vintage-summer-romanticism-maximalism-moody-fl...   \n",
              "4   3730688  william-morris-antiqued-pimpernel-original-on-...   \n",
              "\n",
              "                                                path  scraped  \n",
              "0  /en/fabric/15632743-whimsigothic-moth-wallpape...        0  \n",
              "1  /en/fabric/12300699-cozy-night-sky-large-full-...        0  \n",
              "2  /en/fabric/12878048-blackthorn-by-william-morr...        0  \n",
              "3  /en/fabric/13614377-vintage-summer-romanticism...        0  \n",
              "4  /en/fabric/3730688-william-morris-antiqued-pim...        0  "
            ],
            "text/html": [
              "\n",
              "  <div id=\"df-0af906b7-8f76-44dd-b732-f2cf2824ed9c\" class=\"colab-df-container\">\n",
              "    <div>\n",
              "<style scoped>\n",
              "    .dataframe tbody tr th:only-of-type {\n",
              "        vertical-align: middle;\n",
              "    }\n",
              "\n",
              "    .dataframe tbody tr th {\n",
              "        vertical-align: top;\n",
              "    }\n",
              "\n",
              "    .dataframe thead th {\n",
              "        text-align: right;\n",
              "    }\n",
              "</style>\n",
              "<table border=\"1\" class=\"dataframe\">\n",
              "  <thead>\n",
              "    <tr style=\"text-align: right;\">\n",
              "      <th></th>\n",
              "      <th>id</th>\n",
              "      <th>slug</th>\n",
              "      <th>path</th>\n",
              "      <th>scraped</th>\n",
              "    </tr>\n",
              "  </thead>\n",
              "  <tbody>\n",
              "    <tr>\n",
              "      <th>0</th>\n",
              "      <td>15632743</td>\n",
              "      <td>whimsigothic-moth-wallpaper-24-by-garabateo</td>\n",
              "      <td>/en/fabric/15632743-whimsigothic-moth-wallpape...</td>\n",
              "      <td>0</td>\n",
              "    </tr>\n",
              "    <tr>\n",
              "      <th>1</th>\n",
              "      <td>12300699</td>\n",
              "      <td>cozy-night-sky-large-full-moon-stars-over-clou...</td>\n",
              "      <td>/en/fabric/12300699-cozy-night-sky-large-full-...</td>\n",
              "      <td>0</td>\n",
              "    </tr>\n",
              "    <tr>\n",
              "      <th>2</th>\n",
              "      <td>12878048</td>\n",
              "      <td>blackthorn-by-william-morris-antique-colors-24...</td>\n",
              "      <td>/en/fabric/12878048-blackthorn-by-william-morr...</td>\n",
              "      <td>0</td>\n",
              "    </tr>\n",
              "    <tr>\n",
              "      <th>3</th>\n",
              "      <td>13614377</td>\n",
              "      <td>vintage-summer-romanticism-maximalism-moody-fl...</td>\n",
              "      <td>/en/fabric/13614377-vintage-summer-romanticism...</td>\n",
              "      <td>0</td>\n",
              "    </tr>\n",
              "    <tr>\n",
              "      <th>4</th>\n",
              "      <td>3730688</td>\n",
              "      <td>william-morris-antiqued-pimpernel-original-on-...</td>\n",
              "      <td>/en/fabric/3730688-william-morris-antiqued-pim...</td>\n",
              "      <td>0</td>\n",
              "    </tr>\n",
              "  </tbody>\n",
              "</table>\n",
              "</div>\n",
              "    <div class=\"colab-df-buttons\">\n",
              "\n",
              "  <div class=\"colab-df-container\">\n",
              "    <button class=\"colab-df-convert\" onclick=\"convertToInteractive('df-0af906b7-8f76-44dd-b732-f2cf2824ed9c')\"\n",
              "            title=\"Convert this dataframe to an interactive table.\"\n",
              "            style=\"display:none;\">\n",
              "\n",
              "  <svg xmlns=\"http://www.w3.org/2000/svg\" height=\"24px\" viewBox=\"0 -960 960 960\">\n",
              "    <path d=\"M120-120v-720h720v720H120Zm60-500h600v-160H180v160Zm220 220h160v-160H400v160Zm0 220h160v-160H400v160ZM180-400h160v-160H180v160Zm440 0h160v-160H620v160ZM180-180h160v-160H180v160Zm440 0h160v-160H620v160Z\"/>\n",
              "  </svg>\n",
              "    </button>\n",
              "\n",
              "  <style>\n",
              "    .colab-df-container {\n",
              "      display:flex;\n",
              "      gap: 12px;\n",
              "    }\n",
              "\n",
              "    .colab-df-convert {\n",
              "      background-color: #E8F0FE;\n",
              "      border: none;\n",
              "      border-radius: 50%;\n",
              "      cursor: pointer;\n",
              "      display: none;\n",
              "      fill: #1967D2;\n",
              "      height: 32px;\n",
              "      padding: 0 0 0 0;\n",
              "      width: 32px;\n",
              "    }\n",
              "\n",
              "    .colab-df-convert:hover {\n",
              "      background-color: #E2EBFA;\n",
              "      box-shadow: 0px 1px 2px rgba(60, 64, 67, 0.3), 0px 1px 3px 1px rgba(60, 64, 67, 0.15);\n",
              "      fill: #174EA6;\n",
              "    }\n",
              "\n",
              "    .colab-df-buttons div {\n",
              "      margin-bottom: 4px;\n",
              "    }\n",
              "\n",
              "    [theme=dark] .colab-df-convert {\n",
              "      background-color: #3B4455;\n",
              "      fill: #D2E3FC;\n",
              "    }\n",
              "\n",
              "    [theme=dark] .colab-df-convert:hover {\n",
              "      background-color: #434B5C;\n",
              "      box-shadow: 0px 1px 3px 1px rgba(0, 0, 0, 0.15);\n",
              "      filter: drop-shadow(0px 1px 2px rgba(0, 0, 0, 0.3));\n",
              "      fill: #FFFFFF;\n",
              "    }\n",
              "  </style>\n",
              "\n",
              "    <script>\n",
              "      const buttonEl =\n",
              "        document.querySelector('#df-0af906b7-8f76-44dd-b732-f2cf2824ed9c button.colab-df-convert');\n",
              "      buttonEl.style.display =\n",
              "        google.colab.kernel.accessAllowed ? 'block' : 'none';\n",
              "\n",
              "      async function convertToInteractive(key) {\n",
              "        const element = document.querySelector('#df-0af906b7-8f76-44dd-b732-f2cf2824ed9c');\n",
              "        const dataTable =\n",
              "          await google.colab.kernel.invokeFunction('convertToInteractive',\n",
              "                                                    [key], {});\n",
              "        if (!dataTable) return;\n",
              "\n",
              "        const docLinkHtml = 'Like what you see? Visit the ' +\n",
              "          '<a target=\"_blank\" href=https://colab.research.google.com/notebooks/data_table.ipynb>data table notebook</a>'\n",
              "          + ' to learn more about interactive tables.';\n",
              "        element.innerHTML = '';\n",
              "        dataTable['output_type'] = 'display_data';\n",
              "        await google.colab.output.renderOutput(dataTable, element);\n",
              "        const docLink = document.createElement('div');\n",
              "        docLink.innerHTML = docLinkHtml;\n",
              "        element.appendChild(docLink);\n",
              "      }\n",
              "    </script>\n",
              "  </div>\n",
              "\n",
              "\n",
              "<div id=\"df-8621425a-dbf5-4d73-abf0-d0469235245c\">\n",
              "  <button class=\"colab-df-quickchart\" onclick=\"quickchart('df-8621425a-dbf5-4d73-abf0-d0469235245c')\"\n",
              "            title=\"Suggest charts\"\n",
              "            style=\"display:none;\">\n",
              "\n",
              "<svg xmlns=\"http://www.w3.org/2000/svg\" height=\"24px\"viewBox=\"0 0 24 24\"\n",
              "     width=\"24px\">\n",
              "    <g>\n",
              "        <path d=\"M19 3H5c-1.1 0-2 .9-2 2v14c0 1.1.9 2 2 2h14c1.1 0 2-.9 2-2V5c0-1.1-.9-2-2-2zM9 17H7v-7h2v7zm4 0h-2V7h2v10zm4 0h-2v-4h2v4z\"/>\n",
              "    </g>\n",
              "</svg>\n",
              "  </button>\n",
              "\n",
              "<style>\n",
              "  .colab-df-quickchart {\n",
              "      --bg-color: #E8F0FE;\n",
              "      --fill-color: #1967D2;\n",
              "      --hover-bg-color: #E2EBFA;\n",
              "      --hover-fill-color: #174EA6;\n",
              "      --disabled-fill-color: #AAA;\n",
              "      --disabled-bg-color: #DDD;\n",
              "  }\n",
              "\n",
              "  [theme=dark] .colab-df-quickchart {\n",
              "      --bg-color: #3B4455;\n",
              "      --fill-color: #D2E3FC;\n",
              "      --hover-bg-color: #434B5C;\n",
              "      --hover-fill-color: #FFFFFF;\n",
              "      --disabled-bg-color: #3B4455;\n",
              "      --disabled-fill-color: #666;\n",
              "  }\n",
              "\n",
              "  .colab-df-quickchart {\n",
              "    background-color: var(--bg-color);\n",
              "    border: none;\n",
              "    border-radius: 50%;\n",
              "    cursor: pointer;\n",
              "    display: none;\n",
              "    fill: var(--fill-color);\n",
              "    height: 32px;\n",
              "    padding: 0;\n",
              "    width: 32px;\n",
              "  }\n",
              "\n",
              "  .colab-df-quickchart:hover {\n",
              "    background-color: var(--hover-bg-color);\n",
              "    box-shadow: 0 1px 2px rgba(60, 64, 67, 0.3), 0 1px 3px 1px rgba(60, 64, 67, 0.15);\n",
              "    fill: var(--button-hover-fill-color);\n",
              "  }\n",
              "\n",
              "  .colab-df-quickchart-complete:disabled,\n",
              "  .colab-df-quickchart-complete:disabled:hover {\n",
              "    background-color: var(--disabled-bg-color);\n",
              "    fill: var(--disabled-fill-color);\n",
              "    box-shadow: none;\n",
              "  }\n",
              "\n",
              "  .colab-df-spinner {\n",
              "    border: 2px solid var(--fill-color);\n",
              "    border-color: transparent;\n",
              "    border-bottom-color: var(--fill-color);\n",
              "    animation:\n",
              "      spin 1s steps(1) infinite;\n",
              "  }\n",
              "\n",
              "  @keyframes spin {\n",
              "    0% {\n",
              "      border-color: transparent;\n",
              "      border-bottom-color: var(--fill-color);\n",
              "      border-left-color: var(--fill-color);\n",
              "    }\n",
              "    20% {\n",
              "      border-color: transparent;\n",
              "      border-left-color: var(--fill-color);\n",
              "      border-top-color: var(--fill-color);\n",
              "    }\n",
              "    30% {\n",
              "      border-color: transparent;\n",
              "      border-left-color: var(--fill-color);\n",
              "      border-top-color: var(--fill-color);\n",
              "      border-right-color: var(--fill-color);\n",
              "    }\n",
              "    40% {\n",
              "      border-color: transparent;\n",
              "      border-right-color: var(--fill-color);\n",
              "      border-top-color: var(--fill-color);\n",
              "    }\n",
              "    60% {\n",
              "      border-color: transparent;\n",
              "      border-right-color: var(--fill-color);\n",
              "    }\n",
              "    80% {\n",
              "      border-color: transparent;\n",
              "      border-right-color: var(--fill-color);\n",
              "      border-bottom-color: var(--fill-color);\n",
              "    }\n",
              "    90% {\n",
              "      border-color: transparent;\n",
              "      border-bottom-color: var(--fill-color);\n",
              "    }\n",
              "  }\n",
              "</style>\n",
              "\n",
              "  <script>\n",
              "    async function quickchart(key) {\n",
              "      const quickchartButtonEl =\n",
              "        document.querySelector('#' + key + ' button');\n",
              "      quickchartButtonEl.disabled = true;  // To prevent multiple clicks.\n",
              "      quickchartButtonEl.classList.add('colab-df-spinner');\n",
              "      try {\n",
              "        const charts = await google.colab.kernel.invokeFunction(\n",
              "            'suggestCharts', [key], {});\n",
              "      } catch (error) {\n",
              "        console.error('Error during call to suggestCharts:', error);\n",
              "      }\n",
              "      quickchartButtonEl.classList.remove('colab-df-spinner');\n",
              "      quickchartButtonEl.classList.add('colab-df-quickchart-complete');\n",
              "    }\n",
              "    (() => {\n",
              "      let quickchartButtonEl =\n",
              "        document.querySelector('#df-8621425a-dbf5-4d73-abf0-d0469235245c button');\n",
              "      quickchartButtonEl.style.display =\n",
              "        google.colab.kernel.accessAllowed ? 'block' : 'none';\n",
              "    })();\n",
              "  </script>\n",
              "</div>\n",
              "    </div>\n",
              "  </div>\n"
            ],
            "application/vnd.google.colaboratory.intrinsic+json": {
              "type": "dataframe",
              "variable_name": "df",
              "summary": "{\n  \"name\": \"df\",\n  \"rows\": 84,\n  \"fields\": [\n    {\n      \"column\": \"id\",\n      \"properties\": {\n        \"dtype\": \"number\",\n        \"std\": 3572201,\n        \"min\": 509390,\n        \"max\": 16194112,\n        \"num_unique_values\": 84,\n        \"samples\": [\n          7748646,\n          15632743,\n          11634796\n        ],\n        \"semantic_type\": \"\",\n        \"description\": \"\"\n      }\n    },\n    {\n      \"column\": \"slug\",\n      \"properties\": {\n        \"dtype\": \"string\",\n        \"num_unique_values\": 82,\n        \"samples\": [\n          \"retro-whimsy-daisy-flower-power-on-blue-eggshell-floral-large-scale-by-winkeltriple\",\n          \"whimsigothic-moth-wallpaper-24-by-garabateo\",\n          \"year-rabbit-by-nickleen\"\n        ],\n        \"semantic_type\": \"\",\n        \"description\": \"\"\n      }\n    },\n    {\n      \"column\": \"path\",\n      \"properties\": {\n        \"dtype\": \"string\",\n        \"num_unique_values\": 84,\n        \"samples\": [\n          \"/en/fabric/7748646-emerald-eden-by-catalinakim\",\n          \"/en/fabric/15632743-whimsigothic-moth-wallpaper-24-by-garabateo\",\n          \"/en/fabric/11634796-heron-plants-light-medium-by-nina_leth\"\n        ],\n        \"semantic_type\": \"\",\n        \"description\": \"\"\n      }\n    },\n    {\n      \"column\": \"scraped\",\n      \"properties\": {\n        \"dtype\": \"number\",\n        \"std\": 0,\n        \"min\": 0,\n        \"max\": 0,\n        \"num_unique_values\": 1,\n        \"samples\": [\n          0\n        ],\n        \"semantic_type\": \"\",\n        \"description\": \"\"\n      }\n    }\n  ]\n}"
            }
          },
          "metadata": {},
          "execution_count": 26
        }
      ]
    },
    {
      "cell_type": "markdown",
      "source": [
        "##1.4 Async Web Scraping with `chromedriver` and `arsenic`"
      ],
      "metadata": {
        "id": "2JStuYvxLRYu"
      }
    },
    {
      "cell_type": "code",
      "source": [
        "%%writefile async_scrape.py\n",
        "\n",
        "import os\n",
        "import asyncio\n",
        "from arsenic import get_session, keys, browsers, services\n",
        "import pandas as pd\n",
        "from requests_html import HTML\n",
        "import itertools\n",
        "import re\n",
        "import time\n",
        "import pathlib\n",
        "\n",
        "\n",
        "async def extract_id_slug(url_path):\n",
        "  regex = r\"^[^\\s]+/(?P<id>\\d+)-(?P<slug>[\\w_-]+)$\"\n",
        "  group = re.match(regex, url_path)\n",
        "  if not group:\n",
        "    return None, None\n",
        "  return group['id'], group['slug']\n",
        "\n",
        "async def scraper(url):\n",
        "  service = services.Chromedriver()\n",
        "  browser = browsers.Chrome(chromeOptions = {\n",
        "    'args': ['--headless', '--disable-gpu']\n",
        "  })\n",
        "\n",
        "  async with get_session(service, browser) as session:\n",
        "              await session.get(url)\n",
        "              body = await session.get_page_source()\n",
        "              print(body)\n",
        "              return body\n",
        "\n",
        "# main script\n",
        "if __name__ == \"__main__\":\n",
        "  url = 'https://www.spoonflower.com/en/shop?on=fabric%27'\n",
        "  #loop = asyncio.get_event_loop()\n",
        "  #results = loop.run_until_complete(scraper(url))\n",
        "  results = asyncio.run(scraper(url))  # we can run alternatively this way"
      ],
      "metadata": {
        "colab": {
          "base_uri": "https://localhost:8080/"
        },
        "id": "_E8AJdsNPdB5",
        "outputId": "da4fc6e6-f2b2-4836-d6a4-d1e7161adbdb"
      },
      "execution_count": 76,
      "outputs": [
        {
          "output_type": "stream",
          "name": "stdout",
          "text": [
            "Overwriting async_scrape.py\n"
          ]
        }
      ]
    },
    {
      "cell_type": "code",
      "source": [
        "!python async_scrape.py"
      ],
      "metadata": {
        "colab": {
          "base_uri": "https://localhost:8080/"
        },
        "id": "I8_RfOBdSeB0",
        "outputId": "fd6172a1-6b47-4e52-d3d9-03926d49fd5e"
      },
      "execution_count": 77,
      "outputs": [
        {
          "output_type": "stream",
          "name": "stdout",
          "text": [
            "Traceback (most recent call last):\n",
            "  File \"/content/gdrive/MyDrive/ColabNotebooks/FinanceAlgorithms/async_scrape.py\", line 37, in <module>\n",
            "    results = asyncio.run(scraper(url))  # we can run alternatively this way\n",
            "  File \"/usr/lib/python3.10/asyncio/runners.py\", line 44, in run\n",
            "    return loop.run_until_complete(main)\n",
            "  File \"/usr/lib/python3.10/asyncio/base_events.py\", line 649, in run_until_complete\n",
            "    return future.result()\n",
            "  File \"/content/gdrive/MyDrive/ColabNotebooks/FinanceAlgorithms/async_scrape.py\", line 26, in scraper\n",
            "    async with get_session(service, browser) as session:\n",
            "  File \"/usr/local/lib/python3.10/dist-packages/arsenic/__init__.py\", line 16, in __aenter__\n",
            "    self.session = await start_session(self.service, self.browser, self.bind)\n",
            "  File \"/usr/local/lib/python3.10/dist-packages/arsenic/__init__.py\", line 28, in start_session\n",
            "    driver = await service.start()\n",
            "  File \"/usr/local/lib/python3.10/dist-packages/arsenic/services.py\", line 122, in start\n",
            "    return await subprocess_based_service(\n",
            "  File \"/usr/local/lib/python3.10/dist-packages/arsenic/services.py\", line 39, in subprocess_based_service\n",
            "    process = await impl.start_process(cmd, log_file)\n",
            "  File \"/usr/local/lib/python3.10/dist-packages/arsenic/subprocess.py\", line 56, in start_process\n",
            "    return await asyncio.create_subprocess_exec(\n",
            "  File \"/usr/lib/python3.10/asyncio/subprocess.py\", line 218, in create_subprocess_exec\n",
            "    transport, protocol = await loop.subprocess_exec(\n",
            "  File \"/usr/lib/python3.10/asyncio/base_events.py\", line 1681, in subprocess_exec\n",
            "    transport = await self._make_subprocess_transport(\n",
            "  File \"/usr/lib/python3.10/asyncio/unix_events.py\", line 207, in _make_subprocess_transport\n",
            "    transp = _UnixSubprocessTransport(self, protocol, args, shell,\n",
            "  File \"/usr/lib/python3.10/asyncio/base_subprocess.py\", line 36, in __init__\n",
            "    self._start(args=args, shell=shell, stdin=stdin, stdout=stdout,\n",
            "  File \"/usr/lib/python3.10/asyncio/unix_events.py\", line 799, in _start\n",
            "    self._proc = subprocess.Popen(\n",
            "  File \"/usr/lib/python3.10/subprocess.py\", line 971, in __init__\n",
            "    self._execute_child(args, executable, preexec_fn, close_fds,\n",
            "  File \"/usr/lib/python3.10/subprocess.py\", line 1863, in _execute_child\n",
            "    raise child_exception_type(errno_num, err_msg, err_filename)\n",
            "FileNotFoundError: [Errno 2] No such file or directory: 'chromedriver'\n"
          ]
        }
      ]
    },
    {
      "cell_type": "markdown",
      "source": [
        "#**2. Extraction & Formatting**"
      ],
      "metadata": {
        "id": "zbJsvM2_Pjg2"
      }
    }
  ]
}