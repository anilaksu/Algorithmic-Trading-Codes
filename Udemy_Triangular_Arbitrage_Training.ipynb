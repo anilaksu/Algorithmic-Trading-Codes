{
  "nbformat": 4,
  "nbformat_minor": 0,
  "metadata": {
    "colab": {
      "provenance": [],
      "toc_visible": true,
      "authorship_tag": "ABX9TyOQ5OCupXQ7iYt1M0km6q7/",
      "include_colab_link": true
    },
    "kernelspec": {
      "name": "python3",
      "display_name": "Python 3"
    },
    "language_info": {
      "name": "python"
    }
  },
  "cells": [
    {
      "cell_type": "markdown",
      "metadata": {
        "id": "view-in-github",
        "colab_type": "text"
      },
      "source": [
        "<a href=\"https://colab.research.google.com/github/anilaksu/Algorithmic-Trading-Codes/blob/main/Udemy_Triangular_Arbitrage_Training.ipynb\" target=\"_parent\"><img src=\"https://colab.research.google.com/assets/colab-badge.svg\" alt=\"Open In Colab\"/></a>"
      ]
    },
    {
      "cell_type": "markdown",
      "source": [
        "# **Triangular Arbitrage for Crypto with Python Udemy Training**\n",
        "\n",
        "\n",
        "Anil Aksu\n",
        "\n",
        "Personal e-mail: aaa293@cornell.edu\n",
        "\n",
        "\n",
        "\n",
        "**Outline:**\n",
        "\n",
        "\n",
        "1.  CEFI Triangular Arbitrage\n",
        "  * Synchronous vs Asynchronous\n",
        "  * Blocking & Timeouts\n",
        "  * Scraping with Selenium\n",
        "  * Asynchronous Functions\n",
        "  * Asynchronous Iterators\n",
        "2. DEFI Triangular Arbitrage\n",
        "  * Coroutine Objects and Async Functions\n",
        "  * Ways of running coroutines\n",
        "  * Cancelling coroutines\n",
        "  * Awaitable Objects\n",
        "\n",
        "\n",
        "\n",
        "Clone GitHub Repo:\n",
        "\n",
        "git clone https://github.com/CryptoWizardsNet/poloniex-tri-arb\n",
        "\n",
        "\n",
        "\n",
        "If you have never used GitHub before or do not have GitHub working on your command line:\n",
        "\n",
        "https://www.youtube.com/watch?v=CKcqniGu3tA\n",
        "\n",
        "https://git-scm.com/book/en/v2/Getting-Started-Installing-Git\n",
        "\n",
        "\n",
        "\n",
        "Google Colab Notebook:\n",
        "\n",
        "https://colab.research.google.com/drive/1gvX613_dwF5p6Hea9xMYeC-KokE9e9C_?usp=sharing\n",
        "\n",
        "\n",
        "\n",
        "Poloniex latest docs:\n",
        "\n",
        "https://docs.poloniex.com/#introduction\n",
        "\n",
        "\n",
        "\n",
        "Binance latest docs:\n",
        "\n",
        "https://binance-docs.github.io/apidocs/spot/en/#kline-candlestick-data\n",
        "\n",
        "**IMPORTANT NOTES:**\n",
        "\n",
        "!!! Fix surface triangular arbitrage calculations\n",
        "\n",
        "!!! Fix the code to get the depth and direction"
      ],
      "metadata": {
        "id": "ghlOehn-HIE2"
      }
    },
    {
      "cell_type": "code",
      "source": [
        "from google.colab import drive\n",
        "drive.mount('/content/gdrive')\n",
        "%cd /content/gdrive/MyDrive/ColabNotebooks/FinanceAlgorithms\n",
        "!ls # special shell command to view the files in the home directory of the notebook environment"
      ],
      "metadata": {
        "colab": {
          "base_uri": "https://localhost:8080/"
        },
        "id": "66Z_Nqv4Oi8s",
        "outputId": "175e1c53-350a-43c9-abfe-62a2c35ed1a6"
      },
      "execution_count": 1,
      "outputs": [
        {
          "output_type": "stream",
          "name": "stdout",
          "text": [
            "Mounted at /content/gdrive\n",
            "/content/gdrive/MyDrive/ColabNotebooks/FinanceAlgorithms\n",
            " 2013-03-08options.csv\t      local.csv\n",
            " 2013-03-08stocks.csv\t      OptionsTrading.ipynb\n",
            "'Asynchronous Python.ipynb'   PriceJump.gdraw\n",
            " async_scrape.py\t     'Stock Markets Codes.ipynb'\n",
            " BinanceTradingPairs.xlsx    'Stock Markets Portfolio.ipynb'\n",
            " EURUSD_Options_Data.csv      structured_triangular_pairs.json\n",
            " EURUSD_Options_Data.gsheet   triangular_pairs_bid_ask_prices.json\n",
            "'ForEx&IndexData.xls'\t     'Udemy Triangular Arbitrage Training.ipynb'\n"
          ]
        }
      ]
    },
    {
      "cell_type": "markdown",
      "source": [
        "#**1. How to pull any API Data**"
      ],
      "metadata": {
        "id": "Q39-mq18Rz8A"
      }
    },
    {
      "cell_type": "code",
      "source": [
        "# Here we install required libraries for API data manipulation\n",
        "!python3 -V\n",
        "!which pip3\n",
        "!pip3 install requests --upgrade --no-cache-dir"
      ],
      "metadata": {
        "colab": {
          "base_uri": "https://localhost:8080/"
        },
        "id": "sqfLm1RrUCKG",
        "outputId": "458b87e3-c1bc-45b0-c56b-494c0057a32a"
      },
      "execution_count": null,
      "outputs": [
        {
          "output_type": "stream",
          "name": "stdout",
          "text": [
            "Python 3.10.12\n",
            "/usr/local/bin/pip3\n",
            "Requirement already satisfied: requests in /usr/local/lib/python3.10/dist-packages (2.31.0)\n",
            "Requirement already satisfied: charset-normalizer<4,>=2 in /usr/local/lib/python3.10/dist-packages (from requests) (3.3.2)\n",
            "Requirement already satisfied: idna<4,>=2.5 in /usr/local/lib/python3.10/dist-packages (from requests) (3.6)\n",
            "Requirement already satisfied: urllib3<3,>=1.21.1 in /usr/local/lib/python3.10/dist-packages (from requests) (2.0.7)\n",
            "Requirement already satisfied: certifi>=2017.4.17 in /usr/local/lib/python3.10/dist-packages (from requests) (2024.2.2)\n"
          ]
        }
      ]
    },
    {
      "cell_type": "code",
      "source": [
        "# Here we import required libraries\n",
        "import requests\n",
        "import json"
      ],
      "metadata": {
        "id": "2XIyeg1NLhdH"
      },
      "execution_count": null,
      "outputs": []
    },
    {
      "cell_type": "code",
      "source": [
        "# Poloniex prices\n",
        "prices = requests.get(\"https://api.poloniex.com/markets/price\")\n",
        "prices_list = []\n",
        "\n",
        "if prices.status_code == 200:\n",
        "  prices_json = json.loads(prices.text)\n",
        "  for p in prices_json:\n",
        "    prices_list.append({\"ticker\": p[\"symbol\"], \"price\" : p[\"price\"]})"
      ],
      "metadata": {
        "id": "MyEk407EL1Ur"
      },
      "execution_count": null,
      "outputs": []
    },
    {
      "cell_type": "code",
      "source": [
        "print(prices_list)"
      ],
      "metadata": {
        "colab": {
          "base_uri": "https://localhost:8080/"
        },
        "id": "M0Bd9JfMNAWy",
        "outputId": "300a6ac6-719a-409e-a89e-aa5b4541d8ac"
      },
      "execution_count": null,
      "outputs": [
        {
          "output_type": "stream",
          "name": "stdout",
          "text": [
            "[{'ticker': 'BTS_BTC', 'price': '0.0000000625'}, {'ticker': 'DASH_BTC', 'price': '0.000624'}, {'ticker': 'DOGE_BTC', 'price': '0.0000025'}, {'ticker': 'LTC_BTC', 'price': '0.001401'}, {'ticker': 'XLM_BTC', 'price': '0.00000224'}, {'ticker': 'XEM_BTC', 'price': '0.000000515'}, {'ticker': 'XMR_BTC', 'price': '0.002226'}, {'ticker': 'XRP_BTC', 'price': '0.00000983'}, {'ticker': 'BTC_USDT', 'price': '64959.13'}, {'ticker': 'DASH_USDT', 'price': '39.5'}, {'ticker': 'LTC_USDT', 'price': '91.135'}, {'ticker': 'XLM_USDT', 'price': '0.1454'}, {'ticker': 'XMR_USDT', 'price': '144.98'}, {'ticker': 'XRP_USDT', 'price': '0.6387'}, {'ticker': 'ETH_BTC', 'price': '0.05428'}, {'ticker': 'ETH_USDT', 'price': '3524.25'}, {'ticker': 'SC_BTC', 'price': '0.00000014'}, {'ticker': 'DCR_BTC', 'price': '0.000402'}, {'ticker': 'LSK_BTC', 'price': '0.0000185'}, {'ticker': 'STEEM_BTC', 'price': '0.00000459'}, {'ticker': 'ETC_BTC', 'price': '0.000528'}, {'ticker': 'ETC_ETH', 'price': '0.00965'}, {'ticker': 'ETC_USDT', 'price': '34.366'}, {'ticker': 'ARDR_BTC', 'price': '0.000001912'}, {'ticker': 'ZEC_BTC', 'price': '0.000535'}, {'ticker': 'ZEC_ETH', 'price': '0.00951'}, {'ticker': 'ZEC_USDT', 'price': '32.5'}, {'ticker': 'ZRX_BTC', 'price': '0.00000686'}, {'ticker': 'ZRX_ETH', 'price': '0.00011'}, {'ticker': 'CVC_BTC', 'price': '0.000001955'}, {'ticker': 'OMG_BTC', 'price': '0.00001644'}, {'ticker': 'GAS_BTC', 'price': '0.0001186'}, {'ticker': 'STORJ_BTC', 'price': '0.0000122'}, {'ticker': 'EOS_BTC', 'price': '0.0000173'}, {'ticker': 'EOS_ETH', 'price': '0.0003273'}, {'ticker': 'EOS_USDT', 'price': '1.125'}, {'ticker': 'SNT_BTC', 'price': '0.00000065'}, {'ticker': 'KNC_BTC', 'price': '0.00001173'}, {'ticker': 'BAT_BTC', 'price': '0.00000479'}, {'ticker': 'BAT_USDT', 'price': '0.3293'}, {'ticker': 'LOOM_BTC', 'price': '0.00000175'}, {'ticker': 'DOGE_USDT', 'price': '0.163483'}, {'ticker': 'LSK_USDT', 'price': '1.2178'}, {'ticker': 'SC_USDT', 'price': '0.009097'}, {'ticker': 'ZRX_USDT', 'price': '0.4303'}, {'ticker': 'QTUM_BTC', 'price': '0.0000777'}, {'ticker': 'QTUM_USDT', 'price': '5.446'}, {'ticker': 'BTC_USDC', 'price': '64895.38'}, {'ticker': 'ETH_USDC', 'price': '3515.83'}, {'ticker': 'USDT_USDC', 'price': '0.99967'}, {'ticker': 'MANA_BTC', 'price': '0.00001071'}, {'ticker': 'MANA_USDT', 'price': '0.6814'}, {'ticker': 'BNT_BTC', 'price': '0.00001251'}, {'ticker': 'BCHSV_BTC', 'price': '0.00177'}, {'ticker': 'BCHSV_USDC', 'price': '120'}, {'ticker': 'XRP_USDC', 'price': '0.605'}, {'ticker': 'XMR_USDC', 'price': '148'}, {'ticker': 'XLM_USDC', 'price': '0.1287'}, {'ticker': 'DOGE_USDC', 'price': '0.152'}, {'ticker': 'LTC_USDC', 'price': '91.9'}, {'ticker': 'ZEC_USDC', 'price': '32.18'}, {'ticker': 'NMR_BTC', 'price': '0.0005484'}, {'ticker': 'POLY_BTC', 'price': '0.000001364'}, {'ticker': 'LPT_BTC', 'price': '0.0002354'}, {'ticker': 'ATOM_BTC', 'price': '0.000194'}, {'ticker': 'ATOM_USDC', 'price': '12.66'}, {'ticker': 'ATOM_USDT', 'price': '12.638'}, {'ticker': 'DASH_USDC', 'price': '38.37'}, {'ticker': 'EOS_USDC', 'price': '1.1111'}, {'ticker': 'ETC_USDC', 'price': '35'}, {'ticker': 'BCHSV_USDT', 'price': '109.29'}, {'ticker': 'TRX_BTC', 'price': '0.000002161'}, {'ticker': 'TRX_USDC', 'price': '0.14493'}, {'ticker': 'TRX_USDT', 'price': '0.14063'}, {'ticker': 'ETH_TRX', 'price': '24975.09'}, {'ticker': 'XRP_TRX', 'price': '4.548'}, {'ticker': 'BTT_USDT', 'price': '0.000001515'}, {'ticker': 'BTT_TRX', 'price': '0.00001082'}, {'ticker': 'WIN_USDT', 'price': '0.00017416'}, {'ticker': 'WIN_TRX', 'price': '0.001202'}, {'ticker': 'STEEM_TRX', 'price': '1.821'}, {'ticker': 'LINK_BTC', 'price': '0.0003187'}, {'ticker': 'LINK_TRX', 'price': '146.73'}, {'ticker': 'XTZ_BTC', 'price': '0.00002218'}, {'ticker': 'XTZ_USDT', 'price': '1.4717'}, {'ticker': 'XTZ_TRX', 'price': '8.94'}, {'ticker': 'USDJ_USDT', 'price': '1.1127'}, {'ticker': 'SNX_BTC', 'price': '0.0000677'}, {'ticker': 'SNX_USDT', 'price': '4.41'}, {'ticker': 'SNX_TRX', 'price': '29.88'}, {'ticker': 'MATIC_BTC', 'price': '0.0000183'}, {'ticker': 'MATIC_USDT', 'price': '1.10683'}, {'ticker': 'MATIC_TRX', 'price': '7.9'}, {'ticker': 'MKR_BTC', 'price': '0.03211'}, {'ticker': 'MKR_USDT', 'price': '2103.57'}, {'ticker': 'DAI_USDT', 'price': '1.00038'}, {'ticker': 'NEO_BTC', 'price': '0.0002868'}, {'ticker': 'NEO_USDT', 'price': '17.18'}, {'ticker': 'NEO_TRX', 'price': '121.92'}, {'ticker': 'SWFTC_BTC', 'price': '0.0000000299'}, {'ticker': 'SWFTC_USDT', 'price': '0.001707'}, {'ticker': 'SWFTC_TRX', 'price': '0.02182'}, {'ticker': 'JST_USDT', 'price': '0.040921'}, {'ticker': 'JST_TRX', 'price': '0.2869'}, {'ticker': 'STEEM_USDT', 'price': '0.29727'}, {'ticker': 'LINK_USDT', 'price': '20.7254'}, {'ticker': 'AVA_BTC', 'price': '0.00001165'}, {'ticker': 'AVA_USDT', 'price': '0.7557'}, {'ticker': 'AVA_TRX', 'price': '5.37'}, {'ticker': 'XRPBULL_USDT', 'price': '0.00000323'}, {'ticker': 'CHR_BTC', 'price': '0.000006644'}, {'ticker': 'CHR_USDT', 'price': '0.37'}, {'ticker': 'CHR_TRX', 'price': '2.7'}, {'ticker': 'BTC_BNB', 'price': '137.8'}, {'ticker': 'BNB_USDT', 'price': '421.72'}, {'ticker': 'BNB_TRX', 'price': '2996.09'}, {'ticker': 'MDT_BTC', 'price': '0.000001488'}, {'ticker': 'MDT_USDT', 'price': '0.07264'}, {'ticker': 'MDT_TRX', 'price': '0.7123'}, {'ticker': 'COMP_USDT', 'price': '84.91'}, {'ticker': 'COMP_ETH', 'price': '0.02707'}, {'ticker': 'REN_BTC', 'price': '0.00000136'}, {'ticker': 'REN_USDT', 'price': '0.0895'}, {'ticker': 'LRC_BTC', 'price': '0.00000517'}, {'ticker': 'LRC_USDT', 'price': '0.376'}, {'ticker': 'BAL_USDT', 'price': '5.342'}, {'ticker': 'WRX_BTC', 'price': '0.00000527'}, {'ticker': 'WRX_USDT', 'price': '0.3386'}, {'ticker': 'WRX_TRX', 'price': '2.4'}, {'ticker': 'SXP_BTC', 'price': '0.00000678'}, {'ticker': 'SXP_USDT', 'price': '0.5'}, {'ticker': 'SXP_TRX', 'price': '3.7'}, {'ticker': 'YFI_USDT', 'price': '9508.2'}, {'ticker': 'STPT_BTC', 'price': '0.000001'}, {'ticker': 'STPT_USDT', 'price': '0.0657'}, {'ticker': 'UMA_USDT', 'price': '3.73'}, {'ticker': 'RING_USDT', 'price': '0.004'}, {'ticker': 'SWAP_BTC', 'price': '0.000002113'}, {'ticker': 'SWAP_USDT', 'price': '0.1252'}, {'ticker': 'GEEQ_USDT', 'price': '0.0949'}, {'ticker': 'BAND_USDT', 'price': '2.3'}, {'ticker': 'DOS_USDT', 'price': '0.001011'}, {'ticker': 'DIA_USDT', 'price': '0.6087'}, {'ticker': 'TRB_USDT', 'price': '120.12'}, {'ticker': 'CRV_USDT', 'price': '0.62'}, {'ticker': 'OM_USDT', 'price': '0.27'}, {'ticker': 'OCEAN_USDT', 'price': '1.0949'}, {'ticker': 'BLY_USDT', 'price': '0.004517'}, {'ticker': 'SWINGBY_BTC', 'price': '0.00000000426'}, {'ticker': 'SWINGBY_USDT', 'price': '0.000244'}, {'ticker': 'SWINGBY_TRX', 'price': '0.00278'}, {'ticker': 'PRQ_USDT', 'price': '0.0887'}, {'ticker': 'DOT_USDT', 'price': '10.1'}, {'ticker': 'RSR_USDT', 'price': '0.003999'}, {'ticker': 'WNXM_USDT', 'price': '68.98'}, {'ticker': 'FCT2_USDT', 'price': '0.06758'}, {'ticker': 'FCT2_BTC', 'price': '0.000001074'}, {'ticker': 'SUSHI_USDT', 'price': '1.7453'}, {'ticker': 'YFII_USDT', 'price': '798.97'}, {'ticker': 'FUND_USDT', 'price': '0.26332'}, {'ticker': 'FUND_TRX', 'price': '1.7068'}, {'ticker': 'FUND_BTC', 'price': '0.000004067'}, {'ticker': 'AKRO_USDT', 'price': '0.007'}, {'ticker': 'AKRO_BTC', 'price': '0.0000000951'}, {'ticker': 'UNI_USDT', 'price': '12.4988'}, {'ticker': 'DHT_USDT', 'price': '0.1047'}, {'ticker': 'CVP_USDT', 'price': '0.496'}, {'ticker': 'GHST_USDT', 'price': '1.0594'}, {'ticker': 'REPV2_BTC', 'price': '0.000017'}, {'ticker': 'REPV2_USDT', 'price': '1.036'}, {'ticker': 'RARI_USDT', 'price': '1.096'}, {'ticker': 'AMP_BTC', 'price': '0.0000000762'}, {'ticker': 'AMP_USDT', 'price': '0.005007'}, {'ticker': 'AMP_TRX', 'price': '0.0285'}, {'ticker': 'SAND_BTC', 'price': '0.00001595'}, {'ticker': 'SAND_USDT', 'price': '0.7022'}, {'ticker': 'POLS_USDT', 'price': '0.9999'}, {'ticker': 'AAVE_BTC', 'price': '0.001738'}, {'ticker': 'AAVE_USDT', 'price': '113.43'}, {'ticker': 'CVT_BTC', 'price': '0.00000004874'}, {'ticker': 'CVT_USDT', 'price': '0.00125'}, {'ticker': 'INJ_BTC', 'price': '0.00066677'}, {'ticker': 'INJ_USDT', 'price': '39.8'}, {'ticker': 'BCH_BTC', 'price': '0.00701'}, {'ticker': 'BCH_USDT', 'price': '454.89'}, {'ticker': 'BCH_USDC', 'price': '365.03'}, {'ticker': 'SENSO_BTC', 'price': '0.000001097'}, {'ticker': 'SENSO_USDT', 'price': '0.0688'}, {'ticker': 'KP3R_USDT', 'price': '89.1'}, {'ticker': 'GLM_BTC', 'price': '0.00000504'}, {'ticker': 'GLM_USDT', 'price': '0.3152'}, {'ticker': 'ZLOT_USDT', 'price': '4'}, {'ticker': 'WBTC_BTC', 'price': '0.96'}, {'ticker': 'WBTC_USDT', 'price': '59043.43'}, {'ticker': 'FRONT_BTC', 'price': '0.00001045'}, {'ticker': 'FRONT_USDT', 'price': '0.6701'}, {'ticker': 'API3_USDT', 'price': '3.4781'}, {'ticker': 'BADGER_USDT', 'price': '5.059'}, {'ticker': 'FARM_BTC', 'price': '0.000803'}, {'ticker': 'FARM_USDT', 'price': '47.27'}, {'ticker': 'DOT_BTC', 'price': '0.0001555'}, {'ticker': 'GRT_USDT', 'price': '0.3151'}, {'ticker': 'ESD_USDT', 'price': '0.000702'}, {'ticker': 'ONEINCH_USDT', 'price': '0.534'}, {'ticker': 'REEF_USDT', 'price': '0.001995'}, {'ticker': 'LON_USDT', 'price': '0.4308'}, {'ticker': 'ROOK_USDT', 'price': '0.38'}, {'ticker': 'TRU_USDT', 'price': '0.08214'}, {'ticker': 'CUDOS_USDT', 'price': '0.01849'}, {'ticker': 'BOND_USDT', 'price': '3.86'}, {'ticker': 'TUSD_USDT', 'price': '0.99765'}, {'ticker': 'TUSD_USDC', 'price': '0.99721'}, {'ticker': 'WETH_USDT', 'price': '1400.01'}, {'ticker': 'TRU_BTC', 'price': '0.000001202'}, {'ticker': 'FTT_USDT', 'price': '2.181'}, {'ticker': 'SRM_USDT', 'price': '0.0519'}, {'ticker': 'LPT_USDT', 'price': '13.84'}, {'ticker': 'BTC_TUSD', 'price': '64573.98'}, {'ticker': 'ETH_TUSD', 'price': '3529.62'}, {'ticker': 'ALPHA_USDT', 'price': '0.1455'}, {'ticker': 'TORN_USDT', 'price': '1.57'}, {'ticker': 'ZKS_USDT', 'price': '0.015'}, {'ticker': 'RNDR_USDT', 'price': '8'}, {'ticker': 'KCS_USDT', 'price': '9.59'}, {'ticker': 'FIL_BTC', 'price': '0.000156'}, {'ticker': 'FIL_USDT', 'price': '10.127'}, {'ticker': 'XYM_BTC', 'price': '0.000000473'}, {'ticker': 'XYM_USDT', 'price': '0.03'}, {'ticker': 'LIVE_USDT', 'price': '0.01281'}, {'ticker': 'SHIB_USDT', 'price': '0.000026979'}, {'ticker': 'AKITA_USDT', 'price': '0.0000002201'}, {'ticker': 'KLV_USDT', 'price': '0.00418'}, {'ticker': 'KLV_BTC', 'price': '0.0000000654'}, {'ticker': 'KLV_TRX', 'price': '0.0319'}, {'ticker': 'LQTY_USDT', 'price': '1.736'}, {'ticker': 'DEGO_USDT', 'price': '2.299'}, {'ticker': 'ELON_USDT', 'price': '0.0000002129'}, {'ticker': 'QUICK_USDT', 'price': '0.0753'}, {'ticker': 'MVL_USDT', 'price': '0.002999'}, {'ticker': 'NFT_USDT', 'price': '0.00000068331'}, {'ticker': 'NFT_TRX', 'price': '0.000004759'}, {'ticker': 'HT_USDT', 'price': '1.172'}, {'ticker': 'CTSI_USDT', 'price': '0.3734'}, {'ticker': 'RLC_USDT', 'price': '3.89'}, {'ticker': 'ERSDL_USDT', 'price': '0.003391'}, {'ticker': 'RUNE_USDT', 'price': '5.7241'}, {'ticker': 'KISHU_TRX', 'price': '0.000000002096'}, {'ticker': 'GTC_USDT', 'price': '2.103'}, {'ticker': 'OKB_USDT', 'price': '36'}, {'ticker': 'SUN_USDT', 'price': '0.0116875'}, {'ticker': 'SUN_TRX', 'price': '0.07899'}, {'ticker': 'XEC_USDT', 'price': '0.00004602'}, {'ticker': 'CAKE_USDT', 'price': '3.354'}, {'ticker': 'XVS_USDT', 'price': '10.567'}, {'ticker': 'BURGER_USDT', 'price': '0.5001'}, {'ticker': 'AXS_USDT', 'price': '10.93'}, {'ticker': 'ALPACA_USDT', 'price': '0.2494'}, {'ticker': 'C98_USDT', 'price': '0.4274'}, {'ticker': 'PERP_USDT', 'price': '1.2453'}, {'ticker': 'TRU_TUSD', 'price': '0.08216'}, {'ticker': 'ACH1_USDT', 'price': '0.02161'}, {'ticker': 'CLV_USDT', 'price': '0.0712'}, {'ticker': 'YGG_USDT', 'price': '0.6681'}, {'ticker': 'ALICE_USDT', 'price': '2.004'}, {'ticker': 'AUDIO_USDT', 'price': '0.2999'}, {'ticker': 'BIT_USDT', 'price': '0.5961'}, {'ticker': 'BNB_USDC', 'price': '435.6'}, {'ticker': 'LINK_USDC', 'price': '19.693'}, {'ticker': 'MBOX_USDT', 'price': '0.4949'}, {'ticker': 'MATTER_USDT', 'price': '0.0599'}, {'ticker': 'MATTER_TRX', 'price': '0.33'}, {'ticker': 'AGLD_USDT', 'price': '1.5895'}, {'ticker': 'MATIC_USDC', 'price': '1.2499'}, {'ticker': 'MANA_USDC', 'price': '0.677'}, {'ticker': 'XEM_USDC', 'price': '0.04892'}, {'ticker': 'BTT_USDC', 'price': '0.0000014939'}, {'ticker': 'SRM_USDC', 'price': '0.0565'}, {'ticker': 'XEM_USDT', 'price': '0.03332'}, {'ticker': 'SRM_BTC', 'price': '0.00000052'}, {'ticker': 'DYDX_USDT', 'price': '3.6'}, {'ticker': 'XCAD_USDT', 'price': '1.7698'}, {'ticker': 'GALA_USDT', 'price': '0.04865'}, {'ticker': 'LDO_USDT', 'price': '3.368'}, {'ticker': 'BTRST_USDT', 'price': '1.086'}, {'ticker': 'FLOKI_USDT', 'price': '0.000157'}, {'ticker': 'TOKE_USDT', 'price': '1.388'}, {'ticker': 'WNCG_USDT', 'price': '0.0333'}, {'ticker': 'MLN_USDT', 'price': '20.23'}, {'ticker': 'WOO_USDT', 'price': '0.59'}, {'ticker': 'ENJ_USDT', 'price': '0.2366'}, {'ticker': 'CHZ_USDT', 'price': '0.1552'}, {'ticker': 'SLP_USDT', 'price': '0.008'}, {'ticker': 'OGN_USDT', 'price': '0.1406'}, {'ticker': 'PLA_USDT', 'price': '0.2072'}, {'ticker': 'TLM_USDT', 'price': '0.0257'}, {'ticker': 'SUPER_USDT', 'price': '1.4075'}, {'ticker': 'ILV_USDT', 'price': '93.01'}, {'ticker': 'ERN_USDT', 'price': '1.5604'}, {'ticker': 'SPELL_USDT', 'price': '0.0015'}, {'ticker': 'EFI_USDT', 'price': '0.0467'}, {'ticker': 'RACA_USDT', 'price': '0.0003006'}, {'ticker': 'AVAX_USDT', 'price': '43.337'}, {'ticker': 'GMEE_USDT', 'price': '0.02002'}, {'ticker': 'CVX_USDT', 'price': '5.165'}, {'ticker': 'SHIB_USDC', 'price': '0.00002885'}, {'ticker': 'AVAX_USDC', 'price': '40.71'}, {'ticker': 'AVAX_BTC', 'price': '0.000663'}, {'ticker': 'ENS_USDT', 'price': '15.47'}, {'ticker': 'IMX_USDT', 'price': '3.2243'}, {'ticker': 'KDOE_USDT', 'price': '0.004964'}, {'ticker': 'GN_USDT', 'price': '0.00000044'}, {'ticker': 'SAITAMA_USDT', 'price': '0.000994'}, {'ticker': 'BOBA_USDT', 'price': '0.2185'}, {'ticker': 'POLYDOGE_USDT', 'price': '0.000000013'}, {'ticker': 'HEX_USDT', 'price': '0.00954'}, {'ticker': 'FXS_USDT', 'price': '8.861'}, {'ticker': 'DYP_USDT', 'price': '0.1002'}, {'ticker': 'TRIBE_USDT', 'price': '0.2654'}, {'ticker': 'SOL_USDT', 'price': '132.493'}, {'ticker': 'SOL_BTC', 'price': '0.002037'}, {'ticker': 'SOL_USDC', 'price': '130'}, {'ticker': 'DORA_USDT', 'price': '0.67'}, {'ticker': 'PEOPLE_USDT', 'price': '0.05251'}, {'ticker': 'PSP_USDT', 'price': '0.05945'}, {'ticker': 'NEXO_USDT', 'price': '1.3723'}, {'ticker': 'FTM_USDT', 'price': '0.7406'}, {'ticker': 'BNX_USDT', 'price': '0.3158'}, {'ticker': 'QI_USDT', 'price': '0.02389'}, {'ticker': 'ADA_USDT', 'price': '0.79247'}, {'ticker': 'REQ_USDT', 'price': '0.1082'}, {'ticker': 'SAMO_USDT', 'price': '0.01654'}, {'ticker': 'ATLAS_USDT', 'price': '0.006859'}, {'ticker': 'POLIS_USDT', 'price': '0.5444'}, {'ticker': 'FIDA_USDT', 'price': '0.406'}, {'ticker': 'BICO_USDT', 'price': '0.6799'}, {'ticker': 'GODS_USDT', 'price': '0.1436'}, {'ticker': 'RBN_USDT', 'price': '0.75'}, {'ticker': 'PYR_USDT', 'price': '8.522'}, {'ticker': 'SOS_USDT', 'price': '0.0000000255'}, {'ticker': 'HIGH_USDT', 'price': '2.1275'}, {'ticker': 'VOXEL_USDT', 'price': '0.3101'}, {'ticker': 'ADA_BTC', 'price': '0.00001221'}, {'ticker': 'ADA_USDC', 'price': '0.7775'}, {'ticker': 'CTC_USDT', 'price': '0.5376'}, {'ticker': 'METIS_USDT', 'price': '95.95'}, {'ticker': 'OOKI_USDT', 'price': '0.001803'}, {'ticker': 'LOOKS_USDT', 'price': '0.095'}, {'ticker': 'FTM_USDC', 'price': '0.6999'}, {'ticker': 'FTM_BTC', 'price': '0.00001038'}, {'ticker': 'SHPING_USDT', 'price': '0.00443'}, {'ticker': 'LOKA_USDT', 'price': '0.3656'}, {'ticker': 'VRA_USDT', 'price': '0.012833'}, {'ticker': 'SUKU_USDT', 'price': '0.03539'}, {'ticker': 'NCT_USDT', 'price': '0.01117'}, {'ticker': 'HUNT_USDT', 'price': '0.1507'}, {'ticker': 'TITAN_USDT', 'price': '0.004'}, {'ticker': 'UMEE_USDT', 'price': '0.00485'}, {'ticker': 'ALPINE_USDT', 'price': '2.501'}, {'ticker': 'GMT_USDT', 'price': '0.2287'}, {'ticker': 'AERGO_USDT', 'price': '0.0954'}, {'ticker': 'APE_USDT', 'price': '2.156'}, {'ticker': 'NVIR_USDT', 'price': '0.00485'}, {'ticker': 'STG_USDT', 'price': '0.7117'}, {'ticker': 'CULT_USDT', 'price': '0.0000017'}, {'ticker': 'KSM_USDT', 'price': '56.34'}, {'ticker': 'ZELIX_USDT', 'price': '0.0005204'}, {'ticker': 'CEEK_USDT', 'price': '0.0577'}, {'ticker': 'NYM_USDT', 'price': '0.25'}, {'ticker': 'CAW_USDT', 'price': '0.00000007983'}, {'ticker': 'DAR_USDT', 'price': '0.2346'}, {'ticker': 'USDD_USDT', 'price': '1.00194'}, {'ticker': 'GAL_USDT', 'price': '2.753'}, {'ticker': 'FITFI_USDT', 'price': '0.01071'}, {'ticker': 'USDD_USDC', 'price': '1.00073'}, {'ticker': 'BTC_USDD', 'price': '64785.05'}, {'ticker': 'ETH_USDD', 'price': '3490.93'}, {'ticker': 'TRX_USDD', 'price': '0.14034'}, {'ticker': 'BTT_USDD', 'price': '0.0000015072'}, {'ticker': 'NFT_USDD', 'price': '0.00000068129'}, {'ticker': 'JST_USDD', 'price': '0.040231'}, {'ticker': 'WIN_USDD', 'price': '0.00017678'}, {'ticker': 'SUN_USDD', 'price': '0.0116459'}, {'ticker': 'TUSD_USDD', 'price': '1.00481'}, {'ticker': 'ELON_USDD', 'price': '0.0000002136'}, {'ticker': 'SHIB_USDD', 'price': '0.000026914'}, {'ticker': 'DOGE_USDD', 'price': '0.15986'}, {'ticker': 'XRP_USDD', 'price': '0.6401'}, {'ticker': 'LTC_USDD', 'price': '90.9'}, {'ticker': 'DOT_USDD', 'price': '8.311'}, {'ticker': 'XCN_USDT', 'price': '0.0017'}, {'ticker': 'FRAX_USDT', 'price': '0.3333'}, {'ticker': 'FRAX_USDD', 'price': '1.0007'}, {'ticker': 'KUB_USDT', 'price': '2.884'}, {'ticker': 'KUB_USDD', 'price': '2.263'}, {'ticker': 'KSM_USDD', 'price': '40'}, {'ticker': 'WLKN_USDT', 'price': '0.00515'}, {'ticker': 'WLKN_USDD', 'price': '0.01054'}, {'ticker': 'BNT_USDT', 'price': '0.7437'}, {'ticker': 'LOOM_USDT', 'price': '0.10201'}, {'ticker': 'KNC_USDT', 'price': '0.7219'}, {'ticker': 'SNT_USDT', 'price': '0.04914'}, {'ticker': 'LUNA_USDT', 'price': '0.85'}, {'ticker': 'LUNC_USDT', 'price': '0.00019382'}, {'ticker': 'LUNC_USDD', 'price': '0.0001675'}, {'ticker': 'ETHW_USDD', 'price': '3.694'}, {'ticker': 'ETHW_USDT', 'price': '3.707'}, {'ticker': 'ETHW_ETH', 'price': '0.00103'}, {'ticker': 'POLOTEST2_POLOTEST1', 'price': '5.5'}, {'ticker': 'POLOTEST3_POLOTEST4', 'price': '5.5'}, {'ticker': 'POLOTEST2_POLOTEST4', 'price': '5.5'}, {'ticker': 'POLOTEST2_POLOTEST3', 'price': '5.5'}, {'ticker': 'POLOTEST1_POLOTEST4', 'price': '5.5'}, {'ticker': 'POLOTEST1_POLOTEST3', 'price': '5.5'}, {'ticker': 'POLOTEST1_POLOTEST2', 'price': '5.5'}, {'ticker': 'SANTOS_USDT', 'price': '7.0662'}, {'ticker': 'NMR_USDT', 'price': '33.73'}, {'ticker': 'CVC_USDT', 'price': '0.1271'}, {'ticker': 'STORJ_USDT', 'price': '0.8289'}, {'ticker': 'OMG_USDT', 'price': '1.0434'}, {'ticker': 'ETHF_USDT', 'price': '7.782'}, {'ticker': 'ETHF_USDD', 'price': '7.8'}, {'ticker': 'POLY_USDT', 'price': '0.0949'}, {'ticker': 'DC_USDT', 'price': '0.0078'}, {'ticker': 'DC_USDD', 'price': '0.0069'}, {'ticker': 'SSV_USDT', 'price': '33.52'}, {'ticker': 'SSV_USDD', 'price': '30'}, {'ticker': 'APX_USDT', 'price': '0.02188'}, {'ticker': 'APX_USDD', 'price': '0.1'}, {'ticker': 'LUNA_USDD', 'price': '0.687'}, {'ticker': 'AFC_USDD', 'price': '0.75'}, {'ticker': 'AFC_USDT', 'price': '1.1701'}, {'ticker': 'CITY_USDD', 'price': '0.466'}, {'ticker': 'CITY_USDT', 'price': '3.3'}, {'ticker': 'ZBC_USDD', 'price': '0.01'}, {'ticker': 'ZBC_USDT', 'price': '0.0151'}, {'ticker': 'CHZ_USDD', 'price': '0.1422'}, {'ticker': 'XEN_USDD', 'price': '0.00000087'}, {'ticker': 'XEN_USDT', 'price': '0.00000128'}, {'ticker': 'BTS_USDT', 'price': '0.00387'}, {'ticker': 'DCR_USDT', 'price': '25.5'}, {'ticker': 'ARDR_USDT', 'price': '0.12'}, {'ticker': 'GAS_USDT', 'price': '7.342'}, {'ticker': 'SANTOS_USDD', 'price': '6'}, {'ticker': 'HFT_USDD', 'price': '0.35'}, {'ticker': 'HFT_USDT', 'price': '0.4974'}, {'ticker': 'OP_USDD', 'price': '6.4996'}, {'ticker': 'OP_USDT', 'price': '3.9433'}, {'ticker': 'GMX_USDD', 'price': '41.97'}, {'ticker': 'GMX_USDT', 'price': '73'}, {'ticker': 'NEAR_USDD', 'price': '4.46'}, {'ticker': 'NEAR_USDT', 'price': '4.553'}, {'ticker': 'ACM_USDD', 'price': '3.5'}, {'ticker': 'ACM_USDT', 'price': '3.4998'}, {'ticker': 'JUV_USDD', 'price': '2.9998'}, {'ticker': 'JUV_USDT', 'price': '5'}, {'ticker': 'ASR_USDD', 'price': '2'}, {'ticker': 'ASR_USDT', 'price': '1.5'}, {'ticker': 'PSG_USDD', 'price': '2.985'}, {'ticker': 'PSG_USDT', 'price': '4.425'}, {'ticker': 'TON_USDT', 'price': '3.175'}, {'ticker': 'MASK_USDD', 'price': '3.539'}, {'ticker': 'MASK_USDT', 'price': '3.51'}, {'ticker': 'ARG_USDD', 'price': '0.528'}, {'ticker': 'ARG_USDT', 'price': '2.126'}, {'ticker': 'POR_USDD', 'price': '5'}, {'ticker': 'POR_USDT', 'price': '2.2'}, {'ticker': 'APT_USDD', 'price': '12.27'}, {'ticker': 'APT_USDT', 'price': '12.559'}, {'ticker': 'VELO_USDT', 'price': '0.007299'}, {'ticker': 'VINU_USDD', 'price': '0.0000000149'}, {'ticker': 'VINU_USDT', 'price': '0.00000002567'}, {'ticker': 'BAR_USDD', 'price': '2.001'}, {'ticker': 'BAR_USDT', 'price': '3.065'}, {'ticker': 'ATM_USDD', 'price': '1.17'}, {'ticker': 'ATM_USDT', 'price': '2.899'}, {'ticker': 'CEL_USDT', 'price': '0.1699'}, {'ticker': 'BITCI_USDD', 'price': '0.003318'}, {'ticker': 'BITCI_USDT', 'price': '0.0015'}, {'ticker': 'BFT_USDD', 'price': '0.075'}, {'ticker': 'BFT_USDT', 'price': '0.0999'}, {'ticker': 'VGX_USDD', 'price': '0.22'}, {'ticker': 'VGX_USDT', 'price': '0.1355'}, {'ticker': 'PORTO_USDD', 'price': '0.99'}, {'ticker': 'PORTO_USDT', 'price': '2.976'}, {'ticker': 'LAZIO_USDD', 'price': '1.33'}, {'ticker': 'LAZIO_USDT', 'price': '2.952'}, {'ticker': 'TON_USDD', 'price': '3.409'}, {'ticker': 'FLR_USDT', 'price': '0.04101'}, {'ticker': 'UT_USDT', 'price': '0.00573'}, {'ticker': 'TRR_USDT', 'price': '0.0125'}, {'ticker': 'BONK_USDD', 'price': '0.000024999'}, {'ticker': 'BONK_USDT', 'price': '0.000034467'}, {'ticker': 'OG_USDD', 'price': '1.891'}, {'ticker': 'OG_USDT', 'price': '4.248'}, {'ticker': 'VOLT_USDT', 'price': '0.00000074159'}, {'ticker': 'CEL_USDD', 'price': '0.0677'}, {'ticker': 'DUSK_USDT', 'price': '0.3286'}, {'ticker': 'PSI_USDT', 'price': '0.022'}, {'ticker': 'GNS_USDT', 'price': '6.454'}, {'ticker': 'SUDO_USDT', 'price': '0.24'}, {'ticker': 'IGU_USDT', 'price': '0.0398'}, {'ticker': 'BABYDOGE_USDT', 'price': '0.000000001899'}, {'ticker': 'KON_USDT', 'price': '0.00094'}, {'ticker': 'ICP_USDT', 'price': '13.346'}, {'ticker': 'BLUR_USDT', 'price': '0.7136'}, {'ticker': 'CARMIN_USDT', 'price': '0.00500022'}, {'ticker': 'FET_USDT', 'price': '1.8998'}, {'ticker': 'CORE_USDT', 'price': '0.77'}, {'ticker': 'IMGNAI_USDT', 'price': '0.02625'}, {'ticker': 'AGIX_USDT', 'price': '0.9897'}, {'ticker': 'RPL_USDT', 'price': '31.05'}, {'ticker': 'TSUKA_USDT', 'price': '0.03368'}, {'ticker': 'FACTR_USDT', 'price': '0.05932'}, {'ticker': 'GPT_USDT', 'price': '0.012'}, {'ticker': 'BONE_USDT', 'price': '0.7101'}, {'ticker': 'ALI_USDT', 'price': '0.04689'}, {'ticker': 'SDAO_USDT', 'price': '0.3785'}, {'ticker': 'GFT_USDT', 'price': '0.0246'}, {'ticker': 'COLLAB_USDT', 'price': '0.00991'}, {'ticker': 'LOGT_USDT', 'price': '0.002'}, {'ticker': 'RDNT_USDT', 'price': '0.3299'}, {'ticker': 'ROCK_USDT', 'price': '0.000249'}, {'ticker': 'MUTE_USDT', 'price': '0.6847'}, {'ticker': 'RIF_USDT', 'price': '0.1427'}, {'ticker': 'BRISE_USDT', 'price': '0.0000002036'}, {'ticker': 'POOLX_USDT', 'price': '5.5'}, {'ticker': 'PAW_USDT', 'price': '0.00000404'}, {'ticker': 'PENDLE_USDT', 'price': '3.3234'}, {'ticker': 'ID_USDT', 'price': '0.4612'}, {'ticker': 'ARB_USDT', 'price': '2.0108'}, {'ticker': 'PERL_USDT', 'price': '0.00224'}, {'ticker': 'GDX_USDT', 'price': '0.0014'}, {'ticker': 'RIO_USDT', 'price': '0.8252'}, {'ticker': 'USH_USDT', 'price': '0.0323'}, {'ticker': 'RUG_USDT', 'price': '0.00000039'}, {'ticker': 'BOBO_USDT', 'price': '0.000000001972'}, {'ticker': 'MEMEME_USDT', 'price': '0.0000062'}, {'ticker': 'BABYPEPE_USDT', 'price': '0.00000000074'}, {'ticker': 'CGPT_USDT', 'price': '0.3724'}, {'ticker': 'CHAD_USDT', 'price': '0.00000083'}, {'ticker': 'WOJAK_USDT', 'price': '0.0006925'}, {'ticker': 'AGI_USDT', 'price': '0.004'}, {'ticker': 'PEPE_USDT', 'price': '0.00000739971'}, {'ticker': 'AIDOGE_USDT', 'price': '0.0000000003028'}, {'ticker': 'LZM_USDT', 'price': '0.04731'}, {'ticker': 'WIFI_USDT', 'price': '0.17994'}, {'ticker': 'RMV_USDT', 'price': '0.03687'}, {'ticker': 'POOH_USDT', 'price': '0.0000000046'}, {'ticker': 'RIBBIT_USDT', 'price': '0.00000000394'}, {'ticker': 'TURBO_USDT', 'price': '0.000652'}, {'ticker': 'CLIPS_USDT', 'price': '0.00000064'}, {'ticker': 'WSB_USDT', 'price': '0.0000021'}, {'ticker': 'POGAI_USDT', 'price': '0.0001003'}, {'ticker': 'FLOKICEO_USDT', 'price': '0.00000000000963'}, {'ticker': 'SUI_USDT', 'price': '1.525'}, {'ticker': 'BOB_USDT', 'price': '0.00004749'}, {'ticker': 'SOV_USDT', 'price': '0.0000000058'}, {'ticker': 'SOLO_USDT', 'price': '0.1586'}, {'ticker': 'COREUM_USDT', 'price': '0.1513'}, {'ticker': 'REKT_USDT', 'price': '0.00000000127'}, {'ticker': 'CAPO_USDT', 'price': '0.001127'}, {'ticker': 'BAM_USDT', 'price': '0.0000000038'}, {'ticker': 'BEN_USDT', 'price': '0.00000000609'}, {'ticker': 'KING_USDT', 'price': '0.0000276'}, {'ticker': 'WSTREETBABY_USDT', 'price': '0.0000000106'}, {'ticker': 'BIBI_USDT', 'price': '0.0000000016919'}, {'ticker': 'FOUR_USDT', 'price': '0.00000116'}, {'ticker': 'SPONGE_USDT', 'price': '0.000413'}, {'ticker': 'RFD_USDT', 'price': '0.00000485'}, {'ticker': 'WEWE_USDT', 'price': '0.00000076'}, {'ticker': 'LIMO_USDT', 'price': '0.01021'}, {'ticker': 'OGGY_USDT', 'price': '0.0000000000245'}, {'ticker': 'DONS_USDT', 'price': '0.0000935'}, {'ticker': 'PEPEAI_USDT', 'price': '0.00000000397'}, {'ticker': 'SIMPSON_USDT', 'price': '0.00000000000675'}, {'ticker': 'HARRY_USDT', 'price': '0.069997'}, {'ticker': 'LADYS_USDT', 'price': '0.0000001046'}, {'ticker': 'MONG_USDT', 'price': '0.000000019987'}, {'ticker': 'LBR_USDT', 'price': '0.266'}, {'ticker': 'PAPI_USDT', 'price': '0.000000262'}, {'ticker': 'AMC_USDT', 'price': '0.0668'}, {'ticker': 'PSYOP_USDT', 'price': '0.000129'}, {'ticker': 'DMT_USDT', 'price': '0.02'}, {'ticker': 'BNBDADDY_USDT', 'price': '0.00000007'}, {'ticker': 'BIG_USDT', 'price': '0.000002151'}, {'ticker': 'LVL_USDT', 'price': '0.337'}, {'ticker': 'KWENTA_USDT', 'price': '40.01'}, {'ticker': 'DUMMY_USDT', 'price': '0.0000000787'}, {'ticker': 'LOVESNOOPY_USDT', 'price': '0.0000000029'}, {'ticker': 'INU_USDT', 'price': '0.00000001099'}, {'ticker': 'FERC_USDT', 'price': '0.07'}, {'ticker': 'STT_USDT', 'price': '0.8'}, {'ticker': 'JESUS_USDT', 'price': '0.00000017154'}, {'ticker': 'WFAI_USDT', 'price': '0.0000000052'}, {'ticker': 'PEPE2_USDT', 'price': '0.000000064'}, {'ticker': 'MMT_USDT', 'price': '0.073'}, {'ticker': 'UPP_USDT', 'price': '0.08689'}, {'ticker': 'TOKAMAK_USDT', 'price': '2.5998'}, {'ticker': 'MPWR_USDT', 'price': '0.00013'}, {'ticker': 'MAV_USDT', 'price': '0.6482'}, {'ticker': 'TITTY_USDT', 'price': '0.000000014'}, {'ticker': 'L_USDT', 'price': '0.0000014444'}, {'ticker': 'FUMO_USDT', 'price': '6899.05'}, {'ticker': 'TOMI_USDT', 'price': '0.641'}, {'ticker': 'OX_USDT', 'price': '0.00888'}, {'ticker': 'ORDI_USDT', 'price': '80.673'}, {'ticker': 'VMPX_USDT', 'price': '0.0462'}, {'ticker': 'PLANET_USDT', 'price': '0.00007528'}, {'ticker': 'PC_USDT', 'price': '0.00000000025'}, {'ticker': 'VOW_USDT', 'price': '0.4243'}, {'ticker': 'UNIBOT_USDT', 'price': '74.01'}, {'ticker': 'HOPPY_USDT', 'price': '0.00000000053'}, {'ticker': 'OSMO_USDT', 'price': '1.5814'}, {'ticker': 'WSTUSDT_USDT', 'price': '0.9502'}, {'ticker': 'HNTAI_USDT', 'price': '0.0093'}, {'ticker': 'JARED_USDT', 'price': '0.00000068'}, {'ticker': 'BTC2_USDT', 'price': '0.0899'}, {'ticker': 'HAM_USDT', 'price': '0.0000000011'}, {'ticker': 'POP_USDT', 'price': '0.0001118'}, {'ticker': 'WPEPE_USDT', 'price': '0.00029'}, {'ticker': 'PEPE20_USDT', 'price': '0.0000000001'}, {'ticker': 'SHIB2_USDT', 'price': '0.0000000038'}, {'ticker': 'DOGE2_USDT', 'price': '0.00000000637'}, {'ticker': 'BSWAP_USDT', 'price': '0.27'}, {'ticker': 'TOSHI_USDT', 'price': '0.000222273'}, {'ticker': 'XRP8_USDT', 'price': '0.03385'}, {'ticker': 'WINR_USDT', 'price': '0.06277'}, {'ticker': 'PNDC_USDT', 'price': '0.0000003'}, {'ticker': 'RLB_USDT', 'price': '0.2354'}, {'ticker': 'TEST_USDT', 'price': '0.000137'}, {'ticker': 'XTOKEN_USDT', 'price': '0.00000335'}, {'ticker': 'COCO_USDT', 'price': '0.002'}, {'ticker': 'WLD_USDT', 'price': '8.055'}, {'ticker': 'X_USDT', 'price': '0.0000000001017'}, {'ticker': 'BAD_USDT', 'price': '0.00000003306'}, {'ticker': 'HAMS_USDT', 'price': '0.0094'}, {'ticker': 'MOG_USDT', 'price': '0.000000374'}, {'ticker': 'LOOT_USDT', 'price': '0.4'}, {'ticker': 'SG_USDT', 'price': '0.0035'}, {'ticker': 'BTP_USDT', 'price': '0.22'}, {'ticker': 'AITECH_USDT', 'price': '0.10122'}, {'ticker': 'SHIA_USDT', 'price': '0.0356'}, {'ticker': 'SHARES_USDT', 'price': '0.36'}, {'ticker': 'LL_USDT', 'price': '0.00000000132'}, {'ticker': 'AXE_USDT', 'price': '1.86'}, {'ticker': 'NONE_USDT', 'price': '0.15'}, {'ticker': 'BPD_USDT', 'price': '0.0000028'}, {'ticker': 'RXT_USDT', 'price': '0.0135'}, {'ticker': 'FOOM_USDT', 'price': '0.00000002611'}, {'ticker': 'AIMBOT_USDT', 'price': '5.999'}, {'ticker': 'SPURDO_USDT', 'price': '0.00000000499'}, {'ticker': 'STMX_USDT', 'price': '0.008855'}, {'ticker': 'GMMT_USDT', 'price': '0.4524'}, {'ticker': 'APX1_USDT', 'price': '0.000035'}, {'ticker': 'GOLD1_USDT', 'price': '0.0598'}, {'ticker': 'SMURFCAT_USDT', 'price': '0.0002795'}, {'ticker': 'SATS_USDT', 'price': '0.000000705177'}, {'ticker': 'TIP_USDT', 'price': '0.0002374'}, {'ticker': 'HIFI_USDT', 'price': '0.711'}, {'ticker': 'VEXT_USDT', 'price': '0.158'}, {'ticker': 'BANANA_USDT', 'price': '18.999'}, {'ticker': 'CCROWD_USDT', 'price': '0.0075'}, {'ticker': 'DOBO_USDT', 'price': '0.001999'}, {'ticker': 'DORKL_USDT', 'price': '0.0015'}, {'ticker': 'SHEPE_USDT', 'price': '0.00000000077'}, {'ticker': 'SHIB42069_USDT', 'price': '0.001239'}, {'ticker': 'ETHPEPE2_USDT', 'price': '0.000007'}, {'ticker': 'TISM_USDT', 'price': '0.000046'}, {'ticker': 'ETF_USDT', 'price': '0.01419'}, {'ticker': 'LMI_USDT', 'price': '0.000091'}, {'ticker': 'NAKA_USDT', 'price': '2.4684'}, {'ticker': 'NLC_USDT', 'price': '0.004'}, {'ticker': 'SIX_USDT', 'price': '0.0412'}, {'ticker': 'HAY_USDT', 'price': '455553.88'}, {'ticker': 'APU_USDT', 'price': '0.0000003'}, {'ticker': 'REKT2_USDT', 'price': '2.6'}, {'ticker': 'NATI_USDT', 'price': '0.00000004345'}, {'ticker': 'BIGTIME_USDT', 'price': '0.4852'}, {'ticker': 'SAFEREUM_USDT', 'price': '0.0000002943'}, {'ticker': 'OPOS_USDT', 'price': '0.149'}, {'ticker': 'OCISLY_USDT', 'price': '0.00000126'}, {'ticker': 'RFR_USDT', 'price': '0.000033'}, {'ticker': 'DAWN_USDT', 'price': '0.0019'}, {'ticker': 'RATS_USDT', 'price': '0.00043674'}, {'ticker': 'BRCBTCS_USDT', 'price': '0.8'}, {'ticker': 'BRCSHIB_USDT', 'price': '0.00000001697'}, {'ticker': 'CATS_USDT', 'price': '0.002786'}, {'ticker': 'PAAL_USDT', 'price': '0.50613'}, {'ticker': 'DORK_USDT', 'price': '0.0000129'}, {'ticker': 'IO_USDT', 'price': '0.0000443'}, {'ticker': 'GROK_USDT', 'price': '0.0088312'}, {'ticker': 'KEKEC_USDT', 'price': '0.00015001'}, {'ticker': 'VAULT_USDT', 'price': '0.24848'}, {'ticker': 'KAS_USDT', 'price': '0.1767'}, {'ticker': 'BYPASS_USDT', 'price': '0.0169'}, {'ticker': 'AMO_USDT', 'price': '0.001769'}, {'ticker': 'MEMELAND_USDT', 'price': '0.021018'}, {'ticker': 'CRE_USDT', 'price': '0.00012997'}, {'ticker': 'MILK_USDT', 'price': '0.023'}, {'ticker': 'JTO_USDT', 'price': '2.552'}, {'ticker': 'FTN_USDT', 'price': '1.7598'}, {'ticker': 'BLOX_USDT', 'price': '0.03997'}, {'ticker': 'IOT_USDT', 'price': '0.0021'}, {'ticker': 'HNT_USDT', 'price': '8.117'}, {'ticker': 'MOBILE_USDT', 'price': '0.003664'}, {'ticker': 'MYRO_USDT', 'price': '0.2'}, {'ticker': 'PMG_USDT', 'price': '0.14'}, {'ticker': 'MND_USDT', 'price': '0.17'}, {'ticker': 'BYTE_USDT', 'price': '0.00003016'}, {'ticker': 'FLIP_USDT', 'price': '7.941'}, {'ticker': 'WEB_USDT', 'price': '0.000002995'}, {'ticker': 'GEC_USDT', 'price': '0.294'}, {'ticker': 'DOMO_USDT', 'price': '0.2096'}, {'ticker': 'STX_USDT', 'price': '3.132'}, {'ticker': 'MNDE_USDT', 'price': '0.219'}, {'ticker': 'TURT_USDT', 'price': '0.01816'}, {'ticker': 'MUBI_USDT', 'price': '0.1506'}, {'ticker': 'NFP_USDT', 'price': '0.6074'}, {'ticker': 'BFIC_USDT', 'price': '14.54'}, {'ticker': 'DOVI_USDT', 'price': '1.5'}, {'ticker': 'XPE_USDT', 'price': '0.3922'}, {'ticker': 'SEEU_USDT', 'price': '0.000045'}, {'ticker': 'BOO_USDT', 'price': '0.000205'}, {'ticker': 'ANALOS_USDT', 'price': '0.000199'}, {'ticker': 'KNOB_USDT', 'price': '0.000123'}, {'ticker': 'AI_USDT', 'price': '0.00095'}, {'ticker': 'PONKE_USDT', 'price': '0.065'}, {'ticker': 'ACE_USDT', 'price': '12.14'}, {'ticker': 'ZERO_USDT', 'price': '0.5243'}, {'ticker': 'SILLY_USDT', 'price': '0.059'}, {'ticker': 'SPEERO_USDT', 'price': '0.0000001248'}, {'ticker': 'COM_USDT', 'price': '1.292'}, {'ticker': 'RAY_USDT', 'price': '1.1959'}, {'ticker': 'RDEX_USDT', 'price': '0.2104'}, {'ticker': 'CSAS_USDT', 'price': '0.019'}, {'ticker': 'DSWP_USDT', 'price': '0.13'}, {'ticker': 'MMSS_USDT', 'price': '0.543'}, {'ticker': 'LONG1_USDT', 'price': '0.0602'}, {'ticker': 'SHDW1_USDT', 'price': '1.31'}, {'ticker': 'ZKF_USDT', 'price': '0.00825'}, {'ticker': 'COQ_USDT', 'price': '0.00000297'}, {'ticker': 'USEDCAR_USDT', 'price': '0.04544'}, {'ticker': 'GUAC_USDT', 'price': '0.0000002202'}, {'ticker': 'BSSB1_USDT', 'price': '2.13'}, {'ticker': 'ORDS_USDT', 'price': '0.22212'}, {'ticker': 'AI1_USDT', 'price': '1.62'}, {'ticker': 'FERRET_USDT', 'price': '0.000344'}, {'ticker': 'MUSKX_USDT', 'price': '0.0002'}, {'ticker': 'MYRA_USDT', 'price': '0.005'}, {'ticker': 'DACC_USDT', 'price': '0.0000368'}, {'ticker': 'ZUZALU_USDT', 'price': '0.005579'}, {'ticker': 'EGG_USDT', 'price': '0.00363'}, {'ticker': 'BOZO_USDT', 'price': '0.0000000654'}, {'ticker': 'TRAC_USDT', 'price': '4.008'}, {'ticker': 'RSTK_USDT', 'price': '0.2554'}, {'ticker': 'FENTANYL_USDT', 'price': '0.000005'}, {'ticker': 'SFARM_USDT', 'price': '0.251'}, {'ticker': 'TROLL_USDT', 'price': '0.000000099'}, {'ticker': 'ROUP_USDT', 'price': '0.006999'}, {'ticker': 'WIF_USDT', 'price': '1.8772'}, {'ticker': 'HTX_USDT', 'price': '0.000001907'}, {'ticker': 'SBF_USDT', 'price': '0.02744'}, {'ticker': 'BFI_USDT', 'price': '0.00001'}, {'ticker': 'SMILEY_USDT', 'price': '0.000000000006717'}, {'ticker': 'SAVM_USDT', 'price': '9.87'}, {'ticker': 'ONDO_USDT', 'price': '0.5225'}, {'ticker': 'CROCCAT_USDT', 'price': '0.000527'}, {'ticker': 'MOCKJUP_USDT', 'price': '0.00393'}, {'ticker': 'EACC_USDT', 'price': '0.000000861'}, {'ticker': 'GENESIS_USDT', 'price': '0.000035'}, {'ticker': 'WYNN_USDT', 'price': '0.0105'}, {'ticker': 'BAKE_USDT', 'price': '0.4097'}, {'ticker': 'TRUMP_USDT', 'price': '9.9333'}, {'ticker': 'CHOW_USDT', 'price': '0.000000207'}, {'ticker': 'SPOODY_USDT', 'price': '0.004054'}, {'ticker': 'HONK_USDT', 'price': '0.0218'}, {'ticker': 'GTAI_USDT', 'price': '3.827'}, {'ticker': 'ALT_USDT', 'price': '0.38007'}, {'ticker': 'FOMO_USDT', 'price': '0.0146'}, {'ticker': 'LAMBOSOL_USDT', 'price': '0.0047'}, {'ticker': 'INS_USDT', 'price': '0.6'}, {'ticker': 'FORK_USDT', 'price': '0.001505'}, {'ticker': 'HODL_USDT', 'price': '0.001388'}, {'ticker': 'JUP_USDT', 'price': '0.6653'}, {'ticker': 'SSB_USDT', 'price': '0.000066'}, {'ticker': 'MEOW_USDT', 'price': '0.00000187'}, {'ticker': 'TELEPATHY_USDT', 'price': '0.145'}, {'ticker': 'WEN_USDT', 'price': '0.0003244'}, {'ticker': 'GME_USDT', 'price': '0.003813'}, {'ticker': 'VEC_USDT', 'price': '35.45'}, {'ticker': 'PEAS_USDT', 'price': '4.15'}, {'ticker': 'SNOW_USDT', 'price': '0.000000000407'}, {'ticker': 'PONK_USDT', 'price': '0.00000001534'}, {'ticker': 'CHINU_USDT', 'price': '0.001232'}, {'ticker': 'AERODROME_USDT', 'price': '0.23472'}, {'ticker': 'PIXEL_USDT', 'price': '0.5487'}, {'ticker': 'STRK_USDT', 'price': '1.865'}, {'ticker': 'JIVA_USDT', 'price': '0.00141'}, {'ticker': 'SORA_USDT', 'price': '0.01312'}, {'ticker': 'MAVIA_USDT', 'price': '6.08'}, {'ticker': 'SPYRO_USDT', 'price': '0.000000591'}, {'ticker': 'NAVX_USDT', 'price': '0.1192'}, {'ticker': 'WHALES_USDT', 'price': '2.5'}, {'ticker': 'LMWR_USDT', 'price': '0.7396'}, {'ticker': 'BFICGOLD_BFIC', 'price': '0.1845'}, {'ticker': 'YES_USDT', 'price': '10.01'}, {'ticker': 'GMEONETH_USDT', 'price': '0.000048'}, {'ticker': 'SQUIDSOL_USDT', 'price': '0.0002196'}, {'ticker': 'FART_USDT', 'price': '0.0000003'}, {'ticker': 'ZETA_USDT', 'price': '2.2041'}, {'ticker': 'PEBO_USDT', 'price': '0.0001799'}, {'ticker': 'AC_USDT', 'price': '0.5645'}, {'ticker': 'DZHV_USDT', 'price': '0.0227'}, {'ticker': 'TREMP_USDT', 'price': '0.04604'}, {'ticker': 'BIF_USDT', 'price': '0.002153'}, {'ticker': 'SHU_USDT', 'price': '0.5144'}, {'ticker': 'TBANK_USDT', 'price': '1.5146'}, {'ticker': 'ICENETWORK_USDT', 'price': '0.00348'}, {'ticker': 'MOBY_USDT', 'price': '1.913'}, {'ticker': 'CHAT_USDT', 'price': '2.147'}, {'ticker': 'ML_USDT', 'price': '0.59837'}, {'ticker': 'BENDOG_USDT', 'price': '0.012071'}, {'ticker': 'BEOBLE_USDT', 'price': '0.23264'}, {'ticker': 'PORK_USDT', 'price': '0.00000036'}, {'ticker': 'NADA_USDT', 'price': '0.02972'}, {'ticker': 'XPET_USDT', 'price': '0.7592'}]\n"
          ]
        }
      ]
    },
    {
      "cell_type": "code",
      "source": [
        "# Poloniex Orderbook\n",
        "ticker = \"DASH_BTC\"\n",
        "limit = 20\n",
        "# Structure Orderbook\n",
        "ask_prices = []\n",
        "ask_sizes = []\n",
        "counts = 0\n",
        "\n",
        "ob = requests.get(f\"https://api.poloniex.com/markets/{ticker}/orderBook?limit={limit}\")\n",
        "\n",
        "if ob.status_code == 200:\n",
        "  ob_json = json.loads(ob.text)\n",
        "  for a in ob_json[\"asks\"]:\n",
        "    if counts% 2 == 0:\n",
        "      ask_prices.append(a)\n",
        "    else:\n",
        "      ask_sizes.append(a)\n",
        "    counts += 1\n",
        "print(ask_prices)\n",
        "print(ask_sizes)"
      ],
      "metadata": {
        "id": "LtCZe-hUNQnL",
        "colab": {
          "base_uri": "https://localhost:8080/"
        },
        "outputId": "d0688154-962a-4e91-ba2d-ad01fde472ec"
      },
      "execution_count": null,
      "outputs": [
        {
          "output_type": "stream",
          "name": "stdout",
          "text": [
            "['0.000625', '0.000627', '0.000629', '0.000649', '0.00065', '0.000658', '0.000667', '0.000668', '0.000679', '0.00068', '0.000684', '0.000687', '0.000689', '0.000694', '0.000698', '0.0007', '0.000705', '0.00072', '0.000728', '0.000731']\n",
            "['3.19', '25.87', '1.84', '0.05', '40', '0.74', '0.08', '0.99', '0.05', '0.07', '0.10', '0.02', '0.10', '0.10', '0.72', '0.02', '0.02', '2.27', '0.06', '0.04']\n"
          ]
        }
      ]
    },
    {
      "cell_type": "code",
      "source": [
        "# Binance Historical Data\n",
        "symbol = \"BTCUSDT\"\n",
        "interval = \"1d\"\n",
        "candles = requests.get(f\"https://data.binance.us/api/v3/klines?symbol={symbol}&interval={interval}\")\n",
        "candles_json = []\n",
        "\n",
        "if candles.status_code == 200:\n",
        "  candles_json = json.loads(candles.text)\n",
        "  print(candles_json)"
      ],
      "metadata": {
        "id": "okT1XD0VOj2w"
      },
      "execution_count": null,
      "outputs": []
    },
    {
      "cell_type": "markdown",
      "source": [
        "#**2.Structuring Pairs**\n",
        "\n",
        "\n",
        "\n",
        "*   Step 0: Gather Correct Coins\n",
        "*   Step 1: Structure Triangular Pairs\n",
        "\n",
        "You can find the relevant documentation in the following link: https://docs.poloniex.com#introduction\n",
        "\n"
      ],
      "metadata": {
        "id": "wv5CWvGKTfo8"
      }
    },
    {
      "cell_type": "code",
      "source": [
        "# Here we import relevant packages\n",
        "import pandas as pd                 # Pandas library for data organization and manupulation\n",
        "import numpy as np\n",
        "import requests\n",
        "import time\n",
        "import json\n",
        "import collections                  # List operations\n",
        "from itertools import permutations  # Allows us to check all potential triangular arbitrage opportunities for given list of trading pairs"
      ],
      "metadata": {
        "id": "COlw38TQXE7f"
      },
      "execution_count": 2,
      "outputs": []
    },
    {
      "cell_type": "code",
      "source": [
        "def get_coin_tickers(url):\n",
        "  '''\n",
        "      This function returns the trade activities at the given url\n",
        "  '''\n",
        "  req = requests.get(url)\n",
        "  coin_json = json.loads(req.text)\n",
        "  return coin_json\n",
        "\n",
        "def collect_tradeables(coin_json):\n",
        "  '''\n",
        "      This function returns the tradeable pairs at the given json\n",
        "  '''\n",
        "  coin_list = set()\n",
        "  # List of all tradeable coins\n",
        "  for coin in coin_json:\n",
        "    #print(coin)\n",
        "    coin_list.add(coin['symbol'])\n",
        "\n",
        "  coin_list = list(coin_list) # Here we convert to list\n",
        "  return coin_list\n"
      ],
      "metadata": {
        "id": "d_rbs7nwV0uN"
      },
      "execution_count": 3,
      "outputs": []
    },
    {
      "cell_type": "code",
      "source": [
        "def structure_triangular_pairs(coin_list):\n",
        "  '''\n",
        "      This function returns the list of pairs that form triangule\n",
        "  '''\n",
        "  # Declare Variables\n",
        "  triangular_pairs_list = []\n",
        "  remove_duplicates_list = []\n",
        "  pairs_list = coin_list\n",
        "\n",
        "  # Get Pair A\n",
        "  for pair_a in coin_list:\n",
        "    pair_a_split = pair_a.split(\"_\")\n",
        "    a_base = pair_a_split[0]\n",
        "    a_quote = pair_a_split[1]\n",
        "\n",
        "    # Assign A to a box\n",
        "    a_pair_box = [a_base, a_quote]\n",
        "\n",
        "    # Get Pair B\n",
        "    for pair_b in coin_list:\n",
        "      pair_b_split = pair_b.split(\"_\")\n",
        "      b_base = pair_b_split[0]\n",
        "      b_quote = pair_b_split[1]\n",
        "\n",
        "      # Check Pair B\n",
        "      if pair_b != pair_a:\n",
        "        if  b_base in a_pair_box or b_quote in a_pair_box:\n",
        "\n",
        "          # Get Pair B\n",
        "          for pair_c in coin_list:\n",
        "            pair_c_split = pair_c.split(\"_\")\n",
        "            c_base = pair_c_split[0]\n",
        "            c_quote = pair_c_split[1]\n",
        "\n",
        "          # Count the number of matching C itmes\n",
        "          if pair_c != pair_a and pair_c != pair_b:\n",
        "            combine_all = [pair_a, pair_b, pair_c]\n",
        "            pair_box = [a_base, a_quote, b_base, b_quote, c_base, c_quote]\n",
        "\n",
        "            counts_c_base = 0\n",
        "            for i in pair_box:\n",
        "              if i == c_base:\n",
        "                counts_c_base += 1\n",
        "\n",
        "            counts_c_quote = 0\n",
        "            for i in pair_box:\n",
        "              if i == c_quote:\n",
        "                counts_c_quote += 1\n",
        "\n",
        "          # Determining Triangular Match\n",
        "          if  counts_c_base == 2 and counts_c_quote == 2 and c_base != c_quote:\n",
        "            combined = pair_a + \",\" + pair_b + \",\" + pair_c\n",
        "            unique_item = ''.join(sorted(combine_all))\n",
        "\n",
        "            if unique_item not in remove_duplicates_list:\n",
        "              match_dict = {\n",
        "                  \"a_base\": a_base,\n",
        "                  \"b_base\": b_base,\n",
        "                  \"c_base\": c_base,\n",
        "                  \"a_quote\": a_quote,\n",
        "                  \"b_quote\": b_quote,\n",
        "                  \"c_quote\": c_quote,\n",
        "                  \"pair_a\": pair_a,\n",
        "                  \"pair_b\": pair_b,\n",
        "                  \"pair_c\": pair_c,\n",
        "              }\n",
        "            triangular_pairs_list.append(match_dict)\n",
        "            remove_duplicates_list.append(unique_item)\n",
        "\n",
        "  return triangular_pairs_list"
      ],
      "metadata": {
        "id": "ZLjiWkH1ZuI6"
      },
      "execution_count": 4,
      "outputs": []
    },
    {
      "cell_type": "code",
      "source": [
        "# Extract list of coins and prices from Exchange\n",
        "url = \"https://api.poloniex.com/markets/price\"\n",
        "\n",
        "coin_json = get_coin_tickers(url)          # Here we get the json format of trade activities at the given url\n",
        "coin_list = collect_tradeables(coin_json)  # Here we get the list of coins\n",
        "# Here we get the list of triangular pairs list\n",
        "triangular_pairs_list =structure_triangular_pairs(coin_list)\n",
        "# Here we save it to JSON File\n",
        "#with open(\"structured_triangular_pairs.json\", \"w\") as fp:\n",
        "#  json.dump(triangular_pairs_list, fp)\n",
        "\n",
        "print(triangular_pairs_list)"
      ],
      "metadata": {
        "colab": {
          "base_uri": "https://localhost:8080/"
        },
        "id": "4FbUfQerVfVq",
        "outputId": "2178a402-e389-4d83-849f-b12e085f9973"
      },
      "execution_count": null,
      "outputs": [
        {
          "output_type": "stream",
          "name": "stdout",
          "text": [
            "None\n"
          ]
        }
      ]
    },
    {
      "cell_type": "markdown",
      "source": [
        "#**3. Calculating Surface Rates**"
      ],
      "metadata": {
        "id": "zbJsvM2_Pjg2"
      }
    },
    {
      "cell_type": "markdown",
      "source": [
        "##3.1 Get triangular pairs from external surface"
      ],
      "metadata": {
        "id": "hyWOdwwwDWYq"
      }
    },
    {
      "cell_type": "code",
      "source": [
        "def getTriangularArbitrageList(splitted_pairs):\n",
        "  '''\n",
        "    This function identifies all triangular arbitrage permutations by\n",
        "    checking if 3 pairs form a set with size 3\n",
        "  '''\n",
        "  # Here we form all possible triangular arbitrage permutations\n",
        "  tri_all_permutations = permutations([x for x in range(0, len(splitted_pairs))], 3)\n",
        "  # List of an actual triangular pairs by index\n",
        "  tri_arbitrage_list = []\n",
        "  Nonexistant = True # Flag to indicate a permutation already exists in the triangular arbitrage list\n",
        "\n",
        "  for permutation in tri_all_permutations:\n",
        "    # Here order the permutation to make sure we don't add it more than one with different combination\n",
        "    permutation_ordered = [list(permutation)[0], list(permutation)[1], list(permutation)[2]]\n",
        "    # Here we form a set and check if it has 3 elements\n",
        "    assets_permutation = [splitted_pairs[permutation_ordered[0]],\n",
        "                              splitted_pairs[permutation_ordered[1]],splitted_pairs[permutation_ordered[2]]]\n",
        "    all_assets = set().union(*assets_permutation)\n",
        "\n",
        "    if len(all_assets) == 3:\n",
        "      # Here we make sure the order forms a cycle such that [A/B, B/C, A/C]\n",
        "      if(splitted_pairs[permutation_ordered[0]][1] == splitted_pairs[permutation_ordered[2]][0]):\n",
        "        permutation_ordered = [list(permutation)[0], list(permutation)[2], list(permutation)[1]]\n",
        "      elif(splitted_pairs[permutation_ordered[1]][1] == splitted_pairs[permutation_ordered[2]][0]):\n",
        "        permutation_ordered = [list(permutation)[1], list(permutation)[2], list(permutation)[0]]\n",
        "      elif(splitted_pairs[permutation_ordered[1]][1] == splitted_pairs[permutation_ordered[0]][0]):\n",
        "        permutation_ordered = [list(permutation)[1], list(permutation)[0], list(permutation)[2]]\n",
        "      elif(splitted_pairs[permutation_ordered[2]][1] == splitted_pairs[permutation_ordered[0]][0]):\n",
        "        permutation_ordered = [list(permutation)[2], list(permutation)[0], list(permutation)[1]]\n",
        "      elif(splitted_pairs[permutation_ordered[2]][1] == splitted_pairs[permutation_ordered[1]][0]):\n",
        "        permutation_ordered = [list(permutation)[2], list(permutation)[1], list(permutation)[0]]\n",
        "      else:\n",
        "        continue # Here the order is correct and we leave it as it is\n",
        "\n",
        "      # Here we check if a permutation already exists in the list\n",
        "      for permutation in tri_arbitrage_list:\n",
        "        if collections.Counter(permutation) == collections.Counter(permutation_ordered) :\n",
        "          Nonexistant = False\n",
        "        else:\n",
        "          Nonexistant = True\n",
        "\n",
        "      if Nonexistant:\n",
        "        tri_arbitrage_list.append(permutation_ordered)\n",
        "\n",
        "  return tri_arbitrage_list"
      ],
      "metadata": {
        "id": "LJHtKJyRSOqD"
      },
      "execution_count": 5,
      "outputs": []
    },
    {
      "cell_type": "code",
      "source": [
        "# Top 500 Binance Trading Pairs based on their trading volume\n",
        "binance_pairs = pd.read_excel('BinanceTradingPairs.xlsx', sheet_name= 'Final Pairs')['Binance Trading Pairs'].tolist()\n",
        "# Here we split pairs to form a list of triangular arbitrage cycles\n",
        "splitted_pairs = [s.split(\"/\") for s in binance_pairs]\n",
        "# We get all triangular arbitrage pairs\n",
        "tri_arbitrage_list = getTriangularArbitrageList(splitted_pairs)"
      ],
      "metadata": {
        "id": "yOwuVcD9mc-Y",
        "colab": {
          "base_uri": "https://localhost:8080/",
          "height": 297
        },
        "outputId": "30b14fb6-fe4b-4809-8c51-775288680f01"
      },
      "execution_count": null,
      "outputs": [
        {
          "output_type": "error",
          "ename": "KeyboardInterrupt",
          "evalue": "",
          "traceback": [
            "\u001b[0;31m---------------------------------------------------------------------------\u001b[0m",
            "\u001b[0;31mKeyboardInterrupt\u001b[0m                         Traceback (most recent call last)",
            "\u001b[0;32m<ipython-input-4-f81d17375e3c>\u001b[0m in \u001b[0;36m<cell line: 6>\u001b[0;34m()\u001b[0m\n\u001b[1;32m      4\u001b[0m \u001b[0msplitted_pairs\u001b[0m \u001b[0;34m=\u001b[0m \u001b[0;34m[\u001b[0m\u001b[0ms\u001b[0m\u001b[0;34m.\u001b[0m\u001b[0msplit\u001b[0m\u001b[0;34m(\u001b[0m\u001b[0;34m\"/\"\u001b[0m\u001b[0;34m)\u001b[0m \u001b[0;32mfor\u001b[0m \u001b[0ms\u001b[0m \u001b[0;32min\u001b[0m \u001b[0mbinance_pairs\u001b[0m\u001b[0;34m]\u001b[0m\u001b[0;34m\u001b[0m\u001b[0;34m\u001b[0m\u001b[0m\n\u001b[1;32m      5\u001b[0m \u001b[0;31m# We get all triangular arbitrage pairs\u001b[0m\u001b[0;34m\u001b[0m\u001b[0;34m\u001b[0m\u001b[0m\n\u001b[0;32m----> 6\u001b[0;31m \u001b[0mtri_arbitrage_list\u001b[0m \u001b[0;34m=\u001b[0m \u001b[0mgetTriangularArbitrageList\u001b[0m\u001b[0;34m(\u001b[0m\u001b[0msplitted_pairs\u001b[0m\u001b[0;34m)\u001b[0m\u001b[0;34m\u001b[0m\u001b[0;34m\u001b[0m\u001b[0m\n\u001b[0m",
            "\u001b[0;32m<ipython-input-3-7a42c6253c68>\u001b[0m in \u001b[0;36mgetTriangularArbitrageList\u001b[0;34m(splitted_pairs)\u001b[0m\n\u001b[1;32m     16\u001b[0m     assets_permutation = [splitted_pairs[permutation_ordered[0]],\n\u001b[1;32m     17\u001b[0m                               splitted_pairs[permutation_ordered[1]],splitted_pairs[permutation_ordered[2]]]\n\u001b[0;32m---> 18\u001b[0;31m     \u001b[0mall_assets\u001b[0m \u001b[0;34m=\u001b[0m \u001b[0mset\u001b[0m\u001b[0;34m(\u001b[0m\u001b[0;34m)\u001b[0m\u001b[0;34m.\u001b[0m\u001b[0munion\u001b[0m\u001b[0;34m(\u001b[0m\u001b[0;34m*\u001b[0m\u001b[0massets_permutation\u001b[0m\u001b[0;34m)\u001b[0m\u001b[0;34m\u001b[0m\u001b[0;34m\u001b[0m\u001b[0m\n\u001b[0m\u001b[1;32m     19\u001b[0m \u001b[0;34m\u001b[0m\u001b[0m\n\u001b[1;32m     20\u001b[0m     \u001b[0;32mif\u001b[0m \u001b[0mlen\u001b[0m\u001b[0;34m(\u001b[0m\u001b[0mall_assets\u001b[0m\u001b[0;34m)\u001b[0m \u001b[0;34m==\u001b[0m \u001b[0;36m3\u001b[0m\u001b[0;34m:\u001b[0m\u001b[0;34m\u001b[0m\u001b[0;34m\u001b[0m\u001b[0m\n",
            "\u001b[0;31mKeyboardInterrupt\u001b[0m: "
          ]
        }
      ]
    },
    {
      "cell_type": "code",
      "source": [
        "# Here we remove / in trading pairs because naming convention in Poloniex\n",
        "binance_pairs = [s.replace('/', '_') for s in binance_pairs]\n",
        "# We form a list of triangular arbitrage to check real time and eliminate pairs which do not form a triangular arbitrage opportunity\n",
        "triangular_pairs = [[binance_pairs[tri[0]], binance_pairs[tri[1]],\n",
        "                     binance_pairs[tri[2]]] for tri in tri_arbitrage_list ]\n",
        "# to convert lists to dictionary with splitted pairs to check if any triangular arbitrage opportunity shows later using getTriangularArbitrageList() function\n",
        "pairs_dict = {binance_pairs[i]: splitted_pairs[i] for i in range(len(binance_pairs))}\n",
        "# Here we reduce our list pairs to the ones forming an triangular arbitrage opportunity\n",
        "pairs_refined = list(set().union(*triangular_pairs))\n",
        "# Here we refine the pairs dictionary to the ones forming an triangular arbitrage opportunity\n",
        "pairs_dict = {key: value for key, value in pairs_dict.items() if key in pairs_refined}\n",
        "print(\"Number of pairs we track is: \", len(pairs_dict))\n",
        "print(triangular_pairs)"
      ],
      "metadata": {
        "colab": {
          "base_uri": "https://localhost:8080/"
        },
        "id": "MO_zSzganU7-",
        "outputId": "41f1b6f2-5f2d-4e97-a910-2b27b485378f"
      },
      "execution_count": null,
      "outputs": [
        {
          "output_type": "stream",
          "name": "stdout",
          "text": [
            "Number of pairs we track is:  244\n",
            "[['ID_USDT', 'USDT_TRY', 'ID_TRY'], ['BONK_FDUSD', 'FDUSD_USDT', 'BONK_USDT'], ['BONK_FDUSD', 'FDUSD_TRY', 'BONK_TRY'], ['DOT_BTC', 'BTC_USDC', 'DOT_USDC'], ['DOT_USDC', 'USDC_USDT', 'DOT_USDT'], ['DOT_BTC', 'BTC_USDC', 'DOT_USDC'], ['OP_BTC', 'BTC_USDT', 'OP_USDT'], ['OP_BTC', 'BTC_USDC', 'OP_USDC'], ['ACE_BTC', 'BTC_USDT', 'ACE_USDT'], ['ACE_BTC', 'BTC_TRY', 'ACE_TRY'], ['IMX_BTC', 'BTC_USDT', 'IMX_USDT'], ['REEF_USDT', 'USDT_TRY', 'REEF_TRY'], ['LINK_ETH', 'ETH_BTC', 'LINK_BTC'], ['LINK_ETH', 'ETH_FDUSD', 'LINK_FDUSD'], ['LINK_ETH', 'ETH_USDT', 'LINK_USDT'], ['FLOKI_USDT', 'USDT_TRY', 'FLOKI_TRY'], ['MBOX_USDT', 'USDT_TRY', 'MBOX_TRY'], ['WLD_FDUSD', 'FDUSD_USDT', 'WLD_USDT'], ['WLD_BTC', 'BTC_FDUSD', 'WLD_FDUSD'], ['WLD_FDUSD', 'FDUSD_TRY', 'WLD_TRY'], ['BNB_BTC', 'BTC_USDC', 'BNB_USDC'], ['BNB_ETH', 'ETH_USDC', 'BNB_USDC'], ['BNB_USDC', 'USDC_USDT', 'BNB_USDT'], ['BNB_ETH', 'ETH_USDC', 'BNB_USDC'], ['SOL_BNB', 'BNB_USDC', 'SOL_USDC'], ['BNB_BTC', 'BTC_USDC', 'BNB_USDC'], ['SOL_BNB', 'BNB_USDC', 'SOL_USDC'], ['FTM_BTC', 'BTC_USDT', 'FTM_USDT'], ['BCH_FDUSD', 'FDUSD_USDT', 'BCH_USDT'], ['BCH_BTC', 'BTC_FDUSD', 'BCH_FDUSD'], ['GAS_BTC', 'BTC_USDT', 'GAS_USDT'], ['SUI_BTC', 'BTC_USDT', 'SUI_USDT'], ['SUI_USDT', 'USDT_TRY', 'SUI_TRY'], ['ADA_USDC', 'USDC_USDT', 'ADA_USDT'], ['ADA_BTC', 'BTC_USDT', 'ADA_USDT'], ['ADA_EUR', 'EUR_USDT', 'ADA_USDT'], ['ADA_BTC', 'BTC_USDT', 'ADA_USDT'], ['ADA_FDUSD', 'FDUSD_USDT', 'ADA_USDT'], ['ADA_USDC', 'USDC_USDT', 'ADA_USDT'], ['ADA_EUR', 'EUR_USDT', 'ADA_USDT'], ['ADA_FDUSD', 'FDUSD_USDT', 'ADA_USDT'], ['JUP_USDT', 'USDT_TRY', 'JUP_TRY'], ['ALT_USDT', 'USDT_TRY', 'ALT_TRY'], ['ALT_BTC', 'BTC_USDT', 'ALT_USDT'], ['ALT_FDUSD', 'FDUSD_USDT', 'ALT_USDT'], ['ALT_BTC', 'BTC_USDT', 'ALT_USDT'], ['ALT_FDUSD', 'FDUSD_USDT', 'ALT_USDT'], ['ACE_BTC', 'BTC_TRY', 'ACE_TRY'], ['STX_BTC', 'BTC_TRY', 'STX_TRY'], ['MANTA_BTC', 'BTC_TRY', 'MANTA_TRY'], ['AVAX_BTC', 'BTC_TRY', 'AVAX_TRY'], ['VET_BTC', 'BTC_TRY', 'VET_TRY'], ['SEI_BTC', 'BTC_TRY', 'SEI_TRY'], ['SOL_BTC', 'BTC_TRY', 'SOL_TRY'], ['ALT_BTC', 'BTC_TRY', 'ALT_TRY'], ['TIA_BTC', 'BTC_TRY', 'TIA_TRY'], ['BTC_FDUSD', 'FDUSD_TRY', 'BTC_TRY'], ['DOGE_BTC', 'BTC_TRY', 'DOGE_TRY'], ['ORDI_BTC', 'BTC_TRY', 'ORDI_TRY'], ['ETH_BTC', 'BTC_TRY', 'ETH_TRY'], ['SUI_BTC', 'BTC_TRY', 'SUI_TRY'], ['XRP_BTC', 'BTC_TRY', 'XRP_TRY'], ['TRX_BTC', 'BTC_TRY', 'TRX_TRY'], ['SOL_BTC', 'BTC_TRY', 'SOL_TRY'], ['DYM_BTC', 'BTC_TRY', 'DYM_TRY'], ['DOGE_BTC', 'BTC_TRY', 'DOGE_TRY'], ['BTC_USDT', 'USDT_TRY', 'BTC_TRY'], ['BNB_BTC', 'BTC_TRY', 'BNB_TRY'], ['STX_BTC', 'BTC_TRY', 'STX_TRY'], ['ACE_BTC', 'BTC_TRY', 'ACE_TRY'], ['API3_BTC', 'BTC_TRY', 'API3_TRY'], ['ARB_BTC', 'BTC_TRY', 'ARB_TRY'], ['API3_BTC', 'BTC_TRY', 'API3_TRY'], ['XRP_BTC', 'BTC_TRY', 'XRP_TRY'], ['BNB_BTC', 'BTC_TRY', 'BNB_TRY'], ['AVAX_BTC', 'BTC_TRY', 'AVAX_TRY'], ['BTC_USDT', 'USDT_TRY', 'BTC_TRY'], ['SEI_BTC', 'BTC_TRY', 'SEI_TRY'], ['ETH_BTC', 'BTC_TRY', 'ETH_TRY'], ['NTRN_BTC', 'BTC_TRY', 'NTRN_TRY'], ['APT_BTC', 'BTC_TRY', 'APT_TRY'], ['WLD_BTC', 'BTC_TRY', 'WLD_TRY'], ['TRX_BTC', 'BTC_TRY', 'TRX_TRY'], ['ALT_BTC', 'BTC_TRY', 'ALT_TRY'], ['INJ_BTC', 'BTC_TRY', 'INJ_TRY'], ['APT_BTC', 'BTC_TRY', 'APT_TRY'], ['DYM_BTC', 'BTC_TRY', 'DYM_TRY'], ['WLD_BTC', 'BTC_TRY', 'WLD_TRY'], ['INJ_BTC', 'BTC_TRY', 'INJ_TRY'], ['RNDR_BTC', 'BTC_TRY', 'RNDR_TRY'], ['NTRN_BTC', 'BTC_TRY', 'NTRN_TRY'], ['SUI_BTC', 'BTC_TRY', 'SUI_TRY'], ['ORDI_BTC', 'BTC_TRY', 'ORDI_TRY'], ['MANTA_BTC', 'BTC_TRY', 'MANTA_TRY'], ['TIA_BTC', 'BTC_TRY', 'TIA_TRY'], ['RNDR_BTC', 'BTC_TRY', 'RNDR_TRY'], ['STX_BTC', 'BTC_TRY', 'STX_TRY'], ['STX_BTC', 'BTC_USDT', 'STX_USDT'], ['VET_BTC', 'BTC_USDT', 'VET_USDT'], ['VET_USDT', 'USDT_TRY', 'VET_TRY'], ['VET_EUR', 'EUR_USDT', 'VET_USDT'], ['VET_BNB', 'BNB_USDT', 'VET_USDT'], ['VET_BTC', 'BTC_USDT', 'VET_USDT'], ['VET_ETH', 'ETH_USDT', 'VET_USDT'], ['VET_EUR', 'EUR_USDT', 'VET_USDT'], ['VET_BNB', 'BNB_USDT', 'VET_USDT'], ['VET_ETH', 'ETH_USDT', 'VET_USDT'], ['ORDI_BTC', 'BTC_USDT', 'ORDI_USDT'], ['ORDI_USDT', 'USDT_TRY', 'ORDI_TRY'], ['LINK_ETH', 'ETH_BTC', 'LINK_BTC'], ['LINK_BTC', 'BTC_FDUSD', 'LINK_FDUSD'], ['LINK_ETH', 'ETH_BTC', 'LINK_BTC'], ['LINK_BTC', 'BTC_USDT', 'LINK_USDT'], ['LINK_ETH', 'ETH_FDUSD', 'LINK_FDUSD'], ['BNB_ETH', 'ETH_FDUSD', 'BNB_FDUSD'], ['LINK_ETH', 'ETH_FDUSD', 'LINK_FDUSD'], ['ETH_BTC', 'BTC_FDUSD', 'ETH_FDUSD'], ['XRP_ETH', 'ETH_FDUSD', 'XRP_FDUSD'], ['SOL_ETH', 'ETH_FDUSD', 'SOL_FDUSD'], ['ETH_FDUSD', 'FDUSD_TRY', 'ETH_TRY'], ['SOL_ETH', 'ETH_FDUSD', 'SOL_FDUSD'], ['BNB_ETH', 'ETH_FDUSD', 'BNB_FDUSD'], ['ETH_BTC', 'BTC_FDUSD', 'ETH_FDUSD'], ['ETH_FDUSD', 'FDUSD_USDT', 'ETH_USDT'], ['XRP_ETH', 'ETH_FDUSD', 'XRP_FDUSD'], ['INJ_USDC', 'USDC_USDT', 'INJ_USDT'], ['INJ_BTC', 'BTC_USDT', 'INJ_USDT'], ['INJ_USDT', 'USDT_TRY', 'INJ_TRY'], ['INJ_USDC', 'USDC_USDT', 'INJ_USDT'], ['APT_BTC', 'BTC_USDT', 'APT_USDT'], ['APT_USDT', 'USDT_TRY', 'APT_TRY'], ['APT_BTC', 'BTC_USDT', 'APT_USDT'], ['DOGE_BTC', 'BTC_FDUSD', 'DOGE_FDUSD'], ['DOGE_FDUSD', 'FDUSD_TRY', 'DOGE_TRY'], ['DOGE_FDUSD', 'FDUSD_USDT', 'DOGE_USDT'], ['BNB_ETH', 'ETH_FDUSD', 'BNB_FDUSD'], ['BNB_BTC', 'BTC_FDUSD', 'BNB_FDUSD'], ['BNB_FDUSD', 'FDUSD_USDT', 'BNB_USDT'], ['SOL_BNB', 'BNB_FDUSD', 'SOL_FDUSD'], ['BNB_ETH', 'ETH_FDUSD', 'BNB_FDUSD'], ['BNB_FDUSD', 'FDUSD_TRY', 'BNB_TRY'], ['BNB_BTC', 'BTC_FDUSD', 'BNB_FDUSD'], ['SOL_BNB', 'BNB_FDUSD', 'SOL_FDUSD'], ['MANTA_BTC', 'BTC_TRY', 'MANTA_TRY'], ['MANTA_FDUSD', 'FDUSD_TRY', 'MANTA_TRY'], ['MANTA_USDT', 'USDT_TRY', 'MANTA_TRY'], ['MANTA_FDUSD', 'FDUSD_TRY', 'MANTA_TRY'], ['MANTA_BTC', 'BTC_TRY', 'MANTA_TRY'], ['SEI_FDUSD', 'FDUSD_TRY', 'SEI_TRY'], ['SEI_BTC', 'BTC_FDUSD', 'SEI_FDUSD'], ['SEI_FDUSD', 'FDUSD_USDT', 'SEI_USDT'], ['SEI_BTC', 'BTC_FDUSD', 'SEI_FDUSD'], ['OP_BTC', 'BTC_USDT', 'OP_USDT'], ['OP_USDC', 'USDC_USDT', 'OP_USDT'], ['OP_BTC', 'BTC_USDT', 'OP_USDT'], ['OP_USDC', 'USDC_USDT', 'OP_USDT'], ['AI_USDT', 'USDT_TRY', 'AI_TRY'], ['AI_FDUSD', 'FDUSD_USDT', 'AI_USDT'], ['LTC_BTC', 'BTC_USDT', 'LTC_USDT'], ['PROM_BTC', 'BTC_USDT', 'PROM_USDT'], ['TIA_USDT', 'USDT_TRY', 'TIA_TRY'], ['TIA_BTC', 'BTC_USDT', 'TIA_USDT'], ['RIF_BTC', 'BTC_USDT', 'RIF_USDT'], ['MATIC_USDC', 'USDC_USDT', 'MATIC_USDT'], ['MATIC_BTC', 'BTC_USDT', 'MATIC_USDT'], ['MATIC_FDUSD', 'FDUSD_USDT', 'MATIC_USDT'], ['MATIC_USDC', 'USDC_USDT', 'MATIC_USDT'], ['MATIC_FDUSD', 'FDUSD_USDT', 'MATIC_USDT'], ['LINK_ETH', 'ETH_FDUSD', 'LINK_FDUSD'], ['LINK_BTC', 'BTC_FDUSD', 'LINK_FDUSD'], ['LINK_ETH', 'ETH_FDUSD', 'LINK_FDUSD'], ['LINK_BTC', 'BTC_FDUSD', 'LINK_FDUSD'], ['LINK_FDUSD', 'FDUSD_USDT', 'LINK_USDT'], ['AVAX_FDUSD', 'FDUSD_TRY', 'AVAX_TRY'], ['AVAX_BTC', 'BTC_FDUSD', 'AVAX_FDUSD'], ['AVAX_FDUSD', 'FDUSD_USDT', 'AVAX_USDT'], ['AVAX_BTC', 'BTC_FDUSD', 'AVAX_FDUSD'], ['AVAX_BTC', 'BTC_TRY', 'AVAX_TRY'], ['AVAX_FDUSD', 'FDUSD_TRY', 'AVAX_TRY'], ['AVAX_USDT', 'USDT_TRY', 'AVAX_TRY'], ['AVAX_BTC', 'BTC_TRY', 'AVAX_TRY'], ['AVAX_USDT', 'USDT_TRY', 'AVAX_TRY'], ['DENT_USDT', 'USDT_TRY', 'DENT_TRY'], ['LUNC_USDT', 'USDT_TRY', 'LUNC_TRY'], ['BCH_FDUSD', 'FDUSD_USDT', 'BCH_USDT'], ['BCH_BTC', 'BTC_USDT', 'BCH_USDT'], ['BCH_FDUSD', 'FDUSD_USDT', 'BCH_USDT'], ['BONK_FDUSD', 'FDUSD_USDT', 'BONK_USDT'], ['BONK_USDT', 'USDT_TRY', 'BONK_TRY'], ['BONK_FDUSD', 'FDUSD_USDT', 'BONK_USDT'], ['PEPE_USDT', 'USDT_TRY', 'PEPE_TRY'], ['DOT_BTC', 'BTC_USDC', 'DOT_USDC'], ['OP_BTC', 'BTC_USDC', 'OP_USDC'], ['BNB_BTC', 'BTC_USDC', 'BNB_USDC'], ['ADA_BTC', 'BTC_USDC', 'ADA_USDC'], ['AVAX_BTC', 'BTC_USDC', 'AVAX_USDC'], ['SOL_BTC', 'BTC_USDC', 'SOL_USDC'], ['ETH_BTC', 'BTC_USDC', 'ETH_USDC'], ['DOT_BTC', 'BTC_USDC', 'DOT_USDC'], ['MATIC_BTC', 'BTC_USDC', 'MATIC_USDC'], ['SOL_BTC', 'BTC_USDC', 'SOL_USDC'], ['BTC_USDC', 'USDC_USDT', 'BTC_USDT'], ['ARB_BTC', 'BTC_USDC', 'ARB_USDC'], ['XRP_BTC', 'BTC_USDC', 'XRP_USDC'], ['BNB_BTC', 'BTC_USDC', 'BNB_USDC'], ['AVAX_BTC', 'BTC_USDC', 'AVAX_USDC'], ['SEI_BTC', 'BTC_USDC', 'SEI_USDC'], ['ETH_BTC', 'BTC_USDC', 'ETH_USDC'], ['OP_BTC', 'BTC_USDC', 'OP_USDC'], ['INJ_BTC', 'BTC_USDC', 'INJ_USDC'], ['ARB_BTC', 'BTC_USDC', 'ARB_USDC'], ['ADA_BTC', 'BTC_USDC', 'ADA_USDC'], ['XRP_BTC', 'BTC_USDC', 'XRP_USDC'], ['INJ_BTC', 'BTC_USDC', 'INJ_USDC'], ['MATIC_BTC', 'BTC_USDC', 'MATIC_USDC'], ['SEI_BTC', 'BTC_USDC', 'SEI_USDC'], ['TRX_BTC', 'BTC_USDT', 'TRX_USDT'], ['TRX_USDT', 'USDT_TRY', 'TRX_TRY'], ['WLD_FDUSD', 'FDUSD_USDT', 'WLD_USDT'], ['WLD_BTC', 'BTC_USDT', 'WLD_USDT'], ['WLD_USDT', 'USDT_TRY', 'WLD_TRY'], ['WLD_FDUSD', 'FDUSD_USDT', 'WLD_USDT'], ['SOL_USDC', 'USDC_USDT', 'SOL_USDT'], ['SOL_USDT', 'USDT_TRY', 'SOL_TRY'], ['SOL_ETH', 'ETH_USDT', 'SOL_USDT'], ['SOL_EUR', 'EUR_USDT', 'SOL_USDT'], ['SOL_BTC', 'BTC_USDT', 'SOL_USDT'], ['SOL_TUSD', 'TUSD_USDT', 'SOL_USDT'], ['SOL_BNB', 'BNB_USDT', 'SOL_USDT'], ['SOL_FDUSD', 'FDUSD_USDT', 'SOL_USDT'], ['SOL_USDC', 'USDC_USDT', 'SOL_USDT'], ['SOL_BTC', 'BTC_USDT', 'SOL_USDT'], ['SOL_BNB', 'BNB_USDT', 'SOL_USDT'], ['SOL_TUSD', 'TUSD_USDT', 'SOL_USDT'], ['SOL_USDT', 'USDT_BRL', 'SOL_BRL'], ['SOL_ETH', 'ETH_USDT', 'SOL_USDT'], ['SOL_FDUSD', 'FDUSD_USDT', 'SOL_USDT'], ['ACE_BTC', 'BTC_USDT', 'ACE_USDT'], ['ACE_USDT', 'USDT_TRY', 'ACE_TRY'], ['DOT_USDC', 'USDC_USDT', 'DOT_USDT'], ['BNB_USDC', 'USDC_USDT', 'BNB_USDT'], ['ADA_USDC', 'USDC_USDT', 'ADA_USDT'], ['INJ_USDC', 'USDC_USDT', 'INJ_USDT'], ['OP_USDC', 'USDC_USDT', 'OP_USDT'], ['MATIC_USDC', 'USDC_USDT', 'MATIC_USDT'], ['BTC_USDC', 'USDC_USDT', 'BTC_USDT'], ['SOL_USDC', 'USDC_USDT', 'SOL_USDT'], ['DOT_USDC', 'USDC_USDT', 'DOT_USDT'], ['AVAX_USDC', 'USDC_USDT', 'AVAX_USDT'], ['XRP_USDC', 'USDC_USDT', 'XRP_USDT'], ['ETH_USDC', 'USDC_USDT', 'ETH_USDT'], ['BNB_USDC', 'USDC_USDT', 'BNB_USDT'], ['SEI_USDC', 'USDC_USDT', 'SEI_USDT'], ['SOL_USDC', 'USDC_USDT', 'SOL_USDT'], ['BTC_USDC', 'USDC_USDT', 'BTC_USDT'], ['AVAX_USDC', 'USDC_USDT', 'AVAX_USDT'], ['ARB_USDC', 'USDC_USDT', 'ARB_USDT'], ['OP_USDC', 'USDC_USDT', 'OP_USDT'], ['ARB_USDC', 'USDC_USDT', 'ARB_USDT'], ['ADA_USDC', 'USDC_USDT', 'ADA_USDT'], ['XRP_USDC', 'USDC_USDT', 'XRP_USDT'], ['INJ_USDC', 'USDC_USDT', 'INJ_USDT'], ['ETH_USDC', 'USDC_USDT', 'ETH_USDT'], ['MATIC_USDC', 'USDC_USDT', 'MATIC_USDT'], ['SEI_USDC', 'USDC_USDT', 'SEI_USDT'], ['NEAR_BTC', 'BTC_USDT', 'NEAR_USDT'], ['DOT_USDC', 'USDC_USDT', 'DOT_USDT'], ['DOT_BTC', 'BTC_USDT', 'DOT_USDT'], ['ETH_BTC', 'BTC_TUSD', 'ETH_TUSD'], ['SOL_ETH', 'ETH_TUSD', 'SOL_TUSD'], ['BNB_ETH', 'ETH_TUSD', 'BNB_TUSD'], ['ETH_BTC', 'BTC_TUSD', 'ETH_TUSD'], ['BNB_ETH', 'ETH_TUSD', 'BNB_TUSD'], ['SOL_ETH', 'ETH_TUSD', 'SOL_TUSD'], ['ETH_TUSD', 'TUSD_USDT', 'ETH_USDT'], ['VET_BTC', 'BTC_USDT', 'VET_USDT'], ['VET_BTC', 'BTC_TRY', 'VET_TRY'], ['VET_ETH', 'ETH_BTC', 'VET_BTC'], ['VET_BNB', 'BNB_BTC', 'VET_BTC'], ['VET_ETH', 'ETH_BTC', 'VET_BTC'], ['VET_BTC', 'BTC_EUR', 'VET_EUR'], ['VET_BNB', 'BNB_BTC', 'VET_BTC'], ['UMA_USDT', 'USDT_TRY', 'UMA_TRY'], ['REEF_USDT', 'USDT_TRY', 'REEF_TRY'], ['ADA_BTC', 'BTC_USDT', 'ADA_USDT'], ['ADA_BTC', 'BTC_FDUSD', 'ADA_FDUSD'], ['ADA_BTC', 'BTC_USDC', 'ADA_USDC'], ['ADA_BTC', 'BTC_EUR', 'ADA_EUR'], ['VET_BTC', 'BTC_TRY', 'VET_TRY'], ['VET_USDT', 'USDT_TRY', 'VET_TRY'], ['VET_BTC', 'BTC_TRY', 'VET_TRY'], ['VET_ETH', 'ETH_TRY', 'VET_TRY'], ['VET_BNB', 'BNB_TRY', 'VET_TRY'], ['VET_USDT', 'USDT_TRY', 'VET_TRY'], ['VET_BNB', 'BNB_TRY', 'VET_TRY'], ['MEME_USDT', 'USDT_TRY', 'MEME_TRY'], ['USTC_USDT', 'USDT_TRY', 'USTC_TRY'], ['USTC_FDUSD', 'FDUSD_TRY', 'USTC_TRY'], ['USTC_USDT', 'USDT_TRY', 'USTC_TRY'], ['USTC_FDUSD', 'FDUSD_TRY', 'USTC_TRY'], ['AI_USDT', 'USDT_TRY', 'AI_TRY'], ['AI_FDUSD', 'FDUSD_TRY', 'AI_TRY'], ['AI_USDT', 'USDT_TRY', 'AI_TRY'], ['AI_FDUSD', 'FDUSD_TRY', 'AI_TRY'], ['SEI_BTC', 'BTC_TRY', 'SEI_TRY'], ['SEI_FDUSD', 'FDUSD_TRY', 'SEI_TRY'], ['SEI_USDT', 'USDT_TRY', 'SEI_TRY'], ['SEI_BTC', 'BTC_TRY', 'SEI_TRY'], ['RNDR_BTC', 'BTC_USDT', 'RNDR_USDT'], ['RNDR_USDT', 'USDT_TRY', 'RNDR_TRY'], ['USTC_USDT', 'USDT_TRY', 'USTC_TRY'], ['USTC_FDUSD', 'FDUSD_USDT', 'USTC_USDT'], ['ETH_BTC', 'BTC_TUSD', 'ETH_TUSD'], ['SOL_BTC', 'BTC_TUSD', 'SOL_TUSD'], ['BTC_TUSD', 'TUSD_USDT', 'BTC_USDT'], ['BNB_BTC', 'BTC_TUSD', 'BNB_TUSD'], ['ETH_BTC', 'BTC_TUSD', 'ETH_TUSD'], ['BNB_BTC', 'BTC_TUSD', 'BNB_TUSD'], ['SOL_BTC', 'BTC_TUSD', 'SOL_TUSD'], ['SHIB_USDT', 'USDT_TRY', 'SHIB_TRY'], ['AUCTION_BTC', 'BTC_USDT', 'AUCTION_USDT'], ['XAI_USDT', 'USDT_TRY', 'XAI_TRY'], ['XAI_FDUSD', 'FDUSD_USDT', 'XAI_USDT'], ['DAR_USDT', 'USDT_TRY', 'DAR_TRY'], ['FLOKI_USDT', 'USDT_TRY', 'FLOKI_TRY'], ['BTT_USDT', 'USDT_TRY', 'BTT_TRY'], ['SOL_BTC', 'BTC_TRY', 'SOL_TRY'], ['SOL_USDT', 'USDT_TRY', 'SOL_TRY'], ['SOL_FDUSD', 'FDUSD_TRY', 'SOL_TRY'], ['SOL_ETH', 'ETH_TRY', 'SOL_TRY'], ['SOL_BTC', 'BTC_TRY', 'SOL_TRY'], ['SOL_FDUSD', 'FDUSD_TRY', 'SOL_TRY'], ['SOL_BNB', 'BNB_TRY', 'SOL_TRY'], ['SOL_USDT', 'USDT_TRY', 'SOL_TRY'], ['SOL_BNB', 'BNB_TRY', 'SOL_TRY'], ['ARPA_USDT', 'USDT_TRY', 'ARPA_TRY'], ['LEVER_USDT', 'USDT_TRY', 'LEVER_TRY'], ['ALT_USDT', 'USDT_TRY', 'ALT_TRY'], ['ALT_BTC', 'BTC_TRY', 'ALT_TRY'], ['ALT_FDUSD', 'FDUSD_TRY', 'ALT_TRY'], ['ALT_USDT', 'USDT_TRY', 'ALT_TRY'], ['ALT_FDUSD', 'FDUSD_TRY', 'ALT_TRY'], ['ALT_BTC', 'BTC_TRY', 'ALT_TRY'], ['TIA_BTC', 'BTC_TRY', 'TIA_TRY'], ['TIA_USDT', 'USDT_TRY', 'TIA_TRY'], ['TIA_BTC', 'BTC_TRY', 'TIA_TRY'], ['WLD_BTC', 'BTC_FDUSD', 'WLD_FDUSD'], ['BCH_BTC', 'BTC_FDUSD', 'BCH_FDUSD'], ['BTC_FDUSD', 'FDUSD_TRY', 'BTC_TRY'], ['LINK_BTC', 'BTC_FDUSD', 'LINK_FDUSD'], ['ETH_BTC', 'BTC_FDUSD', 'ETH_FDUSD'], ['DOGE_BTC', 'BTC_FDUSD', 'DOGE_FDUSD'], ['BNB_BTC', 'BTC_FDUSD', 'BNB_FDUSD'], ['SEI_BTC', 'BTC_FDUSD', 'SEI_FDUSD'], ['LINK_BTC', 'BTC_FDUSD', 'LINK_FDUSD'], ['AVAX_BTC', 'BTC_FDUSD', 'AVAX_FDUSD'], ['ADA_BTC', 'BTC_FDUSD', 'ADA_FDUSD'], ['BCH_BTC', 'BTC_FDUSD', 'BCH_FDUSD'], ['DOGE_BTC', 'BTC_FDUSD', 'DOGE_FDUSD'], ['XRP_BTC', 'BTC_FDUSD', 'XRP_FDUSD'], ['SOL_BTC', 'BTC_FDUSD', 'SOL_FDUSD'], ['MATIC_BTC', 'BTC_FDUSD', 'MATIC_FDUSD'], ['ARB_BTC', 'BTC_FDUSD', 'ARB_FDUSD'], ['BTC_FDUSD', 'FDUSD_USDT', 'BTC_USDT'], ['ADA_BTC', 'BTC_FDUSD', 'ADA_FDUSD'], ['ARB_BTC', 'BTC_FDUSD', 'ARB_FDUSD'], ['XRP_BTC', 'BTC_FDUSD', 'XRP_FDUSD'], ['BNB_BTC', 'BTC_FDUSD', 'BNB_FDUSD'], ['AVAX_BTC', 'BTC_FDUSD', 'AVAX_FDUSD'], ['SEI_BTC', 'BTC_FDUSD', 'SEI_FDUSD'], ['ETH_BTC', 'BTC_FDUSD', 'ETH_FDUSD'], ['ALT_BTC', 'BTC_FDUSD', 'ALT_FDUSD'], ['WLD_BTC', 'BTC_FDUSD', 'WLD_FDUSD'], ['ALT_BTC', 'BTC_FDUSD', 'ALT_FDUSD'], ['DYM_BTC', 'BTC_FDUSD', 'DYM_FDUSD'], ['MANTA_BTC', 'BTC_FDUSD', 'MANTA_FDUSD'], ['MATIC_BTC', 'BTC_FDUSD', 'MATIC_FDUSD'], ['DYM_BTC', 'BTC_FDUSD', 'DYM_FDUSD'], ['MANTA_BTC', 'BTC_FDUSD', 'MANTA_FDUSD'], ['BONK_FDUSD', 'FDUSD_TRY', 'BONK_TRY'], ['WLD_FDUSD', 'FDUSD_TRY', 'WLD_TRY'], ['BTC_FDUSD', 'FDUSD_TRY', 'BTC_TRY'], ['ETH_FDUSD', 'FDUSD_TRY', 'ETH_TRY'], ['DOGE_FDUSD', 'FDUSD_TRY', 'DOGE_TRY'], ['BNB_FDUSD', 'FDUSD_TRY', 'BNB_TRY'], ['MANTA_FDUSD', 'FDUSD_TRY', 'MANTA_TRY'], ['SEI_FDUSD', 'FDUSD_TRY', 'SEI_TRY'], ['AVAX_FDUSD', 'FDUSD_TRY', 'AVAX_TRY'], ['USTC_FDUSD', 'FDUSD_TRY', 'USTC_TRY'], ['AI_FDUSD', 'FDUSD_TRY', 'AI_TRY'], ['SEI_FDUSD', 'FDUSD_TRY', 'SEI_TRY'], ['SOL_FDUSD', 'FDUSD_TRY', 'SOL_TRY'], ['ALT_FDUSD', 'FDUSD_TRY', 'ALT_TRY'], ['BTC_FDUSD', 'FDUSD_TRY', 'BTC_TRY'], ['XRP_FDUSD', 'FDUSD_TRY', 'XRP_TRY'], ['ETH_FDUSD', 'FDUSD_TRY', 'ETH_TRY'], ['XRP_FDUSD', 'FDUSD_TRY', 'XRP_TRY'], ['DYM_FDUSD', 'FDUSD_TRY', 'DYM_TRY'], ['SOL_FDUSD', 'FDUSD_TRY', 'SOL_TRY'], ['DOGE_FDUSD', 'FDUSD_TRY', 'DOGE_TRY'], ['ARB_FDUSD', 'FDUSD_TRY', 'ARB_TRY'], ['XAI_FDUSD', 'FDUSD_TRY', 'XAI_TRY'], ['BNB_FDUSD', 'FDUSD_TRY', 'BNB_TRY'], ['ARB_FDUSD', 'FDUSD_TRY', 'ARB_TRY'], ['FDUSD_USDT', 'USDT_TRY', 'FDUSD_TRY'], ['BONK_FDUSD', 'FDUSD_TRY', 'BONK_TRY'], ['ALT_FDUSD', 'FDUSD_TRY', 'ALT_TRY'], ['WLD_FDUSD', 'FDUSD_TRY', 'WLD_TRY'], ['MANTA_FDUSD', 'FDUSD_TRY', 'MANTA_TRY'], ['DYM_FDUSD', 'FDUSD_TRY', 'DYM_TRY'], ['AI_FDUSD', 'FDUSD_TRY', 'AI_TRY'], ['FDUSD_USDT', 'USDT_TRY', 'FDUSD_TRY'], ['USTC_FDUSD', 'FDUSD_TRY', 'USTC_TRY'], ['XAI_FDUSD', 'FDUSD_TRY', 'XAI_TRY'], ['MBOX_USDT', 'USDT_TRY', 'MBOX_TRY'], ['BCH_BTC', 'BTC_FDUSD', 'BCH_FDUSD'], ['BCH_BTC', 'BTC_USDT', 'BCH_USDT'], ['DOGE_BTC', 'BTC_FDUSD', 'DOGE_FDUSD'], ['DOGE_BTC', 'BTC_TRY', 'DOGE_TRY'], ['DOGE_BTC', 'BTC_USDT', 'DOGE_USDT'], ['PYTH_USDT', 'USDT_TRY', 'PYTH_TRY'], ['IMX_BTC', 'BTC_USDT', 'IMX_USDT'], ['ATOM_BTC', 'BTC_USDT', 'ATOM_USDT'], ['NTRN_BTC', 'BTC_USDT', 'NTRN_USDT'], ['NTRN_USDT', 'USDT_TRY', 'NTRN_TRY'], ['LUNC_USDT', 'USDT_TRY', 'LUNC_TRY'], ['XRP_ETH', 'ETH_FDUSD', 'XRP_FDUSD'], ['XRP_BTC', 'BTC_FDUSD', 'XRP_FDUSD'], ['XRP_FDUSD', 'FDUSD_TRY', 'XRP_TRY'], ['XRP_FDUSD', 'FDUSD_USDT', 'XRP_USDT'], ['XRP_BTC', 'BTC_FDUSD', 'XRP_FDUSD'], ['XRP_ETH', 'ETH_FDUSD', 'XRP_FDUSD'], ['SUPER_USDT', 'USDT_TRY', 'SUPER_TRY'], ['SOL_ETH', 'ETH_USDT', 'SOL_USDT'], ['SOL_ETH', 'ETH_TRY', 'SOL_TRY'], ['SOL_ETH', 'ETH_EUR', 'SOL_EUR'], ['SOL_ETH', 'ETH_BTC', 'SOL_BTC'], ['SOL_ETH', 'ETH_FDUSD', 'SOL_FDUSD'], ['SOL_BNB', 'BNB_ETH', 'SOL_ETH'], ['SOL_ETH', 'ETH_USDC', 'SOL_USDC'], ['SOL_BNB', 'BNB_ETH', 'SOL_ETH'], ['SOL_ETH', 'ETH_TUSD', 'SOL_TUSD'], ['SOL_ETH', 'ETH_BRL', 'SOL_BRL'], ['LTC_BTC', 'BTC_USDT', 'LTC_USDT'], ['ACA_USDT', 'USDT_TRY', 'ACA_TRY'], ['SOL_EUR', 'EUR_USDT', 'SOL_USDT'], ['SOL_ETH', 'ETH_EUR', 'SOL_EUR'], ['SOL_BTC', 'BTC_EUR', 'SOL_EUR'], ['SOL_ETH', 'ETH_EUR', 'SOL_EUR'], ['SOL_BNB', 'BNB_EUR', 'SOL_EUR'], ['ORDI_BTC', 'BTC_USDT', 'ORDI_USDT'], ['ORDI_BTC', 'BTC_TRY', 'ORDI_TRY'], ['ETH_BTC', 'BTC_TRY', 'ETH_TRY'], ['ETH_FDUSD', 'FDUSD_TRY', 'ETH_TRY'], ['VET_ETH', 'ETH_TRY', 'VET_TRY'], ['SOL_ETH', 'ETH_TRY', 'SOL_TRY'], ['ETH_FDUSD', 'FDUSD_TRY', 'ETH_TRY'], ['SOL_ETH', 'ETH_TRY', 'SOL_TRY'], ['XRP_ETH', 'ETH_TRY', 'XRP_TRY'], ['BNB_ETH', 'ETH_TRY', 'BNB_TRY'], ['VET_ETH', 'ETH_TRY', 'VET_TRY'], ['BNB_ETH', 'ETH_TRY', 'BNB_TRY'], ['ETH_USDT', 'USDT_TRY', 'ETH_TRY'], ['ETH_BTC', 'BTC_TRY', 'ETH_TRY'], ['ETH_USDT', 'USDT_TRY', 'ETH_TRY'], ['XRP_ETH', 'ETH_TRY', 'XRP_TRY'], ['SOL_ETH', 'ETH_BRL', 'SOL_BRL'], ['ETH_USDT', 'USDT_BRL', 'ETH_BRL'], ['ETH_BTC', 'BTC_BRL', 'ETH_BRL'], ['SOL_ETH', 'ETH_BRL', 'SOL_BRL'], ['ETH_USDT', 'USDT_BRL', 'ETH_BRL'], ['AVAX_BTC', 'BTC_USDC', 'AVAX_USDC'], ['AVAX_USDC', 'USDC_USDT', 'AVAX_USDT'], ['AVAX_BTC', 'BTC_USDC', 'AVAX_USDC'], ['XMR_BTC', 'BTC_USDT', 'XMR_USDT'], ['SHIB_USDT', 'USDT_TRY', 'SHIB_TRY'], ['SUI_BTC', 'BTC_USDT', 'SUI_USDT'], ['SUI_BTC', 'BTC_TRY', 'SUI_TRY'], ['XRP_BTC', 'BTC_TRY', 'XRP_TRY'], ['XRP_FDUSD', 'FDUSD_TRY', 'XRP_TRY'], ['XRP_ETH', 'ETH_TRY', 'XRP_TRY'], ['XRP_USDT', 'USDT_TRY', 'XRP_TRY'], ['XRP_BTC', 'BTC_TRY', 'XRP_TRY'], ['XRP_USDT', 'USDT_TRY', 'XRP_TRY'], ['XRP_ETH', 'ETH_TRY', 'XRP_TRY'], ['TRX_BTC', 'BTC_USDT', 'TRX_USDT'], ['TRX_BTC', 'BTC_TRY', 'TRX_TRY'], ['LEVER_USDT', 'USDT_TRY', 'LEVER_TRY'], ['NFP_USDT', 'USDT_TRY', 'NFP_TRY'], ['XRP_USDC', 'USDC_USDT', 'XRP_USDT'], ['XRP_FDUSD', 'FDUSD_USDT', 'XRP_USDT'], ['XRP_USDT', 'USDT_TRY', 'XRP_TRY'], ['XRP_EUR', 'EUR_USDT', 'XRP_USDT'], ['XRP_BTC', 'BTC_USDT', 'XRP_USDT'], ['XRP_EUR', 'EUR_USDT', 'XRP_USDT'], ['XRP_USDC', 'USDC_USDT', 'XRP_USDT'], ['XRP_ETH', 'ETH_USDT', 'XRP_USDT'], ['XRP_FDUSD', 'FDUSD_USDT', 'XRP_USDT'], ['ADA_EUR', 'EUR_USDT', 'ADA_USDT'], ['VET_EUR', 'EUR_USDT', 'VET_USDT'], ['SOL_EUR', 'EUR_USDT', 'SOL_USDT'], ['XRP_EUR', 'EUR_USDT', 'XRP_USDT'], ['BNB_EUR', 'EUR_USDT', 'BNB_USDT'], ['BTC_EUR', 'EUR_USDT', 'BTC_USDT'], ['ETH_EUR', 'EUR_USDT', 'ETH_USDT'], ['XRP_EUR', 'EUR_USDT', 'XRP_USDT'], ['VET_EUR', 'EUR_USDT', 'VET_USDT'], ['BNB_EUR', 'EUR_USDT', 'BNB_USDT'], ['ADA_EUR', 'EUR_USDT', 'ADA_USDT'], ['ETH_EUR', 'EUR_USDT', 'ETH_USDT'], ['SOL_BTC', 'BTC_USDT', 'SOL_USDT'], ['SOL_BTC', 'BTC_TRY', 'SOL_TRY'], ['SOL_ETH', 'ETH_BTC', 'SOL_BTC'], ['SOL_BTC', 'BTC_EUR', 'SOL_EUR'], ['SOL_BTC', 'BTC_FDUSD', 'SOL_FDUSD'], ['SOL_BTC', 'BTC_USDC', 'SOL_USDC'], ['SOL_BNB', 'BNB_BTC', 'SOL_BTC'], ['SOL_ETH', 'ETH_BTC', 'SOL_BTC'], ['SOL_BNB', 'BNB_BTC', 'SOL_BTC'], ['SOL_BTC', 'BTC_TUSD', 'SOL_TUSD'], ['SOL_BTC', 'BTC_BRL', 'SOL_BRL'], ['UMA_USDT', 'USDT_TRY', 'UMA_TRY'], ['BEAM_USDT', 'USDT_TRY', 'BEAM_TRY'], ['SOL_TUSD', 'TUSD_USDT', 'SOL_USDT'], ['ETH_TUSD', 'TUSD_USDT', 'ETH_USDT'], ['BTC_TUSD', 'TUSD_USDT', 'BTC_USDT'], ['BNB_TUSD', 'TUSD_USDT', 'BNB_USDT'], ['BTC_TUSD', 'TUSD_USDT', 'BTC_USDT'], ['BNB_TUSD', 'TUSD_USDT', 'BNB_USDT'], ['SOL_TUSD', 'TUSD_USDT', 'SOL_USDT'], ['ETH_TUSD', 'TUSD_USDT', 'ETH_USDT'], ['BNB_ETH', 'ETH_USDC', 'BNB_USDC'], ['ETH_BTC', 'BTC_USDC', 'ETH_USDC'], ['SOL_ETH', 'ETH_USDC', 'SOL_USDC'], ['BNB_ETH', 'ETH_USDC', 'BNB_USDC'], ['SOL_ETH', 'ETH_USDC', 'SOL_USDC'], ['ETH_BTC', 'BTC_USDC', 'ETH_USDC'], ['XRP_ETH', 'ETH_USDC', 'XRP_USDC'], ['ETH_USDC', 'USDC_USDT', 'ETH_USDT'], ['XRP_ETH', 'ETH_USDC', 'XRP_USDC'], ['MEME_USDT', 'USDT_TRY', 'MEME_TRY'], ['MINA_USDT', 'USDT_TRY', 'MINA_TRY'], ['CHR_BTC', 'BTC_USDT', 'CHR_USDT'], ['BNB_USDC', 'USDC_USDT', 'BNB_USDT'], ['VET_BNB', 'BNB_USDT', 'VET_USDT'], ['BNB_FDUSD', 'FDUSD_USDT', 'BNB_USDT'], ['SOL_BNB', 'BNB_USDT', 'SOL_USDT'], ['BNB_USDC', 'USDC_USDT', 'BNB_USDT'], ['BNB_EUR', 'EUR_USDT', 'BNB_USDT'], ['BNB_TUSD', 'TUSD_USDT', 'BNB_USDT'], ['BNB_ETH', 'ETH_USDT', 'BNB_USDT'], ['BNB_BTC', 'BTC_USDT', 'BNB_USDT'], ['BNB_USDT', 'USDT_TRY', 'BNB_TRY'], ['BNB_BTC', 'BTC_USDT', 'BNB_USDT'], ['SOL_BNB', 'BNB_USDT', 'SOL_USDT'], ['BNB_TUSD', 'TUSD_USDT', 'BNB_USDT'], ['BNB_EUR', 'EUR_USDT', 'BNB_USDT'], ['VET_BNB', 'BNB_USDT', 'VET_USDT'], ['BNB_ETH', 'ETH_USDT', 'BNB_USDT'], ['BNB_FDUSD', 'FDUSD_USDT', 'BNB_USDT'], ['GAS_BTC', 'BTC_USDT', 'GAS_USDT'], ['APE_USDT', 'USDT_TRY', 'APE_TRY'], ['FTM_BTC', 'BTC_USDT', 'FTM_USDT'], ['SEI_FDUSD', 'FDUSD_USDT', 'SEI_USDT'], ['SEI_USDC', 'USDC_USDT', 'SEI_USDT'], ['SEI_USDT', 'USDT_TRY', 'SEI_TRY'], ['SEI_BTC', 'BTC_USDT', 'SEI_USDT'], ['SEI_USDC', 'USDC_USDT', 'SEI_USDT'], ['SEI_FDUSD', 'FDUSD_USDT', 'SEI_USDT'], ['DATA_BTC', 'BTC_USDT', 'DATA_USDT'], ['DYM_BTC', 'BTC_TRY', 'DYM_TRY'], ['DYM_FDUSD', 'FDUSD_TRY', 'DYM_TRY'], ['DYM_USDT', 'USDT_TRY', 'DYM_TRY'], ['DYM_BTC', 'BTC_TRY', 'DYM_TRY'], ['DYM_FDUSD', 'FDUSD_TRY', 'DYM_TRY'], ['SOL_ETH', 'ETH_FDUSD', 'SOL_FDUSD'], ['SOL_BNB', 'BNB_FDUSD', 'SOL_FDUSD'], ['SOL_FDUSD', 'FDUSD_USDT', 'SOL_USDT'], ['SOL_FDUSD', 'FDUSD_TRY', 'SOL_TRY'], ['SOL_BTC', 'BTC_FDUSD', 'SOL_FDUSD'], ['SOL_ETH', 'ETH_FDUSD', 'SOL_FDUSD'], ['SOL_BTC', 'BTC_FDUSD', 'SOL_FDUSD'], ['SOL_BNB', 'BNB_FDUSD', 'SOL_FDUSD'], ['ID_USDT', 'USDT_TRY', 'ID_TRY'], ['CYBER_USDT', 'USDT_TRY', 'CYBER_TRY'], ['CHZ_USDT', 'USDT_TRY', 'CHZ_TRY'], ['DOGE_BTC', 'BTC_TRY', 'DOGE_TRY'], ['DOGE_FDUSD', 'FDUSD_TRY', 'DOGE_TRY'], ['DOGE_BTC', 'BTC_TRY', 'DOGE_TRY'], ['DOGE_USDT', 'USDT_TRY', 'DOGE_TRY'], ['PYTH_USDT', 'USDT_TRY', 'PYTH_TRY'], ['DOT_BTC', 'BTC_USDC', 'DOT_USDC'], ['DOT_BTC', 'BTC_USDT', 'DOT_USDT'], ['BNB_ETH', 'ETH_USDC', 'BNB_USDC'], ['BNB_ETH', 'ETH_FDUSD', 'BNB_FDUSD'], ['SOL_BNB', 'BNB_ETH', 'SOL_ETH'], ['BNB_ETH', 'ETH_USDT', 'BNB_USDT'], ['VET_BNB', 'BNB_ETH', 'VET_ETH'], ['BNB_ETH', 'ETH_TRY', 'BNB_TRY'], ['BNB_ETH', 'ETH_BTC', 'BNB_BTC'], ['SOL_BNB', 'BNB_ETH', 'SOL_ETH'], ['BNB_ETH', 'ETH_TUSD', 'BNB_TUSD'], ['BNB_ETH', 'ETH_EUR', 'BNB_EUR'], ['VET_BNB', 'BNB_ETH', 'VET_ETH'], ['MATIC_BTC', 'BTC_USDT', 'MATIC_USDT'], ['MATIC_BTC', 'BTC_FDUSD', 'MATIC_FDUSD'], ['MATIC_BTC', 'BTC_USDC', 'MATIC_USDC'], ['SOL_BNB', 'BNB_USDC', 'SOL_USDC'], ['SOL_BTC', 'BTC_USDC', 'SOL_USDC'], ['SOL_USDC', 'USDC_USDT', 'SOL_USDT'], ['SOL_ETH', 'ETH_USDC', 'SOL_USDC'], ['SOL_BTC', 'BTC_USDC', 'SOL_USDC'], ['SOL_ETH', 'ETH_USDC', 'SOL_USDC'], ['SOL_BNB', 'BNB_USDC', 'SOL_USDC'], ['ARB_BTC', 'BTC_FDUSD', 'ARB_FDUSD'], ['ARB_FDUSD', 'FDUSD_TRY', 'ARB_TRY'], ['ARB_FDUSD', 'FDUSD_USDT', 'ARB_USDT'], ['XAI_USDT', 'USDT_TRY', 'XAI_TRY'], ['XAI_FDUSD', 'FDUSD_TRY', 'XAI_TRY'], ['XAI_USDT', 'USDT_TRY', 'XAI_TRY'], ['XAI_FDUSD', 'FDUSD_TRY', 'XAI_TRY'], ['OP_BTC', 'BTC_USDT', 'OP_USDT'], ['ACE_BTC', 'BTC_USDT', 'ACE_USDT'], ['IMX_BTC', 'BTC_USDT', 'IMX_USDT'], ['FTM_BTC', 'BTC_USDT', 'FTM_USDT'], ['GAS_BTC', 'BTC_USDT', 'GAS_USDT'], ['SUI_BTC', 'BTC_USDT', 'SUI_USDT'], ['ADA_BTC', 'BTC_USDT', 'ADA_USDT'], ['ALT_BTC', 'BTC_USDT', 'ALT_USDT'], ['BTC_USDT', 'USDT_TRY', 'BTC_TRY'], ['STX_BTC', 'BTC_USDT', 'STX_USDT'], ['VET_BTC', 'BTC_USDT', 'VET_USDT'], ['ORDI_BTC', 'BTC_USDT', 'ORDI_USDT'], ['LINK_BTC', 'BTC_USDT', 'LINK_USDT'], ['INJ_BTC', 'BTC_USDT', 'INJ_USDT'], ['APT_BTC', 'BTC_USDT', 'APT_USDT'], ['OP_BTC', 'BTC_USDT', 'OP_USDT'], ['LTC_BTC', 'BTC_USDT', 'LTC_USDT'], ['PROM_BTC', 'BTC_USDT', 'PROM_USDT'], ['TIA_BTC', 'BTC_USDT', 'TIA_USDT'], ['RIF_BTC', 'BTC_USDT', 'RIF_USDT'], ['MATIC_BTC', 'BTC_USDT', 'MATIC_USDT'], ['BCH_BTC', 'BTC_USDT', 'BCH_USDT'], ['BTC_USDC', 'USDC_USDT', 'BTC_USDT'], ['TRX_BTC', 'BTC_USDT', 'TRX_USDT'], ['WLD_BTC', 'BTC_USDT', 'WLD_USDT'], ['SOL_BTC', 'BTC_USDT', 'SOL_USDT'], ['ACE_BTC', 'BTC_USDT', 'ACE_USDT'], ['BTC_USDC', 'USDC_USDT', 'BTC_USDT'], ['NEAR_BTC', 'BTC_USDT', 'NEAR_USDT'], ['DOT_BTC', 'BTC_USDT', 'DOT_USDT'], ['VET_BTC', 'BTC_USDT', 'VET_USDT'], ['ADA_BTC', 'BTC_USDT', 'ADA_USDT'], ['RNDR_BTC', 'BTC_USDT', 'RNDR_USDT'], ['BTC_TUSD', 'TUSD_USDT', 'BTC_USDT'], ['AUCTION_BTC', 'BTC_USDT', 'AUCTION_USDT'], ['BTC_FDUSD', 'FDUSD_USDT', 'BTC_USDT'], ['BCH_BTC', 'BTC_USDT', 'BCH_USDT'], ['DOGE_BTC', 'BTC_USDT', 'DOGE_USDT'], ['IMX_BTC', 'BTC_USDT', 'IMX_USDT'], ['ATOM_BTC', 'BTC_USDT', 'ATOM_USDT'], ['NTRN_BTC', 'BTC_USDT', 'NTRN_USDT'], ['LTC_BTC', 'BTC_USDT', 'LTC_USDT'], ['ORDI_BTC', 'BTC_USDT', 'ORDI_USDT'], ['XMR_BTC', 'BTC_USDT', 'XMR_USDT'], ['SUI_BTC', 'BTC_USDT', 'SUI_USDT'], ['TRX_BTC', 'BTC_USDT', 'TRX_USDT'], ['XRP_BTC', 'BTC_USDT', 'XRP_USDT'], ['BTC_EUR', 'EUR_USDT', 'BTC_USDT'], ['SOL_BTC', 'BTC_USDT', 'SOL_USDT'], ['BTC_TUSD', 'TUSD_USDT', 'BTC_USDT'], ['CHR_BTC', 'BTC_USDT', 'CHR_USDT'], ['BNB_BTC', 'BTC_USDT', 'BNB_USDT'], ['GAS_BTC', 'BTC_USDT', 'GAS_USDT'], ['FTM_BTC', 'BTC_USDT', 'FTM_USDT'], ['SEI_BTC', 'BTC_USDT', 'SEI_USDT'], ['DATA_BTC', 'BTC_USDT', 'DATA_USDT'], ['DOT_BTC', 'BTC_USDT', 'DOT_USDT'], ['MATIC_BTC', 'BTC_USDT', 'MATIC_USDT'], ['RIF_BTC', 'BTC_USDT', 'RIF_USDT'], ['API3_BTC', 'BTC_USDT', 'API3_USDT'], ['ARB_BTC', 'BTC_USDT', 'ARB_USDT'], ['BTC_EUR', 'EUR_USDT', 'BTC_USDT'], ['AVAX_BTC', 'BTC_USDT', 'AVAX_USDT'], ['DOGE_BTC', 'BTC_USDT', 'DOGE_USDT'], ['XRP_BTC', 'BTC_USDT', 'XRP_USDT'], ['DYM_BTC', 'BTC_USDT', 'DYM_USDT'], ['BNB_BTC', 'BTC_USDT', 'BNB_USDT'], ['AVAX_BTC', 'BTC_USDT', 'AVAX_USDT'], ['XMR_BTC', 'BTC_USDT', 'XMR_USDT'], ['STX_BTC', 'BTC_USDT', 'STX_USDT'], ['MANTA_BTC', 'BTC_USDT', 'MANTA_USDT'], ['BTC_USDT', 'USDT_BRL', 'BTC_BRL'], ['SEI_BTC', 'BTC_USDT', 'SEI_USDT'], ['ARB_BTC', 'BTC_USDT', 'ARB_USDT'], ['ETH_BTC', 'BTC_USDT', 'ETH_USDT'], ['LINK_BTC', 'BTC_USDT', 'LINK_USDT'], ['API3_BTC', 'BTC_USDT', 'API3_USDT'], ['NTRN_BTC', 'BTC_USDT', 'NTRN_USDT'], ['WLD_BTC', 'BTC_USDT', 'WLD_USDT'], ['ALT_BTC', 'BTC_USDT', 'ALT_USDT'], ['ATOM_BTC', 'BTC_USDT', 'ATOM_USDT'], ['INJ_BTC', 'BTC_USDT', 'INJ_USDT'], ['APT_BTC', 'BTC_USDT', 'APT_USDT'], ['DYM_BTC', 'BTC_USDT', 'DYM_USDT'], ['BTC_USDT', 'USDT_DAI', 'BTC_DAI'], ['DATA_BTC', 'BTC_USDT', 'DATA_USDT'], ['AUCTION_BTC', 'BTC_USDT', 'AUCTION_USDT'], ['PROM_BTC', 'BTC_USDT', 'PROM_USDT'], ['RNDR_BTC', 'BTC_USDT', 'RNDR_USDT'], ['MANTA_BTC', 'BTC_USDT', 'MANTA_USDT'], ['TIA_BTC', 'BTC_USDT', 'TIA_USDT'], ['ETH_BTC', 'BTC_USDT', 'ETH_USDT'], ['CHR_BTC', 'BTC_USDT', 'CHR_USDT'], ['NEAR_BTC', 'BTC_USDT', 'NEAR_USDT'], ['BTC_FDUSD', 'FDUSD_USDT', 'BTC_USDT'], ['ADA_FDUSD', 'FDUSD_USDT', 'ADA_USDT'], ['ADA_BTC', 'BTC_FDUSD', 'ADA_FDUSD'], ['RIF_BTC', 'BTC_USDT', 'RIF_USDT'], ['VET_ETH', 'ETH_USDT', 'VET_USDT'], ['VET_ETH', 'ETH_BTC', 'VET_BTC'], ['VET_ETH', 'ETH_TRY', 'VET_TRY'], ['VET_BNB', 'BNB_ETH', 'VET_ETH'], ['VET_ETH', 'ETH_EUR', 'VET_EUR'], ['VET_BNB', 'BNB_ETH', 'VET_ETH'], ['BTC_USDT', 'USDT_DAI', 'BTC_DAI'], ['BNB_BTC', 'BTC_TRY', 'BNB_TRY'], ['BNB_FDUSD', 'FDUSD_TRY', 'BNB_TRY'], ['VET_BNB', 'BNB_TRY', 'VET_TRY'], ['SOL_BNB', 'BNB_TRY', 'SOL_TRY'], ['BNB_FDUSD', 'FDUSD_TRY', 'BNB_TRY'], ['BNB_ETH', 'ETH_TRY', 'BNB_TRY'], ['BNB_USDT', 'USDT_TRY', 'BNB_TRY'], ['BNB_ETH', 'ETH_TRY', 'BNB_TRY'], ['BNB_BTC', 'BTC_TRY', 'BNB_TRY'], ['BNB_USDT', 'USDT_TRY', 'BNB_TRY'], ['SOL_BNB', 'BNB_TRY', 'SOL_TRY'], ['VET_BNB', 'BNB_TRY', 'VET_TRY'], ['CYBER_USDT', 'USDT_TRY', 'CYBER_TRY'], ['STX_BTC', 'BTC_TRY', 'STX_TRY'], ['STX_USDT', 'USDT_TRY', 'STX_TRY'], ['ACE_BTC', 'BTC_TRY', 'ACE_TRY'], ['ACE_USDT', 'USDT_TRY', 'ACE_TRY'], ['API3_BTC', 'BTC_TRY', 'API3_TRY'], ['API3_BTC', 'BTC_USDT', 'API3_USDT'], ['TRB_USDT', 'USDT_TRY', 'TRB_TRY'], ['ARB_BTC', 'BTC_FDUSD', 'ARB_FDUSD'], ['ARB_BTC', 'BTC_TRY', 'ARB_TRY'], ['ARB_BTC', 'BTC_USDT', 'ARB_USDT'], ['ARB_BTC', 'BTC_USDC', 'ARB_USDC'], ['ARB_BTC', 'BTC_TRY', 'ARB_TRY'], ['ARB_FDUSD', 'FDUSD_TRY', 'ARB_TRY'], ['ARB_BTC', 'BTC_TRY', 'ARB_TRY'], ['ARB_USDT', 'USDT_TRY', 'ARB_TRY'], ['VET_BTC', 'BTC_EUR', 'VET_EUR'], ['ADA_BTC', 'BTC_EUR', 'ADA_EUR'], ['SOL_BTC', 'BTC_EUR', 'SOL_EUR'], ['BTC_EUR', 'EUR_USDT', 'BTC_USDT'], ['XRP_BTC', 'BTC_EUR', 'XRP_EUR'], ['BNB_BTC', 'BTC_EUR', 'BNB_EUR'], ['ETH_BTC', 'BTC_EUR', 'ETH_EUR'], ['XRP_BTC', 'BTC_EUR', 'XRP_EUR'], ['VET_BTC', 'BTC_EUR', 'VET_EUR'], ['BNB_BTC', 'BTC_EUR', 'BNB_EUR'], ['ADA_BTC', 'BTC_EUR', 'ADA_EUR'], ['SOL_USDT', 'USDT_BRL', 'SOL_BRL'], ['ETH_USDT', 'USDT_BRL', 'ETH_BRL'], ['BTC_USDT', 'USDT_BRL', 'BTC_BRL'], ['SOL_USDT', 'USDT_BRL', 'SOL_BRL'], ['ETH_USDT', 'USDT_BRL', 'ETH_BRL'], ['JTO_USDT', 'USDT_TRY', 'JTO_TRY'], ['AVAX_FDUSD', 'FDUSD_USDT', 'AVAX_USDT'], ['AVAX_USDT', 'USDT_TRY', 'AVAX_TRY'], ['AVAX_USDC', 'USDC_USDT', 'AVAX_USDT'], ['AVAX_BTC', 'BTC_USDT', 'AVAX_USDT'], ['AVAX_FDUSD', 'FDUSD_USDT', 'AVAX_USDT'], ['API3_BTC', 'BTC_TRY', 'API3_TRY'], ['API3_USDT', 'USDT_TRY', 'API3_TRY'], ['DOGE_FDUSD', 'FDUSD_USDT', 'DOGE_USDT'], ['DOGE_BTC', 'BTC_USDT', 'DOGE_USDT'], ['DOGE_USDT', 'USDT_TRY', 'DOGE_TRY'], ['DOGE_BTC', 'BTC_USDT', 'DOGE_USDT'], ['DOGE_FDUSD', 'FDUSD_USDT', 'DOGE_USDT'], ['TRB_USDT', 'USDT_TRY', 'TRB_TRY'], ['STORJ_USDT', 'USDT_TRY', 'STORJ_TRY'], ['FET_USDT', 'USDT_TRY', 'FET_TRY'], ['BTT_USDT', 'USDT_TRY', 'BTT_TRY'], ['XRP_BTC', 'BTC_FDUSD', 'XRP_FDUSD'], ['XRP_BTC', 'BTC_TRY', 'XRP_TRY'], ['XRP_BTC', 'BTC_USDT', 'XRP_USDT'], ['XRP_ETH', 'ETH_BTC', 'XRP_BTC'], ['XRP_BTC', 'BTC_EUR', 'XRP_EUR'], ['XRP_BTC', 'BTC_USDC', 'XRP_USDC'], ['XRP_ETH', 'ETH_BTC', 'XRP_BTC'], ['SKL_USDT', 'USDT_TRY', 'SKL_TRY'], ['DYM_USDT', 'USDT_TRY', 'DYM_TRY'], ['DYM_BTC', 'BTC_USDT', 'DYM_USDT'], ['DYM_FDUSD', 'FDUSD_USDT', 'DYM_USDT'], ['PEPE_USDT', 'USDT_TRY', 'PEPE_TRY'], ['MAV_USDT', 'USDT_TRY', 'MAV_TRY'], ['BNB_BTC', 'BTC_USDC', 'BNB_USDC'], ['BNB_BTC', 'BTC_FDUSD', 'BNB_FDUSD'], ['VET_BNB', 'BNB_BTC', 'VET_BTC'], ['SOL_BNB', 'BNB_BTC', 'SOL_BTC'], ['BNB_BTC', 'BTC_USDT', 'BNB_USDT'], ['BNB_ETH', 'ETH_BTC', 'BNB_BTC'], ['BNB_BTC', 'BTC_TRY', 'BNB_TRY'], ['BNB_ETH', 'ETH_BTC', 'BNB_BTC'], ['SOL_BNB', 'BNB_BTC', 'SOL_BTC'], ['BNB_BTC', 'BTC_TUSD', 'BNB_TUSD'], ['BNB_BTC', 'BTC_EUR', 'BNB_EUR'], ['VET_BNB', 'BNB_BTC', 'VET_BTC'], ['AVAX_BTC', 'BTC_FDUSD', 'AVAX_FDUSD'], ['AVAX_BTC', 'BTC_TRY', 'AVAX_TRY'], ['AVAX_BTC', 'BTC_USDC', 'AVAX_USDC'], ['AVAX_BTC', 'BTC_USDT', 'AVAX_USDT'], ['XMR_BTC', 'BTC_USDT', 'XMR_USDT'], ['STX_BTC', 'BTC_USDT', 'STX_USDT'], ['STX_USDT', 'USDT_TRY', 'STX_TRY'], ['ID_USDT', 'USDT_TRY', 'ID_TRY'], ['REEF_USDT', 'USDT_TRY', 'REEF_TRY'], ['FLOKI_USDT', 'USDT_TRY', 'FLOKI_TRY'], ['MBOX_USDT', 'USDT_TRY', 'MBOX_TRY'], ['SUI_USDT', 'USDT_TRY', 'SUI_TRY'], ['JUP_USDT', 'USDT_TRY', 'JUP_TRY'], ['ALT_USDT', 'USDT_TRY', 'ALT_TRY'], ['BTC_USDT', 'USDT_TRY', 'BTC_TRY'], ['VET_USDT', 'USDT_TRY', 'VET_TRY'], ['ORDI_USDT', 'USDT_TRY', 'ORDI_TRY'], ['INJ_USDT', 'USDT_TRY', 'INJ_TRY'], ['APT_USDT', 'USDT_TRY', 'APT_TRY'], ['MANTA_USDT', 'USDT_TRY', 'MANTA_TRY'], ['AI_USDT', 'USDT_TRY', 'AI_TRY'], ['TIA_USDT', 'USDT_TRY', 'TIA_TRY'], ['AVAX_USDT', 'USDT_TRY', 'AVAX_TRY'], ['DENT_USDT', 'USDT_TRY', 'DENT_TRY'], ['LUNC_USDT', 'USDT_TRY', 'LUNC_TRY'], ['BONK_USDT', 'USDT_TRY', 'BONK_TRY'], ['PEPE_USDT', 'USDT_TRY', 'PEPE_TRY'], ['TRX_USDT', 'USDT_TRY', 'TRX_TRY'], ['WLD_USDT', 'USDT_TRY', 'WLD_TRY'], ['SOL_USDT', 'USDT_TRY', 'SOL_TRY'], ['ACE_USDT', 'USDT_TRY', 'ACE_TRY'], ['UMA_USDT', 'USDT_TRY', 'UMA_TRY'], ['REEF_USDT', 'USDT_TRY', 'REEF_TRY'], ['VET_USDT', 'USDT_TRY', 'VET_TRY'], ['MEME_USDT', 'USDT_TRY', 'MEME_TRY'], ['USTC_USDT', 'USDT_TRY', 'USTC_TRY'], ['AI_USDT', 'USDT_TRY', 'AI_TRY'], ['SEI_USDT', 'USDT_TRY', 'SEI_TRY'], ['RNDR_USDT', 'USDT_TRY', 'RNDR_TRY'], ['USTC_USDT', 'USDT_TRY', 'USTC_TRY'], ['SHIB_USDT', 'USDT_TRY', 'SHIB_TRY'], ['XAI_USDT', 'USDT_TRY', 'XAI_TRY'], ['DAR_USDT', 'USDT_TRY', 'DAR_TRY'], ['FLOKI_USDT', 'USDT_TRY', 'FLOKI_TRY'], ['BTT_USDT', 'USDT_TRY', 'BTT_TRY'], ['SOL_USDT', 'USDT_TRY', 'SOL_TRY'], ['ARPA_USDT', 'USDT_TRY', 'ARPA_TRY'], ['LEVER_USDT', 'USDT_TRY', 'LEVER_TRY'], ['ALT_USDT', 'USDT_TRY', 'ALT_TRY'], ['TIA_USDT', 'USDT_TRY', 'TIA_TRY'], ['FDUSD_USDT', 'USDT_TRY', 'FDUSD_TRY'], ['MBOX_USDT', 'USDT_TRY', 'MBOX_TRY'], ['PYTH_USDT', 'USDT_TRY', 'PYTH_TRY'], ['NTRN_USDT', 'USDT_TRY', 'NTRN_TRY'], ['LUNC_USDT', 'USDT_TRY', 'LUNC_TRY'], ['SUPER_USDT', 'USDT_TRY', 'SUPER_TRY'], ['ACA_USDT', 'USDT_TRY', 'ACA_TRY'], ['ETH_USDT', 'USDT_TRY', 'ETH_TRY'], ['SHIB_USDT', 'USDT_TRY', 'SHIB_TRY'], ['XRP_USDT', 'USDT_TRY', 'XRP_TRY'], ['LEVER_USDT', 'USDT_TRY', 'LEVER_TRY'], ['NFP_USDT', 'USDT_TRY', 'NFP_TRY'], ['XRP_USDT', 'USDT_TRY', 'XRP_TRY'], ['UMA_USDT', 'USDT_TRY', 'UMA_TRY'], ['BEAM_USDT', 'USDT_TRY', 'BEAM_TRY'], ['MEME_USDT', 'USDT_TRY', 'MEME_TRY'], ['MINA_USDT', 'USDT_TRY', 'MINA_TRY'], ['BNB_USDT', 'USDT_TRY', 'BNB_TRY'], ['APE_USDT', 'USDT_TRY', 'APE_TRY'], ['SEI_USDT', 'USDT_TRY', 'SEI_TRY'], ['DYM_USDT', 'USDT_TRY', 'DYM_TRY'], ['ID_USDT', 'USDT_TRY', 'ID_TRY'], ['CYBER_USDT', 'USDT_TRY', 'CYBER_TRY'], ['CHZ_USDT', 'USDT_TRY', 'CHZ_TRY'], ['DOGE_USDT', 'USDT_TRY', 'DOGE_TRY'], ['PYTH_USDT', 'USDT_TRY', 'PYTH_TRY'], ['XAI_USDT', 'USDT_TRY', 'XAI_TRY'], ['BTC_USDT', 'USDT_TRY', 'BTC_TRY'], ['BNB_USDT', 'USDT_TRY', 'BNB_TRY'], ['CYBER_USDT', 'USDT_TRY', 'CYBER_TRY'], ['STX_USDT', 'USDT_TRY', 'STX_TRY'], ['ACE_USDT', 'USDT_TRY', 'ACE_TRY'], ['TRB_USDT', 'USDT_TRY', 'TRB_TRY'], ['ARB_USDT', 'USDT_TRY', 'ARB_TRY'], ['JTO_USDT', 'USDT_TRY', 'JTO_TRY'], ['AVAX_USDT', 'USDT_TRY', 'AVAX_TRY'], ['API3_USDT', 'USDT_TRY', 'API3_TRY'], ['DOGE_USDT', 'USDT_TRY', 'DOGE_TRY'], ['TRB_USDT', 'USDT_TRY', 'TRB_TRY'], ['STORJ_USDT', 'USDT_TRY', 'STORJ_TRY'], ['FET_USDT', 'USDT_TRY', 'FET_TRY'], ['BTT_USDT', 'USDT_TRY', 'BTT_TRY'], ['SKL_USDT', 'USDT_TRY', 'SKL_TRY'], ['DYM_USDT', 'USDT_TRY', 'DYM_TRY'], ['PEPE_USDT', 'USDT_TRY', 'PEPE_TRY'], ['MAV_USDT', 'USDT_TRY', 'MAV_TRY'], ['STX_USDT', 'USDT_TRY', 'STX_TRY'], ['MANTA_USDT', 'USDT_TRY', 'MANTA_TRY'], ['ARB_USDT', 'USDT_TRY', 'ARB_TRY'], ['API3_USDT', 'USDT_TRY', 'API3_TRY'], ['JUP_USDT', 'USDT_TRY', 'JUP_TRY'], ['BONK_USDT', 'USDT_TRY', 'BONK_TRY'], ['APT_USDT', 'USDT_TRY', 'APT_TRY'], ['BEAM_USDT', 'USDT_TRY', 'BEAM_TRY'], ['TRX_USDT', 'USDT_TRY', 'TRX_TRY'], ['CHZ_USDT', 'USDT_TRY', 'CHZ_TRY'], ['WLD_USDT', 'USDT_TRY', 'WLD_TRY'], ['INJ_USDT', 'USDT_TRY', 'INJ_TRY'], ['SKL_USDT', 'USDT_TRY', 'SKL_TRY'], ['SANTOS_USDT', 'USDT_TRY', 'SANTOS_TRY'], ['NFP_USDT', 'USDT_TRY', 'NFP_TRY'], ['SUPER_USDT', 'USDT_TRY', 'SUPER_TRY'], ['JTO_USDT', 'USDT_TRY', 'JTO_TRY'], ['DAR_USDT', 'USDT_TRY', 'DAR_TRY'], ['STORJ_USDT', 'USDT_TRY', 'STORJ_TRY'], ['NTRN_USDT', 'USDT_TRY', 'NTRN_TRY'], ['APE_USDT', 'USDT_TRY', 'APE_TRY'], ['ACA_USDT', 'USDT_TRY', 'ACA_TRY'], ['SUI_USDT', 'USDT_TRY', 'SUI_TRY'], ['MINA_USDT', 'USDT_TRY', 'MINA_TRY'], ['ORDI_USDT', 'USDT_TRY', 'ORDI_TRY'], ['MAV_USDT', 'USDT_TRY', 'MAV_TRY'], ['FET_USDT', 'USDT_TRY', 'FET_TRY'], ['ARPA_USDT', 'USDT_TRY', 'ARPA_TRY'], ['ETH_USDT', 'USDT_TRY', 'ETH_TRY'], ['RNDR_USDT', 'USDT_TRY', 'RNDR_TRY'], ['SANTOS_USDT', 'USDT_TRY', 'SANTOS_TRY'], ['FDUSD_USDT', 'USDT_TRY', 'FDUSD_TRY'], ['DENT_USDT', 'USDT_TRY', 'DENT_TRY'], ['MANTA_USDT', 'USDT_TRY', 'MANTA_TRY'], ['MANTA_BTC', 'BTC_USDT', 'MANTA_USDT'], ['MANTA_FDUSD', 'FDUSD_USDT', 'MANTA_USDT'], ['MANTA_BTC', 'BTC_USDT', 'MANTA_USDT'], ['MANTA_FDUSD', 'FDUSD_USDT', 'MANTA_USDT'], ['ETH_BTC', 'BTC_BRL', 'ETH_BRL'], ['SOL_BTC', 'BTC_BRL', 'SOL_BRL'], ['BTC_USDT', 'USDT_BRL', 'BTC_BRL'], ['ETH_BTC', 'BTC_BRL', 'ETH_BRL'], ['SOL_BTC', 'BTC_BRL', 'SOL_BRL'], ['SOL_ETH', 'ETH_EUR', 'SOL_EUR'], ['BNB_ETH', 'ETH_EUR', 'BNB_EUR'], ['VET_ETH', 'ETH_EUR', 'VET_EUR'], ['ETH_BTC', 'BTC_EUR', 'ETH_EUR'], ['XRP_ETH', 'ETH_EUR', 'XRP_EUR'], ['VET_ETH', 'ETH_EUR', 'VET_EUR'], ['BNB_ETH', 'ETH_EUR', 'BNB_EUR'], ['ETH_EUR', 'EUR_USDT', 'ETH_USDT'], ['XRP_ETH', 'ETH_EUR', 'XRP_EUR'], ['SEI_BTC', 'BTC_FDUSD', 'SEI_FDUSD'], ['SEI_BTC', 'BTC_TRY', 'SEI_TRY'], ['SEI_BTC', 'BTC_USDT', 'SEI_USDT'], ['SEI_BTC', 'BTC_USDC', 'SEI_USDC'], ['ARB_USDC', 'USDC_USDT', 'ARB_USDT'], ['ARB_FDUSD', 'FDUSD_USDT', 'ARB_USDT'], ['ARB_BTC', 'BTC_USDT', 'ARB_USDT'], ['ARB_USDT', 'USDT_TRY', 'ARB_TRY'], ['ARB_USDC', 'USDC_USDT', 'ARB_USDT'], ['ARB_FDUSD', 'FDUSD_USDT', 'ARB_USDT'], ['LINK_ETH', 'ETH_BTC', 'LINK_BTC'], ['ETH_BTC', 'BTC_FDUSD', 'ETH_FDUSD'], ['ETH_BTC', 'BTC_TUSD', 'ETH_TUSD'], ['VET_ETH', 'ETH_BTC', 'VET_BTC'], ['SOL_ETH', 'ETH_BTC', 'SOL_BTC'], ['ETH_BTC', 'BTC_TRY', 'ETH_TRY'], ['ETH_BTC', 'BTC_BRL', 'ETH_BRL'], ['SOL_ETH', 'ETH_BTC', 'SOL_BTC'], ['ETH_BTC', 'BTC_USDC', 'ETH_USDC'], ['BNB_ETH', 'ETH_BTC', 'BNB_BTC'], ['VET_ETH', 'ETH_BTC', 'VET_BTC'], ['XRP_ETH', 'ETH_BTC', 'XRP_BTC'], ['BNB_ETH', 'ETH_BTC', 'BNB_BTC'], ['ETH_BTC', 'BTC_EUR', 'ETH_EUR'], ['ETH_BTC', 'BTC_USDT', 'ETH_USDT'], ['XRP_ETH', 'ETH_BTC', 'XRP_BTC'], ['LINK_ETH', 'ETH_USDT', 'LINK_USDT'], ['LINK_BTC', 'BTC_USDT', 'LINK_USDT'], ['LINK_FDUSD', 'FDUSD_USDT', 'LINK_USDT'], ['LINK_BTC', 'BTC_USDT', 'LINK_USDT'], ['LINK_ETH', 'ETH_USDT', 'LINK_USDT'], ['LINK_FDUSD', 'FDUSD_USDT', 'LINK_USDT'], ['API3_BTC', 'BTC_USDT', 'API3_USDT'], ['API3_USDT', 'USDT_TRY', 'API3_TRY'], ['JUP_USDT', 'USDT_TRY', 'JUP_TRY'], ['BONK_FDUSD', 'FDUSD_TRY', 'BONK_TRY'], ['BONK_USDT', 'USDT_TRY', 'BONK_TRY'], ['BONK_FDUSD', 'FDUSD_TRY', 'BONK_TRY'], ['BONK_USDT', 'USDT_TRY', 'BONK_TRY'], ['NTRN_BTC', 'BTC_USDT', 'NTRN_USDT'], ['NTRN_BTC', 'BTC_TRY', 'NTRN_TRY'], ['SOL_BNB', 'BNB_USDT', 'SOL_USDT'], ['SOL_BNB', 'BNB_TRY', 'SOL_TRY'], ['SOL_BNB', 'BNB_ETH', 'SOL_ETH'], ['SOL_BNB', 'BNB_EUR', 'SOL_EUR'], ['SOL_BNB', 'BNB_BTC', 'SOL_BTC'], ['SOL_BNB', 'BNB_FDUSD', 'SOL_FDUSD'], ['SOL_BNB', 'BNB_USDC', 'SOL_USDC'], ['SOL_BNB', 'BNB_TUSD', 'SOL_TUSD'], ['ALT_FDUSD', 'FDUSD_USDT', 'ALT_USDT'], ['ALT_FDUSD', 'FDUSD_TRY', 'ALT_TRY'], ['ALT_BTC', 'BTC_FDUSD', 'ALT_FDUSD'], ['APT_BTC', 'BTC_TRY', 'APT_TRY'], ['APT_USDT', 'USDT_TRY', 'APT_TRY'], ['APT_BTC', 'BTC_TRY', 'APT_TRY'], ['BEAM_USDT', 'USDT_TRY', 'BEAM_TRY'], ['WLD_BTC', 'BTC_FDUSD', 'WLD_FDUSD'], ['WLD_BTC', 'BTC_USDT', 'WLD_USDT'], ['WLD_BTC', 'BTC_TRY', 'WLD_TRY'], ['TRX_BTC', 'BTC_TRY', 'TRX_TRY'], ['TRX_USDT', 'USDT_TRY', 'TRX_TRY'], ['TRX_BTC', 'BTC_TRY', 'TRX_TRY'], ['TRX_USDT', 'USDT_TRY', 'TRX_TRY'], ['XRP_EUR', 'EUR_USDT', 'XRP_USDT'], ['XRP_BTC', 'BTC_EUR', 'XRP_EUR'], ['XRP_ETH', 'ETH_EUR', 'XRP_EUR'], ['CHZ_USDT', 'USDT_TRY', 'CHZ_TRY'], ['OP_BTC', 'BTC_USDC', 'OP_USDC'], ['OP_USDC', 'USDC_USDT', 'OP_USDT'], ['OP_BTC', 'BTC_USDC', 'OP_USDC'], ['ALT_BTC', 'BTC_USDT', 'ALT_USDT'], ['ALT_BTC', 'BTC_TRY', 'ALT_TRY'], ['ALT_BTC', 'BTC_FDUSD', 'ALT_FDUSD'], ['ATOM_BTC', 'BTC_USDT', 'ATOM_USDT'], ['INJ_BTC', 'BTC_USDT', 'INJ_USDT'], ['INJ_BTC', 'BTC_TRY', 'INJ_TRY'], ['INJ_BTC', 'BTC_USDC', 'INJ_USDC'], ['APT_BTC', 'BTC_USDT', 'APT_USDT'], ['APT_BTC', 'BTC_TRY', 'APT_TRY'], ['DYM_BTC', 'BTC_TRY', 'DYM_TRY'], ['DYM_BTC', 'BTC_USDT', 'DYM_USDT'], ['DYM_BTC', 'BTC_FDUSD', 'DYM_FDUSD'], ['WLD_FDUSD', 'FDUSD_TRY', 'WLD_TRY'], ['WLD_BTC', 'BTC_TRY', 'WLD_TRY'], ['WLD_USDT', 'USDT_TRY', 'WLD_TRY'], ['WLD_FDUSD', 'FDUSD_TRY', 'WLD_TRY'], ['WLD_USDT', 'USDT_TRY', 'WLD_TRY'], ['WLD_BTC', 'BTC_TRY', 'WLD_TRY'], ['INJ_BTC', 'BTC_TRY', 'INJ_TRY'], ['INJ_USDT', 'USDT_TRY', 'INJ_TRY'], ['INJ_BTC', 'BTC_TRY', 'INJ_TRY'], ['BTC_USDT', 'USDT_DAI', 'BTC_DAI'], ['SKL_USDT', 'USDT_TRY', 'SKL_TRY'], ['DATA_BTC', 'BTC_USDT', 'DATA_USDT'], ['SANTOS_USDT', 'USDT_TRY', 'SANTOS_TRY'], ['NFP_USDT', 'USDT_TRY', 'NFP_TRY'], ['SUPER_USDT', 'USDT_TRY', 'SUPER_TRY'], ['AUCTION_BTC', 'BTC_USDT', 'AUCTION_USDT'], ['MANTA_FDUSD', 'FDUSD_TRY', 'MANTA_TRY'], ['MANTA_BTC', 'BTC_FDUSD', 'MANTA_FDUSD'], ['MANTA_FDUSD', 'FDUSD_USDT', 'MANTA_USDT'], ['MANTA_BTC', 'BTC_FDUSD', 'MANTA_FDUSD'], ['ARB_BTC', 'BTC_USDC', 'ARB_USDC'], ['ARB_USDC', 'USDC_USDT', 'ARB_USDT'], ['PROM_BTC', 'BTC_USDT', 'PROM_USDT'], ['VET_EUR', 'EUR_USDT', 'VET_USDT'], ['VET_BTC', 'BTC_EUR', 'VET_EUR'], ['VET_ETH', 'ETH_EUR', 'VET_EUR'], ['VET_BTC', 'BTC_EUR', 'VET_EUR'], ['VET_ETH', 'ETH_EUR', 'VET_EUR'], ['VET_BNB', 'BNB_EUR', 'VET_EUR'], ['RNDR_BTC', 'BTC_USDT', 'RNDR_USDT'], ['RNDR_BTC', 'BTC_TRY', 'RNDR_TRY'], ['JTO_USDT', 'USDT_TRY', 'JTO_TRY'], ['DAR_USDT', 'USDT_TRY', 'DAR_TRY'], ['BNB_ETH', 'ETH_TUSD', 'BNB_TUSD'], ['BNB_BTC', 'BTC_TUSD', 'BNB_TUSD'], ['BNB_TUSD', 'TUSD_USDT', 'BNB_USDT'], ['BNB_ETH', 'ETH_TUSD', 'BNB_TUSD'], ['BNB_BTC', 'BTC_TUSD', 'BNB_TUSD'], ['SOL_BNB', 'BNB_TUSD', 'SOL_TUSD'], ['ADA_USDC', 'USDC_USDT', 'ADA_USDT'], ['ADA_BTC', 'BTC_USDC', 'ADA_USDC'], ['SOL_BNB', 'BNB_EUR', 'SOL_EUR'], ['BNB_EUR', 'EUR_USDT', 'BNB_USDT'], ['BNB_ETH', 'ETH_EUR', 'BNB_EUR'], ['BNB_BTC', 'BTC_EUR', 'BNB_EUR'], ['BNB_ETH', 'ETH_EUR', 'BNB_EUR'], ['SOL_BNB', 'BNB_EUR', 'SOL_EUR'], ['VET_BNB', 'BNB_EUR', 'VET_EUR'], ['STORJ_USDT', 'USDT_TRY', 'STORJ_TRY'], ['NTRN_BTC', 'BTC_TRY', 'NTRN_TRY'], ['NTRN_USDT', 'USDT_TRY', 'NTRN_TRY'], ['NTRN_BTC', 'BTC_TRY', 'NTRN_TRY'], ['MATIC_FDUSD', 'FDUSD_USDT', 'MATIC_USDT'], ['MATIC_BTC', 'BTC_FDUSD', 'MATIC_FDUSD'], ['XRP_BTC', 'BTC_USDC', 'XRP_USDC'], ['XRP_USDC', 'USDC_USDT', 'XRP_USDT'], ['XRP_ETH', 'ETH_USDC', 'XRP_USDC'], ['XRP_BTC', 'BTC_USDC', 'XRP_USDC'], ['XRP_ETH', 'ETH_USDC', 'XRP_USDC'], ['SOL_TUSD', 'TUSD_USDT', 'SOL_USDT'], ['SOL_ETH', 'ETH_TUSD', 'SOL_TUSD'], ['SOL_BTC', 'BTC_TUSD', 'SOL_TUSD'], ['SOL_ETH', 'ETH_TUSD', 'SOL_TUSD'], ['SOL_BTC', 'BTC_TUSD', 'SOL_TUSD'], ['SOL_BNB', 'BNB_TUSD', 'SOL_TUSD'], ['APE_USDT', 'USDT_TRY', 'APE_TRY'], ['ACA_USDT', 'USDT_TRY', 'ACA_TRY'], ['INJ_USDC', 'USDC_USDT', 'INJ_USDT'], ['INJ_BTC', 'BTC_USDC', 'INJ_USDC'], ['SUI_USDT', 'USDT_TRY', 'SUI_TRY'], ['SUI_BTC', 'BTC_TRY', 'SUI_TRY'], ['SUI_USDT', 'USDT_TRY', 'SUI_TRY'], ['MINA_USDT', 'USDT_TRY', 'MINA_TRY'], ['DYM_BTC', 'BTC_FDUSD', 'DYM_FDUSD'], ['DYM_FDUSD', 'FDUSD_TRY', 'DYM_TRY'], ['DYM_FDUSD', 'FDUSD_USDT', 'DYM_USDT'], ['DYM_BTC', 'BTC_FDUSD', 'DYM_FDUSD'], ['ADA_EUR', 'EUR_USDT', 'ADA_USDT'], ['ADA_BTC', 'BTC_EUR', 'ADA_EUR'], ['ORDI_BTC', 'BTC_TRY', 'ORDI_TRY'], ['ORDI_USDT', 'USDT_TRY', 'ORDI_TRY'], ['ORDI_BTC', 'BTC_TRY', 'ORDI_TRY'], ['ORDI_USDT', 'USDT_TRY', 'ORDI_TRY'], ['MANTA_BTC', 'BTC_TRY', 'MANTA_TRY'], ['MANTA_BTC', 'BTC_USDT', 'MANTA_USDT'], ['MANTA_BTC', 'BTC_FDUSD', 'MANTA_FDUSD'], ['MAV_USDT', 'USDT_TRY', 'MAV_TRY'], ['TIA_BTC', 'BTC_USDT', 'TIA_USDT'], ['TIA_BTC', 'BTC_TRY', 'TIA_TRY'], ['SOL_USDT', 'USDT_BRL', 'SOL_BRL'], ['SOL_ETH', 'ETH_BRL', 'SOL_BRL'], ['SOL_BTC', 'BTC_BRL', 'SOL_BRL'], ['SOL_USDT', 'USDT_BRL', 'SOL_BRL'], ['SOL_BTC', 'BTC_BRL', 'SOL_BRL'], ['VET_BNB', 'BNB_USDT', 'VET_USDT'], ['VET_BNB', 'BNB_BTC', 'VET_BTC'], ['VET_BNB', 'BNB_TRY', 'VET_TRY'], ['VET_BNB', 'BNB_ETH', 'VET_ETH'], ['VET_BNB', 'BNB_EUR', 'VET_EUR'], ['FET_USDT', 'USDT_TRY', 'FET_TRY'], ['ARPA_USDT', 'USDT_TRY', 'ARPA_TRY'], ['LINK_ETH', 'ETH_USDT', 'LINK_USDT'], ['VET_ETH', 'ETH_USDT', 'VET_USDT'], ['ETH_FDUSD', 'FDUSD_USDT', 'ETH_USDT'], ['SOL_ETH', 'ETH_USDT', 'SOL_USDT'], ['ETH_USDC', 'USDC_USDT', 'ETH_USDT'], ['ETH_TUSD', 'TUSD_USDT', 'ETH_USDT'], ['SOL_ETH', 'ETH_USDT', 'SOL_USDT'], ['ETH_USDT', 'USDT_TRY', 'ETH_TRY'], ['ETH_USDT', 'USDT_BRL', 'ETH_BRL'], ['XRP_ETH', 'ETH_USDT', 'XRP_USDT'], ['ETH_EUR', 'EUR_USDT', 'ETH_USDT'], ['ETH_TUSD', 'TUSD_USDT', 'ETH_USDT'], ['ETH_USDC', 'USDC_USDT', 'ETH_USDT'], ['BNB_ETH', 'ETH_USDT', 'BNB_USDT'], ['ETH_BTC', 'BTC_USDT', 'ETH_USDT'], ['VET_ETH', 'ETH_USDT', 'VET_USDT'], ['ETH_EUR', 'EUR_USDT', 'ETH_USDT'], ['ETH_BTC', 'BTC_USDT', 'ETH_USDT'], ['LINK_ETH', 'ETH_USDT', 'LINK_USDT'], ['XRP_ETH', 'ETH_USDT', 'XRP_USDT'], ['ETH_FDUSD', 'FDUSD_USDT', 'ETH_USDT'], ['RNDR_BTC', 'BTC_TRY', 'RNDR_TRY'], ['RNDR_USDT', 'USDT_TRY', 'RNDR_TRY'], ['RNDR_BTC', 'BTC_TRY', 'RNDR_TRY'], ['CHR_BTC', 'BTC_USDT', 'CHR_USDT'], ['MATIC_USDC', 'USDC_USDT', 'MATIC_USDT'], ['MATIC_BTC', 'BTC_USDC', 'MATIC_USDC'], ['XRP_ETH', 'ETH_FDUSD', 'XRP_FDUSD'], ['XRP_ETH', 'ETH_TRY', 'XRP_TRY'], ['XRP_ETH', 'ETH_USDT', 'XRP_USDT'], ['XRP_ETH', 'ETH_BTC', 'XRP_BTC'], ['XRP_ETH', 'ETH_EUR', 'XRP_EUR'], ['XRP_ETH', 'ETH_USDC', 'XRP_USDC'], ['SANTOS_USDT', 'USDT_TRY', 'SANTOS_TRY'], ['AI_FDUSD', 'FDUSD_USDT', 'AI_USDT'], ['AI_FDUSD', 'FDUSD_TRY', 'AI_TRY'], ['SEI_BTC', 'BTC_USDC', 'SEI_USDC'], ['SEI_USDC', 'USDC_USDT', 'SEI_USDT'], ['SEI_BTC', 'BTC_USDC', 'SEI_USDC'], ['NEAR_BTC', 'BTC_USDT', 'NEAR_USDT'], ['BONK_FDUSD', 'FDUSD_USDT', 'BONK_USDT'], ['WLD_FDUSD', 'FDUSD_USDT', 'WLD_USDT'], ['BCH_FDUSD', 'FDUSD_USDT', 'BCH_USDT'], ['ADA_FDUSD', 'FDUSD_USDT', 'ADA_USDT'], ['ALT_FDUSD', 'FDUSD_USDT', 'ALT_USDT'], ['ETH_FDUSD', 'FDUSD_USDT', 'ETH_USDT'], ['DOGE_FDUSD', 'FDUSD_USDT', 'DOGE_USDT'], ['BNB_FDUSD', 'FDUSD_USDT', 'BNB_USDT'], ['SEI_FDUSD', 'FDUSD_USDT', 'SEI_USDT'], ['AI_FDUSD', 'FDUSD_USDT', 'AI_USDT'], ['MATIC_FDUSD', 'FDUSD_USDT', 'MATIC_USDT'], ['LINK_FDUSD', 'FDUSD_USDT', 'LINK_USDT'], ['AVAX_FDUSD', 'FDUSD_USDT', 'AVAX_USDT'], ['BCH_FDUSD', 'FDUSD_USDT', 'BCH_USDT'], ['BONK_FDUSD', 'FDUSD_USDT', 'BONK_USDT'], ['WLD_FDUSD', 'FDUSD_USDT', 'WLD_USDT'], ['SOL_FDUSD', 'FDUSD_USDT', 'SOL_USDT'], ['USTC_FDUSD', 'FDUSD_USDT', 'USTC_USDT'], ['XAI_FDUSD', 'FDUSD_USDT', 'XAI_USDT'], ['BTC_FDUSD', 'FDUSD_USDT', 'BTC_USDT'], ['FDUSD_USDT', 'USDT_TRY', 'FDUSD_TRY'], ['XRP_FDUSD', 'FDUSD_USDT', 'XRP_USDT'], ['BNB_FDUSD', 'FDUSD_USDT', 'BNB_USDT'], ['SEI_FDUSD', 'FDUSD_USDT', 'SEI_USDT'], ['SOL_FDUSD', 'FDUSD_USDT', 'SOL_USDT'], ['ARB_FDUSD', 'FDUSD_USDT', 'ARB_USDT'], ['BTC_FDUSD', 'FDUSD_USDT', 'BTC_USDT'], ['ADA_FDUSD', 'FDUSD_USDT', 'ADA_USDT'], ['AVAX_FDUSD', 'FDUSD_USDT', 'AVAX_USDT'], ['DOGE_FDUSD', 'FDUSD_USDT', 'DOGE_USDT'], ['DYM_FDUSD', 'FDUSD_USDT', 'DYM_USDT'], ['MANTA_FDUSD', 'FDUSD_USDT', 'MANTA_USDT'], ['ARB_FDUSD', 'FDUSD_USDT', 'ARB_USDT'], ['LINK_FDUSD', 'FDUSD_USDT', 'LINK_USDT'], ['ALT_FDUSD', 'FDUSD_USDT', 'ALT_USDT'], ['MANTA_FDUSD', 'FDUSD_USDT', 'MANTA_USDT'], ['MATIC_FDUSD', 'FDUSD_USDT', 'MATIC_USDT'], ['DYM_FDUSD', 'FDUSD_USDT', 'DYM_USDT'], ['ETH_FDUSD', 'FDUSD_USDT', 'ETH_USDT'], ['AI_FDUSD', 'FDUSD_USDT', 'AI_USDT'], ['USTC_FDUSD', 'FDUSD_USDT', 'USTC_USDT'], ['XAI_FDUSD', 'FDUSD_USDT', 'XAI_USDT'], ['USTC_FDUSD', 'FDUSD_TRY', 'USTC_TRY'], ['USTC_FDUSD', 'FDUSD_USDT', 'USTC_USDT'], ['XAI_FDUSD', 'FDUSD_USDT', 'XAI_USDT'], ['XAI_FDUSD', 'FDUSD_TRY', 'XAI_TRY'], ['DENT_USDT', 'USDT_TRY', 'DENT_TRY']]\n"
          ]
        }
      ]
    },
    {
      "cell_type": "code",
      "source": [
        "# Here we save it to JSON File\n",
        "with open(\"structured_triangular_pairs.json\", \"w\") as fp:\n",
        "  json.dump(triangular_pairs, fp)"
      ],
      "metadata": {
        "id": "vVAs9latDx97"
      },
      "execution_count": null,
      "outputs": []
    },
    {
      "cell_type": "markdown",
      "source": [
        "##3.2 Loading Structured Pairs Fast"
      ],
      "metadata": {
        "id": "UkUmRmb1oZXb"
      }
    },
    {
      "cell_type": "code",
      "source": [
        "# Set Variables\n",
        "#coin_price_url = \"https://poloniex.com/public?command=returnTicker\"\n",
        "\n",
        "# Get Structured Pairs\n",
        "with open(\"structured_triangular_pairs.json\") as json_file:\n",
        "  structured_pairs = json.load(json_file)\n",
        "\n",
        "# Get Latest Surface Prices\n",
        "#for key in structured_pairs.keys\n",
        "print(structured_pairs)"
      ],
      "metadata": {
        "id": "fRO9IWwjodfG",
        "colab": {
          "base_uri": "https://localhost:8080/"
        },
        "outputId": "30873966-1e7c-46fd-fdd0-d1fe4623c809"
      },
      "execution_count": 6,
      "outputs": [
        {
          "output_type": "stream",
          "name": "stdout",
          "text": [
            "[['ID_USDT', 'USDT_TRY', 'ID_TRY'], ['BONK_FDUSD', 'FDUSD_USDT', 'BONK_USDT'], ['BONK_FDUSD', 'FDUSD_TRY', 'BONK_TRY'], ['DOT_BTC', 'BTC_USDC', 'DOT_USDC'], ['DOT_USDC', 'USDC_USDT', 'DOT_USDT'], ['DOT_BTC', 'BTC_USDC', 'DOT_USDC'], ['OP_BTC', 'BTC_USDT', 'OP_USDT'], ['OP_BTC', 'BTC_USDC', 'OP_USDC'], ['ACE_BTC', 'BTC_USDT', 'ACE_USDT'], ['ACE_BTC', 'BTC_TRY', 'ACE_TRY'], ['IMX_BTC', 'BTC_USDT', 'IMX_USDT'], ['REEF_USDT', 'USDT_TRY', 'REEF_TRY'], ['LINK_ETH', 'ETH_BTC', 'LINK_BTC'], ['LINK_ETH', 'ETH_FDUSD', 'LINK_FDUSD'], ['LINK_ETH', 'ETH_USDT', 'LINK_USDT'], ['FLOKI_USDT', 'USDT_TRY', 'FLOKI_TRY'], ['MBOX_USDT', 'USDT_TRY', 'MBOX_TRY'], ['WLD_FDUSD', 'FDUSD_USDT', 'WLD_USDT'], ['WLD_BTC', 'BTC_FDUSD', 'WLD_FDUSD'], ['WLD_FDUSD', 'FDUSD_TRY', 'WLD_TRY'], ['BNB_BTC', 'BTC_USDC', 'BNB_USDC'], ['BNB_ETH', 'ETH_USDC', 'BNB_USDC'], ['BNB_USDC', 'USDC_USDT', 'BNB_USDT'], ['BNB_ETH', 'ETH_USDC', 'BNB_USDC'], ['SOL_BNB', 'BNB_USDC', 'SOL_USDC'], ['BNB_BTC', 'BTC_USDC', 'BNB_USDC'], ['SOL_BNB', 'BNB_USDC', 'SOL_USDC'], ['FTM_BTC', 'BTC_USDT', 'FTM_USDT'], ['BCH_FDUSD', 'FDUSD_USDT', 'BCH_USDT'], ['BCH_BTC', 'BTC_FDUSD', 'BCH_FDUSD'], ['GAS_BTC', 'BTC_USDT', 'GAS_USDT'], ['SUI_BTC', 'BTC_USDT', 'SUI_USDT'], ['SUI_USDT', 'USDT_TRY', 'SUI_TRY'], ['ADA_USDC', 'USDC_USDT', 'ADA_USDT'], ['ADA_BTC', 'BTC_USDT', 'ADA_USDT'], ['ADA_EUR', 'EUR_USDT', 'ADA_USDT'], ['ADA_BTC', 'BTC_USDT', 'ADA_USDT'], ['ADA_FDUSD', 'FDUSD_USDT', 'ADA_USDT'], ['ADA_USDC', 'USDC_USDT', 'ADA_USDT'], ['ADA_EUR', 'EUR_USDT', 'ADA_USDT'], ['ADA_FDUSD', 'FDUSD_USDT', 'ADA_USDT'], ['JUP_USDT', 'USDT_TRY', 'JUP_TRY'], ['ALT_USDT', 'USDT_TRY', 'ALT_TRY'], ['ALT_BTC', 'BTC_USDT', 'ALT_USDT'], ['ALT_FDUSD', 'FDUSD_USDT', 'ALT_USDT'], ['ALT_BTC', 'BTC_USDT', 'ALT_USDT'], ['ALT_FDUSD', 'FDUSD_USDT', 'ALT_USDT'], ['ACE_BTC', 'BTC_TRY', 'ACE_TRY'], ['STX_BTC', 'BTC_TRY', 'STX_TRY'], ['MANTA_BTC', 'BTC_TRY', 'MANTA_TRY'], ['AVAX_BTC', 'BTC_TRY', 'AVAX_TRY'], ['VET_BTC', 'BTC_TRY', 'VET_TRY'], ['SEI_BTC', 'BTC_TRY', 'SEI_TRY'], ['SOL_BTC', 'BTC_TRY', 'SOL_TRY'], ['ALT_BTC', 'BTC_TRY', 'ALT_TRY'], ['TIA_BTC', 'BTC_TRY', 'TIA_TRY'], ['BTC_FDUSD', 'FDUSD_TRY', 'BTC_TRY'], ['DOGE_BTC', 'BTC_TRY', 'DOGE_TRY'], ['ORDI_BTC', 'BTC_TRY', 'ORDI_TRY'], ['ETH_BTC', 'BTC_TRY', 'ETH_TRY'], ['SUI_BTC', 'BTC_TRY', 'SUI_TRY'], ['XRP_BTC', 'BTC_TRY', 'XRP_TRY'], ['TRX_BTC', 'BTC_TRY', 'TRX_TRY'], ['SOL_BTC', 'BTC_TRY', 'SOL_TRY'], ['DYM_BTC', 'BTC_TRY', 'DYM_TRY'], ['DOGE_BTC', 'BTC_TRY', 'DOGE_TRY'], ['BTC_USDT', 'USDT_TRY', 'BTC_TRY'], ['BNB_BTC', 'BTC_TRY', 'BNB_TRY'], ['STX_BTC', 'BTC_TRY', 'STX_TRY'], ['ACE_BTC', 'BTC_TRY', 'ACE_TRY'], ['API3_BTC', 'BTC_TRY', 'API3_TRY'], ['ARB_BTC', 'BTC_TRY', 'ARB_TRY'], ['API3_BTC', 'BTC_TRY', 'API3_TRY'], ['XRP_BTC', 'BTC_TRY', 'XRP_TRY'], ['BNB_BTC', 'BTC_TRY', 'BNB_TRY'], ['AVAX_BTC', 'BTC_TRY', 'AVAX_TRY'], ['BTC_USDT', 'USDT_TRY', 'BTC_TRY'], ['SEI_BTC', 'BTC_TRY', 'SEI_TRY'], ['ETH_BTC', 'BTC_TRY', 'ETH_TRY'], ['NTRN_BTC', 'BTC_TRY', 'NTRN_TRY'], ['APT_BTC', 'BTC_TRY', 'APT_TRY'], ['WLD_BTC', 'BTC_TRY', 'WLD_TRY'], ['TRX_BTC', 'BTC_TRY', 'TRX_TRY'], ['ALT_BTC', 'BTC_TRY', 'ALT_TRY'], ['INJ_BTC', 'BTC_TRY', 'INJ_TRY'], ['APT_BTC', 'BTC_TRY', 'APT_TRY'], ['DYM_BTC', 'BTC_TRY', 'DYM_TRY'], ['WLD_BTC', 'BTC_TRY', 'WLD_TRY'], ['INJ_BTC', 'BTC_TRY', 'INJ_TRY'], ['RNDR_BTC', 'BTC_TRY', 'RNDR_TRY'], ['NTRN_BTC', 'BTC_TRY', 'NTRN_TRY'], ['SUI_BTC', 'BTC_TRY', 'SUI_TRY'], ['ORDI_BTC', 'BTC_TRY', 'ORDI_TRY'], ['MANTA_BTC', 'BTC_TRY', 'MANTA_TRY'], ['TIA_BTC', 'BTC_TRY', 'TIA_TRY'], ['RNDR_BTC', 'BTC_TRY', 'RNDR_TRY'], ['STX_BTC', 'BTC_TRY', 'STX_TRY'], ['STX_BTC', 'BTC_USDT', 'STX_USDT'], ['VET_BTC', 'BTC_USDT', 'VET_USDT'], ['VET_USDT', 'USDT_TRY', 'VET_TRY'], ['VET_EUR', 'EUR_USDT', 'VET_USDT'], ['VET_BNB', 'BNB_USDT', 'VET_USDT'], ['VET_BTC', 'BTC_USDT', 'VET_USDT'], ['VET_ETH', 'ETH_USDT', 'VET_USDT'], ['VET_EUR', 'EUR_USDT', 'VET_USDT'], ['VET_BNB', 'BNB_USDT', 'VET_USDT'], ['VET_ETH', 'ETH_USDT', 'VET_USDT'], ['ORDI_BTC', 'BTC_USDT', 'ORDI_USDT'], ['ORDI_USDT', 'USDT_TRY', 'ORDI_TRY'], ['LINK_ETH', 'ETH_BTC', 'LINK_BTC'], ['LINK_BTC', 'BTC_FDUSD', 'LINK_FDUSD'], ['LINK_ETH', 'ETH_BTC', 'LINK_BTC'], ['LINK_BTC', 'BTC_USDT', 'LINK_USDT'], ['LINK_ETH', 'ETH_FDUSD', 'LINK_FDUSD'], ['BNB_ETH', 'ETH_FDUSD', 'BNB_FDUSD'], ['LINK_ETH', 'ETH_FDUSD', 'LINK_FDUSD'], ['ETH_BTC', 'BTC_FDUSD', 'ETH_FDUSD'], ['XRP_ETH', 'ETH_FDUSD', 'XRP_FDUSD'], ['SOL_ETH', 'ETH_FDUSD', 'SOL_FDUSD'], ['ETH_FDUSD', 'FDUSD_TRY', 'ETH_TRY'], ['SOL_ETH', 'ETH_FDUSD', 'SOL_FDUSD'], ['BNB_ETH', 'ETH_FDUSD', 'BNB_FDUSD'], ['ETH_BTC', 'BTC_FDUSD', 'ETH_FDUSD'], ['ETH_FDUSD', 'FDUSD_USDT', 'ETH_USDT'], ['XRP_ETH', 'ETH_FDUSD', 'XRP_FDUSD'], ['INJ_USDC', 'USDC_USDT', 'INJ_USDT'], ['INJ_BTC', 'BTC_USDT', 'INJ_USDT'], ['INJ_USDT', 'USDT_TRY', 'INJ_TRY'], ['INJ_USDC', 'USDC_USDT', 'INJ_USDT'], ['APT_BTC', 'BTC_USDT', 'APT_USDT'], ['APT_USDT', 'USDT_TRY', 'APT_TRY'], ['APT_BTC', 'BTC_USDT', 'APT_USDT'], ['DOGE_BTC', 'BTC_FDUSD', 'DOGE_FDUSD'], ['DOGE_FDUSD', 'FDUSD_TRY', 'DOGE_TRY'], ['DOGE_FDUSD', 'FDUSD_USDT', 'DOGE_USDT'], ['BNB_ETH', 'ETH_FDUSD', 'BNB_FDUSD'], ['BNB_BTC', 'BTC_FDUSD', 'BNB_FDUSD'], ['BNB_FDUSD', 'FDUSD_USDT', 'BNB_USDT'], ['SOL_BNB', 'BNB_FDUSD', 'SOL_FDUSD'], ['BNB_ETH', 'ETH_FDUSD', 'BNB_FDUSD'], ['BNB_FDUSD', 'FDUSD_TRY', 'BNB_TRY'], ['BNB_BTC', 'BTC_FDUSD', 'BNB_FDUSD'], ['SOL_BNB', 'BNB_FDUSD', 'SOL_FDUSD'], ['MANTA_BTC', 'BTC_TRY', 'MANTA_TRY'], ['MANTA_FDUSD', 'FDUSD_TRY', 'MANTA_TRY'], ['MANTA_USDT', 'USDT_TRY', 'MANTA_TRY'], ['MANTA_FDUSD', 'FDUSD_TRY', 'MANTA_TRY'], ['MANTA_BTC', 'BTC_TRY', 'MANTA_TRY'], ['SEI_FDUSD', 'FDUSD_TRY', 'SEI_TRY'], ['SEI_BTC', 'BTC_FDUSD', 'SEI_FDUSD'], ['SEI_FDUSD', 'FDUSD_USDT', 'SEI_USDT'], ['SEI_BTC', 'BTC_FDUSD', 'SEI_FDUSD'], ['OP_BTC', 'BTC_USDT', 'OP_USDT'], ['OP_USDC', 'USDC_USDT', 'OP_USDT'], ['OP_BTC', 'BTC_USDT', 'OP_USDT'], ['OP_USDC', 'USDC_USDT', 'OP_USDT'], ['AI_USDT', 'USDT_TRY', 'AI_TRY'], ['AI_FDUSD', 'FDUSD_USDT', 'AI_USDT'], ['LTC_BTC', 'BTC_USDT', 'LTC_USDT'], ['PROM_BTC', 'BTC_USDT', 'PROM_USDT'], ['TIA_USDT', 'USDT_TRY', 'TIA_TRY'], ['TIA_BTC', 'BTC_USDT', 'TIA_USDT'], ['RIF_BTC', 'BTC_USDT', 'RIF_USDT'], ['MATIC_USDC', 'USDC_USDT', 'MATIC_USDT'], ['MATIC_BTC', 'BTC_USDT', 'MATIC_USDT'], ['MATIC_FDUSD', 'FDUSD_USDT', 'MATIC_USDT'], ['MATIC_USDC', 'USDC_USDT', 'MATIC_USDT'], ['MATIC_FDUSD', 'FDUSD_USDT', 'MATIC_USDT'], ['LINK_ETH', 'ETH_FDUSD', 'LINK_FDUSD'], ['LINK_BTC', 'BTC_FDUSD', 'LINK_FDUSD'], ['LINK_ETH', 'ETH_FDUSD', 'LINK_FDUSD'], ['LINK_BTC', 'BTC_FDUSD', 'LINK_FDUSD'], ['LINK_FDUSD', 'FDUSD_USDT', 'LINK_USDT'], ['AVAX_FDUSD', 'FDUSD_TRY', 'AVAX_TRY'], ['AVAX_BTC', 'BTC_FDUSD', 'AVAX_FDUSD'], ['AVAX_FDUSD', 'FDUSD_USDT', 'AVAX_USDT'], ['AVAX_BTC', 'BTC_FDUSD', 'AVAX_FDUSD'], ['AVAX_BTC', 'BTC_TRY', 'AVAX_TRY'], ['AVAX_FDUSD', 'FDUSD_TRY', 'AVAX_TRY'], ['AVAX_USDT', 'USDT_TRY', 'AVAX_TRY'], ['AVAX_BTC', 'BTC_TRY', 'AVAX_TRY'], ['AVAX_USDT', 'USDT_TRY', 'AVAX_TRY'], ['DENT_USDT', 'USDT_TRY', 'DENT_TRY'], ['LUNC_USDT', 'USDT_TRY', 'LUNC_TRY'], ['BCH_FDUSD', 'FDUSD_USDT', 'BCH_USDT'], ['BCH_BTC', 'BTC_USDT', 'BCH_USDT'], ['BCH_FDUSD', 'FDUSD_USDT', 'BCH_USDT'], ['BONK_FDUSD', 'FDUSD_USDT', 'BONK_USDT'], ['BONK_USDT', 'USDT_TRY', 'BONK_TRY'], ['BONK_FDUSD', 'FDUSD_USDT', 'BONK_USDT'], ['PEPE_USDT', 'USDT_TRY', 'PEPE_TRY'], ['DOT_BTC', 'BTC_USDC', 'DOT_USDC'], ['OP_BTC', 'BTC_USDC', 'OP_USDC'], ['BNB_BTC', 'BTC_USDC', 'BNB_USDC'], ['ADA_BTC', 'BTC_USDC', 'ADA_USDC'], ['AVAX_BTC', 'BTC_USDC', 'AVAX_USDC'], ['SOL_BTC', 'BTC_USDC', 'SOL_USDC'], ['ETH_BTC', 'BTC_USDC', 'ETH_USDC'], ['DOT_BTC', 'BTC_USDC', 'DOT_USDC'], ['MATIC_BTC', 'BTC_USDC', 'MATIC_USDC'], ['SOL_BTC', 'BTC_USDC', 'SOL_USDC'], ['BTC_USDC', 'USDC_USDT', 'BTC_USDT'], ['ARB_BTC', 'BTC_USDC', 'ARB_USDC'], ['XRP_BTC', 'BTC_USDC', 'XRP_USDC'], ['BNB_BTC', 'BTC_USDC', 'BNB_USDC'], ['AVAX_BTC', 'BTC_USDC', 'AVAX_USDC'], ['SEI_BTC', 'BTC_USDC', 'SEI_USDC'], ['ETH_BTC', 'BTC_USDC', 'ETH_USDC'], ['OP_BTC', 'BTC_USDC', 'OP_USDC'], ['INJ_BTC', 'BTC_USDC', 'INJ_USDC'], ['ARB_BTC', 'BTC_USDC', 'ARB_USDC'], ['ADA_BTC', 'BTC_USDC', 'ADA_USDC'], ['XRP_BTC', 'BTC_USDC', 'XRP_USDC'], ['INJ_BTC', 'BTC_USDC', 'INJ_USDC'], ['MATIC_BTC', 'BTC_USDC', 'MATIC_USDC'], ['SEI_BTC', 'BTC_USDC', 'SEI_USDC'], ['TRX_BTC', 'BTC_USDT', 'TRX_USDT'], ['TRX_USDT', 'USDT_TRY', 'TRX_TRY'], ['WLD_FDUSD', 'FDUSD_USDT', 'WLD_USDT'], ['WLD_BTC', 'BTC_USDT', 'WLD_USDT'], ['WLD_USDT', 'USDT_TRY', 'WLD_TRY'], ['WLD_FDUSD', 'FDUSD_USDT', 'WLD_USDT'], ['SOL_USDC', 'USDC_USDT', 'SOL_USDT'], ['SOL_USDT', 'USDT_TRY', 'SOL_TRY'], ['SOL_ETH', 'ETH_USDT', 'SOL_USDT'], ['SOL_EUR', 'EUR_USDT', 'SOL_USDT'], ['SOL_BTC', 'BTC_USDT', 'SOL_USDT'], ['SOL_TUSD', 'TUSD_USDT', 'SOL_USDT'], ['SOL_BNB', 'BNB_USDT', 'SOL_USDT'], ['SOL_FDUSD', 'FDUSD_USDT', 'SOL_USDT'], ['SOL_USDC', 'USDC_USDT', 'SOL_USDT'], ['SOL_BTC', 'BTC_USDT', 'SOL_USDT'], ['SOL_BNB', 'BNB_USDT', 'SOL_USDT'], ['SOL_TUSD', 'TUSD_USDT', 'SOL_USDT'], ['SOL_USDT', 'USDT_BRL', 'SOL_BRL'], ['SOL_ETH', 'ETH_USDT', 'SOL_USDT'], ['SOL_FDUSD', 'FDUSD_USDT', 'SOL_USDT'], ['ACE_BTC', 'BTC_USDT', 'ACE_USDT'], ['ACE_USDT', 'USDT_TRY', 'ACE_TRY'], ['DOT_USDC', 'USDC_USDT', 'DOT_USDT'], ['BNB_USDC', 'USDC_USDT', 'BNB_USDT'], ['ADA_USDC', 'USDC_USDT', 'ADA_USDT'], ['INJ_USDC', 'USDC_USDT', 'INJ_USDT'], ['OP_USDC', 'USDC_USDT', 'OP_USDT'], ['MATIC_USDC', 'USDC_USDT', 'MATIC_USDT'], ['BTC_USDC', 'USDC_USDT', 'BTC_USDT'], ['SOL_USDC', 'USDC_USDT', 'SOL_USDT'], ['DOT_USDC', 'USDC_USDT', 'DOT_USDT'], ['AVAX_USDC', 'USDC_USDT', 'AVAX_USDT'], ['XRP_USDC', 'USDC_USDT', 'XRP_USDT'], ['ETH_USDC', 'USDC_USDT', 'ETH_USDT'], ['BNB_USDC', 'USDC_USDT', 'BNB_USDT'], ['SEI_USDC', 'USDC_USDT', 'SEI_USDT'], ['SOL_USDC', 'USDC_USDT', 'SOL_USDT'], ['BTC_USDC', 'USDC_USDT', 'BTC_USDT'], ['AVAX_USDC', 'USDC_USDT', 'AVAX_USDT'], ['ARB_USDC', 'USDC_USDT', 'ARB_USDT'], ['OP_USDC', 'USDC_USDT', 'OP_USDT'], ['ARB_USDC', 'USDC_USDT', 'ARB_USDT'], ['ADA_USDC', 'USDC_USDT', 'ADA_USDT'], ['XRP_USDC', 'USDC_USDT', 'XRP_USDT'], ['INJ_USDC', 'USDC_USDT', 'INJ_USDT'], ['ETH_USDC', 'USDC_USDT', 'ETH_USDT'], ['MATIC_USDC', 'USDC_USDT', 'MATIC_USDT'], ['SEI_USDC', 'USDC_USDT', 'SEI_USDT'], ['NEAR_BTC', 'BTC_USDT', 'NEAR_USDT'], ['DOT_USDC', 'USDC_USDT', 'DOT_USDT'], ['DOT_BTC', 'BTC_USDT', 'DOT_USDT'], ['ETH_BTC', 'BTC_TUSD', 'ETH_TUSD'], ['SOL_ETH', 'ETH_TUSD', 'SOL_TUSD'], ['BNB_ETH', 'ETH_TUSD', 'BNB_TUSD'], ['ETH_BTC', 'BTC_TUSD', 'ETH_TUSD'], ['BNB_ETH', 'ETH_TUSD', 'BNB_TUSD'], ['SOL_ETH', 'ETH_TUSD', 'SOL_TUSD'], ['ETH_TUSD', 'TUSD_USDT', 'ETH_USDT'], ['VET_BTC', 'BTC_USDT', 'VET_USDT'], ['VET_BTC', 'BTC_TRY', 'VET_TRY'], ['VET_ETH', 'ETH_BTC', 'VET_BTC'], ['VET_BNB', 'BNB_BTC', 'VET_BTC'], ['VET_ETH', 'ETH_BTC', 'VET_BTC'], ['VET_BTC', 'BTC_EUR', 'VET_EUR'], ['VET_BNB', 'BNB_BTC', 'VET_BTC'], ['UMA_USDT', 'USDT_TRY', 'UMA_TRY'], ['REEF_USDT', 'USDT_TRY', 'REEF_TRY'], ['ADA_BTC', 'BTC_USDT', 'ADA_USDT'], ['ADA_BTC', 'BTC_FDUSD', 'ADA_FDUSD'], ['ADA_BTC', 'BTC_USDC', 'ADA_USDC'], ['ADA_BTC', 'BTC_EUR', 'ADA_EUR'], ['VET_BTC', 'BTC_TRY', 'VET_TRY'], ['VET_USDT', 'USDT_TRY', 'VET_TRY'], ['VET_BTC', 'BTC_TRY', 'VET_TRY'], ['VET_ETH', 'ETH_TRY', 'VET_TRY'], ['VET_BNB', 'BNB_TRY', 'VET_TRY'], ['VET_USDT', 'USDT_TRY', 'VET_TRY'], ['VET_BNB', 'BNB_TRY', 'VET_TRY'], ['MEME_USDT', 'USDT_TRY', 'MEME_TRY'], ['USTC_USDT', 'USDT_TRY', 'USTC_TRY'], ['USTC_FDUSD', 'FDUSD_TRY', 'USTC_TRY'], ['USTC_USDT', 'USDT_TRY', 'USTC_TRY'], ['USTC_FDUSD', 'FDUSD_TRY', 'USTC_TRY'], ['AI_USDT', 'USDT_TRY', 'AI_TRY'], ['AI_FDUSD', 'FDUSD_TRY', 'AI_TRY'], ['AI_USDT', 'USDT_TRY', 'AI_TRY'], ['AI_FDUSD', 'FDUSD_TRY', 'AI_TRY'], ['SEI_BTC', 'BTC_TRY', 'SEI_TRY'], ['SEI_FDUSD', 'FDUSD_TRY', 'SEI_TRY'], ['SEI_USDT', 'USDT_TRY', 'SEI_TRY'], ['SEI_BTC', 'BTC_TRY', 'SEI_TRY'], ['RNDR_BTC', 'BTC_USDT', 'RNDR_USDT'], ['RNDR_USDT', 'USDT_TRY', 'RNDR_TRY'], ['USTC_USDT', 'USDT_TRY', 'USTC_TRY'], ['USTC_FDUSD', 'FDUSD_USDT', 'USTC_USDT'], ['ETH_BTC', 'BTC_TUSD', 'ETH_TUSD'], ['SOL_BTC', 'BTC_TUSD', 'SOL_TUSD'], ['BTC_TUSD', 'TUSD_USDT', 'BTC_USDT'], ['BNB_BTC', 'BTC_TUSD', 'BNB_TUSD'], ['ETH_BTC', 'BTC_TUSD', 'ETH_TUSD'], ['BNB_BTC', 'BTC_TUSD', 'BNB_TUSD'], ['SOL_BTC', 'BTC_TUSD', 'SOL_TUSD'], ['SHIB_USDT', 'USDT_TRY', 'SHIB_TRY'], ['AUCTION_BTC', 'BTC_USDT', 'AUCTION_USDT'], ['XAI_USDT', 'USDT_TRY', 'XAI_TRY'], ['XAI_FDUSD', 'FDUSD_USDT', 'XAI_USDT'], ['DAR_USDT', 'USDT_TRY', 'DAR_TRY'], ['FLOKI_USDT', 'USDT_TRY', 'FLOKI_TRY'], ['BTT_USDT', 'USDT_TRY', 'BTT_TRY'], ['SOL_BTC', 'BTC_TRY', 'SOL_TRY'], ['SOL_USDT', 'USDT_TRY', 'SOL_TRY'], ['SOL_FDUSD', 'FDUSD_TRY', 'SOL_TRY'], ['SOL_ETH', 'ETH_TRY', 'SOL_TRY'], ['SOL_BTC', 'BTC_TRY', 'SOL_TRY'], ['SOL_FDUSD', 'FDUSD_TRY', 'SOL_TRY'], ['SOL_BNB', 'BNB_TRY', 'SOL_TRY'], ['SOL_USDT', 'USDT_TRY', 'SOL_TRY'], ['SOL_BNB', 'BNB_TRY', 'SOL_TRY'], ['ARPA_USDT', 'USDT_TRY', 'ARPA_TRY'], ['LEVER_USDT', 'USDT_TRY', 'LEVER_TRY'], ['ALT_USDT', 'USDT_TRY', 'ALT_TRY'], ['ALT_BTC', 'BTC_TRY', 'ALT_TRY'], ['ALT_FDUSD', 'FDUSD_TRY', 'ALT_TRY'], ['ALT_USDT', 'USDT_TRY', 'ALT_TRY'], ['ALT_FDUSD', 'FDUSD_TRY', 'ALT_TRY'], ['ALT_BTC', 'BTC_TRY', 'ALT_TRY'], ['TIA_BTC', 'BTC_TRY', 'TIA_TRY'], ['TIA_USDT', 'USDT_TRY', 'TIA_TRY'], ['TIA_BTC', 'BTC_TRY', 'TIA_TRY'], ['WLD_BTC', 'BTC_FDUSD', 'WLD_FDUSD'], ['BCH_BTC', 'BTC_FDUSD', 'BCH_FDUSD'], ['BTC_FDUSD', 'FDUSD_TRY', 'BTC_TRY'], ['LINK_BTC', 'BTC_FDUSD', 'LINK_FDUSD'], ['ETH_BTC', 'BTC_FDUSD', 'ETH_FDUSD'], ['DOGE_BTC', 'BTC_FDUSD', 'DOGE_FDUSD'], ['BNB_BTC', 'BTC_FDUSD', 'BNB_FDUSD'], ['SEI_BTC', 'BTC_FDUSD', 'SEI_FDUSD'], ['LINK_BTC', 'BTC_FDUSD', 'LINK_FDUSD'], ['AVAX_BTC', 'BTC_FDUSD', 'AVAX_FDUSD'], ['ADA_BTC', 'BTC_FDUSD', 'ADA_FDUSD'], ['BCH_BTC', 'BTC_FDUSD', 'BCH_FDUSD'], ['DOGE_BTC', 'BTC_FDUSD', 'DOGE_FDUSD'], ['XRP_BTC', 'BTC_FDUSD', 'XRP_FDUSD'], ['SOL_BTC', 'BTC_FDUSD', 'SOL_FDUSD'], ['MATIC_BTC', 'BTC_FDUSD', 'MATIC_FDUSD'], ['ARB_BTC', 'BTC_FDUSD', 'ARB_FDUSD'], ['BTC_FDUSD', 'FDUSD_USDT', 'BTC_USDT'], ['ADA_BTC', 'BTC_FDUSD', 'ADA_FDUSD'], ['ARB_BTC', 'BTC_FDUSD', 'ARB_FDUSD'], ['XRP_BTC', 'BTC_FDUSD', 'XRP_FDUSD'], ['BNB_BTC', 'BTC_FDUSD', 'BNB_FDUSD'], ['AVAX_BTC', 'BTC_FDUSD', 'AVAX_FDUSD'], ['SEI_BTC', 'BTC_FDUSD', 'SEI_FDUSD'], ['ETH_BTC', 'BTC_FDUSD', 'ETH_FDUSD'], ['ALT_BTC', 'BTC_FDUSD', 'ALT_FDUSD'], ['WLD_BTC', 'BTC_FDUSD', 'WLD_FDUSD'], ['ALT_BTC', 'BTC_FDUSD', 'ALT_FDUSD'], ['DYM_BTC', 'BTC_FDUSD', 'DYM_FDUSD'], ['MANTA_BTC', 'BTC_FDUSD', 'MANTA_FDUSD'], ['MATIC_BTC', 'BTC_FDUSD', 'MATIC_FDUSD'], ['DYM_BTC', 'BTC_FDUSD', 'DYM_FDUSD'], ['MANTA_BTC', 'BTC_FDUSD', 'MANTA_FDUSD'], ['BONK_FDUSD', 'FDUSD_TRY', 'BONK_TRY'], ['WLD_FDUSD', 'FDUSD_TRY', 'WLD_TRY'], ['BTC_FDUSD', 'FDUSD_TRY', 'BTC_TRY'], ['ETH_FDUSD', 'FDUSD_TRY', 'ETH_TRY'], ['DOGE_FDUSD', 'FDUSD_TRY', 'DOGE_TRY'], ['BNB_FDUSD', 'FDUSD_TRY', 'BNB_TRY'], ['MANTA_FDUSD', 'FDUSD_TRY', 'MANTA_TRY'], ['SEI_FDUSD', 'FDUSD_TRY', 'SEI_TRY'], ['AVAX_FDUSD', 'FDUSD_TRY', 'AVAX_TRY'], ['USTC_FDUSD', 'FDUSD_TRY', 'USTC_TRY'], ['AI_FDUSD', 'FDUSD_TRY', 'AI_TRY'], ['SEI_FDUSD', 'FDUSD_TRY', 'SEI_TRY'], ['SOL_FDUSD', 'FDUSD_TRY', 'SOL_TRY'], ['ALT_FDUSD', 'FDUSD_TRY', 'ALT_TRY'], ['BTC_FDUSD', 'FDUSD_TRY', 'BTC_TRY'], ['XRP_FDUSD', 'FDUSD_TRY', 'XRP_TRY'], ['ETH_FDUSD', 'FDUSD_TRY', 'ETH_TRY'], ['XRP_FDUSD', 'FDUSD_TRY', 'XRP_TRY'], ['DYM_FDUSD', 'FDUSD_TRY', 'DYM_TRY'], ['SOL_FDUSD', 'FDUSD_TRY', 'SOL_TRY'], ['DOGE_FDUSD', 'FDUSD_TRY', 'DOGE_TRY'], ['ARB_FDUSD', 'FDUSD_TRY', 'ARB_TRY'], ['XAI_FDUSD', 'FDUSD_TRY', 'XAI_TRY'], ['BNB_FDUSD', 'FDUSD_TRY', 'BNB_TRY'], ['ARB_FDUSD', 'FDUSD_TRY', 'ARB_TRY'], ['FDUSD_USDT', 'USDT_TRY', 'FDUSD_TRY'], ['BONK_FDUSD', 'FDUSD_TRY', 'BONK_TRY'], ['ALT_FDUSD', 'FDUSD_TRY', 'ALT_TRY'], ['WLD_FDUSD', 'FDUSD_TRY', 'WLD_TRY'], ['MANTA_FDUSD', 'FDUSD_TRY', 'MANTA_TRY'], ['DYM_FDUSD', 'FDUSD_TRY', 'DYM_TRY'], ['AI_FDUSD', 'FDUSD_TRY', 'AI_TRY'], ['FDUSD_USDT', 'USDT_TRY', 'FDUSD_TRY'], ['USTC_FDUSD', 'FDUSD_TRY', 'USTC_TRY'], ['XAI_FDUSD', 'FDUSD_TRY', 'XAI_TRY'], ['MBOX_USDT', 'USDT_TRY', 'MBOX_TRY'], ['BCH_BTC', 'BTC_FDUSD', 'BCH_FDUSD'], ['BCH_BTC', 'BTC_USDT', 'BCH_USDT'], ['DOGE_BTC', 'BTC_FDUSD', 'DOGE_FDUSD'], ['DOGE_BTC', 'BTC_TRY', 'DOGE_TRY'], ['DOGE_BTC', 'BTC_USDT', 'DOGE_USDT'], ['PYTH_USDT', 'USDT_TRY', 'PYTH_TRY'], ['IMX_BTC', 'BTC_USDT', 'IMX_USDT'], ['ATOM_BTC', 'BTC_USDT', 'ATOM_USDT'], ['NTRN_BTC', 'BTC_USDT', 'NTRN_USDT'], ['NTRN_USDT', 'USDT_TRY', 'NTRN_TRY'], ['LUNC_USDT', 'USDT_TRY', 'LUNC_TRY'], ['XRP_ETH', 'ETH_FDUSD', 'XRP_FDUSD'], ['XRP_BTC', 'BTC_FDUSD', 'XRP_FDUSD'], ['XRP_FDUSD', 'FDUSD_TRY', 'XRP_TRY'], ['XRP_FDUSD', 'FDUSD_USDT', 'XRP_USDT'], ['XRP_BTC', 'BTC_FDUSD', 'XRP_FDUSD'], ['XRP_ETH', 'ETH_FDUSD', 'XRP_FDUSD'], ['SUPER_USDT', 'USDT_TRY', 'SUPER_TRY'], ['SOL_ETH', 'ETH_USDT', 'SOL_USDT'], ['SOL_ETH', 'ETH_TRY', 'SOL_TRY'], ['SOL_ETH', 'ETH_EUR', 'SOL_EUR'], ['SOL_ETH', 'ETH_BTC', 'SOL_BTC'], ['SOL_ETH', 'ETH_FDUSD', 'SOL_FDUSD'], ['SOL_BNB', 'BNB_ETH', 'SOL_ETH'], ['SOL_ETH', 'ETH_USDC', 'SOL_USDC'], ['SOL_BNB', 'BNB_ETH', 'SOL_ETH'], ['SOL_ETH', 'ETH_TUSD', 'SOL_TUSD'], ['SOL_ETH', 'ETH_BRL', 'SOL_BRL'], ['LTC_BTC', 'BTC_USDT', 'LTC_USDT'], ['ACA_USDT', 'USDT_TRY', 'ACA_TRY'], ['SOL_EUR', 'EUR_USDT', 'SOL_USDT'], ['SOL_ETH', 'ETH_EUR', 'SOL_EUR'], ['SOL_BTC', 'BTC_EUR', 'SOL_EUR'], ['SOL_ETH', 'ETH_EUR', 'SOL_EUR'], ['SOL_BNB', 'BNB_EUR', 'SOL_EUR'], ['ORDI_BTC', 'BTC_USDT', 'ORDI_USDT'], ['ORDI_BTC', 'BTC_TRY', 'ORDI_TRY'], ['ETH_BTC', 'BTC_TRY', 'ETH_TRY'], ['ETH_FDUSD', 'FDUSD_TRY', 'ETH_TRY'], ['VET_ETH', 'ETH_TRY', 'VET_TRY'], ['SOL_ETH', 'ETH_TRY', 'SOL_TRY'], ['ETH_FDUSD', 'FDUSD_TRY', 'ETH_TRY'], ['SOL_ETH', 'ETH_TRY', 'SOL_TRY'], ['XRP_ETH', 'ETH_TRY', 'XRP_TRY'], ['BNB_ETH', 'ETH_TRY', 'BNB_TRY'], ['VET_ETH', 'ETH_TRY', 'VET_TRY'], ['BNB_ETH', 'ETH_TRY', 'BNB_TRY'], ['ETH_USDT', 'USDT_TRY', 'ETH_TRY'], ['ETH_BTC', 'BTC_TRY', 'ETH_TRY'], ['ETH_USDT', 'USDT_TRY', 'ETH_TRY'], ['XRP_ETH', 'ETH_TRY', 'XRP_TRY'], ['SOL_ETH', 'ETH_BRL', 'SOL_BRL'], ['ETH_USDT', 'USDT_BRL', 'ETH_BRL'], ['ETH_BTC', 'BTC_BRL', 'ETH_BRL'], ['SOL_ETH', 'ETH_BRL', 'SOL_BRL'], ['ETH_USDT', 'USDT_BRL', 'ETH_BRL'], ['AVAX_BTC', 'BTC_USDC', 'AVAX_USDC'], ['AVAX_USDC', 'USDC_USDT', 'AVAX_USDT'], ['AVAX_BTC', 'BTC_USDC', 'AVAX_USDC'], ['XMR_BTC', 'BTC_USDT', 'XMR_USDT'], ['SHIB_USDT', 'USDT_TRY', 'SHIB_TRY'], ['SUI_BTC', 'BTC_USDT', 'SUI_USDT'], ['SUI_BTC', 'BTC_TRY', 'SUI_TRY'], ['XRP_BTC', 'BTC_TRY', 'XRP_TRY'], ['XRP_FDUSD', 'FDUSD_TRY', 'XRP_TRY'], ['XRP_ETH', 'ETH_TRY', 'XRP_TRY'], ['XRP_USDT', 'USDT_TRY', 'XRP_TRY'], ['XRP_BTC', 'BTC_TRY', 'XRP_TRY'], ['XRP_USDT', 'USDT_TRY', 'XRP_TRY'], ['XRP_ETH', 'ETH_TRY', 'XRP_TRY'], ['TRX_BTC', 'BTC_USDT', 'TRX_USDT'], ['TRX_BTC', 'BTC_TRY', 'TRX_TRY'], ['LEVER_USDT', 'USDT_TRY', 'LEVER_TRY'], ['NFP_USDT', 'USDT_TRY', 'NFP_TRY'], ['XRP_USDC', 'USDC_USDT', 'XRP_USDT'], ['XRP_FDUSD', 'FDUSD_USDT', 'XRP_USDT'], ['XRP_USDT', 'USDT_TRY', 'XRP_TRY'], ['XRP_EUR', 'EUR_USDT', 'XRP_USDT'], ['XRP_BTC', 'BTC_USDT', 'XRP_USDT'], ['XRP_EUR', 'EUR_USDT', 'XRP_USDT'], ['XRP_USDC', 'USDC_USDT', 'XRP_USDT'], ['XRP_ETH', 'ETH_USDT', 'XRP_USDT'], ['XRP_FDUSD', 'FDUSD_USDT', 'XRP_USDT'], ['ADA_EUR', 'EUR_USDT', 'ADA_USDT'], ['VET_EUR', 'EUR_USDT', 'VET_USDT'], ['SOL_EUR', 'EUR_USDT', 'SOL_USDT'], ['XRP_EUR', 'EUR_USDT', 'XRP_USDT'], ['BNB_EUR', 'EUR_USDT', 'BNB_USDT'], ['BTC_EUR', 'EUR_USDT', 'BTC_USDT'], ['ETH_EUR', 'EUR_USDT', 'ETH_USDT'], ['XRP_EUR', 'EUR_USDT', 'XRP_USDT'], ['VET_EUR', 'EUR_USDT', 'VET_USDT'], ['BNB_EUR', 'EUR_USDT', 'BNB_USDT'], ['ADA_EUR', 'EUR_USDT', 'ADA_USDT'], ['ETH_EUR', 'EUR_USDT', 'ETH_USDT'], ['SOL_BTC', 'BTC_USDT', 'SOL_USDT'], ['SOL_BTC', 'BTC_TRY', 'SOL_TRY'], ['SOL_ETH', 'ETH_BTC', 'SOL_BTC'], ['SOL_BTC', 'BTC_EUR', 'SOL_EUR'], ['SOL_BTC', 'BTC_FDUSD', 'SOL_FDUSD'], ['SOL_BTC', 'BTC_USDC', 'SOL_USDC'], ['SOL_BNB', 'BNB_BTC', 'SOL_BTC'], ['SOL_ETH', 'ETH_BTC', 'SOL_BTC'], ['SOL_BNB', 'BNB_BTC', 'SOL_BTC'], ['SOL_BTC', 'BTC_TUSD', 'SOL_TUSD'], ['SOL_BTC', 'BTC_BRL', 'SOL_BRL'], ['UMA_USDT', 'USDT_TRY', 'UMA_TRY'], ['BEAM_USDT', 'USDT_TRY', 'BEAM_TRY'], ['SOL_TUSD', 'TUSD_USDT', 'SOL_USDT'], ['ETH_TUSD', 'TUSD_USDT', 'ETH_USDT'], ['BTC_TUSD', 'TUSD_USDT', 'BTC_USDT'], ['BNB_TUSD', 'TUSD_USDT', 'BNB_USDT'], ['BTC_TUSD', 'TUSD_USDT', 'BTC_USDT'], ['BNB_TUSD', 'TUSD_USDT', 'BNB_USDT'], ['SOL_TUSD', 'TUSD_USDT', 'SOL_USDT'], ['ETH_TUSD', 'TUSD_USDT', 'ETH_USDT'], ['BNB_ETH', 'ETH_USDC', 'BNB_USDC'], ['ETH_BTC', 'BTC_USDC', 'ETH_USDC'], ['SOL_ETH', 'ETH_USDC', 'SOL_USDC'], ['BNB_ETH', 'ETH_USDC', 'BNB_USDC'], ['SOL_ETH', 'ETH_USDC', 'SOL_USDC'], ['ETH_BTC', 'BTC_USDC', 'ETH_USDC'], ['XRP_ETH', 'ETH_USDC', 'XRP_USDC'], ['ETH_USDC', 'USDC_USDT', 'ETH_USDT'], ['XRP_ETH', 'ETH_USDC', 'XRP_USDC'], ['MEME_USDT', 'USDT_TRY', 'MEME_TRY'], ['MINA_USDT', 'USDT_TRY', 'MINA_TRY'], ['CHR_BTC', 'BTC_USDT', 'CHR_USDT'], ['BNB_USDC', 'USDC_USDT', 'BNB_USDT'], ['VET_BNB', 'BNB_USDT', 'VET_USDT'], ['BNB_FDUSD', 'FDUSD_USDT', 'BNB_USDT'], ['SOL_BNB', 'BNB_USDT', 'SOL_USDT'], ['BNB_USDC', 'USDC_USDT', 'BNB_USDT'], ['BNB_EUR', 'EUR_USDT', 'BNB_USDT'], ['BNB_TUSD', 'TUSD_USDT', 'BNB_USDT'], ['BNB_ETH', 'ETH_USDT', 'BNB_USDT'], ['BNB_BTC', 'BTC_USDT', 'BNB_USDT'], ['BNB_USDT', 'USDT_TRY', 'BNB_TRY'], ['BNB_BTC', 'BTC_USDT', 'BNB_USDT'], ['SOL_BNB', 'BNB_USDT', 'SOL_USDT'], ['BNB_TUSD', 'TUSD_USDT', 'BNB_USDT'], ['BNB_EUR', 'EUR_USDT', 'BNB_USDT'], ['VET_BNB', 'BNB_USDT', 'VET_USDT'], ['BNB_ETH', 'ETH_USDT', 'BNB_USDT'], ['BNB_FDUSD', 'FDUSD_USDT', 'BNB_USDT'], ['GAS_BTC', 'BTC_USDT', 'GAS_USDT'], ['APE_USDT', 'USDT_TRY', 'APE_TRY'], ['FTM_BTC', 'BTC_USDT', 'FTM_USDT'], ['SEI_FDUSD', 'FDUSD_USDT', 'SEI_USDT'], ['SEI_USDC', 'USDC_USDT', 'SEI_USDT'], ['SEI_USDT', 'USDT_TRY', 'SEI_TRY'], ['SEI_BTC', 'BTC_USDT', 'SEI_USDT'], ['SEI_USDC', 'USDC_USDT', 'SEI_USDT'], ['SEI_FDUSD', 'FDUSD_USDT', 'SEI_USDT'], ['DATA_BTC', 'BTC_USDT', 'DATA_USDT'], ['DYM_BTC', 'BTC_TRY', 'DYM_TRY'], ['DYM_FDUSD', 'FDUSD_TRY', 'DYM_TRY'], ['DYM_USDT', 'USDT_TRY', 'DYM_TRY'], ['DYM_BTC', 'BTC_TRY', 'DYM_TRY'], ['DYM_FDUSD', 'FDUSD_TRY', 'DYM_TRY'], ['SOL_ETH', 'ETH_FDUSD', 'SOL_FDUSD'], ['SOL_BNB', 'BNB_FDUSD', 'SOL_FDUSD'], ['SOL_FDUSD', 'FDUSD_USDT', 'SOL_USDT'], ['SOL_FDUSD', 'FDUSD_TRY', 'SOL_TRY'], ['SOL_BTC', 'BTC_FDUSD', 'SOL_FDUSD'], ['SOL_ETH', 'ETH_FDUSD', 'SOL_FDUSD'], ['SOL_BTC', 'BTC_FDUSD', 'SOL_FDUSD'], ['SOL_BNB', 'BNB_FDUSD', 'SOL_FDUSD'], ['ID_USDT', 'USDT_TRY', 'ID_TRY'], ['CYBER_USDT', 'USDT_TRY', 'CYBER_TRY'], ['CHZ_USDT', 'USDT_TRY', 'CHZ_TRY'], ['DOGE_BTC', 'BTC_TRY', 'DOGE_TRY'], ['DOGE_FDUSD', 'FDUSD_TRY', 'DOGE_TRY'], ['DOGE_BTC', 'BTC_TRY', 'DOGE_TRY'], ['DOGE_USDT', 'USDT_TRY', 'DOGE_TRY'], ['PYTH_USDT', 'USDT_TRY', 'PYTH_TRY'], ['DOT_BTC', 'BTC_USDC', 'DOT_USDC'], ['DOT_BTC', 'BTC_USDT', 'DOT_USDT'], ['BNB_ETH', 'ETH_USDC', 'BNB_USDC'], ['BNB_ETH', 'ETH_FDUSD', 'BNB_FDUSD'], ['SOL_BNB', 'BNB_ETH', 'SOL_ETH'], ['BNB_ETH', 'ETH_USDT', 'BNB_USDT'], ['VET_BNB', 'BNB_ETH', 'VET_ETH'], ['BNB_ETH', 'ETH_TRY', 'BNB_TRY'], ['BNB_ETH', 'ETH_BTC', 'BNB_BTC'], ['SOL_BNB', 'BNB_ETH', 'SOL_ETH'], ['BNB_ETH', 'ETH_TUSD', 'BNB_TUSD'], ['BNB_ETH', 'ETH_EUR', 'BNB_EUR'], ['VET_BNB', 'BNB_ETH', 'VET_ETH'], ['MATIC_BTC', 'BTC_USDT', 'MATIC_USDT'], ['MATIC_BTC', 'BTC_FDUSD', 'MATIC_FDUSD'], ['MATIC_BTC', 'BTC_USDC', 'MATIC_USDC'], ['SOL_BNB', 'BNB_USDC', 'SOL_USDC'], ['SOL_BTC', 'BTC_USDC', 'SOL_USDC'], ['SOL_USDC', 'USDC_USDT', 'SOL_USDT'], ['SOL_ETH', 'ETH_USDC', 'SOL_USDC'], ['SOL_BTC', 'BTC_USDC', 'SOL_USDC'], ['SOL_ETH', 'ETH_USDC', 'SOL_USDC'], ['SOL_BNB', 'BNB_USDC', 'SOL_USDC'], ['ARB_BTC', 'BTC_FDUSD', 'ARB_FDUSD'], ['ARB_FDUSD', 'FDUSD_TRY', 'ARB_TRY'], ['ARB_FDUSD', 'FDUSD_USDT', 'ARB_USDT'], ['XAI_USDT', 'USDT_TRY', 'XAI_TRY'], ['XAI_FDUSD', 'FDUSD_TRY', 'XAI_TRY'], ['XAI_USDT', 'USDT_TRY', 'XAI_TRY'], ['XAI_FDUSD', 'FDUSD_TRY', 'XAI_TRY'], ['OP_BTC', 'BTC_USDT', 'OP_USDT'], ['ACE_BTC', 'BTC_USDT', 'ACE_USDT'], ['IMX_BTC', 'BTC_USDT', 'IMX_USDT'], ['FTM_BTC', 'BTC_USDT', 'FTM_USDT'], ['GAS_BTC', 'BTC_USDT', 'GAS_USDT'], ['SUI_BTC', 'BTC_USDT', 'SUI_USDT'], ['ADA_BTC', 'BTC_USDT', 'ADA_USDT'], ['ALT_BTC', 'BTC_USDT', 'ALT_USDT'], ['BTC_USDT', 'USDT_TRY', 'BTC_TRY'], ['STX_BTC', 'BTC_USDT', 'STX_USDT'], ['VET_BTC', 'BTC_USDT', 'VET_USDT'], ['ORDI_BTC', 'BTC_USDT', 'ORDI_USDT'], ['LINK_BTC', 'BTC_USDT', 'LINK_USDT'], ['INJ_BTC', 'BTC_USDT', 'INJ_USDT'], ['APT_BTC', 'BTC_USDT', 'APT_USDT'], ['OP_BTC', 'BTC_USDT', 'OP_USDT'], ['LTC_BTC', 'BTC_USDT', 'LTC_USDT'], ['PROM_BTC', 'BTC_USDT', 'PROM_USDT'], ['TIA_BTC', 'BTC_USDT', 'TIA_USDT'], ['RIF_BTC', 'BTC_USDT', 'RIF_USDT'], ['MATIC_BTC', 'BTC_USDT', 'MATIC_USDT'], ['BCH_BTC', 'BTC_USDT', 'BCH_USDT'], ['BTC_USDC', 'USDC_USDT', 'BTC_USDT'], ['TRX_BTC', 'BTC_USDT', 'TRX_USDT'], ['WLD_BTC', 'BTC_USDT', 'WLD_USDT'], ['SOL_BTC', 'BTC_USDT', 'SOL_USDT'], ['ACE_BTC', 'BTC_USDT', 'ACE_USDT'], ['BTC_USDC', 'USDC_USDT', 'BTC_USDT'], ['NEAR_BTC', 'BTC_USDT', 'NEAR_USDT'], ['DOT_BTC', 'BTC_USDT', 'DOT_USDT'], ['VET_BTC', 'BTC_USDT', 'VET_USDT'], ['ADA_BTC', 'BTC_USDT', 'ADA_USDT'], ['RNDR_BTC', 'BTC_USDT', 'RNDR_USDT'], ['BTC_TUSD', 'TUSD_USDT', 'BTC_USDT'], ['AUCTION_BTC', 'BTC_USDT', 'AUCTION_USDT'], ['BTC_FDUSD', 'FDUSD_USDT', 'BTC_USDT'], ['BCH_BTC', 'BTC_USDT', 'BCH_USDT'], ['DOGE_BTC', 'BTC_USDT', 'DOGE_USDT'], ['IMX_BTC', 'BTC_USDT', 'IMX_USDT'], ['ATOM_BTC', 'BTC_USDT', 'ATOM_USDT'], ['NTRN_BTC', 'BTC_USDT', 'NTRN_USDT'], ['LTC_BTC', 'BTC_USDT', 'LTC_USDT'], ['ORDI_BTC', 'BTC_USDT', 'ORDI_USDT'], ['XMR_BTC', 'BTC_USDT', 'XMR_USDT'], ['SUI_BTC', 'BTC_USDT', 'SUI_USDT'], ['TRX_BTC', 'BTC_USDT', 'TRX_USDT'], ['XRP_BTC', 'BTC_USDT', 'XRP_USDT'], ['BTC_EUR', 'EUR_USDT', 'BTC_USDT'], ['SOL_BTC', 'BTC_USDT', 'SOL_USDT'], ['BTC_TUSD', 'TUSD_USDT', 'BTC_USDT'], ['CHR_BTC', 'BTC_USDT', 'CHR_USDT'], ['BNB_BTC', 'BTC_USDT', 'BNB_USDT'], ['GAS_BTC', 'BTC_USDT', 'GAS_USDT'], ['FTM_BTC', 'BTC_USDT', 'FTM_USDT'], ['SEI_BTC', 'BTC_USDT', 'SEI_USDT'], ['DATA_BTC', 'BTC_USDT', 'DATA_USDT'], ['DOT_BTC', 'BTC_USDT', 'DOT_USDT'], ['MATIC_BTC', 'BTC_USDT', 'MATIC_USDT'], ['RIF_BTC', 'BTC_USDT', 'RIF_USDT'], ['API3_BTC', 'BTC_USDT', 'API3_USDT'], ['ARB_BTC', 'BTC_USDT', 'ARB_USDT'], ['BTC_EUR', 'EUR_USDT', 'BTC_USDT'], ['AVAX_BTC', 'BTC_USDT', 'AVAX_USDT'], ['DOGE_BTC', 'BTC_USDT', 'DOGE_USDT'], ['XRP_BTC', 'BTC_USDT', 'XRP_USDT'], ['DYM_BTC', 'BTC_USDT', 'DYM_USDT'], ['BNB_BTC', 'BTC_USDT', 'BNB_USDT'], ['AVAX_BTC', 'BTC_USDT', 'AVAX_USDT'], ['XMR_BTC', 'BTC_USDT', 'XMR_USDT'], ['STX_BTC', 'BTC_USDT', 'STX_USDT'], ['MANTA_BTC', 'BTC_USDT', 'MANTA_USDT'], ['BTC_USDT', 'USDT_BRL', 'BTC_BRL'], ['SEI_BTC', 'BTC_USDT', 'SEI_USDT'], ['ARB_BTC', 'BTC_USDT', 'ARB_USDT'], ['ETH_BTC', 'BTC_USDT', 'ETH_USDT'], ['LINK_BTC', 'BTC_USDT', 'LINK_USDT'], ['API3_BTC', 'BTC_USDT', 'API3_USDT'], ['NTRN_BTC', 'BTC_USDT', 'NTRN_USDT'], ['WLD_BTC', 'BTC_USDT', 'WLD_USDT'], ['ALT_BTC', 'BTC_USDT', 'ALT_USDT'], ['ATOM_BTC', 'BTC_USDT', 'ATOM_USDT'], ['INJ_BTC', 'BTC_USDT', 'INJ_USDT'], ['APT_BTC', 'BTC_USDT', 'APT_USDT'], ['DYM_BTC', 'BTC_USDT', 'DYM_USDT'], ['BTC_USDT', 'USDT_DAI', 'BTC_DAI'], ['DATA_BTC', 'BTC_USDT', 'DATA_USDT'], ['AUCTION_BTC', 'BTC_USDT', 'AUCTION_USDT'], ['PROM_BTC', 'BTC_USDT', 'PROM_USDT'], ['RNDR_BTC', 'BTC_USDT', 'RNDR_USDT'], ['MANTA_BTC', 'BTC_USDT', 'MANTA_USDT'], ['TIA_BTC', 'BTC_USDT', 'TIA_USDT'], ['ETH_BTC', 'BTC_USDT', 'ETH_USDT'], ['CHR_BTC', 'BTC_USDT', 'CHR_USDT'], ['NEAR_BTC', 'BTC_USDT', 'NEAR_USDT'], ['BTC_FDUSD', 'FDUSD_USDT', 'BTC_USDT'], ['ADA_FDUSD', 'FDUSD_USDT', 'ADA_USDT'], ['ADA_BTC', 'BTC_FDUSD', 'ADA_FDUSD'], ['RIF_BTC', 'BTC_USDT', 'RIF_USDT'], ['VET_ETH', 'ETH_USDT', 'VET_USDT'], ['VET_ETH', 'ETH_BTC', 'VET_BTC'], ['VET_ETH', 'ETH_TRY', 'VET_TRY'], ['VET_BNB', 'BNB_ETH', 'VET_ETH'], ['VET_ETH', 'ETH_EUR', 'VET_EUR'], ['VET_BNB', 'BNB_ETH', 'VET_ETH'], ['BTC_USDT', 'USDT_DAI', 'BTC_DAI'], ['BNB_BTC', 'BTC_TRY', 'BNB_TRY'], ['BNB_FDUSD', 'FDUSD_TRY', 'BNB_TRY'], ['VET_BNB', 'BNB_TRY', 'VET_TRY'], ['SOL_BNB', 'BNB_TRY', 'SOL_TRY'], ['BNB_FDUSD', 'FDUSD_TRY', 'BNB_TRY'], ['BNB_ETH', 'ETH_TRY', 'BNB_TRY'], ['BNB_USDT', 'USDT_TRY', 'BNB_TRY'], ['BNB_ETH', 'ETH_TRY', 'BNB_TRY'], ['BNB_BTC', 'BTC_TRY', 'BNB_TRY'], ['BNB_USDT', 'USDT_TRY', 'BNB_TRY'], ['SOL_BNB', 'BNB_TRY', 'SOL_TRY'], ['VET_BNB', 'BNB_TRY', 'VET_TRY'], ['CYBER_USDT', 'USDT_TRY', 'CYBER_TRY'], ['STX_BTC', 'BTC_TRY', 'STX_TRY'], ['STX_USDT', 'USDT_TRY', 'STX_TRY'], ['ACE_BTC', 'BTC_TRY', 'ACE_TRY'], ['ACE_USDT', 'USDT_TRY', 'ACE_TRY'], ['API3_BTC', 'BTC_TRY', 'API3_TRY'], ['API3_BTC', 'BTC_USDT', 'API3_USDT'], ['TRB_USDT', 'USDT_TRY', 'TRB_TRY'], ['ARB_BTC', 'BTC_FDUSD', 'ARB_FDUSD'], ['ARB_BTC', 'BTC_TRY', 'ARB_TRY'], ['ARB_BTC', 'BTC_USDT', 'ARB_USDT'], ['ARB_BTC', 'BTC_USDC', 'ARB_USDC'], ['ARB_BTC', 'BTC_TRY', 'ARB_TRY'], ['ARB_FDUSD', 'FDUSD_TRY', 'ARB_TRY'], ['ARB_BTC', 'BTC_TRY', 'ARB_TRY'], ['ARB_USDT', 'USDT_TRY', 'ARB_TRY'], ['VET_BTC', 'BTC_EUR', 'VET_EUR'], ['ADA_BTC', 'BTC_EUR', 'ADA_EUR'], ['SOL_BTC', 'BTC_EUR', 'SOL_EUR'], ['BTC_EUR', 'EUR_USDT', 'BTC_USDT'], ['XRP_BTC', 'BTC_EUR', 'XRP_EUR'], ['BNB_BTC', 'BTC_EUR', 'BNB_EUR'], ['ETH_BTC', 'BTC_EUR', 'ETH_EUR'], ['XRP_BTC', 'BTC_EUR', 'XRP_EUR'], ['VET_BTC', 'BTC_EUR', 'VET_EUR'], ['BNB_BTC', 'BTC_EUR', 'BNB_EUR'], ['ADA_BTC', 'BTC_EUR', 'ADA_EUR'], ['SOL_USDT', 'USDT_BRL', 'SOL_BRL'], ['ETH_USDT', 'USDT_BRL', 'ETH_BRL'], ['BTC_USDT', 'USDT_BRL', 'BTC_BRL'], ['SOL_USDT', 'USDT_BRL', 'SOL_BRL'], ['ETH_USDT', 'USDT_BRL', 'ETH_BRL'], ['JTO_USDT', 'USDT_TRY', 'JTO_TRY'], ['AVAX_FDUSD', 'FDUSD_USDT', 'AVAX_USDT'], ['AVAX_USDT', 'USDT_TRY', 'AVAX_TRY'], ['AVAX_USDC', 'USDC_USDT', 'AVAX_USDT'], ['AVAX_BTC', 'BTC_USDT', 'AVAX_USDT'], ['AVAX_FDUSD', 'FDUSD_USDT', 'AVAX_USDT'], ['API3_BTC', 'BTC_TRY', 'API3_TRY'], ['API3_USDT', 'USDT_TRY', 'API3_TRY'], ['DOGE_FDUSD', 'FDUSD_USDT', 'DOGE_USDT'], ['DOGE_BTC', 'BTC_USDT', 'DOGE_USDT'], ['DOGE_USDT', 'USDT_TRY', 'DOGE_TRY'], ['DOGE_BTC', 'BTC_USDT', 'DOGE_USDT'], ['DOGE_FDUSD', 'FDUSD_USDT', 'DOGE_USDT'], ['TRB_USDT', 'USDT_TRY', 'TRB_TRY'], ['STORJ_USDT', 'USDT_TRY', 'STORJ_TRY'], ['FET_USDT', 'USDT_TRY', 'FET_TRY'], ['BTT_USDT', 'USDT_TRY', 'BTT_TRY'], ['XRP_BTC', 'BTC_FDUSD', 'XRP_FDUSD'], ['XRP_BTC', 'BTC_TRY', 'XRP_TRY'], ['XRP_BTC', 'BTC_USDT', 'XRP_USDT'], ['XRP_ETH', 'ETH_BTC', 'XRP_BTC'], ['XRP_BTC', 'BTC_EUR', 'XRP_EUR'], ['XRP_BTC', 'BTC_USDC', 'XRP_USDC'], ['XRP_ETH', 'ETH_BTC', 'XRP_BTC'], ['SKL_USDT', 'USDT_TRY', 'SKL_TRY'], ['DYM_USDT', 'USDT_TRY', 'DYM_TRY'], ['DYM_BTC', 'BTC_USDT', 'DYM_USDT'], ['DYM_FDUSD', 'FDUSD_USDT', 'DYM_USDT'], ['PEPE_USDT', 'USDT_TRY', 'PEPE_TRY'], ['MAV_USDT', 'USDT_TRY', 'MAV_TRY'], ['BNB_BTC', 'BTC_USDC', 'BNB_USDC'], ['BNB_BTC', 'BTC_FDUSD', 'BNB_FDUSD'], ['VET_BNB', 'BNB_BTC', 'VET_BTC'], ['SOL_BNB', 'BNB_BTC', 'SOL_BTC'], ['BNB_BTC', 'BTC_USDT', 'BNB_USDT'], ['BNB_ETH', 'ETH_BTC', 'BNB_BTC'], ['BNB_BTC', 'BTC_TRY', 'BNB_TRY'], ['BNB_ETH', 'ETH_BTC', 'BNB_BTC'], ['SOL_BNB', 'BNB_BTC', 'SOL_BTC'], ['BNB_BTC', 'BTC_TUSD', 'BNB_TUSD'], ['BNB_BTC', 'BTC_EUR', 'BNB_EUR'], ['VET_BNB', 'BNB_BTC', 'VET_BTC'], ['AVAX_BTC', 'BTC_FDUSD', 'AVAX_FDUSD'], ['AVAX_BTC', 'BTC_TRY', 'AVAX_TRY'], ['AVAX_BTC', 'BTC_USDC', 'AVAX_USDC'], ['AVAX_BTC', 'BTC_USDT', 'AVAX_USDT'], ['XMR_BTC', 'BTC_USDT', 'XMR_USDT'], ['STX_BTC', 'BTC_USDT', 'STX_USDT'], ['STX_USDT', 'USDT_TRY', 'STX_TRY'], ['ID_USDT', 'USDT_TRY', 'ID_TRY'], ['REEF_USDT', 'USDT_TRY', 'REEF_TRY'], ['FLOKI_USDT', 'USDT_TRY', 'FLOKI_TRY'], ['MBOX_USDT', 'USDT_TRY', 'MBOX_TRY'], ['SUI_USDT', 'USDT_TRY', 'SUI_TRY'], ['JUP_USDT', 'USDT_TRY', 'JUP_TRY'], ['ALT_USDT', 'USDT_TRY', 'ALT_TRY'], ['BTC_USDT', 'USDT_TRY', 'BTC_TRY'], ['VET_USDT', 'USDT_TRY', 'VET_TRY'], ['ORDI_USDT', 'USDT_TRY', 'ORDI_TRY'], ['INJ_USDT', 'USDT_TRY', 'INJ_TRY'], ['APT_USDT', 'USDT_TRY', 'APT_TRY'], ['MANTA_USDT', 'USDT_TRY', 'MANTA_TRY'], ['AI_USDT', 'USDT_TRY', 'AI_TRY'], ['TIA_USDT', 'USDT_TRY', 'TIA_TRY'], ['AVAX_USDT', 'USDT_TRY', 'AVAX_TRY'], ['DENT_USDT', 'USDT_TRY', 'DENT_TRY'], ['LUNC_USDT', 'USDT_TRY', 'LUNC_TRY'], ['BONK_USDT', 'USDT_TRY', 'BONK_TRY'], ['PEPE_USDT', 'USDT_TRY', 'PEPE_TRY'], ['TRX_USDT', 'USDT_TRY', 'TRX_TRY'], ['WLD_USDT', 'USDT_TRY', 'WLD_TRY'], ['SOL_USDT', 'USDT_TRY', 'SOL_TRY'], ['ACE_USDT', 'USDT_TRY', 'ACE_TRY'], ['UMA_USDT', 'USDT_TRY', 'UMA_TRY'], ['REEF_USDT', 'USDT_TRY', 'REEF_TRY'], ['VET_USDT', 'USDT_TRY', 'VET_TRY'], ['MEME_USDT', 'USDT_TRY', 'MEME_TRY'], ['USTC_USDT', 'USDT_TRY', 'USTC_TRY'], ['AI_USDT', 'USDT_TRY', 'AI_TRY'], ['SEI_USDT', 'USDT_TRY', 'SEI_TRY'], ['RNDR_USDT', 'USDT_TRY', 'RNDR_TRY'], ['USTC_USDT', 'USDT_TRY', 'USTC_TRY'], ['SHIB_USDT', 'USDT_TRY', 'SHIB_TRY'], ['XAI_USDT', 'USDT_TRY', 'XAI_TRY'], ['DAR_USDT', 'USDT_TRY', 'DAR_TRY'], ['FLOKI_USDT', 'USDT_TRY', 'FLOKI_TRY'], ['BTT_USDT', 'USDT_TRY', 'BTT_TRY'], ['SOL_USDT', 'USDT_TRY', 'SOL_TRY'], ['ARPA_USDT', 'USDT_TRY', 'ARPA_TRY'], ['LEVER_USDT', 'USDT_TRY', 'LEVER_TRY'], ['ALT_USDT', 'USDT_TRY', 'ALT_TRY'], ['TIA_USDT', 'USDT_TRY', 'TIA_TRY'], ['FDUSD_USDT', 'USDT_TRY', 'FDUSD_TRY'], ['MBOX_USDT', 'USDT_TRY', 'MBOX_TRY'], ['PYTH_USDT', 'USDT_TRY', 'PYTH_TRY'], ['NTRN_USDT', 'USDT_TRY', 'NTRN_TRY'], ['LUNC_USDT', 'USDT_TRY', 'LUNC_TRY'], ['SUPER_USDT', 'USDT_TRY', 'SUPER_TRY'], ['ACA_USDT', 'USDT_TRY', 'ACA_TRY'], ['ETH_USDT', 'USDT_TRY', 'ETH_TRY'], ['SHIB_USDT', 'USDT_TRY', 'SHIB_TRY'], ['XRP_USDT', 'USDT_TRY', 'XRP_TRY'], ['LEVER_USDT', 'USDT_TRY', 'LEVER_TRY'], ['NFP_USDT', 'USDT_TRY', 'NFP_TRY'], ['XRP_USDT', 'USDT_TRY', 'XRP_TRY'], ['UMA_USDT', 'USDT_TRY', 'UMA_TRY'], ['BEAM_USDT', 'USDT_TRY', 'BEAM_TRY'], ['MEME_USDT', 'USDT_TRY', 'MEME_TRY'], ['MINA_USDT', 'USDT_TRY', 'MINA_TRY'], ['BNB_USDT', 'USDT_TRY', 'BNB_TRY'], ['APE_USDT', 'USDT_TRY', 'APE_TRY'], ['SEI_USDT', 'USDT_TRY', 'SEI_TRY'], ['DYM_USDT', 'USDT_TRY', 'DYM_TRY'], ['ID_USDT', 'USDT_TRY', 'ID_TRY'], ['CYBER_USDT', 'USDT_TRY', 'CYBER_TRY'], ['CHZ_USDT', 'USDT_TRY', 'CHZ_TRY'], ['DOGE_USDT', 'USDT_TRY', 'DOGE_TRY'], ['PYTH_USDT', 'USDT_TRY', 'PYTH_TRY'], ['XAI_USDT', 'USDT_TRY', 'XAI_TRY'], ['BTC_USDT', 'USDT_TRY', 'BTC_TRY'], ['BNB_USDT', 'USDT_TRY', 'BNB_TRY'], ['CYBER_USDT', 'USDT_TRY', 'CYBER_TRY'], ['STX_USDT', 'USDT_TRY', 'STX_TRY'], ['ACE_USDT', 'USDT_TRY', 'ACE_TRY'], ['TRB_USDT', 'USDT_TRY', 'TRB_TRY'], ['ARB_USDT', 'USDT_TRY', 'ARB_TRY'], ['JTO_USDT', 'USDT_TRY', 'JTO_TRY'], ['AVAX_USDT', 'USDT_TRY', 'AVAX_TRY'], ['API3_USDT', 'USDT_TRY', 'API3_TRY'], ['DOGE_USDT', 'USDT_TRY', 'DOGE_TRY'], ['TRB_USDT', 'USDT_TRY', 'TRB_TRY'], ['STORJ_USDT', 'USDT_TRY', 'STORJ_TRY'], ['FET_USDT', 'USDT_TRY', 'FET_TRY'], ['BTT_USDT', 'USDT_TRY', 'BTT_TRY'], ['SKL_USDT', 'USDT_TRY', 'SKL_TRY'], ['DYM_USDT', 'USDT_TRY', 'DYM_TRY'], ['PEPE_USDT', 'USDT_TRY', 'PEPE_TRY'], ['MAV_USDT', 'USDT_TRY', 'MAV_TRY'], ['STX_USDT', 'USDT_TRY', 'STX_TRY'], ['MANTA_USDT', 'USDT_TRY', 'MANTA_TRY'], ['ARB_USDT', 'USDT_TRY', 'ARB_TRY'], ['API3_USDT', 'USDT_TRY', 'API3_TRY'], ['JUP_USDT', 'USDT_TRY', 'JUP_TRY'], ['BONK_USDT', 'USDT_TRY', 'BONK_TRY'], ['APT_USDT', 'USDT_TRY', 'APT_TRY'], ['BEAM_USDT', 'USDT_TRY', 'BEAM_TRY'], ['TRX_USDT', 'USDT_TRY', 'TRX_TRY'], ['CHZ_USDT', 'USDT_TRY', 'CHZ_TRY'], ['WLD_USDT', 'USDT_TRY', 'WLD_TRY'], ['INJ_USDT', 'USDT_TRY', 'INJ_TRY'], ['SKL_USDT', 'USDT_TRY', 'SKL_TRY'], ['SANTOS_USDT', 'USDT_TRY', 'SANTOS_TRY'], ['NFP_USDT', 'USDT_TRY', 'NFP_TRY'], ['SUPER_USDT', 'USDT_TRY', 'SUPER_TRY'], ['JTO_USDT', 'USDT_TRY', 'JTO_TRY'], ['DAR_USDT', 'USDT_TRY', 'DAR_TRY'], ['STORJ_USDT', 'USDT_TRY', 'STORJ_TRY'], ['NTRN_USDT', 'USDT_TRY', 'NTRN_TRY'], ['APE_USDT', 'USDT_TRY', 'APE_TRY'], ['ACA_USDT', 'USDT_TRY', 'ACA_TRY'], ['SUI_USDT', 'USDT_TRY', 'SUI_TRY'], ['MINA_USDT', 'USDT_TRY', 'MINA_TRY'], ['ORDI_USDT', 'USDT_TRY', 'ORDI_TRY'], ['MAV_USDT', 'USDT_TRY', 'MAV_TRY'], ['FET_USDT', 'USDT_TRY', 'FET_TRY'], ['ARPA_USDT', 'USDT_TRY', 'ARPA_TRY'], ['ETH_USDT', 'USDT_TRY', 'ETH_TRY'], ['RNDR_USDT', 'USDT_TRY', 'RNDR_TRY'], ['SANTOS_USDT', 'USDT_TRY', 'SANTOS_TRY'], ['FDUSD_USDT', 'USDT_TRY', 'FDUSD_TRY'], ['DENT_USDT', 'USDT_TRY', 'DENT_TRY'], ['MANTA_USDT', 'USDT_TRY', 'MANTA_TRY'], ['MANTA_BTC', 'BTC_USDT', 'MANTA_USDT'], ['MANTA_FDUSD', 'FDUSD_USDT', 'MANTA_USDT'], ['MANTA_BTC', 'BTC_USDT', 'MANTA_USDT'], ['MANTA_FDUSD', 'FDUSD_USDT', 'MANTA_USDT'], ['ETH_BTC', 'BTC_BRL', 'ETH_BRL'], ['SOL_BTC', 'BTC_BRL', 'SOL_BRL'], ['BTC_USDT', 'USDT_BRL', 'BTC_BRL'], ['ETH_BTC', 'BTC_BRL', 'ETH_BRL'], ['SOL_BTC', 'BTC_BRL', 'SOL_BRL'], ['SOL_ETH', 'ETH_EUR', 'SOL_EUR'], ['BNB_ETH', 'ETH_EUR', 'BNB_EUR'], ['VET_ETH', 'ETH_EUR', 'VET_EUR'], ['ETH_BTC', 'BTC_EUR', 'ETH_EUR'], ['XRP_ETH', 'ETH_EUR', 'XRP_EUR'], ['VET_ETH', 'ETH_EUR', 'VET_EUR'], ['BNB_ETH', 'ETH_EUR', 'BNB_EUR'], ['ETH_EUR', 'EUR_USDT', 'ETH_USDT'], ['XRP_ETH', 'ETH_EUR', 'XRP_EUR'], ['SEI_BTC', 'BTC_FDUSD', 'SEI_FDUSD'], ['SEI_BTC', 'BTC_TRY', 'SEI_TRY'], ['SEI_BTC', 'BTC_USDT', 'SEI_USDT'], ['SEI_BTC', 'BTC_USDC', 'SEI_USDC'], ['ARB_USDC', 'USDC_USDT', 'ARB_USDT'], ['ARB_FDUSD', 'FDUSD_USDT', 'ARB_USDT'], ['ARB_BTC', 'BTC_USDT', 'ARB_USDT'], ['ARB_USDT', 'USDT_TRY', 'ARB_TRY'], ['ARB_USDC', 'USDC_USDT', 'ARB_USDT'], ['ARB_FDUSD', 'FDUSD_USDT', 'ARB_USDT'], ['LINK_ETH', 'ETH_BTC', 'LINK_BTC'], ['ETH_BTC', 'BTC_FDUSD', 'ETH_FDUSD'], ['ETH_BTC', 'BTC_TUSD', 'ETH_TUSD'], ['VET_ETH', 'ETH_BTC', 'VET_BTC'], ['SOL_ETH', 'ETH_BTC', 'SOL_BTC'], ['ETH_BTC', 'BTC_TRY', 'ETH_TRY'], ['ETH_BTC', 'BTC_BRL', 'ETH_BRL'], ['SOL_ETH', 'ETH_BTC', 'SOL_BTC'], ['ETH_BTC', 'BTC_USDC', 'ETH_USDC'], ['BNB_ETH', 'ETH_BTC', 'BNB_BTC'], ['VET_ETH', 'ETH_BTC', 'VET_BTC'], ['XRP_ETH', 'ETH_BTC', 'XRP_BTC'], ['BNB_ETH', 'ETH_BTC', 'BNB_BTC'], ['ETH_BTC', 'BTC_EUR', 'ETH_EUR'], ['ETH_BTC', 'BTC_USDT', 'ETH_USDT'], ['XRP_ETH', 'ETH_BTC', 'XRP_BTC'], ['LINK_ETH', 'ETH_USDT', 'LINK_USDT'], ['LINK_BTC', 'BTC_USDT', 'LINK_USDT'], ['LINK_FDUSD', 'FDUSD_USDT', 'LINK_USDT'], ['LINK_BTC', 'BTC_USDT', 'LINK_USDT'], ['LINK_ETH', 'ETH_USDT', 'LINK_USDT'], ['LINK_FDUSD', 'FDUSD_USDT', 'LINK_USDT'], ['API3_BTC', 'BTC_USDT', 'API3_USDT'], ['API3_USDT', 'USDT_TRY', 'API3_TRY'], ['JUP_USDT', 'USDT_TRY', 'JUP_TRY'], ['BONK_FDUSD', 'FDUSD_TRY', 'BONK_TRY'], ['BONK_USDT', 'USDT_TRY', 'BONK_TRY'], ['BONK_FDUSD', 'FDUSD_TRY', 'BONK_TRY'], ['BONK_USDT', 'USDT_TRY', 'BONK_TRY'], ['NTRN_BTC', 'BTC_USDT', 'NTRN_USDT'], ['NTRN_BTC', 'BTC_TRY', 'NTRN_TRY'], ['SOL_BNB', 'BNB_USDT', 'SOL_USDT'], ['SOL_BNB', 'BNB_TRY', 'SOL_TRY'], ['SOL_BNB', 'BNB_ETH', 'SOL_ETH'], ['SOL_BNB', 'BNB_EUR', 'SOL_EUR'], ['SOL_BNB', 'BNB_BTC', 'SOL_BTC'], ['SOL_BNB', 'BNB_FDUSD', 'SOL_FDUSD'], ['SOL_BNB', 'BNB_USDC', 'SOL_USDC'], ['SOL_BNB', 'BNB_TUSD', 'SOL_TUSD'], ['ALT_FDUSD', 'FDUSD_USDT', 'ALT_USDT'], ['ALT_FDUSD', 'FDUSD_TRY', 'ALT_TRY'], ['ALT_BTC', 'BTC_FDUSD', 'ALT_FDUSD'], ['APT_BTC', 'BTC_TRY', 'APT_TRY'], ['APT_USDT', 'USDT_TRY', 'APT_TRY'], ['APT_BTC', 'BTC_TRY', 'APT_TRY'], ['BEAM_USDT', 'USDT_TRY', 'BEAM_TRY'], ['WLD_BTC', 'BTC_FDUSD', 'WLD_FDUSD'], ['WLD_BTC', 'BTC_USDT', 'WLD_USDT'], ['WLD_BTC', 'BTC_TRY', 'WLD_TRY'], ['TRX_BTC', 'BTC_TRY', 'TRX_TRY'], ['TRX_USDT', 'USDT_TRY', 'TRX_TRY'], ['TRX_BTC', 'BTC_TRY', 'TRX_TRY'], ['TRX_USDT', 'USDT_TRY', 'TRX_TRY'], ['XRP_EUR', 'EUR_USDT', 'XRP_USDT'], ['XRP_BTC', 'BTC_EUR', 'XRP_EUR'], ['XRP_ETH', 'ETH_EUR', 'XRP_EUR'], ['CHZ_USDT', 'USDT_TRY', 'CHZ_TRY'], ['OP_BTC', 'BTC_USDC', 'OP_USDC'], ['OP_USDC', 'USDC_USDT', 'OP_USDT'], ['OP_BTC', 'BTC_USDC', 'OP_USDC'], ['ALT_BTC', 'BTC_USDT', 'ALT_USDT'], ['ALT_BTC', 'BTC_TRY', 'ALT_TRY'], ['ALT_BTC', 'BTC_FDUSD', 'ALT_FDUSD'], ['ATOM_BTC', 'BTC_USDT', 'ATOM_USDT'], ['INJ_BTC', 'BTC_USDT', 'INJ_USDT'], ['INJ_BTC', 'BTC_TRY', 'INJ_TRY'], ['INJ_BTC', 'BTC_USDC', 'INJ_USDC'], ['APT_BTC', 'BTC_USDT', 'APT_USDT'], ['APT_BTC', 'BTC_TRY', 'APT_TRY'], ['DYM_BTC', 'BTC_TRY', 'DYM_TRY'], ['DYM_BTC', 'BTC_USDT', 'DYM_USDT'], ['DYM_BTC', 'BTC_FDUSD', 'DYM_FDUSD'], ['WLD_FDUSD', 'FDUSD_TRY', 'WLD_TRY'], ['WLD_BTC', 'BTC_TRY', 'WLD_TRY'], ['WLD_USDT', 'USDT_TRY', 'WLD_TRY'], ['WLD_FDUSD', 'FDUSD_TRY', 'WLD_TRY'], ['WLD_USDT', 'USDT_TRY', 'WLD_TRY'], ['WLD_BTC', 'BTC_TRY', 'WLD_TRY'], ['INJ_BTC', 'BTC_TRY', 'INJ_TRY'], ['INJ_USDT', 'USDT_TRY', 'INJ_TRY'], ['INJ_BTC', 'BTC_TRY', 'INJ_TRY'], ['BTC_USDT', 'USDT_DAI', 'BTC_DAI'], ['SKL_USDT', 'USDT_TRY', 'SKL_TRY'], ['DATA_BTC', 'BTC_USDT', 'DATA_USDT'], ['SANTOS_USDT', 'USDT_TRY', 'SANTOS_TRY'], ['NFP_USDT', 'USDT_TRY', 'NFP_TRY'], ['SUPER_USDT', 'USDT_TRY', 'SUPER_TRY'], ['AUCTION_BTC', 'BTC_USDT', 'AUCTION_USDT'], ['MANTA_FDUSD', 'FDUSD_TRY', 'MANTA_TRY'], ['MANTA_BTC', 'BTC_FDUSD', 'MANTA_FDUSD'], ['MANTA_FDUSD', 'FDUSD_USDT', 'MANTA_USDT'], ['MANTA_BTC', 'BTC_FDUSD', 'MANTA_FDUSD'], ['ARB_BTC', 'BTC_USDC', 'ARB_USDC'], ['ARB_USDC', 'USDC_USDT', 'ARB_USDT'], ['PROM_BTC', 'BTC_USDT', 'PROM_USDT'], ['VET_EUR', 'EUR_USDT', 'VET_USDT'], ['VET_BTC', 'BTC_EUR', 'VET_EUR'], ['VET_ETH', 'ETH_EUR', 'VET_EUR'], ['VET_BTC', 'BTC_EUR', 'VET_EUR'], ['VET_ETH', 'ETH_EUR', 'VET_EUR'], ['VET_BNB', 'BNB_EUR', 'VET_EUR'], ['RNDR_BTC', 'BTC_USDT', 'RNDR_USDT'], ['RNDR_BTC', 'BTC_TRY', 'RNDR_TRY'], ['JTO_USDT', 'USDT_TRY', 'JTO_TRY'], ['DAR_USDT', 'USDT_TRY', 'DAR_TRY'], ['BNB_ETH', 'ETH_TUSD', 'BNB_TUSD'], ['BNB_BTC', 'BTC_TUSD', 'BNB_TUSD'], ['BNB_TUSD', 'TUSD_USDT', 'BNB_USDT'], ['BNB_ETH', 'ETH_TUSD', 'BNB_TUSD'], ['BNB_BTC', 'BTC_TUSD', 'BNB_TUSD'], ['SOL_BNB', 'BNB_TUSD', 'SOL_TUSD'], ['ADA_USDC', 'USDC_USDT', 'ADA_USDT'], ['ADA_BTC', 'BTC_USDC', 'ADA_USDC'], ['SOL_BNB', 'BNB_EUR', 'SOL_EUR'], ['BNB_EUR', 'EUR_USDT', 'BNB_USDT'], ['BNB_ETH', 'ETH_EUR', 'BNB_EUR'], ['BNB_BTC', 'BTC_EUR', 'BNB_EUR'], ['BNB_ETH', 'ETH_EUR', 'BNB_EUR'], ['SOL_BNB', 'BNB_EUR', 'SOL_EUR'], ['VET_BNB', 'BNB_EUR', 'VET_EUR'], ['STORJ_USDT', 'USDT_TRY', 'STORJ_TRY'], ['NTRN_BTC', 'BTC_TRY', 'NTRN_TRY'], ['NTRN_USDT', 'USDT_TRY', 'NTRN_TRY'], ['NTRN_BTC', 'BTC_TRY', 'NTRN_TRY'], ['MATIC_FDUSD', 'FDUSD_USDT', 'MATIC_USDT'], ['MATIC_BTC', 'BTC_FDUSD', 'MATIC_FDUSD'], ['XRP_BTC', 'BTC_USDC', 'XRP_USDC'], ['XRP_USDC', 'USDC_USDT', 'XRP_USDT'], ['XRP_ETH', 'ETH_USDC', 'XRP_USDC'], ['XRP_BTC', 'BTC_USDC', 'XRP_USDC'], ['XRP_ETH', 'ETH_USDC', 'XRP_USDC'], ['SOL_TUSD', 'TUSD_USDT', 'SOL_USDT'], ['SOL_ETH', 'ETH_TUSD', 'SOL_TUSD'], ['SOL_BTC', 'BTC_TUSD', 'SOL_TUSD'], ['SOL_ETH', 'ETH_TUSD', 'SOL_TUSD'], ['SOL_BTC', 'BTC_TUSD', 'SOL_TUSD'], ['SOL_BNB', 'BNB_TUSD', 'SOL_TUSD'], ['APE_USDT', 'USDT_TRY', 'APE_TRY'], ['ACA_USDT', 'USDT_TRY', 'ACA_TRY'], ['INJ_USDC', 'USDC_USDT', 'INJ_USDT'], ['INJ_BTC', 'BTC_USDC', 'INJ_USDC'], ['SUI_USDT', 'USDT_TRY', 'SUI_TRY'], ['SUI_BTC', 'BTC_TRY', 'SUI_TRY'], ['SUI_USDT', 'USDT_TRY', 'SUI_TRY'], ['MINA_USDT', 'USDT_TRY', 'MINA_TRY'], ['DYM_BTC', 'BTC_FDUSD', 'DYM_FDUSD'], ['DYM_FDUSD', 'FDUSD_TRY', 'DYM_TRY'], ['DYM_FDUSD', 'FDUSD_USDT', 'DYM_USDT'], ['DYM_BTC', 'BTC_FDUSD', 'DYM_FDUSD'], ['ADA_EUR', 'EUR_USDT', 'ADA_USDT'], ['ADA_BTC', 'BTC_EUR', 'ADA_EUR'], ['ORDI_BTC', 'BTC_TRY', 'ORDI_TRY'], ['ORDI_USDT', 'USDT_TRY', 'ORDI_TRY'], ['ORDI_BTC', 'BTC_TRY', 'ORDI_TRY'], ['ORDI_USDT', 'USDT_TRY', 'ORDI_TRY'], ['MANTA_BTC', 'BTC_TRY', 'MANTA_TRY'], ['MANTA_BTC', 'BTC_USDT', 'MANTA_USDT'], ['MANTA_BTC', 'BTC_FDUSD', 'MANTA_FDUSD'], ['MAV_USDT', 'USDT_TRY', 'MAV_TRY'], ['TIA_BTC', 'BTC_USDT', 'TIA_USDT'], ['TIA_BTC', 'BTC_TRY', 'TIA_TRY'], ['SOL_USDT', 'USDT_BRL', 'SOL_BRL'], ['SOL_ETH', 'ETH_BRL', 'SOL_BRL'], ['SOL_BTC', 'BTC_BRL', 'SOL_BRL'], ['SOL_USDT', 'USDT_BRL', 'SOL_BRL'], ['SOL_BTC', 'BTC_BRL', 'SOL_BRL'], ['VET_BNB', 'BNB_USDT', 'VET_USDT'], ['VET_BNB', 'BNB_BTC', 'VET_BTC'], ['VET_BNB', 'BNB_TRY', 'VET_TRY'], ['VET_BNB', 'BNB_ETH', 'VET_ETH'], ['VET_BNB', 'BNB_EUR', 'VET_EUR'], ['FET_USDT', 'USDT_TRY', 'FET_TRY'], ['ARPA_USDT', 'USDT_TRY', 'ARPA_TRY'], ['LINK_ETH', 'ETH_USDT', 'LINK_USDT'], ['VET_ETH', 'ETH_USDT', 'VET_USDT'], ['ETH_FDUSD', 'FDUSD_USDT', 'ETH_USDT'], ['SOL_ETH', 'ETH_USDT', 'SOL_USDT'], ['ETH_USDC', 'USDC_USDT', 'ETH_USDT'], ['ETH_TUSD', 'TUSD_USDT', 'ETH_USDT'], ['SOL_ETH', 'ETH_USDT', 'SOL_USDT'], ['ETH_USDT', 'USDT_TRY', 'ETH_TRY'], ['ETH_USDT', 'USDT_BRL', 'ETH_BRL'], ['XRP_ETH', 'ETH_USDT', 'XRP_USDT'], ['ETH_EUR', 'EUR_USDT', 'ETH_USDT'], ['ETH_TUSD', 'TUSD_USDT', 'ETH_USDT'], ['ETH_USDC', 'USDC_USDT', 'ETH_USDT'], ['BNB_ETH', 'ETH_USDT', 'BNB_USDT'], ['ETH_BTC', 'BTC_USDT', 'ETH_USDT'], ['VET_ETH', 'ETH_USDT', 'VET_USDT'], ['ETH_EUR', 'EUR_USDT', 'ETH_USDT'], ['ETH_BTC', 'BTC_USDT', 'ETH_USDT'], ['LINK_ETH', 'ETH_USDT', 'LINK_USDT'], ['XRP_ETH', 'ETH_USDT', 'XRP_USDT'], ['ETH_FDUSD', 'FDUSD_USDT', 'ETH_USDT'], ['RNDR_BTC', 'BTC_TRY', 'RNDR_TRY'], ['RNDR_USDT', 'USDT_TRY', 'RNDR_TRY'], ['RNDR_BTC', 'BTC_TRY', 'RNDR_TRY'], ['CHR_BTC', 'BTC_USDT', 'CHR_USDT'], ['MATIC_USDC', 'USDC_USDT', 'MATIC_USDT'], ['MATIC_BTC', 'BTC_USDC', 'MATIC_USDC'], ['XRP_ETH', 'ETH_FDUSD', 'XRP_FDUSD'], ['XRP_ETH', 'ETH_TRY', 'XRP_TRY'], ['XRP_ETH', 'ETH_USDT', 'XRP_USDT'], ['XRP_ETH', 'ETH_BTC', 'XRP_BTC'], ['XRP_ETH', 'ETH_EUR', 'XRP_EUR'], ['XRP_ETH', 'ETH_USDC', 'XRP_USDC'], ['SANTOS_USDT', 'USDT_TRY', 'SANTOS_TRY'], ['AI_FDUSD', 'FDUSD_USDT', 'AI_USDT'], ['AI_FDUSD', 'FDUSD_TRY', 'AI_TRY'], ['SEI_BTC', 'BTC_USDC', 'SEI_USDC'], ['SEI_USDC', 'USDC_USDT', 'SEI_USDT'], ['SEI_BTC', 'BTC_USDC', 'SEI_USDC'], ['NEAR_BTC', 'BTC_USDT', 'NEAR_USDT'], ['BONK_FDUSD', 'FDUSD_USDT', 'BONK_USDT'], ['WLD_FDUSD', 'FDUSD_USDT', 'WLD_USDT'], ['BCH_FDUSD', 'FDUSD_USDT', 'BCH_USDT'], ['ADA_FDUSD', 'FDUSD_USDT', 'ADA_USDT'], ['ALT_FDUSD', 'FDUSD_USDT', 'ALT_USDT'], ['ETH_FDUSD', 'FDUSD_USDT', 'ETH_USDT'], ['DOGE_FDUSD', 'FDUSD_USDT', 'DOGE_USDT'], ['BNB_FDUSD', 'FDUSD_USDT', 'BNB_USDT'], ['SEI_FDUSD', 'FDUSD_USDT', 'SEI_USDT'], ['AI_FDUSD', 'FDUSD_USDT', 'AI_USDT'], ['MATIC_FDUSD', 'FDUSD_USDT', 'MATIC_USDT'], ['LINK_FDUSD', 'FDUSD_USDT', 'LINK_USDT'], ['AVAX_FDUSD', 'FDUSD_USDT', 'AVAX_USDT'], ['BCH_FDUSD', 'FDUSD_USDT', 'BCH_USDT'], ['BONK_FDUSD', 'FDUSD_USDT', 'BONK_USDT'], ['WLD_FDUSD', 'FDUSD_USDT', 'WLD_USDT'], ['SOL_FDUSD', 'FDUSD_USDT', 'SOL_USDT'], ['USTC_FDUSD', 'FDUSD_USDT', 'USTC_USDT'], ['XAI_FDUSD', 'FDUSD_USDT', 'XAI_USDT'], ['BTC_FDUSD', 'FDUSD_USDT', 'BTC_USDT'], ['FDUSD_USDT', 'USDT_TRY', 'FDUSD_TRY'], ['XRP_FDUSD', 'FDUSD_USDT', 'XRP_USDT'], ['BNB_FDUSD', 'FDUSD_USDT', 'BNB_USDT'], ['SEI_FDUSD', 'FDUSD_USDT', 'SEI_USDT'], ['SOL_FDUSD', 'FDUSD_USDT', 'SOL_USDT'], ['ARB_FDUSD', 'FDUSD_USDT', 'ARB_USDT'], ['BTC_FDUSD', 'FDUSD_USDT', 'BTC_USDT'], ['ADA_FDUSD', 'FDUSD_USDT', 'ADA_USDT'], ['AVAX_FDUSD', 'FDUSD_USDT', 'AVAX_USDT'], ['DOGE_FDUSD', 'FDUSD_USDT', 'DOGE_USDT'], ['DYM_FDUSD', 'FDUSD_USDT', 'DYM_USDT'], ['MANTA_FDUSD', 'FDUSD_USDT', 'MANTA_USDT'], ['ARB_FDUSD', 'FDUSD_USDT', 'ARB_USDT'], ['LINK_FDUSD', 'FDUSD_USDT', 'LINK_USDT'], ['ALT_FDUSD', 'FDUSD_USDT', 'ALT_USDT'], ['MANTA_FDUSD', 'FDUSD_USDT', 'MANTA_USDT'], ['MATIC_FDUSD', 'FDUSD_USDT', 'MATIC_USDT'], ['DYM_FDUSD', 'FDUSD_USDT', 'DYM_USDT'], ['ETH_FDUSD', 'FDUSD_USDT', 'ETH_USDT'], ['AI_FDUSD', 'FDUSD_USDT', 'AI_USDT'], ['USTC_FDUSD', 'FDUSD_USDT', 'USTC_USDT'], ['XAI_FDUSD', 'FDUSD_USDT', 'XAI_USDT'], ['USTC_FDUSD', 'FDUSD_TRY', 'USTC_TRY'], ['USTC_FDUSD', 'FDUSD_USDT', 'USTC_USDT'], ['XAI_FDUSD', 'FDUSD_USDT', 'XAI_USDT'], ['XAI_FDUSD', 'FDUSD_TRY', 'XAI_TRY'], ['DENT_USDT', 'USDT_TRY', 'DENT_TRY']]\n"
          ]
        }
      ]
    },
    {
      "cell_type": "code",
      "source": [
        "def getTriangularArbitrageList(pair):\n",
        "\n",
        "\n",
        "  # Structure Orderbook\n",
        "  ask_prices = []\n",
        "  ask_sizes = []\n",
        "\n",
        "  bid_prices = []\n",
        "  bid_sizes = []\n",
        "\n",
        "  counts = 0\n",
        "\n",
        "  ticker = pair\n",
        "  limit = 20\n",
        "  ob = requests.get(f\"https://api.poloniex.com/markets/{ticker}/orderBook?limit={limit}\")\n",
        "  if ob.status_code == 200:\n",
        "    ob_json = json.loads(ob.text)\n",
        "    for a in ob_json[\"asks\"]:\n",
        "      if counts% 2 == 0:\n",
        "        ask_prices.append(a)\n",
        "      else:\n",
        "        ask_sizes.append(a)\n",
        "      counts += 1\n",
        "\n",
        "    for a in ob_json[\"bids\"]:\n",
        "      if counts% 2 == 0:\n",
        "        bid_prices.append(a)\n",
        "      else:\n",
        "        bid_sizes.append(a)\n",
        "      counts += 1\n",
        "\n",
        "    return {\"time\": pd.to_datetime(ob_json[\"time\"], utc=True, unit='ms').strftime('%Y-%m-%d %H:%M:%S.%f')[:-3],  #Here we convert it to string type to save it as JSON file\n",
        "            \"lowestAsk\":  ask_prices[np.argmin(ask_prices)],\n",
        "            \"lowestAskSize\":  ask_sizes[np.argmin(ask_prices)],\n",
        "            \"highestBid\":  bid_prices[np.argmax(bid_prices)],\n",
        "            \"highestBidSize\":  bid_sizes[np.argmax(bid_prices)]\n",
        "            }\n"
      ],
      "metadata": {
        "id": "50ijIIGbRAS7"
      },
      "execution_count": 4,
      "outputs": []
    },
    {
      "cell_type": "code",
      "source": [
        "# Here we add ask and bid prices to an arbitrage dictionary\n",
        "arbitrageDict = {}\n",
        "\n",
        "for triangle in structured_pairs:\n",
        "  triangleDict = {}\n",
        "  triangleName = triangle[0] + \"-\" +  triangle[1] + \"-\" +  triangle[2]\n",
        "  for pair in triangle:\n",
        "    # In case of missing data we pass it\n",
        "    try:\n",
        "      pair_data = getTriangularArbitrageList(pair)\n",
        "    except:\n",
        "      pass\n",
        "    triangleDict.update({pair: pair_data})\n",
        "  print(triangleDict)\n",
        "  # Here we add the data to arbitrage dictionary\n",
        "  arbitrageDict.update({triangleName: triangleDict})\n"
      ],
      "metadata": {
        "colab": {
          "base_uri": "https://localhost:8080/"
        },
        "id": "U3YNbXb5pI8G",
        "outputId": "0f4bc5b6-0bbd-41a7-f196-c16c2ef064f8"
      },
      "execution_count": null,
      "outputs": [
        {
          "output_type": "stream",
          "name": "stdout",
          "text": [
            "{'ID_USDT': {'time': '2024-03-11 05:28:32.770', 'lowestAsk': '1.2768', 'lowestAskSize': '830.3898', 'highestBid': '1.074', 'highestBidSize': '837.9887'}, 'USDT_TRY': None, 'ID_TRY': None}\n",
            "{'BONK_FDUSD': None, 'FDUSD_USDT': None, 'BONK_USDT': {'time': '2024-03-11 05:28:37.045', 'lowestAsk': '0.00003063', 'lowestAskSize': '233041', 'highestBid': '0.000029667', 'highestBidSize': '5388722'}}\n",
            "{'BONK_FDUSD': None, 'FDUSD_TRY': None, 'BONK_TRY': None}\n",
            "{'DOT_BTC': {'time': '2024-03-11 05:28:37.931', 'lowestAsk': '0.000151', 'lowestAskSize': '19.1', 'highestBid': '0.0001506', 'highestBidSize': '230.7'}, 'BTC_USDC': {'time': '2024-03-11 05:28:40.086', 'lowestAsk': '68744.86', 'lowestAskSize': '0.038562', 'highestBid': '67965.27', 'highestBidSize': '0.00072'}, 'DOT_USDC': None}\n",
            "{'DOT_USDC': None, 'USDC_USDT': None, 'DOT_USDT': {'time': '2024-03-11 05:28:40.906', 'lowestAsk': '10.367', 'lowestAskSize': '649.55206', 'highestBid': '10.357', 'highestBidSize': '373.75551'}}\n",
            "{'DOT_BTC': {'time': '2024-03-11 05:28:41.687', 'lowestAsk': '0.000151', 'lowestAskSize': '220.1', 'highestBid': '0.0001506', 'highestBidSize': '230.7'}, 'BTC_USDC': {'time': '2024-03-11 05:28:42.562', 'lowestAsk': '68744.58', 'lowestAskSize': '0.038562', 'highestBid': '67965.47', 'highestBidSize': '0.000623'}, 'DOT_USDC': None}\n",
            "{'OP_BTC': None, 'BTC_USDT': {'time': '2024-03-11 05:28:43.946', 'lowestAsk': '68631.84', 'lowestAskSize': '0.075152', 'highestBid': '68631.83', 'highestBidSize': '0.107907'}, 'OP_USDT': {'time': '2024-03-11 05:28:43.960', 'lowestAsk': '4.5659', 'lowestAskSize': '39.86', 'highestBid': '4.5487', 'highestBidSize': '8.8121'}}\n",
            "{'OP_BTC': {'time': '2024-03-11 05:28:43.960', 'lowestAsk': '4.5659', 'lowestAskSize': '39.86', 'highestBid': '4.5487', 'highestBidSize': '8.8121'}, 'BTC_USDC': {'time': '2024-03-11 05:28:45.100', 'lowestAsk': '68744.24', 'lowestAskSize': '0.048562', 'highestBid': '67965.76', 'highestBidSize': '0.001942'}, 'OP_USDC': None}\n",
            "{'ACE_BTC': None, 'BTC_USDT': {'time': '2024-03-11 05:28:45.716', 'lowestAsk': '68631.84', 'lowestAskSize': '0.075152', 'highestBid': '68631.83', 'highestBidSize': '0.107612'}, 'ACE_USDT': {'time': '2024-03-11 05:28:45.716', 'lowestAsk': '68631.84', 'lowestAskSize': '0.075152', 'highestBid': '68631.83', 'highestBidSize': '0.107612'}}\n",
            "{'ACE_BTC': None, 'BTC_TRY': None, 'ACE_TRY': None}\n"
          ]
        }
      ]
    },
    {
      "cell_type": "code",
      "source": [
        "# Here we save it to JSON File\n",
        "with open(\"triangular_pairs_bid_ask_prices.json\", \"w\") as fp:\n",
        "  json.dump(arbitrageDict, fp)"
      ],
      "metadata": {
        "id": "b3VYL5re9EKv"
      },
      "execution_count": null,
      "outputs": []
    },
    {
      "cell_type": "code",
      "source": [
        "# Get Triangular Pairs Price Data\n",
        "with open(\"triangular_pairs_bid_ask_prices.json\") as json_file:\n",
        "  arbitrageDict = json.load(json_file)\n",
        "\n",
        "# Get Latest Surface Prices\n",
        "print(arbitrageDict)"
      ],
      "metadata": {
        "id": "VM9MtZF89Psb",
        "colab": {
          "base_uri": "https://localhost:8080/"
        },
        "outputId": "cfa11657-a2c0-4a22-d6bb-9e050257d1ca"
      },
      "execution_count": 7,
      "outputs": [
        {
          "output_type": "stream",
          "name": "stdout",
          "text": [
            "{'ID_USDT-USDT_TRY-ID_TRY': {'ID_USDT': {'time': '2024-03-08 09:50:32.330', 'lowestAsk': '0.7671', 'lowestAskSize': '822.2259', 'highestBid': '0.7071', 'highestBidSize': '41.91'}, 'USDT_TRY': None, 'ID_TRY': None}, 'BONK_FDUSD-FDUSD_USDT-BONK_USDT': {'BONK_FDUSD': None, 'FDUSD_USDT': None, 'BONK_USDT': {'time': '2024-03-08 09:57:41.891', 'lowestAsk': '0.000031348', 'lowestAskSize': '64364', 'highestBid': '0.000030231', 'highestBidSize': '496179'}}, 'BONK_FDUSD-FDUSD_TRY-BONK_TRY': {'BONK_FDUSD': None, 'FDUSD_TRY': None, 'BONK_TRY': None}, 'DOT_BTC-BTC_USDC-DOT_USDC': {'DOT_BTC': {'time': '2024-03-08 09:44:18.500', 'lowestAsk': '0.0001544', 'lowestAskSize': '133.2', 'highestBid': '0.0001535', 'highestBidSize': '354.6'}, 'BTC_USDC': {'time': '2024-03-08 09:44:25.079', 'lowestAsk': '67788.02', 'lowestAskSize': '0.000421', 'highestBid': '67236.57', 'highestBidSize': '0.06741'}, 'DOT_USDC': None}, 'DOT_USDC-USDC_USDT-DOT_USDT': {'DOT_USDC': None, 'USDC_USDT': None, 'DOT_USDT': {'time': '2024-03-08 09:37:28.043', 'lowestAsk': '10.343', 'lowestAskSize': '480.00427', 'highestBid': '10.328', 'highestBidSize': '193.20236'}}, 'OP_BTC-BTC_USDT-OP_USDT': {'OP_BTC': None, 'BTC_USDT': {'time': '2024-03-08 09:45:21.404', 'lowestAsk': '67195.28', 'lowestAskSize': '0.105227', 'highestBid': '67135.03', 'highestBidSize': '0.044211'}, 'OP_USDT': {'time': '2024-03-08 09:45:22.338', 'lowestAsk': '4.6295', 'lowestAskSize': '167.1127', 'highestBid': '4.6167', 'highestBidSize': '22.22'}}, 'OP_BTC-BTC_USDC-OP_USDC': {'OP_BTC': None, 'BTC_USDC': {'time': '2024-03-08 09:53:44.592', 'lowestAsk': '67793.39', 'lowestAskSize': '0.010000', 'highestBid': '67290.54', 'highestBidSize': '0.08'}, 'OP_USDC': None}, 'ACE_BTC-BTC_USDT-ACE_USDT': {'ACE_BTC': None, 'BTC_USDT': {'time': '2024-03-08 09:45:35.947', 'lowestAsk': '67196.43', 'lowestAskSize': '0.105228', 'highestBid': '67153.99', 'highestBidSize': '0.14'}, 'ACE_USDT': {'time': '2024-03-08 09:44:04.087', 'lowestAsk': '12.93', 'lowestAskSize': '0.152688', 'highestBid': '9', 'highestBidSize': '8.841957'}}, 'ACE_BTC-BTC_TRY-ACE_TRY': {'ACE_BTC': None, 'BTC_TRY': None, 'ACE_TRY': None}, 'IMX_BTC-BTC_USDT-IMX_USDT': {'IMX_BTC': None, 'BTC_USDT': {'time': '2024-03-08 09:45:51.520', 'lowestAsk': '67207.54', 'lowestAskSize': '0.098454', 'highestBid': '67188.13', 'highestBidSize': '0.050867'}, 'IMX_USDT': {'time': '2024-03-08 09:45:50.946', 'lowestAsk': '3.4155', 'lowestAskSize': '128.0389', 'highestBid': '3.4042', 'highestBidSize': '128.0389'}}, 'REEF_USDT-USDT_TRY-REEF_TRY': {'REEF_USDT': {'time': '2024-03-08 08:31:04.077', 'lowestAsk': '0.003353', 'lowestAskSize': '4252.92', 'highestBid': '0.00255', 'highestBidSize': '9810.08'}, 'USDT_TRY': None, 'REEF_TRY': None}, 'LINK_ETH-ETH_BTC-LINK_BTC': {'LINK_ETH': None, 'ETH_BTC': {'time': '2024-03-08 09:52:25.006', 'lowestAsk': '0.05861', 'lowestAskSize': '0.176', 'highestBid': '0.05855', 'highestBidSize': '2.125'}, 'LINK_BTC': {'time': '2024-03-08 09:52:26.148', 'lowestAsk': '0.0003019', 'lowestAskSize': '17.1', 'highestBid': '0.0002948', 'highestBidSize': '12.3'}}, 'LINK_ETH-ETH_FDUSD-LINK_FDUSD': {'LINK_ETH': None, 'ETH_FDUSD': None, 'LINK_FDUSD': None}, 'LINK_ETH-ETH_USDT-LINK_USDT': {'LINK_ETH': None, 'ETH_USDT': {'time': '2024-03-08 09:56:54.697', 'lowestAsk': '3939.42', 'lowestAskSize': '6.407414', 'highestBid': '3938.26', 'highestBidSize': '0.588064'}, 'LINK_USDT': {'time': '2024-03-08 09:56:54.242', 'lowestAsk': '19.889', 'lowestAskSize': '837.4192', 'highestBid': '19.8492', 'highestBidSize': '35.35999'}}, 'FLOKI_USDT-USDT_TRY-FLOKI_TRY': {'FLOKI_USDT': {'time': '2024-03-08 09:49:54.722', 'lowestAsk': '0.00018496', 'lowestAskSize': '3926091', 'highestBid': '0.0001832', 'highestBidSize': '16376'}, 'USDT_TRY': None, 'FLOKI_TRY': None}, 'MBOX_USDT-USDT_TRY-MBOX_TRY': {'MBOX_USDT': {'time': '2024-03-08 08:19:48.873', 'lowestAsk': '0.5929', 'lowestAskSize': '88.4644', 'highestBid': '0.3874', 'highestBidSize': '3.872'}, 'USDT_TRY': None, 'MBOX_TRY': None}, 'WLD_FDUSD-FDUSD_USDT-WLD_USDT': {'WLD_FDUSD': None, 'FDUSD_USDT': None, 'WLD_USDT': {'time': '2024-03-08 09:57:42.934', 'lowestAsk': '7.395', 'lowestAskSize': '205.60974', 'highestBid': '7.375', 'highestBidSize': '120.4'}}, 'WLD_BTC-BTC_FDUSD-WLD_FDUSD': {'WLD_BTC': None, 'BTC_FDUSD': None, 'WLD_FDUSD': None}, 'WLD_FDUSD-FDUSD_TRY-WLD_TRY': {'WLD_FDUSD': None, 'FDUSD_TRY': None, 'WLD_TRY': None}, 'BNB_BTC-BTC_USDC-BNB_USDC': {'BNB_BTC': None, 'BTC_USDC': {'time': '2024-03-08 09:48:48.480', 'lowestAsk': '67791.64', 'lowestAskSize': '0.000946', 'highestBid': '67264.26', 'highestBidSize': '0.066211'}, 'BNB_USDC': {'time': '2024-03-08 09:48:49.146', 'lowestAsk': '479.4', 'lowestAskSize': '0.208965', 'highestBid': '455.19', 'highestBidSize': '0.107647'}}, 'BNB_ETH-ETH_USDC-BNB_USDC': {'BNB_ETH': None, 'ETH_USDC': {'time': '2024-03-08 09:44:24.836', 'lowestAsk': '3972.31', 'lowestAskSize': '0.03009', 'highestBid': '3951.81', 'highestBidSize': '0.236025'}, 'BNB_USDC': {'time': '2024-03-08 09:44:27.113', 'lowestAsk': '481.02', 'lowestAskSize': '0.208965', 'highestBid': '454.87', 'highestBidSize': '0.107723'}}, 'BNB_USDC-USDC_USDT-BNB_USDT': {'BNB_USDC': {'time': '2024-03-08 09:43:27.102', 'lowestAsk': '481.4', 'lowestAskSize': '0.208965', 'highestBid': '454.76', 'highestBidSize': '0.107749'}, 'USDC_USDT': None, 'BNB_USDT': {'time': '2024-03-08 09:43:27.218', 'lowestAsk': '471.83', 'lowestAskSize': '6.426427', 'highestBid': '470.73', 'highestBidSize': '3.840644'}}, 'SOL_BNB-BNB_USDC-SOL_USDC': {'SOL_BNB': None, 'BNB_USDC': {'time': '2024-03-08 09:53:17.165', 'lowestAsk': '477.64', 'lowestAskSize': '0.208965', 'highestBid': '455.51', 'highestBidSize': '0.107571'}, 'SOL_USDC': {'time': '2024-03-08 09:53:17.191', 'lowestAsk': '146.89', 'lowestAskSize': '0.187214', 'highestBid': '97', 'highestBidSize': '0.068152'}}, 'FTM_BTC-BTC_USDT-FTM_USDT': {'FTM_BTC': {'time': '2024-03-08 09:44:30.758', 'lowestAsk': '0.00001222', 'lowestAskSize': '410', 'highestBid': '0.00001198', 'highestBidSize': '14'}, 'BTC_USDT': {'time': '2024-03-08 09:46:12.043', 'lowestAsk': '67187.88', 'lowestAskSize': '0.098542', 'highestBid': '67162.22', 'highestBidSize': '0.050903'}, 'FTM_USDT': {'time': '2024-03-08 09:45:56.625', 'lowestAsk': '0.9001', 'lowestAskSize': '783.2081', 'highestBid': '0.8024', 'highestBidSize': '1.8694'}}, 'BCH_FDUSD-FDUSD_USDT-BCH_USDT': {'BCH_FDUSD': None, 'FDUSD_USDT': None, 'BCH_USDT': {'time': '2024-03-08 09:57:39.572', 'lowestAsk': '441.37', 'lowestAskSize': '6', 'highestBid': '440.38', 'highestBidSize': '0.004543'}}, 'BCH_BTC-BTC_FDUSD-BCH_FDUSD': {'BCH_BTC': {'time': '2024-03-08 09:40:32.200', 'lowestAsk': '0.006553', 'lowestAskSize': '1.25', 'highestBid': '0.006468', 'highestBidSize': '3.81'}, 'BTC_FDUSD': None, 'BCH_FDUSD': None}, 'GAS_BTC-BTC_USDT-GAS_USDT': {'GAS_BTC': {'time': '2024-03-08 09:30:06.908', 'lowestAsk': '0.0001085', 'lowestAskSize': '0.5', 'highestBid': '0.0001055', 'highestBidSize': '0.1'}, 'BTC_USDT': {'time': '2024-03-08 09:46:11.091', 'lowestAsk': '67187.7', 'lowestAskSize': '0.14', 'highestBid': '67162.2', 'highestBidSize': '0.050904'}, 'GAS_USDT': {'time': '2024-03-08 09:21:00.947', 'lowestAsk': '10', 'lowestAskSize': '3.12819', 'highestBid': '6.904', 'highestBidSize': '0.21724'}}, 'SUI_BTC-BTC_USDT-SUI_USDT': {'SUI_BTC': None, 'BTC_USDT': {'time': '2024-03-08 09:45:58.527', 'lowestAsk': '67203.29', 'lowestAskSize': '0.000624', 'highestBid': '67138.81', 'highestBidSize': '0.050898'}, 'SUI_USDT': {'time': '2024-03-08 09:45:57.561', 'lowestAsk': '1.5715', 'lowestAskSize': '463.0386', 'highestBid': '1.5705', 'highestBidSize': '23.8045'}}, 'SUI_USDT-USDT_TRY-SUI_TRY': {'SUI_USDT': {'time': '2024-03-08 09:55:45.263', 'lowestAsk': '1.5705', 'lowestAskSize': '481.1592', 'highestBid': '1.5704', 'highestBidSize': '1915.5857'}, 'USDT_TRY': None, 'SUI_TRY': None}, 'ADA_USDC-USDC_USDT-ADA_USDT': {'ADA_USDC': {'time': '2024-03-08 09:54:40.609', 'lowestAsk': '0.757', 'lowestAskSize': '222', 'highestBid': '0.7108', 'highestBidSize': '68.9364'}, 'USDC_USDT': None, 'ADA_USDT': {'time': '2024-03-08 09:55:03.975', 'lowestAsk': '0.736', 'lowestAskSize': '204.6511', 'highestBid': '0.73447', 'highestBidSize': '2231.6629'}}, 'ADA_BTC-BTC_USDT-ADA_USDT': {'ADA_BTC': {'time': '2024-03-08 09:45:18.249', 'lowestAsk': '0.00001095', 'lowestAskSize': '618', 'highestBid': '0.0000109', 'highestBidSize': '2328'}, 'BTC_USDT': {'time': '2024-03-08 09:45:43.082', 'lowestAsk': '67197.78', 'lowestAskSize': '0.098454', 'highestBid': '67154.21', 'highestBidSize': '0.14'}, 'ADA_USDT': {'time': '2024-03-08 09:45:43.484', 'lowestAsk': '0.73595', 'lowestAskSize': '204.6529', 'highestBid': '0.73442', 'highestBidSize': '2227.5541'}}, 'ADA_EUR-EUR_USDT-ADA_USDT': {'ADA_EUR': None, 'EUR_USDT': None, 'ADA_USDT': {'time': '2024-03-08 09:55:54.254', 'lowestAsk': '0.73595', 'lowestAskSize': '204.6529', 'highestBid': '0.73487', 'highestBidSize': '2230.4515'}}, 'ADA_FDUSD-FDUSD_USDT-ADA_USDT': {'ADA_FDUSD': None, 'FDUSD_USDT': None, 'ADA_USDT': {'time': '2024-03-08 09:57:58.208', 'lowestAsk': '0.73586', 'lowestAskSize': '955.7461', 'highestBid': '0.73362', 'highestBidSize': '2195.2168'}}, 'JUP_USDT-USDT_TRY-JUP_TRY': {'JUP_USDT': {'time': '2024-03-08 09:51:05.386', 'lowestAsk': '0.6838', 'lowestAskSize': '2.1028', 'highestBid': '0.6605', 'highestBidSize': '209.2961'}, 'USDT_TRY': None, 'JUP_TRY': None}, 'ALT_USDT-USDT_TRY-ALT_TRY': {'ALT_USDT': {'time': '2024-03-08 09:49:25.419', 'lowestAsk': '0.55', 'lowestAskSize': '18.182', 'highestBid': '0.46', 'highestBidSize': '64.486'}, 'USDT_TRY': None, 'ALT_TRY': None}, 'ALT_BTC-BTC_USDT-ALT_USDT': {'ALT_BTC': None, 'BTC_USDT': {'time': '2024-03-08 09:53:45.843', 'lowestAsk': '67251.39', 'lowestAskSize': '0.114065', 'highestBid': '67233.05', 'highestBidSize': '0.039437'}, 'ALT_USDT': {'time': '2024-03-08 09:53:34.647', 'lowestAsk': '0.55', 'lowestAskSize': '18.182', 'highestBid': '0.46', 'highestBidSize': '77.186'}}, 'ALT_FDUSD-FDUSD_USDT-ALT_USDT': {'ALT_FDUSD': None, 'FDUSD_USDT': None, 'ALT_USDT': {'time': '2024-03-08 09:57:05.372', 'lowestAsk': '0.55', 'lowestAskSize': '18.182', 'highestBid': '0.46', 'highestBidSize': '98.081'}}, 'STX_BTC-BTC_TRY-STX_TRY': {'STX_BTC': None, 'BTC_TRY': None, 'STX_TRY': None}, 'MANTA_BTC-BTC_TRY-MANTA_TRY': {'MANTA_BTC': None, 'BTC_TRY': None, 'MANTA_TRY': None}, 'AVAX_BTC-BTC_TRY-AVAX_TRY': {'AVAX_BTC': {'time': '2024-03-08 09:46:08.186', 'lowestAsk': '0.000654', 'lowestAskSize': '3.17', 'highestBid': '0.000636', 'highestBidSize': '2.98'}, 'BTC_TRY': None, 'AVAX_TRY': None}, 'VET_BTC-BTC_TRY-VET_TRY': {'VET_BTC': None, 'BTC_TRY': None, 'VET_TRY': None}, 'SEI_BTC-BTC_TRY-SEI_TRY': {'SEI_BTC': None, 'BTC_TRY': None, 'SEI_TRY': None}, 'SOL_BTC-BTC_TRY-SOL_TRY': {'SOL_BTC': {'time': '2024-03-08 09:42:35.125', 'lowestAsk': '0.002174', 'lowestAskSize': '3.79', 'highestBid': '0.002167', 'highestBidSize': '15.59'}, 'BTC_TRY': None, 'SOL_TRY': None}, 'ALT_BTC-BTC_TRY-ALT_TRY': {'ALT_BTC': None, 'BTC_TRY': None, 'ALT_TRY': None}, 'TIA_BTC-BTC_TRY-TIA_TRY': {'TIA_BTC': None, 'BTC_TRY': None, 'TIA_TRY': None}, 'BTC_FDUSD-FDUSD_TRY-BTC_TRY': {'BTC_FDUSD': None, 'FDUSD_TRY': None, 'BTC_TRY': None}, 'DOGE_BTC-BTC_TRY-DOGE_TRY': {'DOGE_BTC': {'time': '2024-03-08 09:44:20.459', 'lowestAsk': '0.000002454', 'lowestAskSize': '4239', 'highestBid': '0.000002423', 'highestBidSize': '18956'}, 'BTC_TRY': None, 'DOGE_TRY': None}, 'ORDI_BTC-BTC_TRY-ORDI_TRY': {'ORDI_BTC': None, 'BTC_TRY': None, 'ORDI_TRY': None}, 'ETH_BTC-BTC_TRY-ETH_TRY': {'ETH_BTC': {'time': '2024-03-08 09:52:29.040', 'lowestAsk': '0.05862', 'lowestAskSize': '0.176', 'highestBid': '0.05854', 'highestBidSize': '0.071'}, 'BTC_TRY': None, 'ETH_TRY': None}, 'SUI_BTC-BTC_TRY-SUI_TRY': {'SUI_BTC': None, 'BTC_TRY': None, 'SUI_TRY': None}, 'XRP_BTC-BTC_TRY-XRP_TRY': {'XRP_BTC': {'time': '2024-03-08 09:48:11.226', 'lowestAsk': '0.00000937', 'lowestAskSize': '1328', 'highestBid': '0.00000935', 'highestBidSize': '10680'}, 'BTC_TRY': None, 'XRP_TRY': None}, 'TRX_BTC-BTC_TRY-TRX_TRY': {'TRX_BTC': {'time': '2024-03-08 09:53:33.615', 'lowestAsk': '0.000002048', 'lowestAskSize': '2994', 'highestBid': '0.000002045', 'highestBidSize': '73'}, 'BTC_TRY': None, 'TRX_TRY': None}, 'DYM_BTC-BTC_TRY-DYM_TRY': {'DYM_BTC': None, 'BTC_TRY': None, 'DYM_TRY': None}, 'BTC_USDT-USDT_TRY-BTC_TRY': {'BTC_USDT': {'time': '2024-03-08 09:50:41.026', 'lowestAsk': '67184.29', 'lowestAskSize': '0.123446', 'highestBid': '67160.61', 'highestBidSize': '0.033074'}, 'USDT_TRY': None, 'BTC_TRY': None}, 'BNB_BTC-BTC_TRY-BNB_TRY': {'BNB_BTC': None, 'BTC_TRY': None, 'BNB_TRY': None}, 'API3_BTC-BTC_TRY-API3_TRY': {'API3_BTC': None, 'BTC_TRY': None, 'API3_TRY': None}, 'ARB_BTC-BTC_TRY-ARB_TRY': {'ARB_BTC': None, 'BTC_TRY': None, 'ARB_TRY': None}, 'NTRN_BTC-BTC_TRY-NTRN_TRY': {'NTRN_BTC': None, 'BTC_TRY': None, 'NTRN_TRY': None}, 'APT_BTC-BTC_TRY-APT_TRY': {'APT_BTC': None, 'BTC_TRY': None, 'APT_TRY': None}, 'WLD_BTC-BTC_TRY-WLD_TRY': {'WLD_BTC': None, 'BTC_TRY': None, 'WLD_TRY': None}, 'INJ_BTC-BTC_TRY-INJ_TRY': {'INJ_BTC': {'time': '2024-03-08 09:24:26.652', 'lowestAsk': '0.00068454', 'lowestAskSize': '4', 'highestBid': '0.00040409', 'highestBidSize': '41'}, 'BTC_TRY': None, 'INJ_TRY': None}, 'RNDR_BTC-BTC_TRY-RNDR_TRY': {'RNDR_BTC': None, 'BTC_TRY': None, 'RNDR_TRY': None}, 'STX_BTC-BTC_USDT-STX_USDT': {'STX_BTC': None, 'BTC_USDT': {'time': '2024-03-08 09:49:11.550', 'lowestAsk': '67185.99', 'lowestAskSize': '0.111244', 'highestBid': '67180.07', 'highestBidSize': '0.040102'}, 'STX_USDT': {'time': '2024-03-08 09:42:48.306', 'lowestAsk': '10', 'lowestAskSize': '3.8169', 'highestBid': '2.4042', 'highestBidSize': '12.2843'}}, 'VET_BTC-BTC_USDT-VET_USDT': {'VET_BTC': None, 'BTC_USDT': {'time': '2024-03-08 09:45:41.700', 'lowestAsk': '67197.78', 'lowestAskSize': '0.098454', 'highestBid': '67154.21', 'highestBidSize': '0.14'}, 'VET_USDT': None}, 'VET_USDT-USDT_TRY-VET_TRY': {'VET_USDT': None, 'USDT_TRY': None, 'VET_TRY': None}, 'VET_EUR-EUR_USDT-VET_USDT': {'VET_EUR': None, 'EUR_USDT': None, 'VET_USDT': None}, 'VET_BNB-BNB_USDT-VET_USDT': {'VET_BNB': None, 'BNB_USDT': {'time': '2024-03-08 09:56:19.829', 'lowestAsk': '471.99', 'lowestAskSize': '6.72072', 'highestBid': '471.41', 'highestBidSize': '3.539787'}, 'VET_USDT': None}, 'VET_ETH-ETH_USDT-VET_USDT': {'VET_ETH': None, 'ETH_USDT': {'time': '2024-03-08 09:56:49.798', 'lowestAsk': '3939.42', 'lowestAskSize': '6.407414', 'highestBid': '3938.22', 'highestBidSize': '0.588073'}, 'VET_USDT': None}, 'ORDI_BTC-BTC_USDT-ORDI_USDT': {'ORDI_BTC': None, 'BTC_USDT': {'time': '2024-03-08 09:45:55.926', 'lowestAsk': '67203.3', 'lowestAskSize': '0.063375', 'highestBid': '67187.98', 'highestBidSize': '0.050861'}, 'ORDI_USDT': {'time': '2024-03-08 09:45:45.464', 'lowestAsk': '110', 'lowestAskSize': '10', 'highestBid': '75.538', 'highestBidSize': '6.86331'}}, 'ORDI_USDT-USDT_TRY-ORDI_TRY': {'ORDI_USDT': {'time': '2024-03-08 09:55:54.158', 'lowestAsk': '110', 'lowestAskSize': '10', 'highestBid': '75.538', 'highestBidSize': '6.86331'}, 'USDT_TRY': None, 'ORDI_TRY': None}, 'LINK_BTC-BTC_FDUSD-LINK_FDUSD': {'LINK_BTC': {'time': '2024-03-08 09:39:14.169', 'lowestAsk': '0.0003001', 'lowestAskSize': '1.6', 'highestBid': '0.0002942', 'highestBidSize': '10.6'}, 'BTC_FDUSD': None, 'LINK_FDUSD': None}, 'LINK_BTC-BTC_USDT-LINK_USDT': {'LINK_BTC': {'time': '2024-03-08 09:52:50.513', 'lowestAsk': '0.0003004', 'lowestAskSize': '17.1', 'highestBid': '0.0002948', 'highestBidSize': '0.1'}, 'BTC_USDT': {'time': '2024-03-08 09:52:51.003', 'lowestAsk': '67242.19', 'lowestAskSize': '0.119205', 'highestBid': '67217.79', 'highestBidSize': '0.14'}, 'LINK_USDT': {'time': '2024-03-08 09:52:50.551', 'lowestAsk': '19.9136', 'lowestAskSize': '836.48728', 'highestBid': '19.8743', 'highestBidSize': '2.9946'}}, 'BNB_ETH-ETH_FDUSD-BNB_FDUSD': {'BNB_ETH': None, 'ETH_FDUSD': None, 'BNB_FDUSD': None}, 'ETH_BTC-BTC_FDUSD-ETH_FDUSD': {'ETH_BTC': {'time': '2024-03-08 09:52:26.626', 'lowestAsk': '0.05861', 'lowestAskSize': '0.176', 'highestBid': '0.05854', 'highestBidSize': '0.071'}, 'BTC_FDUSD': None, 'ETH_FDUSD': None}, 'XRP_ETH-ETH_FDUSD-XRP_FDUSD': {'XRP_ETH': None, 'ETH_FDUSD': None, 'XRP_FDUSD': None}, 'SOL_ETH-ETH_FDUSD-SOL_FDUSD': {'SOL_ETH': None, 'ETH_FDUSD': None, 'SOL_FDUSD': None}, 'ETH_FDUSD-FDUSD_TRY-ETH_TRY': {'ETH_FDUSD': None, 'FDUSD_TRY': None, 'ETH_TRY': None}, 'ETH_FDUSD-FDUSD_USDT-ETH_USDT': {'ETH_FDUSD': None, 'FDUSD_USDT': None, 'ETH_USDT': {'time': '2024-03-08 09:58:14.875', 'lowestAsk': '3934', 'lowestAskSize': '0.276446', 'highestBid': '3933.86', 'highestBidSize': '3'}}, 'INJ_USDC-USDC_USDT-INJ_USDT': {'INJ_USDC': None, 'USDC_USDT': None, 'INJ_USDT': {'time': '2024-03-08 09:50:10.838', 'lowestAsk': '42.9199', 'lowestAskSize': '4.6829', 'highestBid': '42.0003', 'highestBidSize': '0.0476'}}, 'INJ_BTC-BTC_USDT-INJ_USDT': {'INJ_BTC': {'time': '2024-03-08 09:24:26.652', 'lowestAsk': '0.00068454', 'lowestAskSize': '4', 'highestBid': '0.00040409', 'highestBidSize': '41'}, 'BTC_USDT': {'time': '2024-03-08 09:53:50.928', 'lowestAsk': '67251.38', 'lowestAskSize': '0.114065', 'highestBid': '67233.04', 'highestBidSize': '0.000589'}, 'INJ_USDT': {'time': '2024-03-08 09:50:10.838', 'lowestAsk': '42.9199', 'lowestAskSize': '4.6829', 'highestBid': '42.0003', 'highestBidSize': '0.0476'}}, 'INJ_USDT-USDT_TRY-INJ_TRY': {'INJ_USDT': {'time': '2024-03-08 09:50:10.838', 'lowestAsk': '42.9199', 'lowestAskSize': '4.6829', 'highestBid': '42.0003', 'highestBidSize': '0.0476'}, 'USDT_TRY': None, 'INJ_TRY': None}, 'APT_BTC-BTC_USDT-APT_USDT': {'APT_BTC': None, 'BTC_USDT': {'time': '2024-03-08 09:53:54.477', 'lowestAsk': '67251.38', 'lowestAskSize': '0.114065', 'highestBid': '67197.44', 'highestBidSize': '0.039464'}, 'APT_USDT': {'time': '2024-03-08 09:53:54.966', 'lowestAsk': '14.633', 'lowestAskSize': '0.21093', 'highestBid': '14.413', 'highestBidSize': '0.69377'}}, 'APT_USDT-USDT_TRY-APT_TRY': {'APT_USDT': {'time': '2024-03-08 09:53:24.373', 'lowestAsk': '14.633', 'lowestAskSize': '0.21093', 'highestBid': '14.413', 'highestBidSize': '0.69377'}, 'USDT_TRY': None, 'APT_TRY': None}, 'DOGE_BTC-BTC_FDUSD-DOGE_FDUSD': {'DOGE_BTC': {'time': '2024-03-08 09:40:35.550', 'lowestAsk': '0.000002447', 'lowestAskSize': '4388', 'highestBid': '0.000002421', 'highestBidSize': '12364'}, 'BTC_FDUSD': None, 'DOGE_FDUSD': None}, 'DOGE_FDUSD-FDUSD_TRY-DOGE_TRY': {'DOGE_FDUSD': None, 'FDUSD_TRY': None, 'DOGE_TRY': None}, 'DOGE_FDUSD-FDUSD_USDT-DOGE_USDT': {'DOGE_FDUSD': None, 'FDUSD_USDT': None, 'DOGE_USDT': {'time': '2024-03-08 09:58:02.148', 'lowestAsk': '0.165997', 'lowestAskSize': '33224.871', 'highestBid': '0.165982', 'highestBidSize': '10000'}}, 'BNB_BTC-BTC_FDUSD-BNB_FDUSD': {'BNB_BTC': None, 'BTC_FDUSD': None, 'BNB_FDUSD': None}, 'BNB_FDUSD-FDUSD_USDT-BNB_USDT': {'BNB_FDUSD': None, 'FDUSD_USDT': None, 'BNB_USDT': {'time': '2024-03-08 09:57:51.973', 'lowestAsk': '471.99', 'lowestAskSize': '6.749258', 'highestBid': '471.07', 'highestBidSize': '0.672816'}}, 'SOL_BNB-BNB_FDUSD-SOL_FDUSD': {'SOL_BNB': None, 'BNB_FDUSD': None, 'SOL_FDUSD': None}, 'BNB_FDUSD-FDUSD_TRY-BNB_TRY': {'BNB_FDUSD': None, 'FDUSD_TRY': None, 'BNB_TRY': None}, 'MANTA_FDUSD-FDUSD_TRY-MANTA_TRY': {'MANTA_FDUSD': None, 'FDUSD_TRY': None, 'MANTA_TRY': None}, 'MANTA_USDT-USDT_TRY-MANTA_TRY': {'MANTA_USDT': None, 'USDT_TRY': None, 'MANTA_TRY': None}, 'SEI_FDUSD-FDUSD_TRY-SEI_TRY': {'SEI_FDUSD': None, 'FDUSD_TRY': None, 'SEI_TRY': None}, 'SEI_BTC-BTC_FDUSD-SEI_FDUSD': {'SEI_BTC': None, 'BTC_FDUSD': None, 'SEI_FDUSD': None}, 'SEI_FDUSD-FDUSD_USDT-SEI_USDT': {'SEI_FDUSD': None, 'FDUSD_USDT': None, 'SEI_USDT': None}, 'OP_USDC-USDC_USDT-OP_USDT': {'OP_USDC': None, 'USDC_USDT': None, 'OP_USDT': {'time': '2024-03-08 09:53:43.247', 'lowestAsk': '4.6282', 'lowestAskSize': '167.1127', 'highestBid': '4.6158', 'highestBidSize': '167.1127'}}, 'AI_USDT-USDT_TRY-AI_TRY': {'AI_USDT': {'time': '2024-03-08 09:48:08.224', 'lowestAsk': '0.00247', 'lowestAskSize': '7899.925', 'highestBid': '0.00174', 'highestBidSize': '6672.436'}, 'USDT_TRY': None, 'AI_TRY': None}, 'AI_FDUSD-FDUSD_USDT-AI_USDT': {'AI_FDUSD': None, 'FDUSD_USDT': None, 'AI_USDT': {'time': '2024-03-08 09:57:44.112', 'lowestAsk': '0.00247', 'lowestAskSize': '7370.557', 'highestBid': '0.00175', 'highestBidSize': '1208.692'}}, 'LTC_BTC-BTC_USDT-LTC_USDT': {'LTC_BTC': {'time': '2024-03-08 09:45:54.566', 'lowestAsk': '0.001309', 'lowestAskSize': '10.44', 'highestBid': '0.001304', 'highestBidSize': '19.74'}, 'BTC_USDT': {'time': '2024-03-08 09:45:54.464', 'lowestAsk': '67207.53', 'lowestAskSize': '0.000624', 'highestBid': '67187.98', 'highestBidSize': '0.050861'}, 'LTC_USDT': {'time': '2024-03-08 09:45:55.114', 'lowestAsk': '87.936', 'lowestAskSize': '44.15666', 'highestBid': '87.861', 'highestBidSize': '8.800164'}}, 'PROM_BTC-BTC_USDT-PROM_USDT': {'PROM_BTC': None, 'BTC_USDT': {'time': '2024-03-08 09:54:39.064', 'lowestAsk': '67200.32', 'lowestAskSize': '0.130825', 'highestBid': '67182.11', 'highestBidSize': '0.021698'}, 'PROM_USDT': None}, 'TIA_USDT-USDT_TRY-TIA_TRY': {'TIA_USDT': None, 'USDT_TRY': None, 'TIA_TRY': None}, 'TIA_BTC-BTC_USDT-TIA_USDT': {'TIA_BTC': None, 'BTC_USDT': {'time': '2024-03-08 09:56:07.005', 'lowestAsk': '67236.3', 'lowestAskSize': '0.130059', 'highestBid': '67206.81', 'highestBidSize': '0.14'}, 'TIA_USDT': None}, 'RIF_BTC-BTC_USDT-RIF_USDT': {'RIF_BTC': None, 'BTC_USDT': {'time': '2024-03-08 09:47:05.064', 'lowestAsk': '67181.68', 'lowestAskSize': '0.101828', 'highestBid': '67154.13', 'highestBidSize': '0.04762'}, 'RIF_USDT': {'time': '2024-03-08 07:33:05.538', 'lowestAsk': '0.466', 'lowestAskSize': '58.6321', 'highestBid': '0.222', 'highestBidSize': '14.6207'}}, 'MATIC_USDC-USDC_USDT-MATIC_USDT': {'MATIC_USDC': {'time': '2024-03-08 09:55:54.145', 'lowestAsk': '1.2059', 'lowestAskSize': '8.1768', 'highestBid': '1.1188', 'highestBidSize': '43.7969'}, 'USDC_USDT': None, 'MATIC_USDT': {'time': '2024-03-08 09:57:03.630', 'lowestAsk': '1.15959', 'lowestAskSize': '21.4518', 'highestBid': '1.15704', 'highestBidSize': '249.3482'}}, 'MATIC_BTC-BTC_USDT-MATIC_USDT': {'MATIC_BTC': {'time': '2024-03-08 09:46:15.222', 'lowestAsk': '0.00001757', 'lowestAskSize': '41', 'highestBid': '0.00001682', 'highestBidSize': '112'}, 'BTC_USDT': {'time': '2024-03-08 09:46:16.994', 'lowestAsk': '67210.76', 'lowestAskSize': '0.098542', 'highestBid': '67179.24', 'highestBidSize': '0.193625'}, 'MATIC_USDT': {'time': '2024-03-08 09:46:17.399', 'lowestAsk': '1.16118', 'lowestAskSize': '6.000', 'highestBid': '1.16101', 'highestBidSize': '144.0212'}}, 'MATIC_FDUSD-FDUSD_USDT-MATIC_USDT': {'MATIC_FDUSD': None, 'FDUSD_USDT': None, 'MATIC_USDT': {'time': '2024-03-08 09:58:11.303', 'lowestAsk': '1.15951', 'lowestAskSize': '21.4518', 'highestBid': '1.15656', 'highestBidSize': '249.3482'}}, 'LINK_FDUSD-FDUSD_USDT-LINK_USDT': {'LINK_FDUSD': None, 'FDUSD_USDT': None, 'LINK_USDT': {'time': '2024-03-08 09:58:07.078', 'lowestAsk': '19.8733', 'lowestAskSize': '35.35999', 'highestBid': '19.8356', 'highestBidSize': '35.35999'}}, 'AVAX_FDUSD-FDUSD_TRY-AVAX_TRY': {'AVAX_FDUSD': None, 'FDUSD_TRY': None, 'AVAX_TRY': None}, 'AVAX_BTC-BTC_FDUSD-AVAX_FDUSD': {'AVAX_BTC': {'time': '2024-03-08 09:46:08.186', 'lowestAsk': '0.000654', 'lowestAskSize': '3.17', 'highestBid': '0.000636', 'highestBidSize': '2.98'}, 'BTC_FDUSD': None, 'AVAX_FDUSD': None}, 'AVAX_FDUSD-FDUSD_USDT-AVAX_USDT': {'AVAX_FDUSD': None, 'FDUSD_USDT': None, 'AVAX_USDT': {'time': '2024-03-08 09:58:00.909', 'lowestAsk': '43.403', 'lowestAskSize': '8.726602', 'highestBid': '43.346', 'highestBidSize': '6.402479'}}, 'AVAX_USDT-USDT_TRY-AVAX_TRY': {'AVAX_USDT': {'time': '2024-03-08 09:50:49.179', 'lowestAsk': '43.495', 'lowestAskSize': '8.708144', 'highestBid': '43.369', 'highestBidSize': '8.733444'}, 'USDT_TRY': None, 'AVAX_TRY': None}, 'DENT_USDT-USDT_TRY-DENT_TRY': {'DENT_USDT': None, 'USDT_TRY': None, 'DENT_TRY': None}, 'LUNC_USDT-USDT_TRY-LUNC_TRY': {'LUNC_USDT': {'time': '2024-03-08 09:31:10.767', 'lowestAsk': '0.0001972', 'lowestAskSize': '10141', 'highestBid': '0.00018879', 'highestBidSize': '10593'}, 'USDT_TRY': None, 'LUNC_TRY': None}, 'BCH_BTC-BTC_USDT-BCH_USDT': {'BCH_BTC': {'time': '2024-03-08 09:45:18.034', 'lowestAsk': '0.006554', 'lowestAskSize': '0.01', 'highestBid': '0.00655', 'highestBidSize': '3.47'}, 'BTC_USDT': {'time': '2024-03-08 09:45:48.584', 'lowestAsk': '67187.95', 'lowestAskSize': '0.007616', 'highestBid': '67165.96', 'highestBidSize': '0.050898'}, 'BCH_USDT': {'time': '2024-03-08 09:45:48.144', 'lowestAsk': '441.26', 'lowestAskSize': '0.002267', 'highestBid': '440.51', 'highestBidSize': '2.688807'}}, 'BONK_USDT-USDT_TRY-BONK_TRY': {'BONK_USDT': {'time': '2024-03-08 09:52:39.633', 'lowestAsk': '0.000031349', 'lowestAskSize': '33161316', 'highestBid': '0.00003016', 'highestBidSize': '331565'}, 'USDT_TRY': None, 'BONK_TRY': None}, 'PEPE_USDT-USDT_TRY-PEPE_TRY': {'PEPE_USDT': {'time': '2024-03-08 09:51:02.295', 'lowestAsk': '0.00000794', 'lowestAskSize': '50728872', 'highestBid': '0.00000754342', 'highestBidSize': '18136000'}, 'USDT_TRY': None, 'PEPE_TRY': None}, 'ADA_BTC-BTC_USDC-ADA_USDC': {'ADA_BTC': {'time': '2024-03-08 09:54:32.920', 'lowestAsk': '0.00001096', 'lowestAskSize': '1124', 'highestBid': '0.0000109', 'highestBidSize': '2399'}, 'BTC_USDC': {'time': '2024-03-08 09:55:05.067', 'lowestAsk': '67787.01', 'lowestAskSize': '0.021753', 'highestBid': '67294.35', 'highestBidSize': '0.01'}, 'ADA_USDC': {'time': '2024-03-08 09:54:40.609', 'lowestAsk': '0.757', 'lowestAskSize': '222', 'highestBid': '0.7108', 'highestBidSize': '68.9364'}}, 'AVAX_BTC-BTC_USDC-AVAX_USDC': {'AVAX_BTC': {'time': '2024-03-08 09:46:08.186', 'lowestAsk': '0.000654', 'lowestAskSize': '3.17', 'highestBid': '0.000636', 'highestBidSize': '2.98'}, 'BTC_USDC': {'time': '2024-03-08 09:49:07.574', 'lowestAsk': '67789.66', 'lowestAskSize': '0.01', 'highestBid': '67266.4', 'highestBidSize': '0.066103'}, 'AVAX_USDC': {'time': '2024-03-08 09:48:00.663', 'lowestAsk': '160', 'lowestAskSize': '0.14', 'highestBid': '7.5', 'highestBidSize': '0.134666'}}, 'SOL_BTC-BTC_USDC-SOL_USDC': {'SOL_BTC': {'time': '2024-03-08 09:44:51.088', 'lowestAsk': '0.002183', 'lowestAskSize': '0.16', 'highestBid': '0.00217', 'highestBidSize': '0.01'}, 'BTC_USDC': {'time': '2024-03-08 09:44:51.576', 'lowestAsk': '67785.11', 'lowestAskSize': '0.01', 'highestBid': '67239.39', 'highestBidSize': '0.08'}, 'SOL_USDC': {'time': '2024-03-08 09:44:50.417', 'lowestAsk': '146.89', 'lowestAskSize': '0.187214', 'highestBid': '97', 'highestBidSize': '0.068152'}}, 'ETH_BTC-BTC_USDC-ETH_USDC': {'ETH_BTC': {'time': '2024-03-08 09:52:29.040', 'lowestAsk': '0.05862', 'lowestAskSize': '0.176', 'highestBid': '0.05854', 'highestBidSize': '0.071'}, 'BTC_USDC': {'time': '2024-03-08 09:52:36.511', 'lowestAsk': '67799.35', 'lowestAskSize': '0.01', 'highestBid': '67283.76', 'highestBidSize': '0.01'}, 'ETH_USDC': {'time': '2024-03-08 09:52:32.766', 'lowestAsk': '3972.3', 'lowestAskSize': '0.234807', 'highestBid': '3951.81', 'highestBidSize': '0.236025'}}, 'MATIC_BTC-BTC_USDC-MATIC_USDC': {'MATIC_BTC': {'time': '2024-03-08 09:56:51.240', 'lowestAsk': '0.00001757', 'lowestAskSize': '41', 'highestBid': '0.00001707', 'highestBidSize': '8'}, 'BTC_USDC': {'time': '2024-03-08 09:57:05.466', 'lowestAsk': '67776.32', 'lowestAskSize': '0.000753', 'highestBid': '67303.82', 'highestBidSize': '0.066511'}, 'MATIC_USDC': {'time': '2024-03-08 09:55:54.145', 'lowestAsk': '1.2059', 'lowestAskSize': '8.1768', 'highestBid': '1.1188', 'highestBidSize': '43.7969'}}, 'BTC_USDC-USDC_USDT-BTC_USDT': {'BTC_USDC': {'time': '2024-03-08 09:45:37.596', 'lowestAsk': '67780.68', 'lowestAskSize': '0.01', 'highestBid': '67244.19', 'highestBidSize': '0.08'}, 'USDC_USDT': None, 'BTC_USDT': {'time': '2024-03-08 09:45:38.585', 'lowestAsk': '67207.57', 'lowestAskSize': '0.098454', 'highestBid': '67154.08', 'highestBidSize': '0.046567'}}, 'ARB_BTC-BTC_USDC-ARB_USDC': {'ARB_BTC': None, 'BTC_USDC': {'time': '2024-03-08 09:54:35.590', 'lowestAsk': '67789.38', 'lowestAskSize': '0.000753', 'highestBid': '67293.69', 'highestBidSize': '0.01'}, 'ARB_USDC': None}, 'XRP_BTC-BTC_USDC-XRP_USDC': {'XRP_BTC': {'time': '2024-03-08 09:55:11.885', 'lowestAsk': '0.00000935', 'lowestAskSize': '653', 'highestBid': '0.00000934', 'highestBidSize': '1856'}, 'BTC_USDC': {'time': '2024-03-08 09:55:26.584', 'lowestAsk': '67785.12', 'lowestAskSize': '0.010753', 'highestBid': '67294.81', 'highestBidSize': '0.01'}, 'XRP_USDC': {'time': '2024-03-08 09:54:53.101', 'lowestAsk': '0.6434', 'lowestAskSize': '88.3569', 'highestBid': '0.6055', 'highestBidSize': '80.9248'}}, 'SEI_BTC-BTC_USDC-SEI_USDC': {'SEI_BTC': None, 'BTC_USDC': {'time': '2024-03-08 09:57:22.600', 'lowestAsk': '67774.47', 'lowestAskSize': '0.000753', 'highestBid': '67305.37', 'highestBidSize': '0.076423'}, 'SEI_USDC': None}, 'INJ_BTC-BTC_USDC-INJ_USDC': {'INJ_BTC': {'time': '2024-03-08 09:24:26.652', 'lowestAsk': '0.00068454', 'lowestAskSize': '4', 'highestBid': '0.00040409', 'highestBidSize': '41'}, 'BTC_USDC': {'time': '2024-03-08 09:55:41.583', 'lowestAsk': '67784.04', 'lowestAskSize': '0.000753', 'highestBid': '67295.69', 'highestBidSize': '0.066931'}, 'INJ_USDC': None}, 'TRX_BTC-BTC_USDT-TRX_USDT': {'TRX_BTC': {'time': '2024-03-08 09:45:39.323', 'lowestAsk': '0.000002051', 'lowestAskSize': '2382', 'highestBid': '0.000002045', 'highestBidSize': '6624'}, 'BTC_USDT': {'time': '2024-03-08 09:45:59.488', 'lowestAsk': '67203.29', 'lowestAskSize': '0.000624', 'highestBid': '67138.81', 'highestBidSize': '0.190897'}, 'TRX_USDT': {'time': '2024-03-08 09:45:59.899', 'lowestAsk': '0.13759', 'lowestAskSize': '1646.484', 'highestBid': '0.13757', 'highestBidSize': '68023.558'}}, 'TRX_USDT-USDT_TRY-TRX_TRY': {'TRX_USDT': {'time': '2024-03-08 09:53:35.915', 'lowestAsk': '0.13759', 'lowestAskSize': '702.267', 'highestBid': '0.13758', 'highestBidSize': '70873.342'}, 'USDT_TRY': None, 'TRX_TRY': None}, 'WLD_BTC-BTC_USDT-WLD_USDT': {'WLD_BTC': None, 'BTC_USDT': {'time': '2024-03-08 09:53:29.529', 'lowestAsk': '67255.08', 'lowestAskSize': '0.114065', 'highestBid': '67233.05', 'highestBidSize': '0.001998'}, 'WLD_USDT': {'time': '2024-03-08 09:53:30.101', 'lowestAsk': '7.393', 'lowestAskSize': '79.00536', 'highestBid': '7.373', 'highestBidSize': '79.00536'}}, 'WLD_USDT-USDT_TRY-WLD_TRY': {'WLD_USDT': {'time': '2024-03-08 09:54:08.310', 'lowestAsk': '7.407', 'lowestAskSize': '79.00536', 'highestBid': '7.38', 'highestBidSize': '120.4'}, 'USDT_TRY': None, 'WLD_TRY': None}, 'SOL_USDC-USDC_USDT-SOL_USDT': {'SOL_USDC': {'time': '2024-03-08 09:44:48.559', 'lowestAsk': '146.89', 'lowestAskSize': '0.187214', 'highestBid': '97', 'highestBidSize': '0.068152'}, 'USDC_USDT': None, 'SOL_USDT': {'time': '2024-03-08 09:44:49.566', 'lowestAsk': '146.088', 'lowestAskSize': '10.75987', 'highestBid': '146.04', 'highestBidSize': '24.023074'}}, 'SOL_USDT-USDT_TRY-SOL_TRY': {'SOL_USDT': {'time': '2024-03-08 09:50:01.014', 'lowestAsk': '145.822', 'lowestAskSize': '6.302896', 'highestBid': '145.777', 'highestBidSize': '0.07332'}, 'USDT_TRY': None, 'SOL_TRY': None}, 'SOL_ETH-ETH_USDT-SOL_USDT': {'SOL_ETH': None, 'ETH_USDT': {'time': '2024-03-08 09:56:35.769', 'lowestAsk': '3939.42', 'lowestAskSize': '6.407414', 'highestBid': '3938.22', 'highestBidSize': '0.58808'}, 'SOL_USDT': {'time': '2024-03-08 09:56:36.588', 'lowestAsk': '145.68', 'lowestAskSize': '6.315115', 'highestBid': '145.479', 'highestBidSize': '65.09'}}, 'SOL_EUR-EUR_USDT-SOL_USDT': {'SOL_EUR': None, 'EUR_USDT': None, 'SOL_USDT': {'time': '2024-03-08 09:42:25.576', 'lowestAsk': '146.095', 'lowestAskSize': '8.846261', 'highestBid': '146.04', 'highestBidSize': '45.230193'}}, 'SOL_BTC-BTC_USDT-SOL_USDT': {'SOL_BTC': {'time': '2024-03-08 09:46:00.945', 'lowestAsk': '0.002183', 'lowestAskSize': '0.16', 'highestBid': '0.002171', 'highestBidSize': '19.39'}, 'BTC_USDT': {'time': '2024-03-08 09:46:04.582', 'lowestAsk': '67203.24', 'lowestAskSize': '0.098542', 'highestBid': '67172.46', 'highestBidSize': '0.050773'}, 'SOL_USDT': {'time': '2024-03-08 09:46:04.802', 'lowestAsk': '146.113', 'lowestAskSize': '8.216770', 'highestBid': '146.04', 'highestBidSize': '22.513074'}}, 'SOL_TUSD-TUSD_USDT-SOL_USDT': {'SOL_TUSD': None, 'TUSD_USDT': {'time': '2024-03-08 09:55:20.238', 'lowestAsk': '1.00086', 'lowestAskSize': '218.0485', 'highestBid': '1.00076', 'highestBidSize': '0.0001'}, 'SOL_USDT': {'time': '2024-03-08 09:55:29.571', 'lowestAsk': '145.711', 'lowestAskSize': '0.829466', 'highestBid': '145.584', 'highestBidSize': '20.076613'}}, 'SOL_BNB-BNB_USDT-SOL_USDT': {'SOL_BNB': None, 'BNB_USDT': {'time': '2024-03-08 09:53:08.963', 'lowestAsk': '472', 'lowestAskSize': '6.301830', 'highestBid': '471.57', 'highestBidSize': '3.538617'}, 'SOL_USDT': {'time': '2024-03-08 09:53:09.391', 'lowestAsk': '145.829', 'lowestAskSize': '0.001689', 'highestBid': '145.777', 'highestBidSize': '0.07332'}}, 'SOL_FDUSD-FDUSD_USDT-SOL_USDT': {'SOL_FDUSD': None, 'FDUSD_USDT': None, 'SOL_USDT': {'time': '2024-03-08 09:57:54.584', 'lowestAsk': '145.626', 'lowestAskSize': '2.995462', 'highestBid': '145.442', 'highestBidSize': '0.073489'}}, 'SOL_USDT-USDT_BRL-SOL_BRL': {'SOL_USDT': {'time': '2024-03-08 09:56:13.583', 'lowestAsk': '145.706', 'lowestAskSize': '6.315115', 'highestBid': '145.586', 'highestBidSize': '6.288195'}, 'USDT_BRL': None, 'SOL_BRL': None}, 'ACE_USDT-USDT_TRY-ACE_TRY': {'ACE_USDT': {'time': '2024-03-08 09:48:08.867', 'lowestAsk': '12.93', 'lowestAskSize': '0.152688', 'highestBid': '9', 'highestBidSize': '8.841957'}, 'USDT_TRY': None, 'ACE_TRY': None}, 'AVAX_USDC-USDC_USDT-AVAX_USDT': {'AVAX_USDC': {'time': '2024-03-08 09:48:00.663', 'lowestAsk': '160', 'lowestAskSize': '0.14', 'highestBid': '7.5', 'highestBidSize': '0.134666'}, 'USDC_USDT': None, 'AVAX_USDT': {'time': '2024-03-08 09:48:11.742', 'lowestAsk': '43.462', 'lowestAskSize': '8.714756', 'highestBid': '43.377', 'highestBidSize': '8.731833'}}, 'XRP_USDC-USDC_USDT-XRP_USDT': {'XRP_USDC': {'time': '2024-03-08 09:54:53.101', 'lowestAsk': '0.6434', 'lowestAskSize': '88.3569', 'highestBid': '0.6055', 'highestBidSize': '80.9248'}, 'USDC_USDT': None, 'XRP_USDT': {'time': '2024-03-08 09:55:23.151', 'lowestAsk': '0.6278', 'lowestAskSize': '3089.3734', 'highestBid': '0.627', 'highestBidSize': '12433.9082'}}, 'ETH_USDC-USDC_USDT-ETH_USDT': {'ETH_USDC': {'time': '2024-03-08 09:56:38.824', 'lowestAsk': '3972.17', 'lowestAskSize': '0.004526', 'highestBid': '3951.81', 'highestBidSize': '0.236025'}, 'USDC_USDT': None, 'ETH_USDT': {'time': '2024-03-08 09:56:45.600', 'lowestAsk': '3939.42', 'lowestAskSize': '6.407414', 'highestBid': '3938.28', 'highestBidSize': '0.588067'}}, 'SEI_USDC-USDC_USDT-SEI_USDT': {'SEI_USDC': None, 'USDC_USDT': None, 'SEI_USDT': None}, 'ARB_USDC-USDC_USDT-ARB_USDT': {'ARB_USDC': None, 'USDC_USDT': None, 'ARB_USDT': {'time': '2024-03-08 09:54:37.126', 'lowestAsk': '2.201', 'lowestAskSize': '70.4199', 'highestBid': '2.1967', 'highestBidSize': '261.792'}}, 'NEAR_BTC-BTC_USDT-NEAR_USDT': {'NEAR_BTC': None, 'BTC_USDT': {'time': '2024-03-08 09:57:23.525', 'lowestAsk': '67220.37', 'lowestAskSize': '0.127756', 'highestBid': '67206.43', 'highestBidSize': '0.024555'}, 'NEAR_USDT': {'time': '2024-03-08 09:57:23.045', 'lowestAsk': '5.353', 'lowestAskSize': '137.3126', 'highestBid': '5.342', 'highestBidSize': '75.1'}}, 'DOT_BTC-BTC_USDT-DOT_USDT': {'DOT_BTC': {'time': '2024-03-08 09:46:14.271', 'lowestAsk': '0.0001542', 'lowestAskSize': '145.2', 'highestBid': '0.0001534', 'highestBidSize': '360.9'}, 'BTC_USDT': {'time': '2024-03-08 09:46:14.936', 'lowestAsk': '67210.78', 'lowestAskSize': '0.098542', 'highestBid': '67179.24', 'highestBidSize': '0.193625'}, 'DOT_USDT': {'time': '2024-03-08 09:46:16.148', 'lowestAsk': '10.373', 'lowestAskSize': '505.79913', 'highestBid': '10.363', 'highestBidSize': '68.5'}}, 'ETH_BTC-BTC_TUSD-ETH_TUSD': {'ETH_BTC': {'time': '2024-03-08 09:52:26.626', 'lowestAsk': '0.05861', 'lowestAskSize': '0.176', 'highestBid': '0.05854', 'highestBidSize': '0.071'}, 'BTC_TUSD': {'time': '2024-03-08 09:52:27.624', 'lowestAsk': '68887.99', 'lowestAskSize': '0.000951', 'highestBid': '7000', 'highestBidSize': '0.01074'}, 'ETH_TUSD': {'time': '2024-03-08 09:51:46.876', 'lowestAsk': '3954.34', 'lowestAskSize': '0.001', 'highestBid': '3924.85', 'highestBidSize': '0.001000'}}, 'SOL_ETH-ETH_TUSD-SOL_TUSD': {'SOL_ETH': None, 'ETH_TUSD': {'time': '2024-03-08 09:55:32.316', 'lowestAsk': '3954.34', 'lowestAskSize': '0.001000', 'highestBid': '3924.85', 'highestBidSize': '0.001000'}, 'SOL_TUSD': None}, 'BNB_ETH-ETH_TUSD-BNB_TUSD': {'BNB_ETH': None, 'ETH_TUSD': {'time': '2024-03-08 09:54:42.969', 'lowestAsk': '3954.33', 'lowestAskSize': '0.002854', 'highestBid': '3924.85', 'highestBidSize': '0.001000'}, 'BNB_TUSD': None}, 'ETH_TUSD-TUSD_USDT-ETH_USDT': {'ETH_TUSD': {'time': '2024-03-08 09:55:50.648', 'lowestAsk': '3954.34', 'lowestAskSize': '0.001000', 'highestBid': '3924.85', 'highestBidSize': '0.001000'}, 'TUSD_USDT': {'time': '2024-03-08 09:56:23.067', 'lowestAsk': '1.00086', 'lowestAskSize': '218.0485', 'highestBid': '1.00076', 'highestBidSize': '0.0001'}, 'ETH_USDT': {'time': '2024-03-08 09:56:42.889', 'lowestAsk': '3939.42', 'lowestAskSize': '6.407414', 'highestBid': '3938.26', 'highestBidSize': '0.58807'}}, 'VET_ETH-ETH_BTC-VET_BTC': {'VET_ETH': None, 'ETH_BTC': {'time': '2024-03-08 09:52:29.040', 'lowestAsk': '0.05862', 'lowestAskSize': '0.176', 'highestBid': '0.05854', 'highestBidSize': '0.071'}, 'VET_BTC': None}, 'VET_BNB-BNB_BTC-VET_BTC': {'VET_BNB': None, 'BNB_BTC': None, 'VET_BTC': None}, 'VET_BTC-BTC_EUR-VET_EUR': {'VET_BTC': None, 'BTC_EUR': None, 'VET_EUR': None}, 'UMA_USDT-USDT_TRY-UMA_TRY': {'UMA_USDT': {'time': '2024-03-08 09:50:07.876', 'lowestAsk': '10', 'lowestAskSize': '50', 'highestBid': '3.113', 'highestBidSize': '0.3546'}, 'USDT_TRY': None, 'UMA_TRY': None}, 'ADA_BTC-BTC_FDUSD-ADA_FDUSD': {'ADA_BTC': {'time': '2024-03-08 09:46:43.636', 'lowestAsk': '0.00001095', 'lowestAskSize': '618', 'highestBid': '0.0000109', 'highestBidSize': '2328'}, 'BTC_FDUSD': None, 'ADA_FDUSD': None}, 'ADA_BTC-BTC_EUR-ADA_EUR': {'ADA_BTC': {'time': '2024-03-08 09:55:42.576', 'lowestAsk': '0.00001096', 'lowestAskSize': '1124', 'highestBid': '0.0000109', 'highestBidSize': '2399'}, 'BTC_EUR': None, 'ADA_EUR': None}, 'VET_ETH-ETH_TRY-VET_TRY': {'VET_ETH': None, 'ETH_TRY': None, 'VET_TRY': None}, 'VET_BNB-BNB_TRY-VET_TRY': {'VET_BNB': None, 'BNB_TRY': None, 'VET_TRY': None}, 'MEME_USDT-USDT_TRY-MEME_TRY': {'MEME_USDT': None, 'USDT_TRY': None, 'MEME_TRY': None}, 'USTC_USDT-USDT_TRY-USTC_TRY': {'USTC_USDT': None, 'USDT_TRY': None, 'USTC_TRY': None}, 'USTC_FDUSD-FDUSD_TRY-USTC_TRY': {'USTC_FDUSD': None, 'FDUSD_TRY': None, 'USTC_TRY': None}, 'AI_FDUSD-FDUSD_TRY-AI_TRY': {'AI_FDUSD': None, 'FDUSD_TRY': None, 'AI_TRY': None}, 'SEI_USDT-USDT_TRY-SEI_TRY': {'SEI_USDT': None, 'USDT_TRY': None, 'SEI_TRY': None}, 'RNDR_BTC-BTC_USDT-RNDR_USDT': {'RNDR_BTC': None, 'BTC_USDT': {'time': '2024-03-08 09:54:50.043', 'lowestAsk': '67200.19', 'lowestAskSize': '0.130907', 'highestBid': '67182.12', 'highestBidSize': '0.001063'}, 'RNDR_USDT': {'time': '2024-03-08 08:59:54.551', 'lowestAsk': '10.9024', 'lowestAskSize': '0.1499', 'highestBid': '9.5', 'highestBidSize': '379.2639'}}, 'RNDR_USDT-USDT_TRY-RNDR_TRY': {'RNDR_USDT': {'time': '2024-03-08 08:59:54.551', 'lowestAsk': '10.9024', 'lowestAskSize': '0.1499', 'highestBid': '9.5', 'highestBidSize': '379.2639'}, 'USDT_TRY': None, 'RNDR_TRY': None}, 'USTC_FDUSD-FDUSD_USDT-USTC_USDT': {'USTC_FDUSD': None, 'FDUSD_USDT': None, 'USTC_USDT': None}, 'SOL_BTC-BTC_TUSD-SOL_TUSD': {'SOL_BTC': {'time': '2024-03-08 09:55:34.887', 'lowestAsk': '0.002174', 'lowestAskSize': '2.54', 'highestBid': '0.00216', 'highestBidSize': '1.34'}, 'BTC_TUSD': {'time': '2024-03-08 09:55:33.938', 'lowestAsk': '68887.99', 'lowestAskSize': '0.000951', 'highestBid': '64531.12', 'highestBidSize': '0.004929'}, 'SOL_TUSD': None}, 'BTC_TUSD-TUSD_USDT-BTC_USDT': {'BTC_TUSD': {'time': '2024-03-08 09:46:01.142', 'lowestAsk': '67485.52', 'lowestAskSize': '0.000951', 'highestBid': '65157.23', 'highestBidSize': '0.008113'}, 'TUSD_USDT': {'time': '2024-03-08 09:46:05.410', 'lowestAsk': '1.00096', 'lowestAskSize': '2.001', 'highestBid': '1.00077', 'highestBidSize': '1572.225'}, 'BTC_USDT': {'time': '2024-03-08 09:46:06.347', 'lowestAsk': '67187.89', 'lowestAskSize': '0.098542', 'highestBid': '67172.46', 'highestBidSize': '0.050773'}}, 'BNB_BTC-BTC_TUSD-BNB_TUSD': {'BNB_BTC': None, 'BTC_TUSD': {'time': '2024-03-08 09:54:51.385', 'lowestAsk': '68887.99', 'lowestAskSize': '0.000951', 'highestBid': '7000', 'highestBidSize': '0.01074'}, 'BNB_TUSD': None}, 'SHIB_USDT-USDT_TRY-SHIB_TRY': {'SHIB_USDT': {'time': '2024-03-08 09:50:16.311', 'lowestAsk': '0.000033857', 'lowestAskSize': '68586', 'highestBid': '0.000033836', 'highestBidSize': '482109'}, 'USDT_TRY': None, 'SHIB_TRY': None}, 'AUCTION_BTC-BTC_USDT-AUCTION_USDT': {'AUCTION_BTC': None, 'BTC_USDT': {'time': '2024-03-08 09:54:24.066', 'lowestAsk': '67198.74', 'lowestAskSize': '0.130146', 'highestBid': '67185.06', 'highestBidSize': '0.022392'}, 'AUCTION_USDT': None}, 'XAI_USDT-USDT_TRY-XAI_TRY': {'XAI_USDT': None, 'USDT_TRY': None, 'XAI_TRY': None}, 'XAI_FDUSD-FDUSD_USDT-XAI_USDT': {'XAI_FDUSD': None, 'FDUSD_USDT': None, 'XAI_USDT': None}, 'DAR_USDT-USDT_TRY-DAR_TRY': {'DAR_USDT': {'time': '2024-03-08 09:46:46.759', 'lowestAsk': '0.2258', 'lowestAskSize': '83.4356', 'highestBid': '0.1521', 'highestBidSize': '19.7238'}, 'USDT_TRY': None, 'DAR_TRY': None}, 'BTT_USDT-USDT_TRY-BTT_TRY': {'BTT_USDT': {'time': '2024-03-08 09:50:57.996', 'lowestAsk': '0.0000017529', 'lowestAskSize': '3615347977', 'highestBid': '0.0000017506', 'highestBidSize': '1835943292'}, 'USDT_TRY': None, 'BTT_TRY': None}, 'SOL_FDUSD-FDUSD_TRY-SOL_TRY': {'SOL_FDUSD': None, 'FDUSD_TRY': None, 'SOL_TRY': None}, 'SOL_ETH-ETH_TRY-SOL_TRY': {'SOL_ETH': None, 'ETH_TRY': None, 'SOL_TRY': None}, 'SOL_BNB-BNB_TRY-SOL_TRY': {'SOL_BNB': None, 'BNB_TRY': None, 'SOL_TRY': None}, 'ARPA_USDT-USDT_TRY-ARPA_TRY': {'ARPA_USDT': None, 'USDT_TRY': None, 'ARPA_TRY': None}, 'LEVER_USDT-USDT_TRY-LEVER_TRY': {'LEVER_USDT': None, 'USDT_TRY': None, 'LEVER_TRY': None}, 'ALT_FDUSD-FDUSD_TRY-ALT_TRY': {'ALT_FDUSD': None, 'FDUSD_TRY': None, 'ALT_TRY': None}, 'XRP_BTC-BTC_FDUSD-XRP_FDUSD': {'XRP_BTC': {'time': '2024-03-08 09:48:11.226', 'lowestAsk': '0.00000937', 'lowestAskSize': '1328', 'highestBid': '0.00000935', 'highestBidSize': '10680'}, 'BTC_FDUSD': None, 'XRP_FDUSD': None}, 'SOL_BTC-BTC_FDUSD-SOL_FDUSD': {'SOL_BTC': {'time': '2024-03-08 09:43:56.856', 'lowestAsk': '0.002177', 'lowestAskSize': '1.69', 'highestBid': '0.00217', 'highestBidSize': '0.01'}, 'BTC_FDUSD': None, 'SOL_FDUSD': None}, 'MATIC_BTC-BTC_FDUSD-MATIC_FDUSD': {'MATIC_BTC': {'time': '2024-03-08 09:55:15.395', 'lowestAsk': '0.00001757', 'lowestAskSize': '41', 'highestBid': '0.00001707', 'highestBidSize': '8'}, 'BTC_FDUSD': None, 'MATIC_FDUSD': None}, 'ARB_BTC-BTC_FDUSD-ARB_FDUSD': {'ARB_BTC': None, 'BTC_FDUSD': None, 'ARB_FDUSD': None}, 'BTC_FDUSD-FDUSD_USDT-BTC_USDT': {'BTC_FDUSD': None, 'FDUSD_USDT': None, 'BTC_USDT': {'time': '2024-03-08 09:57:56.559', 'lowestAsk': '67210.97', 'lowestAskSize': '0.122559', 'highestBid': '67200.27', 'highestBidSize': '0.031081'}}, 'ALT_BTC-BTC_FDUSD-ALT_FDUSD': {'ALT_BTC': None, 'BTC_FDUSD': None, 'ALT_FDUSD': None}, 'DYM_BTC-BTC_FDUSD-DYM_FDUSD': {'DYM_BTC': None, 'BTC_FDUSD': None, 'DYM_FDUSD': None}, 'MANTA_BTC-BTC_FDUSD-MANTA_FDUSD': {'MANTA_BTC': None, 'BTC_FDUSD': None, 'MANTA_FDUSD': None}, 'XRP_FDUSD-FDUSD_TRY-XRP_TRY': {'XRP_FDUSD': None, 'FDUSD_TRY': None, 'XRP_TRY': None}, 'DYM_FDUSD-FDUSD_TRY-DYM_TRY': {'DYM_FDUSD': None, 'FDUSD_TRY': None, 'DYM_TRY': None}, 'ARB_FDUSD-FDUSD_TRY-ARB_TRY': {'ARB_FDUSD': None, 'FDUSD_TRY': None, 'ARB_TRY': None}, 'XAI_FDUSD-FDUSD_TRY-XAI_TRY': {'XAI_FDUSD': None, 'FDUSD_TRY': None, 'XAI_TRY': None}, 'FDUSD_USDT-USDT_TRY-FDUSD_TRY': {'FDUSD_USDT': None, 'USDT_TRY': None, 'FDUSD_TRY': None}, 'DOGE_BTC-BTC_USDT-DOGE_USDT': {'DOGE_BTC': {'time': '2024-03-08 09:48:20.472', 'lowestAsk': '0.000002458', 'lowestAskSize': '5376', 'highestBid': '0.00000243', 'highestBidSize': '18992'}, 'BTC_USDT': {'time': '2024-03-08 09:48:21.038', 'lowestAsk': '67185.99', 'lowestAskSize': '0.117342', 'highestBid': '67176.73', 'highestBidSize': '0.039137'}, 'DOGE_USDT': {'time': '2024-03-08 09:48:21.003', 'lowestAsk': '0.165167', 'lowestAskSize': '1337.418', 'highestBid': '0.164959', 'highestBidSize': '8677.662'}}, 'PYTH_USDT-USDT_TRY-PYTH_TRY': {'PYTH_USDT': None, 'USDT_TRY': None, 'PYTH_TRY': None}, 'ATOM_BTC-BTC_USDT-ATOM_USDT': {'ATOM_BTC': {'time': '2024-03-08 09:53:49.452', 'lowestAsk': '0.0002048', 'lowestAskSize': '13.9', 'highestBid': '0.0002009', 'highestBidSize': '0.8'}, 'BTC_USDT': {'time': '2024-03-08 09:53:49.980', 'lowestAsk': '67251.38', 'lowestAskSize': '0.114065', 'highestBid': '67233.04', 'highestBidSize': '0.005191'}, 'ATOM_USDT': {'time': '2024-03-08 09:53:49.523', 'lowestAsk': '13.588', 'lowestAskSize': '10', 'highestBid': '13.561', 'highestBidSize': '28.277308'}}, 'NTRN_BTC-BTC_USDT-NTRN_USDT': {'NTRN_BTC': None, 'BTC_USDT': {'time': '2024-03-08 09:53:06.911', 'lowestAsk': '67235.68', 'lowestAskSize': '0.119205', 'highestBid': '67189.58', 'highestBidSize': '0.033286'}, 'NTRN_USDT': None}, 'NTRN_USDT-USDT_TRY-NTRN_TRY': {'NTRN_USDT': None, 'USDT_TRY': None, 'NTRN_TRY': None}, 'XRP_FDUSD-FDUSD_USDT-XRP_USDT': {'XRP_FDUSD': None, 'FDUSD_USDT': None, 'XRP_USDT': {'time': '2024-03-08 09:57:49.855', 'lowestAsk': '0.6272', 'lowestAskSize': '4647.5233', 'highestBid': '0.6271', 'highestBidSize': '447.7597'}}, 'SUPER_USDT-USDT_TRY-SUPER_TRY': {'SUPER_USDT': {'time': '2024-03-08 09:54:21.097', 'lowestAsk': '1.4358', 'lowestAskSize': '26.5875', 'highestBid': '1.4236', 'highestBidSize': '51.2495'}, 'USDT_TRY': None, 'SUPER_TRY': None}, 'SOL_ETH-ETH_EUR-SOL_EUR': {'SOL_ETH': None, 'ETH_EUR': None, 'SOL_EUR': None}, 'SOL_ETH-ETH_BTC-SOL_BTC': {'SOL_ETH': None, 'ETH_BTC': {'time': '2024-03-08 09:52:29.040', 'lowestAsk': '0.05862', 'lowestAskSize': '0.176', 'highestBid': '0.05854', 'highestBidSize': '0.071'}, 'SOL_BTC': {'time': '2024-03-08 09:52:29.402', 'lowestAsk': '0.002183', 'lowestAskSize': '0.15', 'highestBid': '0.00216', 'highestBidSize': '1.34'}}, 'SOL_BNB-BNB_ETH-SOL_ETH': {'SOL_BNB': None, 'BNB_ETH': None, 'SOL_ETH': None}, 'SOL_ETH-ETH_USDC-SOL_USDC': {'SOL_ETH': None, 'ETH_USDC': {'time': '2024-03-08 09:44:52.579', 'lowestAsk': '3972.31', 'lowestAskSize': '0.02104', 'highestBid': '3951.81', 'highestBidSize': '0.236025'}, 'SOL_USDC': {'time': '2024-03-08 09:44:52.835', 'lowestAsk': '146.89', 'lowestAskSize': '0.187214', 'highestBid': '97', 'highestBidSize': '0.068152'}}, 'SOL_ETH-ETH_BRL-SOL_BRL': {'SOL_ETH': None, 'ETH_BRL': None, 'SOL_BRL': None}, 'ACA_USDT-USDT_TRY-ACA_TRY': {'ACA_USDT': None, 'USDT_TRY': None, 'ACA_TRY': None}, 'SOL_BTC-BTC_EUR-SOL_EUR': {'SOL_BTC': {'time': '2024-03-08 09:47:51.268', 'lowestAsk': '0.002176', 'lowestAskSize': '2.56', 'highestBid': '0.00217', 'highestBidSize': '0.01'}, 'BTC_EUR': None, 'SOL_EUR': None}, 'SOL_BNB-BNB_EUR-SOL_EUR': {'SOL_BNB': None, 'BNB_EUR': None, 'SOL_EUR': None}, 'XRP_ETH-ETH_TRY-XRP_TRY': {'XRP_ETH': None, 'ETH_TRY': None, 'XRP_TRY': None}, 'BNB_ETH-ETH_TRY-BNB_TRY': {'BNB_ETH': None, 'ETH_TRY': None, 'BNB_TRY': None}, 'ETH_USDT-USDT_TRY-ETH_TRY': {'ETH_USDT': {'time': '2024-03-08 09:56:35.769', 'lowestAsk': '3939.42', 'lowestAskSize': '6.407414', 'highestBid': '3938.22', 'highestBidSize': '0.58808'}, 'USDT_TRY': None, 'ETH_TRY': None}, 'ETH_USDT-USDT_BRL-ETH_BRL': {'ETH_USDT': {'time': '2024-03-08 09:56:37.837', 'lowestAsk': '3939.42', 'lowestAskSize': '6.407414', 'highestBid': '3938.24', 'highestBidSize': '0.588076'}, 'USDT_BRL': None, 'ETH_BRL': None}, 'ETH_BTC-BTC_BRL-ETH_BRL': {'ETH_BTC': {'time': '2024-03-08 09:52:29.040', 'lowestAsk': '0.05862', 'lowestAskSize': '0.176', 'highestBid': '0.05854', 'highestBidSize': '0.071'}, 'BTC_BRL': None, 'ETH_BRL': None}, 'XMR_BTC-BTC_USDT-XMR_USDT': {'XMR_BTC': {'time': '2024-03-08 09:49:09.977', 'lowestAsk': '0.002135', 'lowestAskSize': '4.19', 'highestBid': '0.002097', 'highestBidSize': '9.94'}, 'BTC_USDT': {'time': '2024-03-08 09:49:10.520', 'lowestAsk': '67180.12', 'lowestAskSize': '0.110351', 'highestBid': '67180.07', 'highestBidSize': '0.040994'}, 'XMR_USDT': {'time': '2024-03-08 09:49:10.225', 'lowestAsk': '141.31', 'lowestAskSize': '0.045199', 'highestBid': '141.16', 'highestBidSize': '1.86344'}}, 'XRP_USDT-USDT_TRY-XRP_TRY': {'XRP_USDT': {'time': '2024-03-08 09:50:21.452', 'lowestAsk': '0.6288', 'lowestAskSize': '3058.8861', 'highestBid': '0.6285', 'highestBidSize': '690.7500'}, 'USDT_TRY': None, 'XRP_TRY': None}, 'NFP_USDT-USDT_TRY-NFP_TRY': {'NFP_USDT': {'time': '2024-03-08 09:54:10.323', 'lowestAsk': '0.9348', 'lowestAskSize': '101.5268', 'highestBid': '0.6804', 'highestBidSize': '66.1224'}, 'USDT_TRY': None, 'NFP_TRY': None}, 'XRP_EUR-EUR_USDT-XRP_USDT': {'XRP_EUR': None, 'EUR_USDT': None, 'XRP_USDT': {'time': '2024-03-08 09:53:37.107', 'lowestAsk': '0.6285', 'lowestAskSize': '3049.6944', 'highestBid': '0.6283', 'highestBidSize': '763.5602'}}, 'XRP_BTC-BTC_USDT-XRP_USDT': {'XRP_BTC': {'time': '2024-03-08 09:48:11.226', 'lowestAsk': '0.00000937', 'lowestAskSize': '1328', 'highestBid': '0.00000935', 'highestBidSize': '10680'}, 'BTC_USDT': {'time': '2024-03-08 09:48:30.158', 'lowestAsk': '67183.1', 'lowestAskSize': '0.110351', 'highestBid': '67176.73', 'highestBidSize': '0.040949'}, 'XRP_USDT': {'time': '2024-03-08 09:48:31.162', 'lowestAsk': '0.6291', 'lowestAskSize': '3058.8861', 'highestBid': '0.6287', 'highestBidSize': '797.1936'}}, 'XRP_ETH-ETH_USDT-XRP_USDT': {'XRP_ETH': None, 'ETH_USDT': {'time': '2024-03-08 09:57:09.167', 'lowestAsk': '3939.42', 'lowestAskSize': '6.407414', 'highestBid': '3938.27', 'highestBidSize': '0.030011'}, 'XRP_USDT': {'time': '2024-03-08 09:57:09.747', 'lowestAsk': '0.6275', 'lowestAskSize': '3049.6944', 'highestBid': '0.6272', 'highestBidSize': '148.7981'}}, 'BNB_EUR-EUR_USDT-BNB_USDT': {'BNB_EUR': None, 'EUR_USDT': None, 'BNB_USDT': {'time': '2024-03-08 09:55:07.324', 'lowestAsk': '471.99', 'lowestAskSize': '6.72072', 'highestBid': '471.58', 'highestBidSize': '3.53852'}}, 'BTC_EUR-EUR_USDT-BTC_USDT': {'BTC_EUR': None, 'EUR_USDT': None, 'BTC_USDT': {'time': '2024-03-08 09:47:53.029', 'lowestAsk': '67201.49', 'lowestAskSize': '0.116112', 'highestBid': '67173.2', 'highestBidSize': '0.035206'}}, 'ETH_EUR-EUR_USDT-ETH_USDT': {'ETH_EUR': None, 'EUR_USDT': None, 'ETH_USDT': {'time': '2024-03-08 09:56:51.468', 'lowestAsk': '3939.42', 'lowestAskSize': '6.407414', 'highestBid': '3938.24', 'highestBidSize': '0.588068'}}, 'SOL_BNB-BNB_BTC-SOL_BTC': {'SOL_BNB': None, 'BNB_BTC': None, 'SOL_BTC': {'time': '2024-03-08 09:53:14.887', 'lowestAsk': '0.002177', 'lowestAskSize': '0.14', 'highestBid': '0.002165', 'highestBidSize': '15.82'}}, 'SOL_BTC-BTC_BRL-SOL_BRL': {'SOL_BTC': {'time': '2024-03-08 09:56:14.659', 'lowestAsk': '0.002179', 'lowestAskSize': '2.68', 'highestBid': '0.002163', 'highestBidSize': '15.03'}, 'BTC_BRL': None, 'SOL_BRL': None}, 'BEAM_USDT-USDT_TRY-BEAM_TRY': {'BEAM_USDT': None, 'USDT_TRY': None, 'BEAM_TRY': None}, 'BNB_TUSD-TUSD_USDT-BNB_USDT': {'BNB_TUSD': None, 'TUSD_USDT': {'time': '2024-03-08 09:53:29.680', 'lowestAsk': '1.00087', 'lowestAskSize': '84.1535', 'highestBid': '1.00076', 'highestBidSize': '0.0001'}, 'BNB_USDT': {'time': '2024-03-08 09:54:59.252', 'lowestAsk': '472', 'lowestAskSize': '6.301830', 'highestBid': '471.58', 'highestBidSize': '3.538523'}}, 'XRP_ETH-ETH_USDC-XRP_USDC': {'XRP_ETH': None, 'ETH_USDC': {'time': '2024-03-08 09:57:10.498', 'lowestAsk': '3972.09', 'lowestAskSize': '0.004526', 'highestBid': '3951.81', 'highestBidSize': '0.236025'}, 'XRP_USDC': {'time': '2024-03-08 09:56:23.304', 'lowestAsk': '0.6434', 'lowestAskSize': '88.3569', 'highestBid': '0.6066', 'highestBidSize': '80.7781'}}, 'MINA_USDT-USDT_TRY-MINA_TRY': {'MINA_USDT': None, 'USDT_TRY': None, 'MINA_TRY': None}, 'CHR_BTC-BTC_USDT-CHR_USDT': {'CHR_BTC': {'time': '2024-03-08 09:57:00.661', 'lowestAsk': '0.000009939', 'lowestAskSize': '1212', 'highestBid': '0.000004734', 'highestBidSize': '401'}, 'BTC_USDT': {'time': '2024-03-08 09:57:02.022', 'lowestAsk': '67233.48', 'lowestAskSize': '0.130059', 'highestBid': '67207.04', 'highestBidSize': '0.022286'}, 'CHR_USDT': {'time': '2024-03-08 09:56:50.678', 'lowestAsk': '0.3261', 'lowestAskSize': '0.0009', 'highestBid': '0.326', 'highestBidSize': '67.4845'}}, 'BNB_ETH-ETH_USDT-BNB_USDT': {'BNB_ETH': None, 'ETH_USDT': {'time': '2024-03-08 09:56:45.600', 'lowestAsk': '3939.42', 'lowestAskSize': '6.407414', 'highestBid': '3938.28', 'highestBidSize': '0.588067'}, 'BNB_USDT': {'time': '2024-03-08 09:56:46.231', 'lowestAsk': '471.99', 'lowestAskSize': '6.72072', 'highestBid': '471.41', 'highestBidSize': '3.539784'}}, 'BNB_BTC-BTC_USDT-BNB_USDT': {'BNB_BTC': None, 'BTC_USDT': {'time': '2024-03-08 09:48:54.505', 'lowestAsk': '67180.12', 'lowestAskSize': '0.110351', 'highestBid': '67176.73', 'highestBidSize': '0.041007'}, 'BNB_USDT': {'time': '2024-03-08 09:48:54.952', 'lowestAsk': '471.99', 'lowestAskSize': '6.22218', 'highestBid': '471.43', 'highestBidSize': '3.713043'}}, 'BNB_USDT-USDT_TRY-BNB_TRY': {'BNB_USDT': {'time': '2024-03-08 09:50:41.426', 'lowestAsk': '472', 'lowestAskSize': '6.301830', 'highestBid': '471.43', 'highestBidSize': '2.952097'}, 'USDT_TRY': None, 'BNB_TRY': None}, 'APE_USDT-USDT_TRY-APE_TRY': {'APE_USDT': {'time': '2024-03-08 09:55:19.946', 'lowestAsk': '2.155', 'lowestAskSize': '0.52179', 'highestBid': '2.02', 'highestBidSize': '1.48515'}, 'USDT_TRY': None, 'APE_TRY': None}, 'SEI_BTC-BTC_USDT-SEI_USDT': {'SEI_BTC': None, 'BTC_USDT': {'time': '2024-03-08 09:52:17.010', 'lowestAsk': '67240.66', 'lowestAskSize': '0.119875', 'highestBid': '67217.93', 'highestBidSize': '0.14'}, 'SEI_USDT': None}, 'DATA_BTC-BTC_USDT-DATA_USDT': {'DATA_BTC': None, 'BTC_USDT': {'time': '2024-03-08 09:54:19.060', 'lowestAsk': '67197.79', 'lowestAskSize': '0.131897', 'highestBid': '67185.06', 'highestBidSize': '0.041527'}, 'DATA_USDT': None}, 'DYM_USDT-USDT_TRY-DYM_TRY': {'DYM_USDT': None, 'USDT_TRY': None, 'DYM_TRY': None}, 'CYBER_USDT-USDT_TRY-CYBER_TRY': {'CYBER_USDT': None, 'USDT_TRY': None, 'CYBER_TRY': None}, 'CHZ_USDT-USDT_TRY-CHZ_TRY': {'CHZ_USDT': {'time': '2024-03-08 09:53:37.314', 'lowestAsk': '0.15615', 'lowestAskSize': '6.405', 'highestBid': '0.15168', 'highestBidSize': '85.179'}, 'USDT_TRY': None, 'CHZ_TRY': None}, 'DOGE_USDT-USDT_TRY-DOGE_TRY': {'DOGE_USDT': {'time': '2024-03-08 09:50:53.048', 'lowestAsk': '0.165989', 'lowestAskSize': '10000', 'highestBid': '0.165711', 'highestBidSize': '10000'}, 'USDT_TRY': None, 'DOGE_TRY': None}, 'VET_BNB-BNB_ETH-VET_ETH': {'VET_BNB': None, 'BNB_ETH': None, 'VET_ETH': None}, 'BNB_ETH-ETH_BTC-BNB_BTC': {'BNB_ETH': None, 'ETH_BTC': {'time': '2024-03-08 09:52:29.040', 'lowestAsk': '0.05862', 'lowestAskSize': '0.176', 'highestBid': '0.05854', 'highestBidSize': '0.071'}, 'BNB_BTC': None}, 'BNB_ETH-ETH_EUR-BNB_EUR': {'BNB_ETH': None, 'ETH_EUR': None, 'BNB_EUR': None}, 'ARB_FDUSD-FDUSD_USDT-ARB_USDT': {'ARB_FDUSD': None, 'FDUSD_USDT': None, 'ARB_USDT': {'time': '2024-03-08 09:58:06.172', 'lowestAsk': '2.2052', 'lowestAskSize': '8.0000', 'highestBid': '2.198', 'highestBidSize': '0.4601'}}, 'API3_BTC-BTC_USDT-API3_USDT': {'API3_BTC': None, 'BTC_USDT': {'time': '2024-03-08 09:52:54.439', 'lowestAsk': '67242.19', 'lowestAskSize': '0.119205', 'highestBid': '67217.75', 'highestBidSize': '0.033297'}, 'API3_USDT': {'time': '2024-03-08 09:52:51.305', 'lowestAsk': '3.5937', 'lowestAskSize': '0.4493', 'highestBid': '3.2001', 'highestBidSize': '0.9375'}}, 'ARB_BTC-BTC_USDT-ARB_USDT': {'ARB_BTC': None, 'BTC_USDT': {'time': '2024-03-08 09:52:21.303', 'lowestAsk': '67240.66', 'lowestAskSize': '0.119875', 'highestBid': '67218.11', 'highestBidSize': '0.14'}, 'ARB_USDT': {'time': '2024-03-08 09:52:20.711', 'lowestAsk': '2.2052', 'lowestAskSize': '8.0000', 'highestBid': '2.2007', 'highestBidSize': '0.4601'}}, 'AVAX_BTC-BTC_USDT-AVAX_USDT': {'AVAX_BTC': {'time': '2024-03-08 09:46:08.186', 'lowestAsk': '0.000654', 'lowestAskSize': '3.17', 'highestBid': '0.000636', 'highestBidSize': '2.98'}, 'BTC_USDT': {'time': '2024-03-08 09:49:09.324', 'lowestAsk': '67180.12', 'lowestAskSize': '0.110351', 'highestBid': '67176.73', 'highestBidSize': '0.040999'}, 'AVAX_USDT': {'time': '2024-03-08 09:49:08.832', 'lowestAsk': '43.438', 'lowestAskSize': '8.719571', 'highestBid': '43.435', 'highestBidSize': '5.685495'}}, 'DYM_BTC-BTC_USDT-DYM_USDT': {'DYM_BTC': None, 'BTC_USDT': {'time': '2024-03-08 09:53:58.066', 'lowestAsk': '67251.38', 'lowestAskSize': '0.113066', 'highestBid': '67197.6', 'highestBidSize': '0.039451'}, 'DYM_USDT': None}, 'MANTA_BTC-BTC_USDT-MANTA_USDT': {'MANTA_BTC': None, 'BTC_USDT': {'time': '2024-03-08 09:56:03.556', 'lowestAsk': '67249.29', 'lowestAskSize': '0.130059', 'highestBid': '67206.73', 'highestBidSize': '0.022368'}, 'MANTA_USDT': None}, 'BTC_USDT-USDT_BRL-BTC_BRL': {'BTC_USDT': {'time': '2024-03-08 09:51:59.996', 'lowestAsk': '67142.54', 'lowestAskSize': '0.002223', 'highestBid': '67142.49', 'highestBidSize': '0.14'}, 'USDT_BRL': None, 'BTC_BRL': None}, 'ETH_BTC-BTC_USDT-ETH_USDT': {'ETH_BTC': {'time': '2024-03-08 09:56:40.073', 'lowestAsk': '0.05861', 'lowestAskSize': '1.815', 'highestBid': '0.0586', 'highestBidSize': '0.030'}, 'BTC_USDT': {'time': '2024-03-08 09:56:53.558', 'lowestAsk': '67233.48', 'lowestAskSize': '0.130059', 'highestBid': '67206.54', 'highestBidSize': '0.022319'}, 'ETH_USDT': {'time': '2024-03-08 09:56:53.437', 'lowestAsk': '3939.42', 'lowestAskSize': '6.407414', 'highestBid': '3938.26', 'highestBidSize': '0.588064'}}, 'BTC_USDT-USDT_DAI-BTC_DAI': {'BTC_USDT': {'time': '2024-03-08 09:54:15.500', 'lowestAsk': '67200.88', 'lowestAskSize': '0.131897', 'highestBid': '67185.06', 'highestBidSize': '0.041527'}, 'USDT_DAI': None, 'BTC_DAI': None}, 'VET_ETH-ETH_EUR-VET_EUR': {'VET_ETH': None, 'ETH_EUR': None, 'VET_EUR': None}, 'STX_USDT-USDT_TRY-STX_TRY': {'STX_USDT': {'time': '2024-03-08 09:50:58.295', 'lowestAsk': '10', 'lowestAskSize': '3.8169', 'highestBid': '2.4042', 'highestBidSize': '12.2843'}, 'USDT_TRY': None, 'STX_TRY': None}, 'TRB_USDT-USDT_TRY-TRB_TRY': {'TRB_USDT': {'time': '2024-03-08 09:50:53.870', 'lowestAsk': '110.53', 'lowestAskSize': '1.857431', 'highestBid': '94.89', 'highestBidSize': '0.033543'}, 'USDT_TRY': None, 'TRB_TRY': None}, 'ARB_USDT-USDT_TRY-ARB_TRY': {'ARB_USDT': {'time': '2024-03-08 09:52:20.711', 'lowestAsk': '2.2052', 'lowestAskSize': '8.0000', 'highestBid': '2.2007', 'highestBidSize': '0.4601'}, 'USDT_TRY': None, 'ARB_TRY': None}, 'XRP_BTC-BTC_EUR-XRP_EUR': {'XRP_BTC': {'time': '2024-03-08 09:53:33.595', 'lowestAsk': '0.00000935', 'lowestAskSize': '1323', 'highestBid': '0.00000934', 'highestBidSize': '12456'}, 'BTC_EUR': None, 'XRP_EUR': None}, 'BNB_BTC-BTC_EUR-BNB_EUR': {'BNB_BTC': None, 'BTC_EUR': None, 'BNB_EUR': None}, 'ETH_BTC-BTC_EUR-ETH_EUR': {'ETH_BTC': {'time': '2024-03-08 09:52:29.040', 'lowestAsk': '0.05862', 'lowestAskSize': '0.176', 'highestBid': '0.05854', 'highestBidSize': '0.071'}, 'BTC_EUR': None, 'ETH_EUR': None}, 'JTO_USDT-USDT_TRY-JTO_TRY': {'JTO_USDT': {'time': '2024-03-08 09:52:02.472', 'lowestAsk': '3.194', 'lowestAskSize': '14.93398', 'highestBid': '2.867', 'highestBidSize': '1.04639'}, 'USDT_TRY': None, 'JTO_TRY': None}, 'API3_USDT-USDT_TRY-API3_TRY': {'API3_USDT': {'time': '2024-03-08 09:52:55.693', 'lowestAsk': '3.5937', 'lowestAskSize': '0.4493', 'highestBid': '3.2001', 'highestBidSize': '0.9375'}, 'USDT_TRY': None, 'API3_TRY': None}, 'STORJ_USDT-USDT_TRY-STORJ_TRY': {'STORJ_USDT': {'time': '2024-03-08 09:55:14.072', 'lowestAsk': '0.8739', 'lowestAskSize': '3.067', 'highestBid': '0.84', 'highestBidSize': '23.8095'}, 'USDT_TRY': None, 'STORJ_TRY': None}, 'FET_USDT-USDT_TRY-FET_TRY': {'FET_USDT': {'time': '2024-03-08 09:56:21.374', 'lowestAsk': '10', 'lowestAskSize': '5', 'highestBid': '2.491', 'highestBidSize': '1.2029'}, 'USDT_TRY': None, 'FET_TRY': None}, 'XRP_ETH-ETH_BTC-XRP_BTC': {'XRP_ETH': None, 'ETH_BTC': {'time': '2024-03-08 09:56:40.073', 'lowestAsk': '0.05861', 'lowestAskSize': '1.815', 'highestBid': '0.0586', 'highestBidSize': '0.030'}, 'XRP_BTC': {'time': '2024-03-08 09:56:13.217', 'lowestAsk': '0.00000935', 'lowestAskSize': '2694', 'highestBid': '0.00000934', 'highestBidSize': '1856'}}, 'SKL_USDT-USDT_TRY-SKL_TRY': {'SKL_USDT': None, 'USDT_TRY': None, 'SKL_TRY': None}, 'DYM_FDUSD-FDUSD_USDT-DYM_USDT': {'DYM_FDUSD': None, 'FDUSD_USDT': None, 'DYM_USDT': None}, 'MAV_USDT-USDT_TRY-MAV_TRY': {'MAV_USDT': {'time': '2024-03-08 08:19:46.060', 'lowestAsk': '0.6915', 'lowestAskSize': '4.8125', 'highestBid': '0.5957', 'highestBidSize': '198.6984'}, 'USDT_TRY': None, 'MAV_TRY': None}, 'SANTOS_USDT-USDT_TRY-SANTOS_TRY': {'SANTOS_USDT': {'time': '2024-03-08 09:57:06.568', 'lowestAsk': '10', 'lowestAskSize': '4.2877', 'highestBid': '8.116', 'highestBidSize': '0.3697'}, 'USDT_TRY': None, 'SANTOS_TRY': None}, 'MANTA_FDUSD-FDUSD_USDT-MANTA_USDT': {'MANTA_FDUSD': None, 'FDUSD_USDT': None, 'MANTA_USDT': None}, 'XRP_ETH-ETH_EUR-XRP_EUR': {'XRP_ETH': None, 'ETH_EUR': None, 'XRP_EUR': None}, 'SOL_BNB-BNB_TUSD-SOL_TUSD': {'SOL_BNB': None, 'BNB_TUSD': None, 'SOL_TUSD': None}, 'VET_BNB-BNB_EUR-VET_EUR': {'VET_BNB': None, 'BNB_EUR': None, 'VET_EUR': None}}\n"
          ]
        }
      ]
    },
    {
      "cell_type": "markdown",
      "source": [
        "##3.3 Surface Rate Calculation\n",
        "\n",
        "**!!! Fix surface triangular arbitrage calculations**"
      ],
      "metadata": {
        "id": "aFgcSfLjZcaK"
      }
    },
    {
      "cell_type": "code",
      "source": [
        "# Calculate Surface Rate Arbitrage Opportunity\n",
        "def calc_triangular_arb_surface_rate(structured_pair, arbitrageDict):\n",
        "\n",
        "  # Set Variables\n",
        "  starting_amount = 1\n",
        "  min_surface_rate = 0\n",
        "  surface_dict = {}\n",
        "  contract_2 = \"\"\n",
        "  contract_3 = \"\"\n",
        "  direction_trade_1 = \"\"\n",
        "  direction_trade_2 = \"\"\n",
        "  direction_trade_3 = \"\"\n",
        "  acquired_coin_t2 = 0\n",
        "  acquired_coin_t3 = 0\n",
        "  calculated = 0\n",
        "\n",
        "  # Extract Pair Variables\n",
        "  a_base = structured_pair[0].split('_')[0]\n",
        "  a_quote = structured_pair[0].split('_')[1]\n",
        "  b_base = structured_pair[1].split('_')[0]\n",
        "  b_quote = structured_pair[1].split('_')[1]\n",
        "  c_base = structured_pair[2].split('_')[0]\n",
        "  c_quote = structured_pair[2].split('_')[1]\n",
        "\n",
        "  pair_a = structured_pair[0]\n",
        "  pair_b = structured_pair[1]\n",
        "  pair_c = structured_pair[2]\n",
        "\n",
        "  # Extract Price Information\n",
        "  triangleName = structured_pair[0] + \"-\" +  structured_pair[1] + \"-\" +  structured_pair[2]\n",
        "\n",
        "  a_ask = float(arbitrageDict[triangleName][pair_a]['lowestAsk'])\n",
        "  a_bid = float(arbitrageDict[triangleName][pair_a]['highestBid'])\n",
        "  b_ask = float(arbitrageDict[triangleName][pair_b]['lowestAsk'])\n",
        "  b_bid = float(arbitrageDict[triangleName][pair_b]['highestBid'])\n",
        "  c_ask = float(arbitrageDict[triangleName][pair_c]['lowestAsk'])\n",
        "  c_bid = float(arbitrageDict[triangleName][pair_c]['highestBid'])\n",
        "\n",
        "  # Set directions and loop through\n",
        "  direction_list = [\"forward\", \"reverse\"]\n",
        "\n",
        "  for direction in direction_list:\n",
        "    # Set additional variables for swap information\n",
        "    swap_1 = 0\n",
        "    swap_2 = 0\n",
        "    swap_3 = 0\n",
        "    swap_1_rate = 0\n",
        "    swap_2_rate = 0\n",
        "    swap_3_rate = 0\n",
        "\n",
        "    \"\"\"\n",
        "        If we are swapping the coin on the left (Base) to the right (Quote) then multiply 1/Ask\n",
        "        If we are swapping the coin on the right (Quote) to the left (Base) then multily Bid\n",
        "    \"\"\"\n",
        "    # Assume starting with a_base and swapping for a_quote\n",
        "    if direction == \"forward\":\n",
        "      swap_1 = a_base\n",
        "      swap_2 = a_quote\n",
        "      swap_1_rate = 1./a_ask\n",
        "      direction_trade_1 = \"base_to_quote\"\n",
        "\n",
        "    if direction == \"reverse\":\n",
        "      swap_1 = a_quote\n",
        "      swap_2 = a_base\n",
        "      swap_1_rate = a_bid\n",
        "      direction_trade_1 = \"quote_to_base\"\n",
        "\n",
        "    # Place First Trade\n",
        "    contract_1 = pair_a\n",
        "    acquired_coin_t1 = starting_amount * swap_1_rate\n",
        "\n",
        "    \"\"\"\n",
        "      FORWARD\n",
        "    \"\"\"\n",
        "    # SCENARIO 1: Check if a_quote (acquired_coin) matches b_quote\n",
        "    if direction == \"forward\":\n",
        "      if a_quote == b_quote and calculated == 0:\n",
        "        swap_2_rate = b_bid\n",
        "        acquired_coin_t2 = acquired_coin_t1 * swap_2_rate\n",
        "        direction_trade_2 = \"quote_to_base\"\n",
        "        contract_2 = pair_b\n",
        "\n",
        "        # If b_base (acquired coin) matches c_base\n",
        "        if b_base == c_base:\n",
        "          swap_3 = c_base\n",
        "          swap_3_rate = 1./ c_ask\n",
        "          direction_trade_3 = \"base_to_quote\"\n",
        "          contract_3 = pair_c\n",
        "\n",
        "        # If b_base (acquired coin) matches c_quote\n",
        "        if b_base == c_quote:\n",
        "          swap_3 = c_quote\n",
        "          swap_3_rate = c_bid\n",
        "          direction_trade_3 = \"quote_to_base\"\n",
        "          contract_3 = pair_c\n",
        "\n",
        "        acquired_coin_t3 = acquired_coin_t2 * swap_3_rate\n",
        "        calculated = 1\n",
        "\n",
        "      # SCENARIO 2: Check if a_quote (acquired_coin) matches b_base\n",
        "      if direction == \"forward\":\n",
        "        if a_quote == b_base and calculated == 0:\n",
        "          swap_2_rate =1/ b_ask\n",
        "          acquired_coin_t2 = acquired_coin_t1 * swap_2_rate\n",
        "          direction_trade_2 = \"base_to_quote\"\n",
        "          contract_2 = pair_b\n",
        "\n",
        "          # If b_quote (acquired coin) matches c_base\n",
        "          if b_quote == c_base:\n",
        "            swap_3 = c_base\n",
        "            swap_3_rate = 1/ c_ask\n",
        "            direction_trade_3 = \"base_to_quote\"\n",
        "            contract_3 = pair_c\n",
        "\n",
        "          # If b_quote (acquired coin) matches c_quote\n",
        "          if b_quote == c_quote:\n",
        "            swap_3 = c_quote\n",
        "            swap_3_rate = c_bid\n",
        "            direction_trade_3 = \"quote_to_base\"\n",
        "            contract_3 = pair_c\n",
        "\n",
        "          acquired_coin_t3 = acquired_coin_t2 * swap_3_rate\n",
        "          calculated = 1\n",
        "\n",
        "      # SCENARIO 3: Check if a_quote (acquired_coin) matches c_quote\n",
        "      if direction == \"forward\":\n",
        "        if a_quote == c_quote and calculated == 0:\n",
        "          swap_2_rate = c_bid\n",
        "          acquired_coin_t2 = acquired_coin_t1 * swap_2_rate\n",
        "          direction_trade_2 = \"base_to_quote\"\n",
        "          contract_2 = pair_c\n",
        "\n",
        "          # If c_base (acquired coin) matches b_base\n",
        "          if c_base == b_base:\n",
        "            swap_3 = b_base\n",
        "            swap_3_rate = 1./ b_ask\n",
        "            direction_trade_3 = \"base_to_quote\"\n",
        "            contract_3 = pair_b\n",
        "\n",
        "          # If c_base (acquired coin) matches b_quote\n",
        "          if c_base == b_quote:\n",
        "            swap_3 = b_quote\n",
        "            swap_3_rate = b_bid\n",
        "            direction_trade_3 = \"quote_to_base\"\n",
        "            contract_3 = pair_b\n",
        "\n",
        "          acquired_coin_t3 = acquired_coin_t2 * swap_3_rate\n",
        "          calculated = 1\n",
        "\n",
        "      # SCENARIO 4: Check if a_quote (acquired_coin) matches c_base\n",
        "      if direction == \"forward\":\n",
        "        if a_quote == c_base and calculated == 0:\n",
        "          swap_2_rate =1/ c_ask\n",
        "          acquired_coin_t2 = acquired_coin_t1 * swap_2_rate\n",
        "          direction_trade_2 = \"base_to_quote\"\n",
        "          contract_2 = pair_c\n",
        "\n",
        "          # If c_quote (acquired coin) matches b_base\n",
        "          if c_quote == b_base:\n",
        "            swap_3 = b_base\n",
        "            swap_3_rate = 1./ b_ask\n",
        "            direction_trade_3 = \"base_to_quote\"\n",
        "            contract_3 = pair_b\n",
        "\n",
        "          # If c_quote (acquired coin) matches b_quote\n",
        "          if c_quote == b_quote:\n",
        "            swap_3 = b_quote\n",
        "            swap_3_rate = b_bid\n",
        "            direction_trade_3 = \"quote_to_base\"\n",
        "            contract_3 = pair_b\n",
        "\n",
        "          acquired_coin_t3 = acquired_coin_t2 * swap_3_rate\n",
        "          calculated = 1\n",
        "\n",
        "    \"\"\"\n",
        "      REVERSE\n",
        "    \"\"\"\n",
        "    # SCENARIO 1: Check if a_base (acquired_coin) matches b_quote\n",
        "    if direction == \"reverse\":\n",
        "      if a_base == b_quote and calculated == 0:\n",
        "        swap_2_rate = b_bid\n",
        "        acquired_coin_t2 = acquired_coin_t1 * swap_2_rate\n",
        "        direction_trade_2 = \"quote_to_base\"\n",
        "        contract_2 = pair_b\n",
        "\n",
        "        # If b_base (acquired coin) matches c_base\n",
        "        if b_base == c_base:\n",
        "            swap_3 = c_base\n",
        "            swap_3_rate = 1./ c_ask\n",
        "            direction_trade_3 = \"base_to_quote\"\n",
        "            contract_3 = pair_c\n",
        "\n",
        "        # If b_base (acquired coin) matches c_quote\n",
        "        if b_base == c_quote:\n",
        "            swap_3 = c_quote\n",
        "            swap_3_rate = c_bid\n",
        "            direction_trade_3 = \"quote_to_base\"\n",
        "            contract_3 = pair_c\n",
        "\n",
        "        acquired_coin_t3 = acquired_coin_t2 * swap_3_rate\n",
        "        calculated = 1\n",
        "\n",
        "      # SCENARIO 2: Check if a_base (acquired_coin) matches b_base\n",
        "      if direction == \"reverse\":\n",
        "        if a_base == b_base and calculated == 0:\n",
        "          swap_2_rate = 1 / b_ask\n",
        "          acquired_coin_t2 = acquired_coin_t1 * swap_2_rate\n",
        "          direction_trade_2 = \"base_to_quote\"\n",
        "          contract_2 = pair_b\n",
        "\n",
        "          # If b_quote (acquired coin) matches c_base\n",
        "          if b_quote == c_base:\n",
        "            swap_3 = c_base\n",
        "            swap_3_rate = 1/ c_ask\n",
        "            direction_trade_3 = \"base_to_quote\"\n",
        "            contract_3 = pair_c\n",
        "\n",
        "          # If b_quote (acquired coin) matches c_quote\n",
        "          if b_quote == c_quote:\n",
        "            swap_3 = c_quote\n",
        "            swap_3_rate = c_bid\n",
        "            direction_trade_3 = \"quote_to_base\"\n",
        "            contract_3 = pair_c\n",
        "\n",
        "          acquired_coin_t3 = acquired_coin_t2 * swap_3_rate\n",
        "          calculated = 1\n",
        "\n",
        "      # SCENARIO 3: Check if a_base (acquired_coin) matches c_quote\n",
        "      if direction == \"reverse\":\n",
        "        if a_base == c_quote and calculated == 0:\n",
        "          swap_2_rate = c_bid\n",
        "          acquired_coin_t2 = acquired_coin_t1 * swap_2_rate\n",
        "          direction_trade_2 = \"base_to_quote\"\n",
        "          contract_2 = pair_c\n",
        "\n",
        "          # If c_base (acquired coin) matches b_base\n",
        "          if c_base == b_base:\n",
        "            swap_3 = b_base\n",
        "            swap_3_rate = 1./ b_ask\n",
        "            direction_trade_3 = \"base_to_quote\"\n",
        "            contract_3 = pair_b\n",
        "\n",
        "          # If c_base (acquired coin) matches b_quote\n",
        "          if c_base == b_quote:\n",
        "            swap_3 = b_quote\n",
        "            swap_3_rate = b_bid\n",
        "            direction_trade_3 = \"quote_to_base\"\n",
        "            contract_3 = pair_b\n",
        "\n",
        "          acquired_coin_t3 = acquired_coin_t2 * swap_3_rate\n",
        "          calculated = 1\n",
        "\n",
        "      # SCENARIO 4: Check if a_base (acquired_coin) matches c_base\n",
        "      if direction == \"reverse\":\n",
        "        if a_base == c_base and calculated == 0:\n",
        "          swap_2_rate =1/ c_ask\n",
        "          acquired_coin_t2 = acquired_coin_t1 * swap_2_rate\n",
        "          direction_trade_2 = \"base_to_quote\"\n",
        "          contract_2 = pair_c\n",
        "\n",
        "          # If c_quote (acquired coin) matches b_base\n",
        "          if c_quote == b_base:\n",
        "            swap_3 = b_base\n",
        "            swap_3_rate = 1./ b_ask\n",
        "            direction_trade_3 = \"base_to_quote\"\n",
        "            contract_3 = pair_b\n",
        "\n",
        "          # If c_quote (acquired coin) matches b_quote\n",
        "          if c_quote == b_quote:\n",
        "            swap_3 = b_quote\n",
        "            swap_3_rate = b_bid\n",
        "            direction_trade_3 = \"quote_to_base\"\n",
        "            contract_3 = pair_b\n",
        "\n",
        "          acquired_coin_t3 = acquired_coin_t2 * swap_3_rate\n",
        "          calculated = 1\n",
        "    \"\"\"\n",
        "      PROFIT LOSS OUTPUT\n",
        "    \"\"\"\n",
        "    # Profit and Loss Calculations\n",
        "    profit_loss = acquired_coin_t3 - starting_amount\n",
        "    profit_loss_perc = (profit_loss / starting_amount) * 100 if profit_loss != 0 else 0\n",
        "\n",
        "    # Trade Decriptions\n",
        "    trade_description_1 = f\"Start with {swap_1} of {starting_amount}. Swap at {swap_1_rate} for {swap_2} acquiring {acquired_coin_t1}.\"\n",
        "    trade_description_2 = f\"Swap {acquired_coin_t1} of {swap_2} at {swap_2_rate} for {swap_3} acquiring {acquired_coin_t2}.\"\n",
        "    trade_description_3 = f\"Swap {acquired_coin_t2} of {swap_3} at {swap_3_rate} for {swap_1} acquiring {acquired_coin_t3}.\"\n",
        "\n",
        "    #print(arbitrageDict[triangleName])\n",
        "    #print({\n",
        "     #   \"askA\" : a_ask,\n",
        "     #   \"askB\" : b_ask,\n",
        "     #   \"askC\" : c_ask,\n",
        "     #   \"bidA\" : a_bid,\n",
        "     #   \"bidB\" : b_bid,\n",
        "     #   \"bidC\" : c_bid,\n",
        "    #})\n",
        "    #print(direction, pair_a, pair_b, pair_c, starting_amount, acquired_coin_t3)\n",
        "    #print(trade_description_1)\n",
        "    #print(trade_description_2)\n",
        "    #print(trade_description_3)\n",
        "\n",
        "    if profit_loss_perc > min_surface_rate:\n",
        "      surface_dict = {\n",
        "          \"swap_1\": swap_1,\n",
        "          \"swap_2\": swap_2,\n",
        "          \"swap_3\": swap_3,\n",
        "          \"contract_1\": contract_1,\n",
        "          \"contract_2\": contract_2,\n",
        "          \"contract_3\": contract_3,\n",
        "          \"direction_trade_1\": direction_trade_1,\n",
        "          \"direction_trade_2\": direction_trade_2,\n",
        "          \"direction_trade_3\": direction_trade_3,\n",
        "          \"starting_amount\": starting_amount,\n",
        "          \"acquired_coin_t1\": acquired_coin_t1,\n",
        "          \"acquired_coin_t2\": acquired_coin_t2,\n",
        "          \"acquired_coin_t3\": acquired_coin_t3,\n",
        "          \"swap_1_rate\": swap_1_rate,\n",
        "          \"swap_2_rate\": swap_2_rate,\n",
        "          \"swap_3_rate\": swap_3_rate,\n",
        "          \"profit_loss\": profit_loss,\n",
        "          \"profit_loss_perc\": profit_loss_perc,\n",
        "          \"direction\": direction,\n",
        "          \"trade_description_1\": trade_description_1,\n",
        "          \"trade_description_2\": trade_description_2,\n",
        "          \"trade_description_3\": trade_description_3,\n",
        "        }\n",
        "\n",
        "  return surface_dict"
      ],
      "metadata": {
        "id": "VCNFQ0WTQCs_"
      },
      "execution_count": 38,
      "outputs": []
    },
    {
      "cell_type": "code",
      "source": [
        "for triangle in structured_pairs:\n",
        "  try:\n",
        "    surf_arb = calc_triangular_arb_surface_rate(triangle, arbitrageDict)\n",
        "    if bool(surf_arb): # Here we check if a dictionary is empty\n",
        "      print(surf_arb)\n",
        "  except:\n",
        "    pass"
      ],
      "metadata": {
        "colab": {
          "base_uri": "https://localhost:8080/"
        },
        "id": "DhtFRFTlVobb",
        "outputId": "55d04dea-fd68-40da-e20a-d26ced5fd723"
      },
      "execution_count": 39,
      "outputs": [
        {
          "output_type": "stream",
          "name": "stdout",
          "text": [
            "{'swap_1': 'BTC', 'swap_2': 'BCH', 'swap_3': 0, 'contract_1': 'BCH_BTC', 'contract_2': 'BTC_USDT', 'contract_3': 'BCH_USDT', 'direction_trade_1': 'quote_to_base', 'direction_trade_2': 'base_to_quote', 'direction_trade_3': 'quote_to_base', 'starting_amount': 1, 'acquired_coin_t1': 0.00655, 'acquired_coin_t2': 0.0022709217645076733, 'acquired_coin_t3': 1.000363746483275, 'swap_1_rate': 0.00655, 'swap_2_rate': 0, 'swap_3_rate': 0, 'profit_loss': 0.00036374648327508474, 'profit_loss_perc': 0.036374648327508474, 'direction': 'reverse', 'trade_description_1': 'Start with BTC of 1. Swap at 0.00655 for BCH acquiring 0.00655.', 'trade_description_2': 'Swap 0.00655 of BCH at 0 for 0 acquiring 0.0022709217645076733.', 'trade_description_3': 'Swap 0.0022709217645076733 of 0 at 0 for BTC acquiring 1.000363746483275.'}\n",
            "{'swap_1': 'BTC', 'swap_2': 'BCH', 'swap_3': 0, 'contract_1': 'BCH_BTC', 'contract_2': 'BTC_USDT', 'contract_3': 'BCH_USDT', 'direction_trade_1': 'quote_to_base', 'direction_trade_2': 'base_to_quote', 'direction_trade_3': 'quote_to_base', 'starting_amount': 1, 'acquired_coin_t1': 0.00655, 'acquired_coin_t2': 0.0022709217645076733, 'acquired_coin_t3': 1.000363746483275, 'swap_1_rate': 0.00655, 'swap_2_rate': 0, 'swap_3_rate': 0, 'profit_loss': 0.00036374648327508474, 'profit_loss_perc': 0.036374648327508474, 'direction': 'reverse', 'trade_description_1': 'Start with BTC of 1. Swap at 0.00655 for BCH acquiring 0.00655.', 'trade_description_2': 'Swap 0.00655 of BCH at 0 for 0 acquiring 0.0022709217645076733.', 'trade_description_3': 'Swap 0.0022709217645076733 of 0 at 0 for BTC acquiring 1.000363746483275.'}\n",
            "{'swap_1': 'BTC', 'swap_2': 'BCH', 'swap_3': 0, 'contract_1': 'BCH_BTC', 'contract_2': 'BTC_USDT', 'contract_3': 'BCH_USDT', 'direction_trade_1': 'quote_to_base', 'direction_trade_2': 'base_to_quote', 'direction_trade_3': 'quote_to_base', 'starting_amount': 1, 'acquired_coin_t1': 0.00655, 'acquired_coin_t2': 0.0022709217645076733, 'acquired_coin_t3': 1.000363746483275, 'swap_1_rate': 0.00655, 'swap_2_rate': 0, 'swap_3_rate': 0, 'profit_loss': 0.00036374648327508474, 'profit_loss_perc': 0.036374648327508474, 'direction': 'reverse', 'trade_description_1': 'Start with BTC of 1. Swap at 0.00655 for BCH acquiring 0.00655.', 'trade_description_2': 'Swap 0.00655 of BCH at 0 for 0 acquiring 0.0022709217645076733.', 'trade_description_3': 'Swap 0.0022709217645076733 of 0 at 0 for BTC acquiring 1.000363746483275.'}\n",
            "{'swap_1': 'BTC', 'swap_2': 'BCH', 'swap_3': 0, 'contract_1': 'BCH_BTC', 'contract_2': 'BTC_USDT', 'contract_3': 'BCH_USDT', 'direction_trade_1': 'quote_to_base', 'direction_trade_2': 'base_to_quote', 'direction_trade_3': 'quote_to_base', 'starting_amount': 1, 'acquired_coin_t1': 0.00655, 'acquired_coin_t2': 0.0022709217645076733, 'acquired_coin_t3': 1.000363746483275, 'swap_1_rate': 0.00655, 'swap_2_rate': 0, 'swap_3_rate': 0, 'profit_loss': 0.00036374648327508474, 'profit_loss_perc': 0.036374648327508474, 'direction': 'reverse', 'trade_description_1': 'Start with BTC of 1. Swap at 0.00655 for BCH acquiring 0.00655.', 'trade_description_2': 'Swap 0.00655 of BCH at 0 for 0 acquiring 0.0022709217645076733.', 'trade_description_3': 'Swap 0.0022709217645076733 of 0 at 0 for BTC acquiring 1.000363746483275.'}\n"
          ]
        }
      ]
    },
    {
      "cell_type": "markdown",
      "source": [
        "#**4.Calculating Depth**\n",
        "\n",
        "*   Full amount of available starting amount can be eaten on the first level (level 0)\n",
        "*  Some of the amount in can be eaten up by multiple levels\n",
        "*  Some coins may not have enough liquidity\n",
        "\n",
        "**!!! Fix the code to get the depth and direction**"
      ],
      "metadata": {
        "id": "Y7eaS5tUpB_A"
      }
    },
    {
      "cell_type": "code",
      "source": [
        "# Poloniex Orderbook\n",
        "ticker = \"DASH_BTC\"\n",
        "limit = 20\n",
        "# Structure Orderbook\n",
        "ask_prices = []\n",
        "ask_sizes = []\n",
        "counts = 0\n",
        "\n",
        "ob = requests.get(f\"https://api.poloniex.com/markets/{ticker}/orderBook?limit={limit}\")\n",
        "\n",
        "if ob.status_code == 200:\n",
        "  ob_json = json.loads(ob.text)\n",
        "  for a in ob_json[\"asks\"]:\n",
        "    if counts% 2 == 0:\n",
        "      ask_prices.append(a)\n",
        "    else:\n",
        "      ask_sizes.append(a)\n",
        "    counts += 1\n",
        "\n",
        "print(ask_prices)\n",
        "print(ask_sizes)"
      ],
      "metadata": {
        "colab": {
          "base_uri": "https://localhost:8080/"
        },
        "id": "mGYWdM-zr8NJ",
        "outputId": "f625e714-932d-4713-d05d-e76a7e31e702"
      },
      "execution_count": 7,
      "outputs": [
        {
          "output_type": "stream",
          "name": "stdout",
          "text": [
            "['0.000616', '0.000617', '0.000622', '0.000629', '0.000634', '0.000635', '0.00065', '0.000651', '0.000655', '0.000657', '0.000658', '0.00066', '0.000666', '0.000667', '0.000668', '0.000683', '0.000684', '0.000687', '0.000689', '0.000694']\n",
            "['3.18', '0.2', '0.2', '1.84', '0.02', '0.27', '0.03', '2', '0.26', '0.14', '0.74', '0.03', '0.26', '0.05', '1.19', '0.07', '0.10', '0.02', '0.10', '0.10']\n"
          ]
        }
      ]
    },
    {
      "cell_type": "code",
      "source": [
        "def get_depth_from_orderbook(surf_arbitrage_opportunity):\n",
        "  \"\"\"\n",
        "    this function gets depth from the orderbook:\n",
        "    Challenges:\n",
        "    1) Full amount of available starting amount can be eaten on the first level (level 0)\n",
        "    2) Some of the amount in can be eaten up by multiple levels\n",
        "    3) Some coins may not have enough liquidity\n",
        "  \"\"\"\n",
        "\n",
        "  # Extract initial variables\n",
        "  limit = 20\n",
        "  swap_1 = \"DASH\"\n",
        "  starting_amount = 20\n",
        "  starting_amount_dict = {\n",
        "      \"DASH\": 100,\n",
        "      \"USDC\": 100,\n",
        "      \"BTC\": 0.05,\n",
        "      \"ETH\":0.1\n",
        "  }\n",
        "\n",
        "  if swap_1 in starting_amount_dict:\n",
        "    starting_amount = starting_amount_dict[swap_1]\n",
        "\n",
        "  # Define pairs\n",
        "\n",
        "  contract_1 = surf_arbitrage_opportunity[\"contract_1\"]\n",
        "  contract_2 = surf_arbitrage_opportunity[\"contract_2\"]\n",
        "  contract_3 = surf_arbitrage_opportunity[\"contract_3\"]\n",
        "\n",
        "  # Define direction for trades\n",
        "  contract_1_direction = surf_arbitrage_opportunity[\"direction_trade_1\"]\n",
        "  contract_2_direction = surf_arbitrage_opportunity[\"direction_trade_2\"]\n",
        "  contract_3_direction = surf_arbitrage_opportunity[\"direction_trade_3\"]\n",
        "\n",
        "  # Get Order Book for First Trade Assessment\n",
        "  url1 = f\"https://api.poloniex.com/markets/{contract_1}/orderBook?limit={limit}\"\n",
        "  depth_1_prices =  json.loads(requests.get(url1).text)\n",
        "  depth_1_reformatted_prices = reformated_orderbook(depth_1_prices, contract_1_direction)\n",
        "  time.sleep(0.3) # Avoid API call limit\n",
        "\n",
        "  url2 = f\"https://api.poloniex.com/markets/{contract_2}/orderBook?limit={limit}\"\n",
        "  depth_2_prices =  json.loads(requests.get(url2).text)\n",
        "  depth_2_reformatted_prices = reformated_orderbook(depth_2_prices, contract_2_direction)\n",
        "  time.sleep(0.3)\n",
        "\n",
        "  url3 = f\"https://api.poloniex.com/markets/{contract_3}/orderBook?limit={limit}\"\n",
        "  depth_3_prices =  json.loads(requests.get(url3).text)\n",
        "  depth_3_reformatted_prices = reformated_orderbook(depth_3_prices, contract_3_direction)\n",
        "\n",
        "  #Get Acquired Coins\n",
        "  acquired_coin_t1 = calculate_acquired_coin(starting_amount, depth_1_reformatted_prices)\n",
        "  acquired_coin_t2 = calculate_acquired_coin(acquired_coin_t1, depth_2_reformatted_prices)\n",
        "  acquired_coin_t3 = calculate_acquired_coin(acquired_coin_t2, depth_3_reformatted_prices)\n",
        "\n",
        "  #Calculate Profit Loss Also Know As Real Rate\n",
        "  profit_loss = acquired_coin_t3 - starting_amount\n",
        "  real_rate_perc = (profit_loss / starting_amount) * 100 if profit_loss != 0 else 0\n",
        "  print(real_rate_perc)\n",
        "  if real_rate_perc > 0:\n",
        "    return {\n",
        "        \"profit_loss\" : profit_loss,\n",
        "        \"real_rate_perc\": real_rate_perc,\n",
        "        \"contract_1\": contract_1,\n",
        "        \"contract_2\": contract_2,\n",
        "        \"contract_3\": contract_3,\n",
        "        \"contract_1_direction\": contract_1_direction,\n",
        "        \"contract_2_direction\": contract_2_direction,\n",
        "        \"contract_3_direction\": contract_3_direction,\n",
        "    }\n",
        "  else:\n",
        "    return{}"
      ],
      "metadata": {
        "id": "XlgE8641pFjr"
      },
      "execution_count": 46,
      "outputs": []
    },
    {
      "cell_type": "code",
      "source": [
        "def reformated_orderbook(prices, c_direction):\n",
        "  \"\"\"\n",
        "      This function reformats the order book for convenient use\n",
        "  \"\"\"\n",
        "\n",
        "  counts = 0\n",
        "\n",
        "  price_list_main = []\n",
        "  if c_direction == \"base_to_quote\":\n",
        "    for p in prices[\"asks\"]:\n",
        "      if counts % 2 == 0:\n",
        "        ask_price = float(p)\n",
        "        adj_price = 1 / ask_price if ask_price != 0 else 0\n",
        "      else:\n",
        "        adj_quantity = float(p) * ask_price\n",
        "        price_list_main.append([adj_price, adj_quantity])\n",
        "      counts += 1\n",
        "\n",
        "  if c_direction == \"quote_to_base\":\n",
        "    for p in prices[\"bids\"]:\n",
        "      if counts% 2 == 0:\n",
        "        bid_price = float(p)\n",
        "        adj_price = bid_price if bid_price != 0 else 0\n",
        "      else:\n",
        "        adj_quantity = float(p)\n",
        "        price_list_main.append([adj_price, adj_quantity])\n",
        "      counts += 1\n",
        "\n",
        "  return price_list_main"
      ],
      "metadata": {
        "id": "wxpxEjrFNAgt"
      },
      "execution_count": 11,
      "outputs": []
    },
    {
      "cell_type": "code",
      "source": [
        "def calculate_acquired_coin(amount_in, orderbook):\n",
        "  # Initialize Variables\n",
        "  trading_balance = amount_in\n",
        "  quantity_bought = 0\n",
        "  acquired_coin = 0\n",
        "  counts = 0\n",
        "  for level in orderbook:\n",
        "    # Extract the level price and quantity\n",
        "    level_price = level[0]\n",
        "    level_available_quantity = level[1]\n",
        "\n",
        "    # Amount In is <= first level total amount\n",
        "    if trading_balance <= level_available_quantity:\n",
        "      quantity_bought = trading_balance\n",
        "      trading_balance = 0\n",
        "      amount_bought = quantity_bought * level_price\n",
        "    # Amount In is > a given level total amount\n",
        "    elif trading_balance > level_available_quantity:\n",
        "      quantity_bought = level_available_quantity\n",
        "      trading_balance -= quantity_bought\n",
        "      amount_bought = quantity_bought * level_price\n",
        "\n",
        "    #Accumumlate acquired coin\n",
        "    acquired_coin = acquired_coin + amount_bought\n",
        "\n",
        "    # Exit Trade\n",
        "    if trading_balance == 0:\n",
        "      return acquired_coin\n",
        "\n",
        "    # Exit if not enough orderbook levels\n",
        "    counts += 1\n",
        "    if counts == len(orderbook):\n",
        "      return acquired_coin"
      ],
      "metadata": {
        "id": "SFKIHOZXTe83"
      },
      "execution_count": 21,
      "outputs": []
    },
    {
      "cell_type": "code",
      "source": [
        "real_rate_dict = get_depth_from_orderbook()\n"
      ],
      "metadata": {
        "colab": {
          "base_uri": "https://localhost:8080/"
        },
        "id": "k8yBv7-cuyWv",
        "outputId": "160114c2-6764-4780-be04-c17d44d8669e"
      },
      "execution_count": 44,
      "outputs": [
        {
          "output_type": "stream",
          "name": "stdout",
          "text": [
            "-99.9987290171835\n"
          ]
        }
      ]
    },
    {
      "cell_type": "code",
      "source": [
        "for triangle in structured_pairs:\n",
        "  try:\n",
        "    surf_arb = calc_triangular_arb_surface_rate(triangle, arbitrageDict)\n",
        "    real_rate_dict = get_depth_from_orderbook(surf_arb)\n",
        "    print(surf_arb)\n",
        "    if bool(surf_arb): # Here we check if a dictionary is empty\n",
        "      print(real_rate_dict)\n",
        "  except:\n",
        "    pass"
      ],
      "metadata": {
        "colab": {
          "base_uri": "https://localhost:8080/"
        },
        "id": "7t7mfLH57P8x",
        "outputId": "493bed25-e9cd-4ce5-ce3f-1954d87b165a"
      },
      "execution_count": 47,
      "outputs": [
        {
          "output_type": "stream",
          "name": "stdout",
          "text": [
            "-99.99872554642423\n",
            "{'swap_1': 'BTC', 'swap_2': 'BCH', 'swap_3': 0, 'contract_1': 'BCH_BTC', 'contract_2': 'BTC_USDT', 'contract_3': 'BCH_USDT', 'direction_trade_1': 'quote_to_base', 'direction_trade_2': 'base_to_quote', 'direction_trade_3': 'quote_to_base', 'starting_amount': 1, 'acquired_coin_t1': 0.00655, 'acquired_coin_t2': 0.0022709217645076733, 'acquired_coin_t3': 1.000363746483275, 'swap_1_rate': 0.00655, 'swap_2_rate': 0, 'swap_3_rate': 0, 'profit_loss': 0.00036374648327508474, 'profit_loss_perc': 0.036374648327508474, 'direction': 'reverse', 'trade_description_1': 'Start with BTC of 1. Swap at 0.00655 for BCH acquiring 0.00655.', 'trade_description_2': 'Swap 0.00655 of BCH at 0 for 0 acquiring 0.0022709217645076733.', 'trade_description_3': 'Swap 0.0022709217645076733 of 0 at 0 for BTC acquiring 1.000363746483275.'}\n",
            "{}\n",
            "-99.9987255443278\n",
            "{'swap_1': 'BTC', 'swap_2': 'BCH', 'swap_3': 0, 'contract_1': 'BCH_BTC', 'contract_2': 'BTC_USDT', 'contract_3': 'BCH_USDT', 'direction_trade_1': 'quote_to_base', 'direction_trade_2': 'base_to_quote', 'direction_trade_3': 'quote_to_base', 'starting_amount': 1, 'acquired_coin_t1': 0.00655, 'acquired_coin_t2': 0.0022709217645076733, 'acquired_coin_t3': 1.000363746483275, 'swap_1_rate': 0.00655, 'swap_2_rate': 0, 'swap_3_rate': 0, 'profit_loss': 0.00036374648327508474, 'profit_loss_perc': 0.036374648327508474, 'direction': 'reverse', 'trade_description_1': 'Start with BTC of 1. Swap at 0.00655 for BCH acquiring 0.00655.', 'trade_description_2': 'Swap 0.00655 of BCH at 0 for 0 acquiring 0.0022709217645076733.', 'trade_description_3': 'Swap 0.0022709217645076733 of 0 at 0 for BTC acquiring 1.000363746483275.'}\n",
            "{}\n",
            "-99.9987295406893\n",
            "{'swap_1': 'BTC', 'swap_2': 'BCH', 'swap_3': 0, 'contract_1': 'BCH_BTC', 'contract_2': 'BTC_USDT', 'contract_3': 'BCH_USDT', 'direction_trade_1': 'quote_to_base', 'direction_trade_2': 'base_to_quote', 'direction_trade_3': 'quote_to_base', 'starting_amount': 1, 'acquired_coin_t1': 0.00655, 'acquired_coin_t2': 0.0022709217645076733, 'acquired_coin_t3': 1.000363746483275, 'swap_1_rate': 0.00655, 'swap_2_rate': 0, 'swap_3_rate': 0, 'profit_loss': 0.00036374648327508474, 'profit_loss_perc': 0.036374648327508474, 'direction': 'reverse', 'trade_description_1': 'Start with BTC of 1. Swap at 0.00655 for BCH acquiring 0.00655.', 'trade_description_2': 'Swap 0.00655 of BCH at 0 for 0 acquiring 0.0022709217645076733.', 'trade_description_3': 'Swap 0.0022709217645076733 of 0 at 0 for BTC acquiring 1.000363746483275.'}\n",
            "{}\n",
            "-99.99872953912191\n",
            "{'swap_1': 'BTC', 'swap_2': 'BCH', 'swap_3': 0, 'contract_1': 'BCH_BTC', 'contract_2': 'BTC_USDT', 'contract_3': 'BCH_USDT', 'direction_trade_1': 'quote_to_base', 'direction_trade_2': 'base_to_quote', 'direction_trade_3': 'quote_to_base', 'starting_amount': 1, 'acquired_coin_t1': 0.00655, 'acquired_coin_t2': 0.0022709217645076733, 'acquired_coin_t3': 1.000363746483275, 'swap_1_rate': 0.00655, 'swap_2_rate': 0, 'swap_3_rate': 0, 'profit_loss': 0.00036374648327508474, 'profit_loss_perc': 0.036374648327508474, 'direction': 'reverse', 'trade_description_1': 'Start with BTC of 1. Swap at 0.00655 for BCH acquiring 0.00655.', 'trade_description_2': 'Swap 0.00655 of BCH at 0 for 0 acquiring 0.0022709217645076733.', 'trade_description_3': 'Swap 0.0022709217645076733 of 0 at 0 for BTC acquiring 1.000363746483275.'}\n",
            "{}\n"
          ]
        }
      ]
    },
    {
      "cell_type": "markdown",
      "source": [
        "#5.UNISWAP V3 - Calculating Surface Rates"
      ],
      "metadata": {
        "id": "JtcmR96OqMhU"
      }
    },
    {
      "cell_type": "code",
      "source": [
        "# Here we import relevant packages\n",
        "import pandas as pd                 # Pandas library for data organization and manupulation\n",
        "import numpy as np\n",
        "import requests\n",
        "import time\n",
        "import json\n",
        "import collections                  # List operations\n",
        "from itertools import permutations  # Allows us to check all potential triangular arbitrage opportunities for given list of trading pairs"
      ],
      "metadata": {
        "id": "Mh-wehySrOoN"
      },
      "execution_count": 48,
      "outputs": []
    },
    {
      "cell_type": "markdown",
      "source": [
        "##5.1 Understanding and Pulling Liquid Uniswap V3\n",
        "\n",
        "---\n",
        "here is the link for Uniswap https://app.uniswap.org/swap\n",
        "\n",
        "\n"
      ],
      "metadata": {
        "id": "wla_cgp0rPJ6"
      }
    },
    {
      "cell_type": "code",
      "source": [],
      "metadata": {
        "colab": {
          "base_uri": "https://localhost:8080/"
        },
        "id": "b9oqkjWXruu7",
        "outputId": "d9acdd96-b9a1-49da-9af0-da8474b33956"
      },
      "execution_count": null,
      "outputs": [
        {
          "output_type": "stream",
          "name": "stdout",
          "text": [
            "True\n",
            "1\n",
            "2\n",
            "3\n",
            "4\n",
            "task is done <Task finished name='Task-71' coro=<stopwatch() done, defined at <ipython-input-152-fd9b0fb67711>:3> result=None>\n"
          ]
        }
      ]
    }
  ]
}