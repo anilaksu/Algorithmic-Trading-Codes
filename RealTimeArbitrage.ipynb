{
  "nbformat": 4,
  "nbformat_minor": 0,
  "metadata": {
    "colab": {
      "provenance": [],
      "authorship_tag": "ABX9TyM2IRccmOa5P0QoLLgz0+nG",
      "include_colab_link": true
    },
    "kernelspec": {
      "name": "python3",
      "display_name": "Python 3"
    },
    "language_info": {
      "name": "python"
    }
  },
  "cells": [
    {
      "cell_type": "markdown",
      "metadata": {
        "id": "view-in-github",
        "colab_type": "text"
      },
      "source": [
        "<a href=\"https://colab.research.google.com/github/anilaksu/Algorithmic-Trading-Codes/blob/TankX-Real-Time-Arbitrage-Case/RealTimeArbitrage.ipynb\" target=\"_parent\"><img src=\"https://colab.research.google.com/assets/colab-badge.svg\" alt=\"Open In Colab\"/></a>"
      ]
    },
    {
      "cell_type": "markdown",
      "source": [
        "# **TankX Real-Time Arbitrage Case**\n",
        "## *Spring 2024*  \n",
        "Anil Aksu    \n",
        "\n",
        "*February 14th, 2024*  \n",
        "\n",
        "Notebook Organization:\n",
        "\n",
        "*   Getting FX data using Binance WebSockets"
      ],
      "metadata": {
        "id": "YwBXNE4Ki_MW"
      }
    },
    {
      "cell_type": "code",
      "source": [
        "# Here we set our working directory in our google drive to access datasets externally\n",
        "from google.colab import drive\n",
        "drive.mount('/content/gdrive')\n",
        "%cd /content/gdrive/MyDrive/ColabNotebooks/TankX Real Time Arbitrage Case\n",
        "!ls # special shell command to view the files in the home directory of the notebook environment"
      ],
      "metadata": {
        "colab": {
          "base_uri": "https://localhost:8080/"
        },
        "id": "HSbMsn0kfQm7",
        "outputId": "de6591ad-c560-43de-d416-a88ecf2ff052"
      },
      "execution_count": 159,
      "outputs": [
        {
          "output_type": "stream",
          "name": "stdout",
          "text": [
            "Drive already mounted at /content/gdrive; to attempt to forcibly remount, call drive.mount(\"/content/gdrive\", force_remount=True).\n",
            "/content/gdrive/MyDrive/ColabNotebooks/TankX Real Time Arbitrage Case\n",
            "BinanceTradingPairs.gsheet  BinanceTradingPairs.xlsx  RealTimeArbitrage.ipynb\n"
          ]
        }
      ]
    },
    {
      "cell_type": "markdown",
      "source": [
        "#1. Getting Foreign Exchange (FX) data using Binance WebSockets\n"
      ],
      "metadata": {
        "id": "Son7d0V0QhRQ"
      }
    },
    {
      "cell_type": "code",
      "source": [
        "# Here we setup websocket-client\n",
        "!python3 -V\n",
        "!which pip3\n",
        "!pip3 install websocket-client --upgrade --no-cache-dir\n",
        "!pip3 install python-binance --upgrade --no-cache-dir"
      ],
      "metadata": {
        "colab": {
          "base_uri": "https://localhost:8080/"
        },
        "id": "buneq-qJPmPh",
        "outputId": "44e6cb05-167d-47e0-a55a-403b31ed3f26"
      },
      "execution_count": null,
      "outputs": [
        {
          "output_type": "stream",
          "name": "stdout",
          "text": [
            "Python 3.10.12\n",
            "/usr/local/bin/pip3\n",
            "Requirement already satisfied: websocket-client in /usr/local/lib/python3.10/dist-packages (1.7.0)\n",
            "Requirement already satisfied: python-binance in /usr/local/lib/python3.10/dist-packages (1.0.19)\n",
            "Requirement already satisfied: requests in /usr/local/lib/python3.10/dist-packages (from python-binance) (2.31.0)\n",
            "Requirement already satisfied: six in /usr/local/lib/python3.10/dist-packages (from python-binance) (1.16.0)\n",
            "Requirement already satisfied: dateparser in /usr/local/lib/python3.10/dist-packages (from python-binance) (1.2.0)\n",
            "Requirement already satisfied: aiohttp in /usr/local/lib/python3.10/dist-packages (from python-binance) (3.9.3)\n",
            "Requirement already satisfied: ujson in /usr/local/lib/python3.10/dist-packages (from python-binance) (5.9.0)\n",
            "Requirement already satisfied: websockets in /usr/local/lib/python3.10/dist-packages (from python-binance) (12.0)\n",
            "Requirement already satisfied: pycryptodome in /usr/local/lib/python3.10/dist-packages (from python-binance) (3.20.0)\n",
            "Requirement already satisfied: aiosignal>=1.1.2 in /usr/local/lib/python3.10/dist-packages (from aiohttp->python-binance) (1.3.1)\n",
            "Requirement already satisfied: attrs>=17.3.0 in /usr/local/lib/python3.10/dist-packages (from aiohttp->python-binance) (23.2.0)\n",
            "Requirement already satisfied: frozenlist>=1.1.1 in /usr/local/lib/python3.10/dist-packages (from aiohttp->python-binance) (1.4.1)\n",
            "Requirement already satisfied: multidict<7.0,>=4.5 in /usr/local/lib/python3.10/dist-packages (from aiohttp->python-binance) (6.0.5)\n",
            "Requirement already satisfied: yarl<2.0,>=1.0 in /usr/local/lib/python3.10/dist-packages (from aiohttp->python-binance) (1.9.4)\n",
            "Requirement already satisfied: async-timeout<5.0,>=4.0 in /usr/local/lib/python3.10/dist-packages (from aiohttp->python-binance) (4.0.3)\n",
            "Requirement already satisfied: python-dateutil in /usr/local/lib/python3.10/dist-packages (from dateparser->python-binance) (2.8.2)\n",
            "Requirement already satisfied: pytz in /usr/local/lib/python3.10/dist-packages (from dateparser->python-binance) (2023.4)\n",
            "Requirement already satisfied: regex!=2019.02.19,!=2021.8.27 in /usr/local/lib/python3.10/dist-packages (from dateparser->python-binance) (2023.12.25)\n",
            "Requirement already satisfied: tzlocal in /usr/local/lib/python3.10/dist-packages (from dateparser->python-binance) (5.2)\n",
            "Requirement already satisfied: charset-normalizer<4,>=2 in /usr/local/lib/python3.10/dist-packages (from requests->python-binance) (3.3.2)\n",
            "Requirement already satisfied: idna<4,>=2.5 in /usr/local/lib/python3.10/dist-packages (from requests->python-binance) (3.6)\n",
            "Requirement already satisfied: urllib3<3,>=1.21.1 in /usr/local/lib/python3.10/dist-packages (from requests->python-binance) (2.0.7)\n",
            "Requirement already satisfied: certifi>=2017.4.17 in /usr/local/lib/python3.10/dist-packages (from requests->python-binance) (2024.2.2)\n"
          ]
        }
      ]
    },
    {
      "cell_type": "code",
      "source": [
        "# Here we import relevant packages\n",
        "import pandas as pd                 # Pandas library for data organization and manupulation\n",
        "import numpy as np\n",
        "import collections                  # List operations\n",
        "from datetime import datetime       # Importing datetime module\n",
        "import pytz                         # pytz allows us to set timezone\n",
        "import json                         # Json library helps us to retrieve online json formatted data\n",
        "from itertools import permutations  # Allows us to check all potential triangular arbitrage opportunities for given list of trading pairs\n",
        "import websocket"
      ],
      "metadata": {
        "id": "cPOpUO4fRO--"
      },
      "execution_count": 119,
      "outputs": []
    },
    {
      "cell_type": "markdown",
      "source": [
        "##1.1 Pair identification"
      ],
      "metadata": {
        "id": "x1G4zqrbTure"
      }
    },
    {
      "cell_type": "code",
      "source": [
        "#Binance API keys\n",
        "\n",
        "#API Key: fwHUTc5by0bc9a3U1PRN7FlzeDewcooIUm0yg9Uvk25IFNjOJGiQtv0sLOerMwME\n",
        "\n",
        "#Secret Key: ZEeFQ8IBpQBZ1NXwviwvDmMT5zJEtCBq6AkI09cBPCpHZkVQnhmWB6Vb9IMGUPd3"
      ],
      "metadata": {
        "id": "yLtvKHQln2j_"
      },
      "execution_count": null,
      "outputs": []
    },
    {
      "cell_type": "code",
      "source": [
        "def getTriangularArbitrageList(splitted_pairs):\n",
        "  '''\n",
        "    This function identifies all triangular arbitrage permutations by\n",
        "    checking if 3 pairs form a set with size 3\n",
        "  '''\n",
        "  # Here we form all possible triangular arbitrage permutations\n",
        "  tri_all_permutations = permutations([x for x in range(0, len(splitted_pairs))], 3)\n",
        "  # List of an actual triangular pairs by index\n",
        "  tri_arbitrage_list = []\n",
        "  Nonexistant = True # Flag to indicate a permutation already exists in the triangular arbitrage list\n",
        "\n",
        "  for permutation in tri_all_permutations:\n",
        "    # Here order the permutation to make sure we don't add it more than one with different combination\n",
        "    permutation_ordered = [list(permutation)[0], list(permutation)[1], list(permutation)[2]]\n",
        "    # Here we form a set and check if it has 3 elements\n",
        "    assets_permutation = [splitted_pairs[permutation_ordered[0]],\n",
        "                              splitted_pairs[permutation_ordered[1]],splitted_pairs[permutation_ordered[2]]]\n",
        "    all_assets = set().union(*assets_permutation)\n",
        "\n",
        "    if len(all_assets) == 3:\n",
        "      # Here we make sure the order forms a cycle such that [A/B, B/C, A/C]\n",
        "      if(splitted_pairs[permutation_ordered[0]][1] == splitted_pairs[permutation_ordered[2]][0]):\n",
        "        permutation_ordered = [list(permutation)[0], list(permutation)[2], list(permutation)[1]]\n",
        "      elif(splitted_pairs[permutation_ordered[1]][1] == splitted_pairs[permutation_ordered[2]][0]):\n",
        "        permutation_ordered = [list(permutation)[1], list(permutation)[2], list(permutation)[0]]\n",
        "      elif(splitted_pairs[permutation_ordered[1]][1] == splitted_pairs[permutation_ordered[0]][0]):\n",
        "        permutation_ordered = [list(permutation)[1], list(permutation)[0], list(permutation)[2]]\n",
        "      elif(splitted_pairs[permutation_ordered[2]][1] == splitted_pairs[permutation_ordered[0]][0]):\n",
        "        permutation_ordered = [list(permutation)[2], list(permutation)[0], list(permutation)[1]]\n",
        "      elif(splitted_pairs[permutation_ordered[2]][1] == splitted_pairs[permutation_ordered[1]][0]):\n",
        "        permutation_ordered = [list(permutation)[2], list(permutation)[1], list(permutation)[0]]\n",
        "      else:\n",
        "        continue # Here the order is correct and we leave it as it is\n",
        "\n",
        "      # Here we check if a permutation already exists in the list\n",
        "      for permutation in tri_arbitrage_list:\n",
        "        if collections.Counter(permutation) == collections.Counter(permutation_ordered) :\n",
        "          Nonexistant = False\n",
        "        else:\n",
        "          Nonexistant = True\n",
        "\n",
        "      if Nonexistant:\n",
        "        tri_arbitrage_list.append(permutation_ordered)\n",
        "    # Here we remove repeating combinations\n",
        "\n",
        "  return tri_arbitrage_list"
      ],
      "metadata": {
        "id": "3U25NQm8lh4_"
      },
      "execution_count": 250,
      "outputs": []
    },
    {
      "cell_type": "code",
      "source": [
        "# Top 500 Binance Trading Pairs based on their trading volume\n",
        "binance_pairs = pd.read_excel('BinanceTradingPairs.xlsx', sheet_name= 'Final Pairs')['Binance Trading Pairs'].tolist()\n",
        "# Here we split pairs to form a list of triangular arbitrage cycles\n",
        "splitted_pairs = [s.split(\"/\") for s in binance_pairs]\n",
        "# We get all triangular arbitrage pairs\n",
        "tri_arbitrage_list = getTriangularArbitrageList(splitted_pairs)"
      ],
      "metadata": {
        "id": "PfHDxbrYeUS4"
      },
      "execution_count": 203,
      "outputs": []
    },
    {
      "cell_type": "code",
      "source": [
        "# Here we remove / in trading pairs because naming convention in WebSockets\n",
        "binance_pairs = [s.replace('/', '') for s in binance_pairs]\n",
        "# We form a list of triangular arbitrage to check real time and eliminate pairs which do not form a triangular arbitrage opportunity\n",
        "triangular_pairs = [[binance_pairs[tri[0]], binance_pairs[tri[1]],\n",
        "                     binance_pairs[tri[2]]] for tri in tri_arbitrage_list ]\n",
        "# to convert lists to dictionary with splitted pairs to check if any triangular arbitrage opportunity shows later using getTriangularArbitrageList() function\n",
        "pairs_dict = {binance_pairs[i]: splitted_pairs[i] for i in range(len(binance_pairs))}\n",
        "# Here we reduce our list pairs to the ones forming an triangular arbitrage opportunity\n",
        "pairs_refined = list(set().union(*triangular_pairs))\n",
        "# Here we refine the pairs dictionary to the ones forming an triangular arbitrage opportunity\n",
        "pairs_dict = {key: value for key, value in pairs_dict.items() if key in pairs_refined}\n",
        "print(\"Number of pairs we track is: \", len(pairs_dict))"
      ],
      "metadata": {
        "colab": {
          "base_uri": "https://localhost:8080/"
        },
        "id": "zL5THZJW1T8J",
        "outputId": "fd5fd8ec-e214-405b-b14c-5399298cd57d"
      },
      "execution_count": 204,
      "outputs": [
        {
          "output_type": "stream",
          "name": "stdout",
          "text": [
            "Number of pairs we track is:  244\n"
          ]
        }
      ]
    },
    {
      "cell_type": "markdown",
      "source": [
        "##1.2 Create Socket URL"
      ],
      "metadata": {
        "id": "ylepw0E2CFae"
      }
    },
    {
      "cell_type": "code",
      "source": [
        "# Here we organize our merge our pairs and form socket name\n",
        "all_pairs = [coin.lower() + '@bookTicker' for coin in pairs_refined] # Formatted list\n",
        "all_pairs= '/'.join(all_pairs)                         # Joined list\n",
        "socket = \"wss://stream.binance.us:9443/ws/\"+all_pairs\n",
        "socket"
      ],
      "metadata": {
        "colab": {
          "base_uri": "https://localhost:8080/",
          "height": 123
        },
        "id": "uA8H82N5Amzu",
        "outputId": "1b25c7e2-4476-4412-a207-cd90e2a20a13"
      },
      "execution_count": 205,
      "outputs": [
        {
          "output_type": "execute_result",
          "data": {
            "text/plain": [
              "'wss://stream.binance.us:9443/ws/usdcusdt@bookTicker/mantausdt@bookTicker/chzusdt@bookTicker/sklusdt@bookTicker/ftmusdt@bookTicker/arbfdusd@bookTicker/bonkusdt@bookTicker/soleth@bookTicker/shibusdt@bookTicker/dogebtc@bookTicker/veteth@bookTicker/btcusdc@bookTicker/solfdusd@bookTicker/xaitry@bookTicker/avaxfdusd@bookTicker/trbusdt@bookTicker/rndrusdt@bookTicker/chztry@bookTicker/flokitry@bookTicker/solusdc@bookTicker/btttry@bookTicker/avaxbtc@bookTicker/denttry@bookTicker/luncusdt@bookTicker/memetry@bookTicker/trxtry@bookTicker/gasbtc@bookTicker/rndrtry@bookTicker/opusdc@bookTicker/trxbtc@bookTicker/opbtc@bookTicker/ordibtc@bookTicker/shibtry@bookTicker/arpausdt@bookTicker/linketh@bookTicker/memeusdt@bookTicker/fetusdt@bookTicker/jtotry@bookTicker/nfpusdt@bookTicker/dogetry@bookTicker/bonktry@bookTicker/bnbtusd@bookTicker/fettry@bookTicker/ordiusdt@bookTicker/darusdt@bookTicker/maticusdt@bookTicker/orditry@bookTicker/bttusdt@bookTicker/bnbeur@bookTicker/xmrbtc@bookTicker/ltcbtc@bookTicker/adausdt@bookTicker/linkbtc@bookTicker/umatry@bookTicker/avaxusdt@bookTicker/etheur@bookTicker/btceur@bookTicker/mantafdusd@bookTicker/minatry@bookTicker/ethusdc@bookTicker/avaxusdc@bookTicker/imxbtc@bookTicker/cyberusdt@bookTicker/dogeusdt@bookTicker/arpatry@bookTicker/xrptry@bookTicker/bnbusdc@bookTicker/chrbtc@bookTicker/cybertry@bookTicker/ustcfdusd@bookTicker/dotusdt@bookTicker/acetry@bookTicker/aifdusd@bookTicker/usdtdai@bookTicker/vettry@bookTicker/btctusd@bookTicker/arbtry@bookTicker/bnbusdt@bookTicker/altbtc@bookTicker/skltry@bookTicker/bchbtc@bookTicker/minausdt@bookTicker/santosusdt@bookTicker/dymtry@bookTicker/ethtusd@bookTicker/aceusdt@bookTicker/linkusdt@bookTicker/aptbtc@bookTicker/vetbnb@bookTicker/dentusdt@bookTicker/jtousdt@bookTicker/adausdc@bookTicker/idtry@bookTicker/eurusdt@bookTicker/ethbtc@bookTicker/stxbtc@bookTicker/nearusdt@bookTicker/imxusdt@bookTicker/ethbrl@bookTicker/acatry@bookTicker/soltusd@bookTicker/vetusdt@bookTicker/chrusdt@bookTicker/datausdt@bookTicker/bnbeth@bookTicker/maticusdc@bookTicker/linkfdusd@bookTicker/vetbtc@bookTicker/mavusdt@bookTicker/solusdt@bookTicker/stxtry@bookTicker/juptry@bookTicker/xrpusdc@bookTicker/arbusdt@bookTicker/opusdt@bookTicker/tiausdt@bookTicker/alttry@bookTicker/bnbtry@bookTicker/levertry@bookTicker/rifbtc@bookTicker/pythusdt@bookTicker/btcdai@bookTicker/usdttry@bookTicker/storjtry@bookTicker/reeftry@bookTicker/xrpbtc@bookTicker/solbtc@bookTicker/mantabtc@bookTicker/fdusdtry@bookTicker/btctry@bookTicker/wldtry@bookTicker/seifdusd@bookTicker/tusdusdt@bookTicker/bonkfdusd@bookTicker/suitry@bookTicker/adaeur@bookTicker/btcbrl@bookTicker/dymusdt@bookTicker/maticbtc@bookTicker/auctionusdt@bookTicker/wldbtc@bookTicker/adafdusd@bookTicker/bnbbtc@bookTicker/apetry@bookTicker/aptusdt@bookTicker/soltry@bookTicker/seiusdc@bookTicker/injusdt@bookTicker/injbtc@bookTicker/pepetry@bookTicker/wldfdusd@bookTicker/xaiusdt@bookTicker/mboxusdt@bookTicker/ethfdusd@bookTicker/mantatry@bookTicker/avaxtry@bookTicker/santostry@bookTicker/aitry@bookTicker/stxusdt@bookTicker/api3try@bookTicker/arbbtc@bookTicker/altusdt@bookTicker/tiatry@bookTicker/btcusdt@bookTicker/rifusdt@bookTicker/usdtbrl@bookTicker/umausdt@bookTicker/rndrbtc@bookTicker/adabtc@bookTicker/seitry@bookTicker/pythtry@bookTicker/nfptry@bookTicker/xrpusdt@bookTicker/atomusdt@bookTicker/veteur@bookTicker/dotusdc@bookTicker/xrpeur@bookTicker/mboxtry@bookTicker/soleur@bookTicker/solbrl@bookTicker/reefusdt@bookTicker/btcfdusd@bookTicker/fdusdusdt@bookTicker/bchusdt@bookTicker/seiusdt@bookTicker/seibtc@bookTicker/injusdc@bookTicker/supertry@bookTicker/beamtry@bookTicker/storjusdt@bookTicker/pepeusdt@bookTicker/tiabtc@bookTicker/bchfdusd@bookTicker/trxusdt@bookTicker/wldusdt@bookTicker/altfdusd@bookTicker/xaifdusd@bookTicker/dymbtc@bookTicker/beamusdt@bookTicker/dotbtc@bookTicker/trbtry@bookTicker/apttry@bookTicker/api3btc@bookTicker/ntrnbtc@bookTicker/prombtc@bookTicker/jupusdt@bookTicker/injtry@bookTicker/api3usdt@bookTicker/nearbtc@bookTicker/ethusdt@bookTicker/ustctry@bookTicker/dymfdusd@bookTicker/ntrntry@bookTicker/xmrusdt@bookTicker/flokiusdt@bookTicker/leverusdt@bookTicker/aiusdt@bookTicker/xrpeth@bookTicker/ltcusdt@bookTicker/bnbfdusd@bookTicker/gasusdt@bookTicker/lunctry@bookTicker/dartry@bookTicker/superusdt@bookTicker/mavtry@bookTicker/acebtc@bookTicker/promusdt@bookTicker/ethtry@bookTicker/maticfdusd@bookTicker/ntrnusdt@bookTicker/atombtc@bookTicker/databtc@bookTicker/acausdt@bookTicker/dogefdusd@bookTicker/apeusdt@bookTicker/xrpfdusd@bookTicker/arbusdc@bookTicker/suibtc@bookTicker/ustcusdt@bookTicker/ftmbtc@bookTicker/idusdt@bookTicker/auctionbtc@bookTicker/suiusdt@bookTicker/solbnb@bookTicker'"
            ],
            "application/vnd.google.colaboratory.intrinsic+json": {
              "type": "string"
            }
          },
          "metadata": {},
          "execution_count": 205
        }
      ]
    },
    {
      "cell_type": "markdown",
      "source": [
        "##1.2 Trade Socket"
      ],
      "metadata": {
        "id": "R6LPuhlAOngV"
      }
    },
    {
      "cell_type": "markdown",
      "source": [
        "**Individual Symbol Book Ticker Streams**\n",
        "\n",
        "**Change `ticker` to `pair` in data frames!!!**\n",
        "\n",
        "**Payload:**\n",
        "\n",
        "* `u`: order book updateId\n",
        "* `s`: symbol\n",
        "* `b`: best bid price\n",
        "* `B`: best bid qty\n",
        "* `a`: best ask price\n",
        "* `A`: best ask qty"
      ],
      "metadata": {
        "id": "1j3Hhe9dOmkI"
      }
    },
    {
      "cell_type": "code",
      "source": [
        "def manipulation(source):\n",
        "  '''\n",
        "    This function organizes message from WebSocket\n",
        "  '''\n",
        "  ticker = source['s']\n",
        "  bid_price =source['b']\n",
        "  ask_price =source['a']\n",
        "  # Here we keep exact time and time up to second for further analysis\n",
        "  event_time = datetime.now(pytz.timezone('Asia/Istanbul'))\n",
        "  # Bid Data\n",
        "  bid_data = pd.DataFrame(bid_price, columns = ['bid_price'], index = [event_time])\n",
        "  bid_data['ticker'] = ticker\n",
        "  bid_data.index.name = 'timestamp'\n",
        "  bid_data['bid_price'] = bid_data['bid_price'].astype(float)\n",
        "  bid_data = bid_data.reset_index()\n",
        "  # Ask data\n",
        "  ask_data = pd.DataFrame(bid_price, columns = ['ask_price'], index = [event_time])\n",
        "  ask_data['ticker'] = ticker\n",
        "  ask_data.index.name = 'timestamp'\n",
        "  ask_data['ask_price'] = ask_data['ask_price'].astype(float)\n",
        "  ask_data = ask_data.reset_index()\n",
        "  # Merged Data for data pulling updates\n",
        "  df = pd.merge(bid_data, ask_data, left_on=['timestamp','ticker'], right_on=['timestamp','ticker'], how='left')\n",
        "  df = df[['timestamp', 'ticker', 'bid_price', 'ask_price']] # Here we reorder colums for convenience of the output\n",
        "  print(df)                                                  # Here we output data for intermediate checks\n",
        "\n",
        "  return bid_data, ask_data"
      ],
      "metadata": {
        "id": "0Vs-JcyyUVbU"
      },
      "execution_count": 206,
      "outputs": []
    },
    {
      "cell_type": "code",
      "source": [
        "df_bid = pd.DataFrame()\n",
        "df_ask = pd.DataFrame()\n",
        "\n",
        "def on_message(ws, message):\n",
        "  message = json.loads(message)\n",
        "  bid_data, ask_data = manipulation(message)\n",
        "  global df_bid, df_ask                     # Here we access df dataframe globally\n",
        "  df_bid = pd.concat([df_bid ,   bid_data]) # Here we update bid dataframe\n",
        "  df_ask = pd.concat([df_ask ,   ask_data]) # Here we update bid dataframe\n",
        "\n",
        "def on_error(ws, error):\n",
        "  print(error)\n",
        "\n",
        "def on_close(ws, close_status_code, close_msg):\n",
        "  print(\"### closed ###\")\n",
        "  # Time Formatting for bid data\n",
        "  df_bid['timestamp'] = pd.to_datetime(df_bid['timestamp'], unit = 'ms')\n",
        "  df_bid['event_second'] = pd.to_datetime(df_bid['timestamp'].dt.strftime(\"%m/%d/%Y, %H:%M:%S\"))\n",
        "  # Time Formatting for bid data\n",
        "  df_ask['timestamp'] = pd.to_datetime(df_ask['timestamp'], unit = 'ms')\n",
        "  df_ask['event_second'] = pd.to_datetime(df_ask['timestamp'].dt.strftime(\"%m/%d/%Y, %H:%M:%S\"))\n",
        "  print(df_bid, df_ask)\n",
        "\n",
        "def on_open(ws):\n",
        "  print(\"Opened connection\")\n",
        "\n",
        "ws = websocket.WebSocketApp(socket,\n",
        "                            on_open = on_open,\n",
        "                            on_message = on_message,\n",
        "                            on_error = on_error,\n",
        "                            on_close = on_close)"
      ],
      "metadata": {
        "id": "1Cjyh6fcP-gl"
      },
      "execution_count": 231,
      "outputs": []
    },
    {
      "cell_type": "code",
      "source": [
        "ws.run_forever()"
      ],
      "metadata": {
        "colab": {
          "base_uri": "https://localhost:8080/"
        },
        "id": "mdd4ztMdQ7co",
        "outputId": "9d88c9ef-74d4-444f-eb9d-19b488b4d764"
      },
      "execution_count": 232,
      "outputs": [
        {
          "output_type": "stream",
          "name": "stdout",
          "text": [
            "Opened connection\n",
            "                         timestamp   ticker  bid_price  ask_price\n",
            "0 2024-02-17 16:51:27.666399+03:00  BCHUSDT      263.7      263.7\n",
            "                         timestamp   ticker  bid_price  ask_price\n",
            "0 2024-02-17 16:51:27.780854+03:00  BCHUSDT      263.7      263.7\n",
            "                         timestamp   ticker  bid_price  ask_price\n",
            "0 2024-02-17 16:51:27.865393+03:00  SOLUSDC     106.89     106.89\n",
            "                         timestamp   ticker  bid_price  ask_price\n",
            "0 2024-02-17 16:51:27.882030+03:00  SOLUSDC     106.89     106.89\n",
            "                         timestamp   ticker  bid_price  ask_price\n",
            "0 2024-02-17 16:51:27.901285+03:00  LTCUSDT      69.26      69.26\n",
            "                         timestamp   ticker  bid_price  ask_price\n",
            "0 2024-02-17 16:51:27.917486+03:00  LTCUSDT      69.26      69.26\n",
            "                         timestamp    ticker  bid_price  ask_price\n",
            "0 2024-02-17 16:51:27.929601+03:00  LINKUSDT     19.558     19.558\n",
            "                         timestamp   ticker  bid_price  ask_price\n",
            "0 2024-02-17 16:51:27.941722+03:00  BNBUSDT      354.5      354.5\n",
            "                         timestamp    ticker  bid_price  ask_price\n",
            "0 2024-02-17 16:51:27.953915+03:00  LINKUSDT     19.558     19.558\n",
            "                         timestamp   ticker  bid_price  ask_price\n",
            "0 2024-02-17 16:51:27.965592+03:00  ARBUSDT     1.9332     1.9332\n",
            "                         timestamp    ticker  bid_price  ask_price\n",
            "0 2024-02-17 16:51:27.976909+03:00  LINKUSDT     19.558     19.558\n",
            "                         timestamp    ticker  bid_price  ask_price\n",
            "0 2024-02-17 16:51:27.988419+03:00  LINKUSDT     19.558     19.558\n",
            "                         timestamp   ticker  bid_price  ask_price\n",
            "0 2024-02-17 16:51:27.999775+03:00  ARBUSDT     1.9332     1.9332\n",
            "                         timestamp    ticker  bid_price  ask_price\n",
            "0 2024-02-17 16:51:28.012142+03:00  LINKUSDT     19.548     19.548\n",
            "                         timestamp    ticker  bid_price  ask_price\n",
            "0 2024-02-17 16:51:28.024771+03:00  LINKUSDT     19.551     19.551\n",
            "                         timestamp   ticker  bid_price  ask_price\n",
            "0 2024-02-17 16:51:28.036609+03:00  BTCUSDC   51210.93   51210.93\n",
            "                         timestamp   ticker  bid_price  ask_price\n",
            "0 2024-02-17 16:51:28.053104+03:00  BTCUSDT   51202.68   51202.68\n",
            "                         timestamp   ticker  bid_price  ask_price\n",
            "0 2024-02-17 16:51:28.071665+03:00  ETHUSDT    2742.83    2742.83\n",
            "                         timestamp   ticker  bid_price  ask_price\n",
            "0 2024-02-17 16:51:28.085728+03:00  ETHUSDT    2742.83    2742.83\n",
            "                         timestamp   ticker  bid_price  ask_price\n",
            "0 2024-02-17 16:51:28.097024+03:00  ETHUSDT    2742.83    2742.83\n",
            "                         timestamp   ticker  bid_price  ask_price\n",
            "0 2024-02-17 16:51:28.109612+03:00  BTCUSDT   51202.68   51202.68\n",
            "                         timestamp   ticker  bid_price  ask_price\n",
            "0 2024-02-17 16:51:28.123619+03:00  ETHUSDT    2742.83    2742.83\n",
            "                         timestamp   ticker  bid_price  ask_price\n",
            "0 2024-02-17 16:51:28.134355+03:00  ETHUSDT    2742.83    2742.83\n",
            "                         timestamp   ticker  bid_price  ask_price\n",
            "0 2024-02-17 16:51:28.145154+03:00  ETHUSDT    2742.83    2742.83\n",
            "                         timestamp   ticker  bid_price  ask_price\n",
            "0 2024-02-17 16:51:28.155881+03:00  ETHUSDT    2742.83    2742.83\n",
            "                         timestamp   ticker  bid_price  ask_price\n",
            "0 2024-02-17 16:51:28.166629+03:00  BTCUSDT   51202.68   51202.68\n",
            "                         timestamp   ticker  bid_price  ask_price\n",
            "0 2024-02-17 16:51:28.176844+03:00  ETHUSDT    2742.84    2742.84\n",
            "                         timestamp   ticker  bid_price  ask_price\n",
            "0 2024-02-17 16:51:28.187988+03:00  BTCUSDT   51202.68   51202.68\n",
            "                         timestamp   ticker  bid_price  ask_price\n",
            "0 2024-02-17 16:51:28.198570+03:00  BNBUSDT      354.5      354.5\n",
            "                         timestamp   ticker  bid_price  ask_price\n",
            "0 2024-02-17 16:51:28.211293+03:00  BNBUSDT      354.5      354.5\n",
            "                         timestamp   ticker  bid_price  ask_price\n",
            "0 2024-02-17 16:51:28.222225+03:00  XRPUSDT     0.5481     0.5481\n",
            "                         timestamp   ticker  bid_price  ask_price\n",
            "0 2024-02-17 16:51:28.231731+03:00  XRPUSDT      0.548      0.548\n",
            "                         timestamp   ticker  bid_price  ask_price\n",
            "0 2024-02-17 16:51:28.241727+03:00  ETHUSDT    2742.85    2742.85\n",
            "                         timestamp    ticker  bid_price  ask_price\n",
            "0 2024-02-17 16:51:28.251493+03:00  SHIBUSDT    0.00001    0.00001\n",
            "                         timestamp   ticker  bid_price  ask_price\n",
            "0 2024-02-17 16:51:28.263790+03:00  SOLUSDT     107.04     107.04\n",
            "                         timestamp   ticker  bid_price  ask_price\n",
            "0 2024-02-17 16:51:28.281747+03:00  SOLUSDT     107.04     107.04\n",
            "                         timestamp   ticker  bid_price  ask_price\n",
            "0 2024-02-17 16:51:28.293652+03:00  SOLUSDT     107.04     107.04\n",
            "                         timestamp  ticker  bid_price  ask_price\n",
            "0 2024-02-17 16:51:28.303323+03:00  LTCBTC   0.001351   0.001351\n",
            "                         timestamp   ticker  bid_price  ask_price\n",
            "0 2024-02-17 16:51:28.313981+03:00  BCHUSDT      263.7      263.7\n",
            "                         timestamp   ticker  bid_price  ask_price\n",
            "0 2024-02-17 16:51:28.330198+03:00  BCHUSDT      263.7      263.7\n",
            "                         timestamp     ticker  bid_price  ask_price\n",
            "0 2024-02-17 16:51:28.344151+03:00  MATICUSDT      0.919      0.919\n",
            "                         timestamp   ticker  bid_price  ask_price\n",
            "0 2024-02-17 16:51:28.358494+03:00  SOLUSDC     106.89     106.89\n",
            "                         timestamp  ticker  bid_price  ask_price\n",
            "0 2024-02-17 16:51:28.398347+03:00  LTCBTC   0.001351   0.001351\n",
            "                         timestamp   ticker  bid_price  ask_price\n",
            "0 2024-02-17 16:51:28.541331+03:00  BCHUSDT      263.7      263.7\n",
            "                         timestamp   ticker  bid_price  ask_price\n",
            "0 2024-02-17 16:51:28.588914+03:00  SOLUSDT     107.04     107.04\n",
            "                         timestamp   ticker  bid_price  ask_price\n",
            "0 2024-02-17 16:51:28.599820+03:00  SOLUSDT     107.04     107.04\n",
            "                         timestamp   ticker  bid_price  ask_price\n",
            "0 2024-02-17 16:51:28.844345+03:00  XRPUSDT      0.548      0.548\n",
            "                         timestamp   ticker  bid_price  ask_price\n",
            "0 2024-02-17 16:51:28.912217+03:00  BTCUSDT   51202.68   51202.68\n",
            "                         timestamp     ticker  bid_price  ask_price\n",
            "0 2024-02-17 16:51:29.087737+03:00  MATICUSDT      0.919      0.919\n",
            "                         timestamp   ticker  bid_price  ask_price\n",
            "0 2024-02-17 16:51:29.149251+03:00  SOLUSDT     107.04     107.04\n",
            "                         timestamp   ticker  bid_price  ask_price\n",
            "0 2024-02-17 16:51:29.413211+03:00  BTCUSDT   51202.68   51202.68\n",
            "                         timestamp    ticker  bid_price  ask_price\n",
            "0 2024-02-17 16:51:29.548999+03:00  AVAXUSDT       39.0       39.0\n",
            "                         timestamp    ticker  bid_price  ask_price\n",
            "0 2024-02-17 16:51:29.561641+03:00  AVAXUSDT      39.01      39.01\n",
            "                         timestamp    ticker  bid_price  ask_price\n",
            "0 2024-02-17 16:51:29.572971+03:00  AVAXUSDT      39.01      39.01\n",
            "                         timestamp    ticker  bid_price  ask_price\n",
            "0 2024-02-17 16:51:29.583559+03:00  AVAXUSDT      39.01      39.01\n",
            "                         timestamp    ticker  bid_price  ask_price\n",
            "0 2024-02-17 16:51:29.593900+03:00  AVAXUSDT      39.01      39.01\n",
            "                         timestamp    ticker  bid_price  ask_price\n",
            "0 2024-02-17 16:51:29.658000+03:00  AVAXUSDT      39.01      39.01\n",
            "                         timestamp    ticker  bid_price  ask_price\n",
            "0 2024-02-17 16:51:29.702725+03:00  AVAXUSDT      39.01      39.01\n",
            "                         timestamp    ticker  bid_price  ask_price\n",
            "0 2024-02-17 16:51:29.763581+03:00  AVAXUSDT      39.02      39.02\n",
            "                         timestamp    ticker  bid_price  ask_price\n",
            "0 2024-02-17 16:51:29.780047+03:00  AVAXUSDT      39.03      39.03\n",
            "                         timestamp   ticker  bid_price  ask_price\n",
            "0 2024-02-17 16:51:29.795128+03:00  LINKBTC   0.000377   0.000377\n",
            "                         timestamp   ticker  bid_price  ask_price\n",
            "0 2024-02-17 16:51:29.826065+03:00  VETUSDT    0.04368    0.04368\n",
            "                         timestamp   ticker  bid_price  ask_price\n",
            "0 2024-02-17 16:51:29.843255+03:00  VETUSDT    0.04368    0.04368\n",
            "                         timestamp   ticker  bid_price  ask_price\n",
            "0 2024-02-17 16:51:29.912756+03:00  BTCUSDT   51202.68   51202.68\n",
            "\n",
            "### closed ###\n",
            "                          timestamp     bid_price    ticker  \\\n",
            "0  2024-02-17 16:51:27.666399+03:00    263.700000   BCHUSDT   \n",
            "0  2024-02-17 16:51:27.780854+03:00    263.700000   BCHUSDT   \n",
            "0  2024-02-17 16:51:27.865393+03:00    106.890000   SOLUSDC   \n",
            "0  2024-02-17 16:51:27.882030+03:00    106.890000   SOLUSDC   \n",
            "0  2024-02-17 16:51:27.901285+03:00     69.260000   LTCUSDT   \n",
            "..                              ...           ...       ...   \n",
            "0  2024-02-17 16:51:29.780047+03:00     39.030000  AVAXUSDT   \n",
            "0  2024-02-17 16:51:29.795128+03:00      0.000377   LINKBTC   \n",
            "0  2024-02-17 16:51:29.826065+03:00      0.043680   VETUSDT   \n",
            "0  2024-02-17 16:51:29.843255+03:00      0.043680   VETUSDT   \n",
            "0  2024-02-17 16:51:29.912756+03:00  51202.680000   BTCUSDT   \n",
            "\n",
            "          event_second  \n",
            "0  2024-02-17 16:51:27  \n",
            "0  2024-02-17 16:51:27  \n",
            "0  2024-02-17 16:51:27  \n",
            "0  2024-02-17 16:51:27  \n",
            "0  2024-02-17 16:51:27  \n",
            "..                 ...  \n",
            "0  2024-02-17 16:51:29  \n",
            "0  2024-02-17 16:51:29  \n",
            "0  2024-02-17 16:51:29  \n",
            "0  2024-02-17 16:51:29  \n",
            "0  2024-02-17 16:51:29  \n",
            "\n",
            "[64 rows x 4 columns]                           timestamp     ask_price    ticker  \\\n",
            "0  2024-02-17 16:51:27.666399+03:00    263.700000   BCHUSDT   \n",
            "0  2024-02-17 16:51:27.780854+03:00    263.700000   BCHUSDT   \n",
            "0  2024-02-17 16:51:27.865393+03:00    106.890000   SOLUSDC   \n",
            "0  2024-02-17 16:51:27.882030+03:00    106.890000   SOLUSDC   \n",
            "0  2024-02-17 16:51:27.901285+03:00     69.260000   LTCUSDT   \n",
            "..                              ...           ...       ...   \n",
            "0  2024-02-17 16:51:29.780047+03:00     39.030000  AVAXUSDT   \n",
            "0  2024-02-17 16:51:29.795128+03:00      0.000377   LINKBTC   \n",
            "0  2024-02-17 16:51:29.826065+03:00      0.043680   VETUSDT   \n",
            "0  2024-02-17 16:51:29.843255+03:00      0.043680   VETUSDT   \n",
            "0  2024-02-17 16:51:29.912756+03:00  51202.680000   BTCUSDT   \n",
            "\n",
            "          event_second  \n",
            "0  2024-02-17 16:51:27  \n",
            "0  2024-02-17 16:51:27  \n",
            "0  2024-02-17 16:51:27  \n",
            "0  2024-02-17 16:51:27  \n",
            "0  2024-02-17 16:51:27  \n",
            "..                 ...  \n",
            "0  2024-02-17 16:51:29  \n",
            "0  2024-02-17 16:51:29  \n",
            "0  2024-02-17 16:51:29  \n",
            "0  2024-02-17 16:51:29  \n",
            "0  2024-02-17 16:51:29  \n",
            "\n",
            "[64 rows x 4 columns]\n"
          ]
        },
        {
          "output_type": "execute_result",
          "data": {
            "text/plain": [
              "True"
            ]
          },
          "metadata": {},
          "execution_count": 232
        }
      ]
    },
    {
      "cell_type": "markdown",
      "source": [
        "Here I write the raw data as csv file, which inludes data pulled for 2 and half hours"
      ],
      "metadata": {
        "id": "a_G1OaHwRM_5"
      }
    },
    {
      "cell_type": "code",
      "source": [
        "# Here we write the raw data\n",
        "bid_file = 'BidDataRaw.csv'\n",
        "ask_file = 'AskDataRaw.csv'\n",
        "# saving the excel\n",
        "df_bid.to_csv(bid_file)\n",
        "df_ask.to_csv(ask_file)"
      ],
      "metadata": {
        "id": "azYLCtsjQ3ou"
      },
      "execution_count": 235,
      "outputs": []
    },
    {
      "cell_type": "markdown",
      "source": [
        "**Here we read the raw data generated on 2/17/2024, if you just want to focus on the analyses, you can simply use this data and continue**"
      ],
      "metadata": {
        "id": "uKGvlOKiT1Y6"
      }
    },
    {
      "cell_type": "code",
      "source": [
        "# Here we read the previously saved data\n",
        "df_bid = pd.read_csv('BidDataRaw.csv')[['timestamp',\t'bid_price',\t'ticker',\t'event_second']]\n",
        "df_ask = pd.read_csv('AskDataRaw.csv')[['timestamp',\t'ask_price',\t'ticker',\t'event_second']]"
      ],
      "metadata": {
        "id": "WN3FZpaMRoJY"
      },
      "execution_count": 238,
      "outputs": []
    },
    {
      "cell_type": "code",
      "source": [
        "#Here we group by event second and get the latest update on prices in each second\n",
        "df_bid_latest = df_bid.groupby(['event_second', 'ticker']).nth(-1).drop('timestamp', axis = 1).reset_index()\n",
        "df_ask_latest = df_ask.groupby(['event_second', 'ticker']).nth(-1).drop('timestamp', axis = 1).reset_index()"
      ],
      "metadata": {
        "id": "FLwwlXjkwNQx"
      },
      "execution_count": 239,
      "outputs": []
    },
    {
      "cell_type": "markdown",
      "source": [
        "#3. Analysis of Time Series for identifying triangular arbitrage opportunities"
      ],
      "metadata": {
        "id": "5f8IDDa2Eejr"
      }
    },
    {
      "cell_type": "code",
      "source": [
        "def getTriangularArbitrageOpportunities(df_bid_latest, df_ask_latest, pairs_dict, time):\n",
        "  '''\n",
        "    This function checks arbitrage opportunities and stores in a dataframe\n",
        "  '''\n",
        "  pairs = df_bid_latest['ticker'].tolist()                            # Here we get trading pairs at each second\n",
        "  splitted_pairs = [pairs_dict[pair] for pair in pairs]  # Here we get splitted pairs to check which combination has arbitrage potential\n",
        "  tri_arbitrage_list = getTriangularArbitrageList(splitted_pairs)     # We get all triangular arbitrage pairs\n",
        "  # We form a list of triangular arbitrage for bid\n",
        "  triangular_pairs = [[pairs[tri[0]], pairs[tri[1]], pairs[tri[2]]] for tri in tri_arbitrage_list ]\n",
        "  triangular_bid = [[arb[0], df_bid_latest[df_bid_latest['ticker'] == arb[0]]['bid_price'].item(),\n",
        "                     arb[1], df_bid_latest[df_bid_latest['ticker'] == arb[1]]['bid_price'].item(),\n",
        "                     arb[2], df_bid_latest[df_bid_latest['ticker'] == arb[2]]['bid_price'].item()] for arb in triangular_pairs ]\n",
        "  # We form a list of triangular arbitrage for ask\n",
        "  triangular_ask = [[arb[0], df_bid_latest[df_ask_latest['ticker'] == arb[0]]['bid_price'].item(),\n",
        "                     arb[1], df_bid_latest[df_ask_latest['ticker'] == arb[1]]['bid_price'].item(),\n",
        "                     arb[2], df_bid_latest[df_ask_latest['ticker'] == arb[2]]['bid_price'].item()] for arb in triangular_pairs ]\n",
        "\n",
        "  # Here we form a dataframe with arbitrage opportunities for bid\n",
        "  bid_arbitrage = pd.DataFrame(triangular_bid, columns = ['pair_1', 'bid_1' , 'pair_2', 'bid_2', 'pair_3', 'bid_3'])\n",
        "  bid_arbitrage['event_second'] = time\n",
        "  # Here we calculate the ratio to check if there is an arbitrage opportunity\n",
        "  bid_arbitrage['ratio'] = bid_arbitrage['bid_1'] * bid_arbitrage['bid_2'] / bid_arbitrage['bid_3']\n",
        "  # Here we reorder colums for convenience of the output\n",
        "  bid_arbitrage = bid_arbitrage[['event_second', 'pair_1', 'bid_1' , 'pair_2', 'bid_2', 'pair_3', 'bid_3', 'ratio']]\n",
        "  # set the index to the 'event_second' column\n",
        "  bid_arbitrage.set_index('event_second', inplace=True)\n",
        "\n",
        "  # Here we form a dataframe with arbitrage opportunities for bid\n",
        "  ask_arbitrage = pd.DataFrame(triangular_ask, columns = ['pair_1', 'ask_1' , 'pair_2', 'ask_2', 'pair_3', 'ask_3'])\n",
        "  ask_arbitrage['event_second'] = time\n",
        "  # Here we calculate the ratio to check if there is an arbitrage opportunity\n",
        "  ask_arbitrage['ratio'] = ask_arbitrage['ask_1'] * ask_arbitrage['ask_2'] / ask_arbitrage['ask_3']\n",
        "  # Here we reorder colums for convenience of the output\n",
        "  ask_arbitrage = ask_arbitrage[['event_second', 'pair_1', 'ask_1' , 'pair_2', 'ask_2', 'pair_3', 'ask_3', 'ratio']]\n",
        "  # set the index to the 'event_second' column\n",
        "  ask_arbitrage.set_index('event_second', inplace=True)\n",
        "\n",
        "  global df_bid_arbitrage, df_ask_arbitrage\n",
        "  df_bid_arbitrage = pd.concat([df_bid_arbitrage ,   bid_arbitrage]) # Here we update bid dataframe\n",
        "  df_ask_arbitrage = pd.concat([df_ask_arbitrage ,   ask_arbitrage]) # Here we update ask dataframe\n"
      ],
      "metadata": {
        "id": "Hu1fvCEz53eh"
      },
      "execution_count": 253,
      "outputs": []
    },
    {
      "cell_type": "code",
      "source": [
        "# Here we create list of event second to check arbitrage opportunities for each second\n",
        "event_second = df_bid_latest['event_second'].drop_duplicates().tolist()\n",
        "\n",
        "df_bid_arbitrage = pd.DataFrame()\n",
        "df_ask_arbitrage = pd.DataFrame()\n",
        "\n",
        "for time in event_second:\n",
        "  getTriangularArbitrageOpportunities(df_bid_latest[df_bid_latest['event_second'] == time],\n",
        "                                      df_ask_latest[df_ask_latest['event_second'] == time], pairs_dict, time)\n",
        "\n",
        "# Here we do housekeeping of data tables\n",
        "df_bid_arbitrage.drop_duplicates(inplace = True)\n",
        "df_ask_arbitrage.drop_duplicates(inplace = True)\n",
        "df_bid_arbitrage.reset_index(inplace=True)\n",
        "df_ask_arbitrage.reset_index(inplace=True)"
      ],
      "metadata": {
        "id": "XG0yDEIA57i5"
      },
      "execution_count": 254,
      "outputs": []
    },
    {
      "cell_type": "code",
      "source": [
        "df_bid_arbitrage.sort_values(by = 'ratio', ascending = False).head(10)\n",
        "df_ask_arbitrage.sort_values(by = 'ratio', ascending = True).head(10)"
      ],
      "metadata": {
        "colab": {
          "base_uri": "https://localhost:8080/",
          "height": 363
        },
        "id": "yCkV7bUUYTAd",
        "outputId": "db03ad17-a39e-44e4-be89-8de1ad3011ec"
      },
      "execution_count": 256,
      "outputs": [
        {
          "output_type": "execute_result",
          "data": {
            "text/plain": [
              "             event_second   pair_1     ask_1   pair_2     ask_2    pair_3  \\\n",
              "1244  2024-02-17 15:03:46  LINKBTC  0.000370  BTCUSDT  51675.10  LINKUSDT   \n",
              "1290  2024-02-17 15:05:35  LINKBTC  0.000370  BTCUSDT  51674.82  LINKUSDT   \n",
              "1283  2024-02-17 15:05:26  LINKBTC  0.000370  BTCUSDT  51675.10  LINKUSDT   \n",
              "988   2024-02-17 14:46:36  LINKBTC  0.000371  BTCUSDT  51703.14  LINKUSDT   \n",
              "698   2024-02-17 14:34:40  LINKBTC  0.000370  BTCUSDT  51732.86  LINKUSDT   \n",
              "1247  2024-02-17 15:04:00  LINKBTC  0.000371  BTCUSDT  51675.10  LINKUSDT   \n",
              "733   2024-02-17 14:35:13  LINKBTC  0.000371  BTCUSDT  51733.65  LINKUSDT   \n",
              "735   2024-02-17 14:35:15  LINKBTC  0.000371  BTCUSDT  51733.71  LINKUSDT   \n",
              "839   2024-02-17 14:36:49  LINKBTC  0.000372  BTCUSDT  51760.07  LINKUSDT   \n",
              "1005  2024-02-17 14:48:01  LINKBTC  0.000372  BTCUSDT  51699.85  LINKUSDT   \n",
              "\n",
              "       ask_3     ratio  \n",
              "1244  19.491  0.980955  \n",
              "1290  19.490  0.981000  \n",
              "1283  19.490  0.981005  \n",
              "988   19.517  0.982829  \n",
              "698   19.487  0.983315  \n",
              "1247  19.491  0.984666  \n",
              "733   19.486  0.986035  \n",
              "735   19.487  0.986251  \n",
              "839   19.506  0.986323  \n",
              "1005  19.505  0.986551  "
            ],
            "text/html": [
              "\n",
              "  <div id=\"df-42462dfc-291e-452e-83bf-02a8d95438ce\" class=\"colab-df-container\">\n",
              "    <div>\n",
              "<style scoped>\n",
              "    .dataframe tbody tr th:only-of-type {\n",
              "        vertical-align: middle;\n",
              "    }\n",
              "\n",
              "    .dataframe tbody tr th {\n",
              "        vertical-align: top;\n",
              "    }\n",
              "\n",
              "    .dataframe thead th {\n",
              "        text-align: right;\n",
              "    }\n",
              "</style>\n",
              "<table border=\"1\" class=\"dataframe\">\n",
              "  <thead>\n",
              "    <tr style=\"text-align: right;\">\n",
              "      <th></th>\n",
              "      <th>event_second</th>\n",
              "      <th>pair_1</th>\n",
              "      <th>ask_1</th>\n",
              "      <th>pair_2</th>\n",
              "      <th>ask_2</th>\n",
              "      <th>pair_3</th>\n",
              "      <th>ask_3</th>\n",
              "      <th>ratio</th>\n",
              "    </tr>\n",
              "  </thead>\n",
              "  <tbody>\n",
              "    <tr>\n",
              "      <th>1244</th>\n",
              "      <td>2024-02-17 15:03:46</td>\n",
              "      <td>LINKBTC</td>\n",
              "      <td>0.000370</td>\n",
              "      <td>BTCUSDT</td>\n",
              "      <td>51675.10</td>\n",
              "      <td>LINKUSDT</td>\n",
              "      <td>19.491</td>\n",
              "      <td>0.980955</td>\n",
              "    </tr>\n",
              "    <tr>\n",
              "      <th>1290</th>\n",
              "      <td>2024-02-17 15:05:35</td>\n",
              "      <td>LINKBTC</td>\n",
              "      <td>0.000370</td>\n",
              "      <td>BTCUSDT</td>\n",
              "      <td>51674.82</td>\n",
              "      <td>LINKUSDT</td>\n",
              "      <td>19.490</td>\n",
              "      <td>0.981000</td>\n",
              "    </tr>\n",
              "    <tr>\n",
              "      <th>1283</th>\n",
              "      <td>2024-02-17 15:05:26</td>\n",
              "      <td>LINKBTC</td>\n",
              "      <td>0.000370</td>\n",
              "      <td>BTCUSDT</td>\n",
              "      <td>51675.10</td>\n",
              "      <td>LINKUSDT</td>\n",
              "      <td>19.490</td>\n",
              "      <td>0.981005</td>\n",
              "    </tr>\n",
              "    <tr>\n",
              "      <th>988</th>\n",
              "      <td>2024-02-17 14:46:36</td>\n",
              "      <td>LINKBTC</td>\n",
              "      <td>0.000371</td>\n",
              "      <td>BTCUSDT</td>\n",
              "      <td>51703.14</td>\n",
              "      <td>LINKUSDT</td>\n",
              "      <td>19.517</td>\n",
              "      <td>0.982829</td>\n",
              "    </tr>\n",
              "    <tr>\n",
              "      <th>698</th>\n",
              "      <td>2024-02-17 14:34:40</td>\n",
              "      <td>LINKBTC</td>\n",
              "      <td>0.000370</td>\n",
              "      <td>BTCUSDT</td>\n",
              "      <td>51732.86</td>\n",
              "      <td>LINKUSDT</td>\n",
              "      <td>19.487</td>\n",
              "      <td>0.983315</td>\n",
              "    </tr>\n",
              "    <tr>\n",
              "      <th>1247</th>\n",
              "      <td>2024-02-17 15:04:00</td>\n",
              "      <td>LINKBTC</td>\n",
              "      <td>0.000371</td>\n",
              "      <td>BTCUSDT</td>\n",
              "      <td>51675.10</td>\n",
              "      <td>LINKUSDT</td>\n",
              "      <td>19.491</td>\n",
              "      <td>0.984666</td>\n",
              "    </tr>\n",
              "    <tr>\n",
              "      <th>733</th>\n",
              "      <td>2024-02-17 14:35:13</td>\n",
              "      <td>LINKBTC</td>\n",
              "      <td>0.000371</td>\n",
              "      <td>BTCUSDT</td>\n",
              "      <td>51733.65</td>\n",
              "      <td>LINKUSDT</td>\n",
              "      <td>19.486</td>\n",
              "      <td>0.986035</td>\n",
              "    </tr>\n",
              "    <tr>\n",
              "      <th>735</th>\n",
              "      <td>2024-02-17 14:35:15</td>\n",
              "      <td>LINKBTC</td>\n",
              "      <td>0.000371</td>\n",
              "      <td>BTCUSDT</td>\n",
              "      <td>51733.71</td>\n",
              "      <td>LINKUSDT</td>\n",
              "      <td>19.487</td>\n",
              "      <td>0.986251</td>\n",
              "    </tr>\n",
              "    <tr>\n",
              "      <th>839</th>\n",
              "      <td>2024-02-17 14:36:49</td>\n",
              "      <td>LINKBTC</td>\n",
              "      <td>0.000372</td>\n",
              "      <td>BTCUSDT</td>\n",
              "      <td>51760.07</td>\n",
              "      <td>LINKUSDT</td>\n",
              "      <td>19.506</td>\n",
              "      <td>0.986323</td>\n",
              "    </tr>\n",
              "    <tr>\n",
              "      <th>1005</th>\n",
              "      <td>2024-02-17 14:48:01</td>\n",
              "      <td>LINKBTC</td>\n",
              "      <td>0.000372</td>\n",
              "      <td>BTCUSDT</td>\n",
              "      <td>51699.85</td>\n",
              "      <td>LINKUSDT</td>\n",
              "      <td>19.505</td>\n",
              "      <td>0.986551</td>\n",
              "    </tr>\n",
              "  </tbody>\n",
              "</table>\n",
              "</div>\n",
              "    <div class=\"colab-df-buttons\">\n",
              "\n",
              "  <div class=\"colab-df-container\">\n",
              "    <button class=\"colab-df-convert\" onclick=\"convertToInteractive('df-42462dfc-291e-452e-83bf-02a8d95438ce')\"\n",
              "            title=\"Convert this dataframe to an interactive table.\"\n",
              "            style=\"display:none;\">\n",
              "\n",
              "  <svg xmlns=\"http://www.w3.org/2000/svg\" height=\"24px\" viewBox=\"0 -960 960 960\">\n",
              "    <path d=\"M120-120v-720h720v720H120Zm60-500h600v-160H180v160Zm220 220h160v-160H400v160Zm0 220h160v-160H400v160ZM180-400h160v-160H180v160Zm440 0h160v-160H620v160ZM180-180h160v-160H180v160Zm440 0h160v-160H620v160Z\"/>\n",
              "  </svg>\n",
              "    </button>\n",
              "\n",
              "  <style>\n",
              "    .colab-df-container {\n",
              "      display:flex;\n",
              "      gap: 12px;\n",
              "    }\n",
              "\n",
              "    .colab-df-convert {\n",
              "      background-color: #E8F0FE;\n",
              "      border: none;\n",
              "      border-radius: 50%;\n",
              "      cursor: pointer;\n",
              "      display: none;\n",
              "      fill: #1967D2;\n",
              "      height: 32px;\n",
              "      padding: 0 0 0 0;\n",
              "      width: 32px;\n",
              "    }\n",
              "\n",
              "    .colab-df-convert:hover {\n",
              "      background-color: #E2EBFA;\n",
              "      box-shadow: 0px 1px 2px rgba(60, 64, 67, 0.3), 0px 1px 3px 1px rgba(60, 64, 67, 0.15);\n",
              "      fill: #174EA6;\n",
              "    }\n",
              "\n",
              "    .colab-df-buttons div {\n",
              "      margin-bottom: 4px;\n",
              "    }\n",
              "\n",
              "    [theme=dark] .colab-df-convert {\n",
              "      background-color: #3B4455;\n",
              "      fill: #D2E3FC;\n",
              "    }\n",
              "\n",
              "    [theme=dark] .colab-df-convert:hover {\n",
              "      background-color: #434B5C;\n",
              "      box-shadow: 0px 1px 3px 1px rgba(0, 0, 0, 0.15);\n",
              "      filter: drop-shadow(0px 1px 2px rgba(0, 0, 0, 0.3));\n",
              "      fill: #FFFFFF;\n",
              "    }\n",
              "  </style>\n",
              "\n",
              "    <script>\n",
              "      const buttonEl =\n",
              "        document.querySelector('#df-42462dfc-291e-452e-83bf-02a8d95438ce button.colab-df-convert');\n",
              "      buttonEl.style.display =\n",
              "        google.colab.kernel.accessAllowed ? 'block' : 'none';\n",
              "\n",
              "      async function convertToInteractive(key) {\n",
              "        const element = document.querySelector('#df-42462dfc-291e-452e-83bf-02a8d95438ce');\n",
              "        const dataTable =\n",
              "          await google.colab.kernel.invokeFunction('convertToInteractive',\n",
              "                                                    [key], {});\n",
              "        if (!dataTable) return;\n",
              "\n",
              "        const docLinkHtml = 'Like what you see? Visit the ' +\n",
              "          '<a target=\"_blank\" href=https://colab.research.google.com/notebooks/data_table.ipynb>data table notebook</a>'\n",
              "          + ' to learn more about interactive tables.';\n",
              "        element.innerHTML = '';\n",
              "        dataTable['output_type'] = 'display_data';\n",
              "        await google.colab.output.renderOutput(dataTable, element);\n",
              "        const docLink = document.createElement('div');\n",
              "        docLink.innerHTML = docLinkHtml;\n",
              "        element.appendChild(docLink);\n",
              "      }\n",
              "    </script>\n",
              "  </div>\n",
              "\n",
              "\n",
              "<div id=\"df-82352713-8986-4af3-ac25-cefc38753494\">\n",
              "  <button class=\"colab-df-quickchart\" onclick=\"quickchart('df-82352713-8986-4af3-ac25-cefc38753494')\"\n",
              "            title=\"Suggest charts\"\n",
              "            style=\"display:none;\">\n",
              "\n",
              "<svg xmlns=\"http://www.w3.org/2000/svg\" height=\"24px\"viewBox=\"0 0 24 24\"\n",
              "     width=\"24px\">\n",
              "    <g>\n",
              "        <path d=\"M19 3H5c-1.1 0-2 .9-2 2v14c0 1.1.9 2 2 2h14c1.1 0 2-.9 2-2V5c0-1.1-.9-2-2-2zM9 17H7v-7h2v7zm4 0h-2V7h2v10zm4 0h-2v-4h2v4z\"/>\n",
              "    </g>\n",
              "</svg>\n",
              "  </button>\n",
              "\n",
              "<style>\n",
              "  .colab-df-quickchart {\n",
              "      --bg-color: #E8F0FE;\n",
              "      --fill-color: #1967D2;\n",
              "      --hover-bg-color: #E2EBFA;\n",
              "      --hover-fill-color: #174EA6;\n",
              "      --disabled-fill-color: #AAA;\n",
              "      --disabled-bg-color: #DDD;\n",
              "  }\n",
              "\n",
              "  [theme=dark] .colab-df-quickchart {\n",
              "      --bg-color: #3B4455;\n",
              "      --fill-color: #D2E3FC;\n",
              "      --hover-bg-color: #434B5C;\n",
              "      --hover-fill-color: #FFFFFF;\n",
              "      --disabled-bg-color: #3B4455;\n",
              "      --disabled-fill-color: #666;\n",
              "  }\n",
              "\n",
              "  .colab-df-quickchart {\n",
              "    background-color: var(--bg-color);\n",
              "    border: none;\n",
              "    border-radius: 50%;\n",
              "    cursor: pointer;\n",
              "    display: none;\n",
              "    fill: var(--fill-color);\n",
              "    height: 32px;\n",
              "    padding: 0;\n",
              "    width: 32px;\n",
              "  }\n",
              "\n",
              "  .colab-df-quickchart:hover {\n",
              "    background-color: var(--hover-bg-color);\n",
              "    box-shadow: 0 1px 2px rgba(60, 64, 67, 0.3), 0 1px 3px 1px rgba(60, 64, 67, 0.15);\n",
              "    fill: var(--button-hover-fill-color);\n",
              "  }\n",
              "\n",
              "  .colab-df-quickchart-complete:disabled,\n",
              "  .colab-df-quickchart-complete:disabled:hover {\n",
              "    background-color: var(--disabled-bg-color);\n",
              "    fill: var(--disabled-fill-color);\n",
              "    box-shadow: none;\n",
              "  }\n",
              "\n",
              "  .colab-df-spinner {\n",
              "    border: 2px solid var(--fill-color);\n",
              "    border-color: transparent;\n",
              "    border-bottom-color: var(--fill-color);\n",
              "    animation:\n",
              "      spin 1s steps(1) infinite;\n",
              "  }\n",
              "\n",
              "  @keyframes spin {\n",
              "    0% {\n",
              "      border-color: transparent;\n",
              "      border-bottom-color: var(--fill-color);\n",
              "      border-left-color: var(--fill-color);\n",
              "    }\n",
              "    20% {\n",
              "      border-color: transparent;\n",
              "      border-left-color: var(--fill-color);\n",
              "      border-top-color: var(--fill-color);\n",
              "    }\n",
              "    30% {\n",
              "      border-color: transparent;\n",
              "      border-left-color: var(--fill-color);\n",
              "      border-top-color: var(--fill-color);\n",
              "      border-right-color: var(--fill-color);\n",
              "    }\n",
              "    40% {\n",
              "      border-color: transparent;\n",
              "      border-right-color: var(--fill-color);\n",
              "      border-top-color: var(--fill-color);\n",
              "    }\n",
              "    60% {\n",
              "      border-color: transparent;\n",
              "      border-right-color: var(--fill-color);\n",
              "    }\n",
              "    80% {\n",
              "      border-color: transparent;\n",
              "      border-right-color: var(--fill-color);\n",
              "      border-bottom-color: var(--fill-color);\n",
              "    }\n",
              "    90% {\n",
              "      border-color: transparent;\n",
              "      border-bottom-color: var(--fill-color);\n",
              "    }\n",
              "  }\n",
              "</style>\n",
              "\n",
              "  <script>\n",
              "    async function quickchart(key) {\n",
              "      const quickchartButtonEl =\n",
              "        document.querySelector('#' + key + ' button');\n",
              "      quickchartButtonEl.disabled = true;  // To prevent multiple clicks.\n",
              "      quickchartButtonEl.classList.add('colab-df-spinner');\n",
              "      try {\n",
              "        const charts = await google.colab.kernel.invokeFunction(\n",
              "            'suggestCharts', [key], {});\n",
              "      } catch (error) {\n",
              "        console.error('Error during call to suggestCharts:', error);\n",
              "      }\n",
              "      quickchartButtonEl.classList.remove('colab-df-spinner');\n",
              "      quickchartButtonEl.classList.add('colab-df-quickchart-complete');\n",
              "    }\n",
              "    (() => {\n",
              "      let quickchartButtonEl =\n",
              "        document.querySelector('#df-82352713-8986-4af3-ac25-cefc38753494 button');\n",
              "      quickchartButtonEl.style.display =\n",
              "        google.colab.kernel.accessAllowed ? 'block' : 'none';\n",
              "    })();\n",
              "  </script>\n",
              "</div>\n",
              "    </div>\n",
              "  </div>\n"
            ],
            "application/vnd.google.colaboratory.intrinsic+json": {
              "type": "dataframe",
              "repr_error": "0"
            }
          },
          "metadata": {},
          "execution_count": 256
        }
      ]
    },
    {
      "cell_type": "code",
      "source": [
        "# Here we pull the historical stock price data for the companies we are interested in\n",
        "!python3 -V\n",
        "!which pip3\n",
        "!pip3 install yfinance --upgrade --no-cache-dir\n",
        "# Here we import relevant libraries\n",
        "import numpy as np\n",
        "import yfinance as yf\n",
        "import pandas as pd\n",
        "import matplotlib.pyplot as plt\n",
        "\n",
        "\n",
        "RISK_FREE_RATE = 0.05\n",
        "MONTHS_IN_YEAR = 12\n",
        "\n",
        "class CAPM:\n",
        "    def __init__(self, stocks, start_date, end_date):\n",
        "        self.data = None\n",
        "        self.stocks = stocks\n",
        "        self.start_date = start_date\n",
        "        self.end_date = end_date\n",
        "\n",
        "    def download_data(self):\n",
        "\n",
        "        data = {}\n",
        "\n",
        "        for stock in self.stocks:\n",
        "          ticker = yf.download(stock, self.start_date, self.end_date)\n",
        "          data[stock] = ticker['Adj Close']\n",
        "\n",
        "        return pd.DataFrame(data)\n",
        "    def initialize(self):\n",
        "\n",
        "        stock_data = self.download_data()\n",
        "        # print(stock_data) ## this prints daily data\n",
        "        # we use monthly returns instead of daily returns\n",
        "        stock_data = stock_data.resample('M').last() # It returns monthly data so that the returns are approximately normally distributed\n",
        "        #print(stock_data) ## this prints monthly data\n",
        "        self.data = pd.DataFrame({'s_adjclose':stock_data[self.stocks[0]],\n",
        "                                  'm_adjclose': stock_data[self.stocks[1]]})\n",
        "        # logarithmic monthly returns\n",
        "        self.data[['s_returns', 'm_returns']] = np.log(self.data[['s_adjclose','m_adjclose']]/self.data[['s_adjclose','m_adjclose']].shift(1))\n",
        "        # remove NaN values\n",
        "        self.data = self.data[1:]\n",
        "\n",
        "        #print(self.data)\n",
        "\n",
        "    def calculate_beta(self):\n",
        "        # covariance matrix: the diagonal items are the variances\n",
        "        # off diagonals are the covariances\n",
        "        # the matrix is symmetric: cov[0,1] = cov[1,0]\n",
        "        covariance_matrix = np.cov(self.data[\"s_returns\"], self.data[\"m_returns\"])\n",
        "        # calculating beta according to the formul\n",
        "        beta = covariance_matrix[0,1] / covariance_matrix[1,1]\n",
        "        print(\"Beta from formula: \", beta)\n",
        "\n",
        "    def regression(self):\n",
        "        # using linear regression to fit a line to the data\n",
        "        # [stock_returns, market_returns] - slope is the beta\n",
        "        beta, alpha = np.polyfit(self.data['m_returns'], self.data['s_returns'], deg =1 ) # degree states the order of the polynomial\n",
        "        print(\"Beta from regression: \", beta)\n",
        "        # calculate the expected return according to the CAPM formula\n",
        "        expected_return = RISK_FREE_RATE + beta * (self.data['m_returns'].mean() * MONTHS_IN_YEAR - RISK_FREE_RATE)\n",
        "        print(\"Expected return: \", expected_return)\n",
        "        self.plot_regression(alpha, beta)\n",
        "\n",
        "    def plot_regression(self, alpha, beta):\n",
        "        fig, axis = plt.subplots(1, figsize = (20,10))\n",
        "        axis.scatter(self.data[\"m_returns\"], self.data[\"s_returns\"], label=\"Data points\")\n",
        "        axis.plot(self.data[\"m_returns\"], beta * self.data[\"m_returns\"] + alpha, color = 'red'\n",
        "        , label = \"CAPM Line\")\n",
        "        plt.title('Capital Asset Pricing Model, finding alphas and betas')\n",
        "        plt.xlabel('Market return $R_m$', fontsize = 18)\n",
        "        plt.ylabel('Stock return $R_a$')\n",
        "        plt.text(0.08, 0.05, r'$R_a = \\beta * R_m + \\alpha$', fontsize = 18)\n",
        "        plt.legend()\n",
        "        plt.grid(True)\n",
        "        plt.show()"
      ],
      "metadata": {
        "id": "DwsKcE5293k7",
        "colab": {
          "base_uri": "https://localhost:8080/"
        },
        "outputId": "24beb592-c19d-4386-bbc6-6db6cdd61e35"
      },
      "execution_count": null,
      "outputs": [
        {
          "output_type": "stream",
          "name": "stdout",
          "text": [
            "Python 3.10.12\n",
            "/usr/local/bin/pip3\n",
            "Requirement already satisfied: yfinance in /usr/local/lib/python3.10/dist-packages (0.2.36)\n",
            "Requirement already satisfied: pandas>=1.3.0 in /usr/local/lib/python3.10/dist-packages (from yfinance) (1.5.3)\n",
            "Requirement already satisfied: numpy>=1.16.5 in /usr/local/lib/python3.10/dist-packages (from yfinance) (1.25.2)\n",
            "Requirement already satisfied: requests>=2.31 in /usr/local/lib/python3.10/dist-packages (from yfinance) (2.31.0)\n",
            "Requirement already satisfied: multitasking>=0.0.7 in /usr/local/lib/python3.10/dist-packages (from yfinance) (0.0.11)\n",
            "Requirement already satisfied: lxml>=4.9.1 in /usr/local/lib/python3.10/dist-packages (from yfinance) (4.9.4)\n",
            "Requirement already satisfied: appdirs>=1.4.4 in /usr/local/lib/python3.10/dist-packages (from yfinance) (1.4.4)\n",
            "Requirement already satisfied: pytz>=2022.5 in /usr/local/lib/python3.10/dist-packages (from yfinance) (2023.4)\n",
            "Requirement already satisfied: frozendict>=2.3.4 in /usr/local/lib/python3.10/dist-packages (from yfinance) (2.4.0)\n",
            "Requirement already satisfied: peewee>=3.16.2 in /usr/local/lib/python3.10/dist-packages (from yfinance) (3.17.1)\n",
            "Requirement already satisfied: beautifulsoup4>=4.11.1 in /usr/local/lib/python3.10/dist-packages (from yfinance) (4.12.3)\n",
            "Requirement already satisfied: html5lib>=1.1 in /usr/local/lib/python3.10/dist-packages (from yfinance) (1.1)\n",
            "Requirement already satisfied: soupsieve>1.2 in /usr/local/lib/python3.10/dist-packages (from beautifulsoup4>=4.11.1->yfinance) (2.5)\n",
            "Requirement already satisfied: six>=1.9 in /usr/local/lib/python3.10/dist-packages (from html5lib>=1.1->yfinance) (1.16.0)\n",
            "Requirement already satisfied: webencodings in /usr/local/lib/python3.10/dist-packages (from html5lib>=1.1->yfinance) (0.5.1)\n",
            "Requirement already satisfied: python-dateutil>=2.8.1 in /usr/local/lib/python3.10/dist-packages (from pandas>=1.3.0->yfinance) (2.8.2)\n",
            "Requirement already satisfied: charset-normalizer<4,>=2 in /usr/local/lib/python3.10/dist-packages (from requests>=2.31->yfinance) (3.3.2)\n",
            "Requirement already satisfied: idna<4,>=2.5 in /usr/local/lib/python3.10/dist-packages (from requests>=2.31->yfinance) (3.6)\n",
            "Requirement already satisfied: urllib3<3,>=1.21.1 in /usr/local/lib/python3.10/dist-packages (from requests>=2.31->yfinance) (2.0.7)\n",
            "Requirement already satisfied: certifi>=2017.4.17 in /usr/local/lib/python3.10/dist-packages (from requests>=2.31->yfinance) (2024.2.2)\n"
          ]
        },
        {
          "output_type": "stream",
          "name": "stderr",
          "text": [
            "/usr/local/lib/python3.10/dist-packages/yfinance/base.py:48: FutureWarning: The default dtype for empty Series will be 'object' instead of 'float64' in a future version. Specify a dtype explicitly to silence this warning.\n",
            "  _empty_series = pd.Series()\n"
          ]
        }
      ]
    },
    {
      "cell_type": "code",
      "source": [
        "if __name__ == '__main__':\n",
        "\n",
        "  capm = CAPM(['IBM','^GSPC'], '2010-01-01', '2017-01-01') # Note that ^GSPC stands for S&P 500 market data\n",
        "  capm.initialize()\n",
        "  capm.calculate_beta()\n",
        "  capm.regression()"
      ],
      "metadata": {
        "colab": {
          "base_uri": "https://localhost:8080/",
          "height": 850
        },
        "id": "55ngquIfusnt",
        "outputId": "8c9bc13d-ad44-4def-ea8a-617516ac53df"
      },
      "execution_count": null,
      "outputs": [
        {
          "output_type": "stream",
          "name": "stderr",
          "text": [
            "[*********************100%%**********************]  1 of 1 completed\n",
            "[*********************100%%**********************]  1 of 1 completed\n"
          ]
        },
        {
          "output_type": "stream",
          "name": "stdout",
          "text": [
            "Beta from formula:  0.7135081361798091\n",
            "Beta from regression:  0.7135081361798088\n",
            "Expected return:  0.09011303213185631\n"
          ]
        },
        {
          "output_type": "display_data",
          "data": {
            "text/plain": [
              "<Figure size 2000x1000 with 1 Axes>"
            ],
            "image/png": "[encoded data removed]"
          },
          "metadata": {}
        }
      ]
    },
    {
      "cell_type": "markdown",
      "source": [
        "#3. Picking the right currency after arbitrage"
      ],
      "metadata": {
        "id": "sOOp8U3saCYR"
      }
    }
  ]
}