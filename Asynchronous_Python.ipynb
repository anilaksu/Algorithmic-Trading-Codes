{
  "nbformat": 4,
  "nbformat_minor": 0,
  "metadata": {
    "colab": {
      "provenance": [],
      "authorship_tag": "ABX9TyNu2+y1cG5RE12z7/dKS+DT",
      "include_colab_link": true
    },
    "kernelspec": {
      "name": "python3",
      "display_name": "Python 3"
    },
    "language_info": {
      "name": "python"
    }
  },
  "cells": [
    {
      "cell_type": "markdown",
      "metadata": {
        "id": "view-in-github",
        "colab_type": "text"
      },
      "source": [
        "<a href=\"https://colab.research.google.com/github/anilaksu/Algorithmic-Trading-Codes/blob/Web-scraping-with-Asyncio-in-Python/Asynchronous_Python.ipynb\" target=\"_parent\"><img src=\"https://colab.research.google.com/assets/colab-badge.svg\" alt=\"Open In Colab\"/></a>"
      ]
    },
    {
      "cell_type": "markdown",
      "source": [
        "# **Web scraping with Asyncio and Python**\n",
        "\n",
        "\n",
        "Anil Aksu\n",
        "\n",
        "Personal e-mail: aaa293@cornell.edu\n",
        "\n",
        "**Asyncio allows us to concurrent programming in Python**\n",
        "\n",
        "**Outline:**\n",
        "\n",
        "\n",
        "1.   Fundamentals\n",
        "  * Synchronous vs Asynchronous\n",
        "  * Blocking & Timeouts\n",
        "  * Scraping with Selenium\n",
        "  * Async Web Scraping with chrome driver and arsenic\n",
        "  * Hide Arsenic logs\n",
        "2.   Extraction & Formatting\n",
        "  * Async Data with Python Pandas\n",
        "  * Prepare to scrape multiple URLS\n",
        "  * Extract Product Data\n",
        "  * Async Product Data Extraction\n",
        "3.   Prepare for re-usability\n",
        "  * Modules & Submodules\n",
        "  * Service Specific Submodule\n",
        "  * Decouple logging & scraper\n",
        "4.   Storing Data\n",
        "  * Synchronous SQL storage with Pandas\n",
        "  * Store scrapped data to SQL\n",
        "  * Inspect stored data in Jupyter\n",
        "  * Scraping URLs from stored link table\n",
        "  * Scrape paginated list view\n",
        "  * Results & Timing\n",
        "\n"
      ],
      "metadata": {
        "id": "ghlOehn-HIE2"
      }
    },
    {
      "cell_type": "markdown",
      "source": [
        "#**1.Fundamentals**"
      ],
      "metadata": {
        "id": "Q39-mq18Rz8A"
      }
    },
    {
      "cell_type": "code",
      "source": [
        "# Here we install required libraries for asynchronous programming\n",
        "!python3 -V\n",
        "!which pip3\n",
        "!pip3 install requests-html --upgrade --no-cache-dir\n",
        "!pip3 install selenium --upgrade --no-cache-dir\n",
        "!pip3 install arsenic --upgrade --no-cache-dir"
      ],
      "metadata": {
        "colab": {
          "base_uri": "https://localhost:8080/"
        },
        "id": "sqfLm1RrUCKG",
        "outputId": "a67ae76a-1a81-4b3a-e9f5-e58ca231fd39"
      },
      "execution_count": 3,
      "outputs": [
        {
          "output_type": "stream",
          "name": "stdout",
          "text": [
            "Python 3.10.12\n",
            "/usr/local/bin/pip3\n",
            "Requirement already satisfied: requests-html in /usr/local/lib/python3.10/dist-packages (0.10.0)\n",
            "Requirement already satisfied: requests in /usr/local/lib/python3.10/dist-packages (from requests-html) (2.31.0)\n",
            "Requirement already satisfied: pyquery in /usr/local/lib/python3.10/dist-packages (from requests-html) (2.0.0)\n",
            "Requirement already satisfied: fake-useragent in /usr/local/lib/python3.10/dist-packages (from requests-html) (1.4.0)\n",
            "Requirement already satisfied: parse in /usr/local/lib/python3.10/dist-packages (from requests-html) (1.20.1)\n",
            "Requirement already satisfied: bs4 in /usr/local/lib/python3.10/dist-packages (from requests-html) (0.0.2)\n",
            "Requirement already satisfied: w3lib in /usr/local/lib/python3.10/dist-packages (from requests-html) (2.1.2)\n",
            "Requirement already satisfied: pyppeteer>=0.0.14 in /usr/local/lib/python3.10/dist-packages (from requests-html) (2.0.0)\n",
            "Requirement already satisfied: appdirs<2.0.0,>=1.4.3 in /usr/local/lib/python3.10/dist-packages (from pyppeteer>=0.0.14->requests-html) (1.4.4)\n",
            "Requirement already satisfied: certifi>=2023 in /usr/local/lib/python3.10/dist-packages (from pyppeteer>=0.0.14->requests-html) (2024.2.2)\n",
            "Requirement already satisfied: importlib-metadata>=1.4 in /usr/local/lib/python3.10/dist-packages (from pyppeteer>=0.0.14->requests-html) (7.0.1)\n",
            "Requirement already satisfied: pyee<12.0.0,>=11.0.0 in /usr/local/lib/python3.10/dist-packages (from pyppeteer>=0.0.14->requests-html) (11.1.0)\n",
            "Requirement already satisfied: tqdm<5.0.0,>=4.42.1 in /usr/local/lib/python3.10/dist-packages (from pyppeteer>=0.0.14->requests-html) (4.66.2)\n",
            "Requirement already satisfied: urllib3<2.0.0,>=1.25.8 in /usr/local/lib/python3.10/dist-packages (from pyppeteer>=0.0.14->requests-html) (1.26.18)\n",
            "Requirement already satisfied: websockets<11.0,>=10.0 in /usr/local/lib/python3.10/dist-packages (from pyppeteer>=0.0.14->requests-html) (10.4)\n",
            "Requirement already satisfied: beautifulsoup4 in /usr/local/lib/python3.10/dist-packages (from bs4->requests-html) (4.12.3)\n",
            "Requirement already satisfied: lxml>=2.1 in /usr/local/lib/python3.10/dist-packages (from pyquery->requests-html) (4.9.4)\n",
            "Requirement already satisfied: cssselect>=1.2.0 in /usr/local/lib/python3.10/dist-packages (from pyquery->requests-html) (1.2.0)\n",
            "Requirement already satisfied: charset-normalizer<4,>=2 in /usr/local/lib/python3.10/dist-packages (from requests->requests-html) (3.3.2)\n",
            "Requirement already satisfied: idna<4,>=2.5 in /usr/local/lib/python3.10/dist-packages (from requests->requests-html) (3.6)\n",
            "Requirement already satisfied: zipp>=0.5 in /usr/local/lib/python3.10/dist-packages (from importlib-metadata>=1.4->pyppeteer>=0.0.14->requests-html) (3.17.0)\n",
            "Requirement already satisfied: typing-extensions in /usr/local/lib/python3.10/dist-packages (from pyee<12.0.0,>=11.0.0->pyppeteer>=0.0.14->requests-html) (4.9.0)\n",
            "Requirement already satisfied: soupsieve>1.2 in /usr/local/lib/python3.10/dist-packages (from beautifulsoup4->bs4->requests-html) (2.5)\n",
            "Collecting selenium\n",
            "  Downloading selenium-4.18.1-py3-none-any.whl (10.0 MB)\n",
            "\u001b[2K     \u001b[90m━━━━━━━━━━━━━━━━━━━━━━━━━━━━━━━━━━━━━━━━\u001b[0m \u001b[32m10.0/10.0 MB\u001b[0m \u001b[31m36.1 MB/s\u001b[0m eta \u001b[36m0:00:00\u001b[0m\n",
            "\u001b[?25hRequirement already satisfied: urllib3[socks]<3,>=1.26 in /usr/local/lib/python3.10/dist-packages (from selenium) (1.26.18)\n",
            "Collecting trio~=0.17 (from selenium)\n",
            "  Downloading trio-0.24.0-py3-none-any.whl (460 kB)\n",
            "\u001b[2K     \u001b[90m━━━━━━━━━━━━━━━━━━━━━━━━━━━━━━━━━━━━━━━━\u001b[0m \u001b[32m460.2/460.2 kB\u001b[0m \u001b[31m280.8 MB/s\u001b[0m eta \u001b[36m0:00:00\u001b[0m\n",
            "\u001b[?25hCollecting trio-websocket~=0.9 (from selenium)\n",
            "  Downloading trio_websocket-0.11.1-py3-none-any.whl (17 kB)\n",
            "Requirement already satisfied: certifi>=2021.10.8 in /usr/local/lib/python3.10/dist-packages (from selenium) (2024.2.2)\n",
            "Requirement already satisfied: typing_extensions>=4.9.0 in /usr/local/lib/python3.10/dist-packages (from selenium) (4.9.0)\n",
            "Requirement already satisfied: attrs>=20.1.0 in /usr/local/lib/python3.10/dist-packages (from trio~=0.17->selenium) (23.2.0)\n",
            "Requirement already satisfied: sortedcontainers in /usr/local/lib/python3.10/dist-packages (from trio~=0.17->selenium) (2.4.0)\n",
            "Requirement already satisfied: idna in /usr/local/lib/python3.10/dist-packages (from trio~=0.17->selenium) (3.6)\n",
            "Collecting outcome (from trio~=0.17->selenium)\n",
            "  Downloading outcome-1.3.0.post0-py2.py3-none-any.whl (10 kB)\n",
            "Requirement already satisfied: sniffio>=1.3.0 in /usr/local/lib/python3.10/dist-packages (from trio~=0.17->selenium) (1.3.0)\n",
            "Requirement already satisfied: exceptiongroup in /usr/local/lib/python3.10/dist-packages (from trio~=0.17->selenium) (1.2.0)\n",
            "Collecting wsproto>=0.14 (from trio-websocket~=0.9->selenium)\n",
            "  Downloading wsproto-1.2.0-py3-none-any.whl (24 kB)\n",
            "Requirement already satisfied: PySocks!=1.5.7,<2.0,>=1.5.6 in /usr/local/lib/python3.10/dist-packages (from urllib3[socks]<3,>=1.26->selenium) (1.7.1)\n",
            "Collecting h11<1,>=0.9.0 (from wsproto>=0.14->trio-websocket~=0.9->selenium)\n",
            "  Downloading h11-0.14.0-py3-none-any.whl (58 kB)\n",
            "\u001b[2K     \u001b[90m━━━━━━━━━━━━━━━━━━━━━━━━━━━━━━━━━━━━━━━━\u001b[0m \u001b[32m58.3/58.3 kB\u001b[0m \u001b[31m143.5 MB/s\u001b[0m eta \u001b[36m0:00:00\u001b[0m\n",
            "\u001b[?25hInstalling collected packages: outcome, h11, wsproto, trio, trio-websocket, selenium\n",
            "Successfully installed h11-0.14.0 outcome-1.3.0.post0 selenium-4.18.1 trio-0.24.0 trio-websocket-0.11.1 wsproto-1.2.0\n",
            "Collecting arsenic\n",
            "  Downloading arsenic-21.8-py3-none-any.whl (18 kB)\n",
            "Requirement already satisfied: aiohttp>=3 in /usr/local/lib/python3.10/dist-packages (from arsenic) (3.9.3)\n",
            "Requirement already satisfied: attrs>=17.4.0 in /usr/local/lib/python3.10/dist-packages (from arsenic) (23.2.0)\n",
            "Collecting structlog<21.0.0,>=20.1.0 (from arsenic)\n",
            "  Downloading structlog-20.2.0-py2.py3-none-any.whl (49 kB)\n",
            "\u001b[2K     \u001b[90m━━━━━━━━━━━━━━━━━━━━━━━━━━━━━━━━━━━━━━━━\u001b[0m \u001b[32m49.6/49.6 kB\u001b[0m \u001b[31m1.2 MB/s\u001b[0m eta \u001b[36m0:00:00\u001b[0m\n",
            "\u001b[?25hRequirement already satisfied: aiosignal>=1.1.2 in /usr/local/lib/python3.10/dist-packages (from aiohttp>=3->arsenic) (1.3.1)\n",
            "Requirement already satisfied: frozenlist>=1.1.1 in /usr/local/lib/python3.10/dist-packages (from aiohttp>=3->arsenic) (1.4.1)\n",
            "Requirement already satisfied: multidict<7.0,>=4.5 in /usr/local/lib/python3.10/dist-packages (from aiohttp>=3->arsenic) (6.0.5)\n",
            "Requirement already satisfied: yarl<2.0,>=1.0 in /usr/local/lib/python3.10/dist-packages (from aiohttp>=3->arsenic) (1.9.4)\n",
            "Requirement already satisfied: async-timeout<5.0,>=4.0 in /usr/local/lib/python3.10/dist-packages (from aiohttp>=3->arsenic) (4.0.3)\n",
            "Requirement already satisfied: idna>=2.0 in /usr/local/lib/python3.10/dist-packages (from yarl<2.0,>=1.0->aiohttp>=3->arsenic) (3.6)\n",
            "Installing collected packages: structlog, arsenic\n",
            "Successfully installed arsenic-21.8 structlog-20.2.0\n"
          ]
        }
      ]
    },
    {
      "cell_type": "markdown",
      "source": [
        "##1.2 Sync vs Async\n",
        "\n",
        "It is basically consecutive vs concurrent"
      ],
      "metadata": {
        "id": "wv5CWvGKTfo8"
      }
    },
    {
      "cell_type": "markdown",
      "source": [
        "**Synchronous Code**"
      ],
      "metadata": {
        "id": "oock4_irUjea"
      }
    },
    {
      "cell_type": "code",
      "execution_count": 5,
      "metadata": {
        "colab": {
          "base_uri": "https://localhost:8080/"
        },
        "id": "VBD8m0c_Gli_",
        "outputId": "2ae1ef55-1329-445b-b745-43d474841ed4"
      },
      "outputs": [
        {
          "output_type": "stream",
          "name": "stdout",
          "text": [
            "0\t1s\n",
            "1\t3s\n",
            "2\t2s\n",
            "3\t4s\n"
          ]
        }
      ],
      "source": [
        "import time # it gives us the run time\n",
        "\n",
        "iteration_times = [1, 3, 2, 4]\n",
        "\n",
        "# It emulates the processes that take some time\n",
        "def sleeper(seconds, i = -1):\n",
        "  if i != -1:\n",
        "    print(f\"{i}\\t{seconds}s\")\n",
        "  time.sleep(seconds)\n",
        "\n",
        "def run():\n",
        "  for i, second in enumerate(iteration_times):\n",
        "    sleeper(second, i=i)\n",
        "\n",
        "run()"
      ]
    },
    {
      "cell_type": "markdown",
      "source": [
        "**Asynchronous Code**"
      ],
      "metadata": {
        "id": "qJywZrSAVXL4"
      }
    },
    {
      "cell_type": "code",
      "source": [
        "import asyncio\n",
        "\n",
        "iteration_times = [1, 3, 2, 4]\n",
        "\n",
        "async def a_sleeper(seconds, i = -1):\n",
        "  if i != -1:\n",
        "    print(f\"{i}\\t{seconds}s\")\n",
        "  await asyncio.sleep(seconds)\n",
        "\n",
        "async def a_run():\n",
        "  results = []\n",
        "  for i, second in enumerate(iteration_times):\n",
        "    results.append(\n",
        "        asyncio.create_task(a_sleeper(second, i=i))\n",
        "        )\n",
        "  return results\n",
        "\n",
        "results = await a_run()\n",
        "\n",
        "print(results)"
      ],
      "metadata": {
        "colab": {
          "base_uri": "https://localhost:8080/"
        },
        "id": "3kP878CaVbye",
        "outputId": "aac5dbd3-7d72-40ed-c29e-b6628ba05915"
      },
      "execution_count": 11,
      "outputs": [
        {
          "output_type": "stream",
          "name": "stdout",
          "text": [
            "[<Task pending name='Task-23' coro=<a_sleeper() running at <ipython-input-11-2040a03a9e27>:5>>, <Task pending name='Task-24' coro=<a_sleeper() running at <ipython-input-11-2040a03a9e27>:5>>, <Task pending name='Task-25' coro=<a_sleeper() running at <ipython-input-11-2040a03a9e27>:5>>, <Task pending name='Task-26' coro=<a_sleeper() running at <ipython-input-11-2040a03a9e27>:5>>]\n",
            "0\t1s\n",
            "1\t3s\n",
            "2\t2s\n",
            "3\t4s\n"
          ]
        }
      ]
    },
    {
      "cell_type": "markdown",
      "source": [
        "##1.2 Blocking & Timeouts"
      ],
      "metadata": {
        "id": "Ac2L5b_cYW7W"
      }
    },
    {
      "cell_type": "code",
      "source": [
        "def sleeper(seconds, i = -1):\n",
        "  if i != -1:\n",
        "    print(f\"{i}\\t{seconds}s\")\n",
        "  time.sleep(seconds)"
      ],
      "metadata": {
        "id": "Ei2u5j5XYahJ"
      },
      "execution_count": 13,
      "outputs": []
    },
    {
      "cell_type": "code",
      "source": [
        "async def a_sleeper(seconds, i = -1, timeout = 4):\n",
        "  if i != -1:\n",
        "    print(f\"{i}\\t{seconds}s\")\n",
        "  await asyncio.wait_for(asyncio.sleep(seconds), timeout=timeout)\n",
        "\n",
        "await a_sleeper(3) #Allows us to block tasks similar to cells in this notebook"
      ],
      "metadata": {
        "id": "uf1PhzX3Y0Zf"
      },
      "execution_count": 49,
      "outputs": []
    },
    {
      "cell_type": "code",
      "source": [
        "# Running asynchronously here allows us to run this code cell and still use rest of the notebook except for the result here\n",
        "loop = asyncio.get_event_loop()\n",
        "# loop = asyncio.new_event_loop()\n",
        "# asyncio.run()\n",
        "loop.create_task(a_sleeper(123))"
      ],
      "metadata": {
        "colab": {
          "base_uri": "https://localhost:8080/"
        },
        "id": "gZZl6w0-ZRJO",
        "outputId": "a22884a8-0c3e-454a-a07c-988abab9a60e"
      },
      "execution_count": 23,
      "outputs": [
        {
          "output_type": "execute_result",
          "data": {
            "text/plain": [
              "<Task pending name='Task-33' coro=<a_sleeper() running at <ipython-input-14-f326cdd00bdf>:1>>"
            ]
          },
          "metadata": {},
          "execution_count": 23
        }
      ]
    },
    {
      "cell_type": "code",
      "source": [
        "# Here we can assign status of tasks based on the execution time using timeout\n",
        "done, pending = await asyncio.wait([a_sleeper(1), a_sleeper(4)], timeout = 2)"
      ],
      "metadata": {
        "colab": {
          "base_uri": "https://localhost:8080/"
        },
        "id": "5UyPMxU8aKIA",
        "outputId": "995e8dda-2422-40a6-a8c0-a6a8796252e1"
      },
      "execution_count": 37,
      "outputs": [
        {
          "output_type": "stream",
          "name": "stderr",
          "text": [
            "<ipython-input-37-425562a28b43>:2: DeprecationWarning: The explicit passing of coroutine objects to asyncio.wait() is deprecated since Python 3.8, and scheduled for removal in Python 3.11.\n",
            "  done, pending = await asyncio.wait([a_sleeper(1), a_sleeper(4)], timeout = 2)\n"
          ]
        }
      ]
    },
    {
      "cell_type": "code",
      "source": [
        "done"
      ],
      "metadata": {
        "colab": {
          "base_uri": "https://localhost:8080/"
        },
        "id": "3E57vcy2amGU",
        "outputId": "76876b31-b733-4b2a-d83d-55249cc3d082"
      },
      "execution_count": 38,
      "outputs": [
        {
          "output_type": "execute_result",
          "data": {
            "text/plain": [
              "{<Task finished name='Task-46' coro=<a_sleeper() done, defined at <ipython-input-14-f326cdd00bdf>:1> result=None>}"
            ]
          },
          "metadata": {},
          "execution_count": 38
        }
      ]
    },
    {
      "cell_type": "code",
      "source": [
        "pending"
      ],
      "metadata": {
        "colab": {
          "base_uri": "https://localhost:8080/"
        },
        "id": "Rk2kqiWhcW7r",
        "outputId": "e17b483c-f176-4abc-cc05-41ebf6eae8e0"
      },
      "execution_count": 39,
      "outputs": [
        {
          "output_type": "execute_result",
          "data": {
            "text/plain": [
              "{<Task finished name='Task-47' coro=<a_sleeper() done, defined at <ipython-input-14-f326cdd00bdf>:1> result=None>}"
            ]
          },
          "metadata": {},
          "execution_count": 39
        }
      ]
    },
    {
      "cell_type": "code",
      "source": [
        "# It will finish the pending task\n",
        "await asyncio.wait(pending)"
      ],
      "metadata": {
        "colab": {
          "base_uri": "https://localhost:8080/"
        },
        "id": "8RKE64eybOxa",
        "outputId": "31734e8d-b2c2-42cd-bba5-d4bb9121429f"
      },
      "execution_count": 32,
      "outputs": [
        {
          "output_type": "execute_result",
          "data": {
            "text/plain": [
              "({<Task finished name='Task-36' coro=<a_sleeper() done, defined at <ipython-input-14-f326cdd00bdf>:1> result=None>},\n",
              " set())"
            ]
          },
          "metadata": {},
          "execution_count": 32
        }
      ]
    },
    {
      "cell_type": "code",
      "source": [
        "# This returns if a task passes timeout limit\n",
        "try:\n",
        "  await asyncio.wait_for(a_sleeper(5), timeout = 3)\n",
        "except asyncio.TimeoutError:\n",
        "  print(\"Task failed\")"
      ],
      "metadata": {
        "colab": {
          "base_uri": "https://localhost:8080/"
        },
        "id": "hT-lWbhNa-dn",
        "outputId": "58bebd6b-dbb8-419d-cf92-76de69aa66bc"
      },
      "execution_count": 43,
      "outputs": [
        {
          "output_type": "stream",
          "name": "stdout",
          "text": [
            "Task failed\n"
          ]
        }
      ]
    },
    {
      "cell_type": "markdown",
      "source": [
        "##1.3 Scraping with Selenium"
      ],
      "metadata": {
        "id": "khXnfRi6dwRO"
      }
    },
    {
      "cell_type": "code",
      "source": [],
      "metadata": {
        "id": "nJjHR15VdznA"
      },
      "execution_count": null,
      "outputs": []
    }
  ]
}