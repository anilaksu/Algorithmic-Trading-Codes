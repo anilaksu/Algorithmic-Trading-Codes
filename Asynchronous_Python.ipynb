{
  "nbformat": 4,
  "nbformat_minor": 0,
  "metadata": {
    "colab": {
      "provenance": [],
      "authorship_tag": "ABX9TyOm+wtr2epv1iJ8Zs06WFXL",
      "include_colab_link": true
    },
    "kernelspec": {
      "name": "python3",
      "display_name": "Python 3"
    },
    "language_info": {
      "name": "python"
    }
  },
  "cells": [
    {
      "cell_type": "markdown",
      "metadata": {
        "id": "view-in-github",
        "colab_type": "text"
      },
      "source": [
        "<a href=\"https://colab.research.google.com/github/anilaksu/Algorithmic-Trading-Codes/blob/Web-scraping-with-Asyncio-in-Python/Asynchronous_Python.ipynb\" target=\"_parent\"><img src=\"https://colab.research.google.com/assets/colab-badge.svg\" alt=\"Open In Colab\"/></a>"
      ]
    },
    {
      "cell_type": "markdown",
      "source": [
        "# **Asyhcronous Python with Asyncio**\n",
        "\n",
        "\n",
        "Anil Aksu\n",
        "\n",
        "Personal e-mail: aaa293@cornell.edu\n",
        "\n",
        "**Asyncio allows us to concurrent programming in Python**\n",
        "\n",
        "Some tasks require waiting:\n",
        "\n",
        "*   HTTP requests\n",
        "*   Database connections\n",
        "*   Writing to log files\n",
        "\n",
        "\n",
        "\n",
        "\n",
        "**Outline:**\n",
        "\n",
        "\n",
        "1.   Fundamentals\n",
        "  * Synchronous vs Asynchronous\n",
        "  * Blocking & Timeouts\n",
        "  * Scraping with Selenium\n",
        "  * Asynchronous Functions\n",
        "  * Asynchronous Iterators\n",
        "2. Coroutines and Awaitables\n",
        "  * Coroutine Objects and Async Functions\n",
        "  * Ways of running coroutines\n",
        "  * Cancelling coroutines\n",
        "  * Awaitable Objects\n",
        "3. Tasks, Futures and the Event Loop\n",
        "  * Using Task Objects\n",
        "  * Interacting with the Event Loop\n",
        "  * The concept of the Future\n",
        "\n",
        "\n"
      ],
      "metadata": {
        "id": "ghlOehn-HIE2"
      }
    },
    {
      "cell_type": "code",
      "source": [
        "from google.colab import drive\n",
        "drive.mount('/content/gdrive')\n",
        "%cd /content/gdrive/MyDrive/ColabNotebooks/FinanceAlgorithms\n",
        "!ls # special shell command to view the files in the home directory of the notebook environment"
      ],
      "metadata": {
        "colab": {
          "base_uri": "https://localhost:8080/"
        },
        "id": "66Z_Nqv4Oi8s",
        "outputId": "8effdb6c-c515-4b95-bd7a-0edfbd2b96b3"
      },
      "execution_count": 1,
      "outputs": [
        {
          "output_type": "stream",
          "name": "stdout",
          "text": [
            "Mounted at /content/gdrive\n",
            "/content/gdrive/MyDrive/ColabNotebooks/FinanceAlgorithms\n",
            " 2013-03-08options.csv\t      EURUSD_Options_Data.csv\t   OptionsTrading.ipynb\n",
            " 2013-03-08stocks.csv\t      EURUSD_Options_Data.gsheet   PriceJump.gdraw\n",
            "'Asynchronous Python.ipynb'  'ForEx&IndexData.xls'\t  'Stock Markets Codes.ipynb'\n",
            " async_scrape.py\t      local.csv\n"
          ]
        }
      ]
    },
    {
      "cell_type": "markdown",
      "source": [
        "#**1.Fundamentals**"
      ],
      "metadata": {
        "id": "Q39-mq18Rz8A"
      }
    },
    {
      "cell_type": "code",
      "source": [
        "# Here we install required libraries for asynchronous programming\n",
        "!python3 -V\n",
        "!which pip3\n",
        "!pip3 install requests-html --upgrade --no-cache-dir\n",
        "!pip3 install selenium --upgrade --no-cache-dir\n",
        "!pip3 install arsenic --upgrade --no-cache-dir\n",
        "!pip3 install chromium-chromedriver --upgrade --no-cache-dir\n",
        "!pip3 install pyuac --upgrade --no-cache-dir\n",
        "!pip3 install pypiwin32 --upgrade --no-cache-dir"
      ],
      "metadata": {
        "colab": {
          "base_uri": "https://localhost:8080/"
        },
        "id": "sqfLm1RrUCKG",
        "outputId": "2a6d11e6-ca42-4969-d2f1-74a397b9c29b"
      },
      "execution_count": 52,
      "outputs": [
        {
          "output_type": "stream",
          "name": "stdout",
          "text": [
            "Python 3.10.12\n",
            "/usr/local/bin/pip3\n",
            "Requirement already satisfied: requests-html in /usr/local/lib/python3.10/dist-packages (0.10.0)\n",
            "Requirement already satisfied: requests in /usr/local/lib/python3.10/dist-packages (from requests-html) (2.31.0)\n",
            "Requirement already satisfied: pyquery in /usr/local/lib/python3.10/dist-packages (from requests-html) (2.0.0)\n",
            "Requirement already satisfied: fake-useragent in /usr/local/lib/python3.10/dist-packages (from requests-html) (1.4.0)\n",
            "Requirement already satisfied: parse in /usr/local/lib/python3.10/dist-packages (from requests-html) (1.20.1)\n",
            "Requirement already satisfied: bs4 in /usr/local/lib/python3.10/dist-packages (from requests-html) (0.0.2)\n",
            "Requirement already satisfied: w3lib in /usr/local/lib/python3.10/dist-packages (from requests-html) (2.1.2)\n",
            "Requirement already satisfied: pyppeteer>=0.0.14 in /usr/local/lib/python3.10/dist-packages (from requests-html) (2.0.0)\n",
            "Requirement already satisfied: appdirs<2.0.0,>=1.4.3 in /usr/local/lib/python3.10/dist-packages (from pyppeteer>=0.0.14->requests-html) (1.4.4)\n",
            "Requirement already satisfied: certifi>=2023 in /usr/local/lib/python3.10/dist-packages (from pyppeteer>=0.0.14->requests-html) (2024.2.2)\n",
            "Requirement already satisfied: importlib-metadata>=1.4 in /usr/local/lib/python3.10/dist-packages (from pyppeteer>=0.0.14->requests-html) (7.0.1)\n",
            "Requirement already satisfied: pyee<12.0.0,>=11.0.0 in /usr/local/lib/python3.10/dist-packages (from pyppeteer>=0.0.14->requests-html) (11.1.0)\n",
            "Requirement already satisfied: tqdm<5.0.0,>=4.42.1 in /usr/local/lib/python3.10/dist-packages (from pyppeteer>=0.0.14->requests-html) (4.66.2)\n",
            "Requirement already satisfied: urllib3<2.0.0,>=1.25.8 in /usr/local/lib/python3.10/dist-packages (from pyppeteer>=0.0.14->requests-html) (1.26.18)\n",
            "Requirement already satisfied: websockets<11.0,>=10.0 in /usr/local/lib/python3.10/dist-packages (from pyppeteer>=0.0.14->requests-html) (10.4)\n",
            "Requirement already satisfied: beautifulsoup4 in /usr/local/lib/python3.10/dist-packages (from bs4->requests-html) (4.12.3)\n",
            "Requirement already satisfied: lxml>=2.1 in /usr/local/lib/python3.10/dist-packages (from pyquery->requests-html) (4.9.4)\n",
            "Requirement already satisfied: cssselect>=1.2.0 in /usr/local/lib/python3.10/dist-packages (from pyquery->requests-html) (1.2.0)\n",
            "Requirement already satisfied: charset-normalizer<4,>=2 in /usr/local/lib/python3.10/dist-packages (from requests->requests-html) (3.3.2)\n",
            "Requirement already satisfied: idna<4,>=2.5 in /usr/local/lib/python3.10/dist-packages (from requests->requests-html) (3.6)\n",
            "Requirement already satisfied: zipp>=0.5 in /usr/local/lib/python3.10/dist-packages (from importlib-metadata>=1.4->pyppeteer>=0.0.14->requests-html) (3.17.0)\n",
            "Requirement already satisfied: typing-extensions in /usr/local/lib/python3.10/dist-packages (from pyee<12.0.0,>=11.0.0->pyppeteer>=0.0.14->requests-html) (4.9.0)\n",
            "Requirement already satisfied: soupsieve>1.2 in /usr/local/lib/python3.10/dist-packages (from beautifulsoup4->bs4->requests-html) (2.5)\n",
            "Requirement already satisfied: selenium in /usr/local/lib/python3.10/dist-packages (4.18.1)\n",
            "Requirement already satisfied: urllib3[socks]<3,>=1.26 in /usr/local/lib/python3.10/dist-packages (from selenium) (1.26.18)\n",
            "Requirement already satisfied: trio~=0.17 in /usr/local/lib/python3.10/dist-packages (from selenium) (0.24.0)\n",
            "Requirement already satisfied: trio-websocket~=0.9 in /usr/local/lib/python3.10/dist-packages (from selenium) (0.11.1)\n",
            "Requirement already satisfied: certifi>=2021.10.8 in /usr/local/lib/python3.10/dist-packages (from selenium) (2024.2.2)\n",
            "Requirement already satisfied: typing_extensions>=4.9.0 in /usr/local/lib/python3.10/dist-packages (from selenium) (4.9.0)\n",
            "Requirement already satisfied: attrs>=20.1.0 in /usr/local/lib/python3.10/dist-packages (from trio~=0.17->selenium) (23.2.0)\n",
            "Requirement already satisfied: sortedcontainers in /usr/local/lib/python3.10/dist-packages (from trio~=0.17->selenium) (2.4.0)\n",
            "Requirement already satisfied: idna in /usr/local/lib/python3.10/dist-packages (from trio~=0.17->selenium) (3.6)\n",
            "Requirement already satisfied: outcome in /usr/local/lib/python3.10/dist-packages (from trio~=0.17->selenium) (1.3.0.post0)\n",
            "Requirement already satisfied: sniffio>=1.3.0 in /usr/local/lib/python3.10/dist-packages (from trio~=0.17->selenium) (1.3.0)\n",
            "Requirement already satisfied: exceptiongroup in /usr/local/lib/python3.10/dist-packages (from trio~=0.17->selenium) (1.2.0)\n",
            "Requirement already satisfied: wsproto>=0.14 in /usr/local/lib/python3.10/dist-packages (from trio-websocket~=0.9->selenium) (1.2.0)\n",
            "Requirement already satisfied: PySocks!=1.5.7,<2.0,>=1.5.6 in /usr/local/lib/python3.10/dist-packages (from urllib3[socks]<3,>=1.26->selenium) (1.7.1)\n",
            "Requirement already satisfied: h11<1,>=0.9.0 in /usr/local/lib/python3.10/dist-packages (from wsproto>=0.14->trio-websocket~=0.9->selenium) (0.14.0)\n",
            "Requirement already satisfied: arsenic in /usr/local/lib/python3.10/dist-packages (21.8)\n",
            "Requirement already satisfied: aiohttp>=3 in /usr/local/lib/python3.10/dist-packages (from arsenic) (3.9.3)\n",
            "Requirement already satisfied: attrs>=17.4.0 in /usr/local/lib/python3.10/dist-packages (from arsenic) (23.2.0)\n",
            "Requirement already satisfied: structlog<21.0.0,>=20.1.0 in /usr/local/lib/python3.10/dist-packages (from arsenic) (20.2.0)\n",
            "Requirement already satisfied: aiosignal>=1.1.2 in /usr/local/lib/python3.10/dist-packages (from aiohttp>=3->arsenic) (1.3.1)\n",
            "Requirement already satisfied: frozenlist>=1.1.1 in /usr/local/lib/python3.10/dist-packages (from aiohttp>=3->arsenic) (1.4.1)\n",
            "Requirement already satisfied: multidict<7.0,>=4.5 in /usr/local/lib/python3.10/dist-packages (from aiohttp>=3->arsenic) (6.0.5)\n",
            "Requirement already satisfied: yarl<2.0,>=1.0 in /usr/local/lib/python3.10/dist-packages (from aiohttp>=3->arsenic) (1.9.4)\n",
            "Requirement already satisfied: async-timeout<5.0,>=4.0 in /usr/local/lib/python3.10/dist-packages (from aiohttp>=3->arsenic) (4.0.3)\n",
            "Requirement already satisfied: idna>=2.0 in /usr/local/lib/python3.10/dist-packages (from yarl<2.0,>=1.0->aiohttp>=3->arsenic) (3.6)\n",
            "\u001b[31mERROR: Could not find a version that satisfies the requirement chromium-chromedriver (from versions: none)\u001b[0m\u001b[31m\n",
            "\u001b[0m\u001b[31mERROR: No matching distribution found for chromium-chromedriver\u001b[0m\u001b[31m\n",
            "\u001b[0mCollecting pyuac\n",
            "  Downloading pyuac-0.0.3-py2.py3-none-any.whl (11 kB)\n",
            "Collecting tee (from pyuac)\n",
            "  Downloading tee-0.0.3.tar.gz (3.1 kB)\n",
            "  Preparing metadata (setup.py) ... \u001b[?25l\u001b[?25hdone\n",
            "Requirement already satisfied: decorator in /usr/local/lib/python3.10/dist-packages (from pyuac) (4.4.2)\n",
            "Building wheels for collected packages: tee\n",
            "  Building wheel for tee (setup.py) ... \u001b[?25l\u001b[?25hdone\n",
            "  Created wheel for tee: filename=tee-0.0.3-py3-none-any.whl size=3053 sha256=4a896cb1d8c6a094d69a02d84fa7ce27355c2095109fc6c80d305148369ca226\n",
            "  Stored in directory: /tmp/pip-ephem-wheel-cache-ganwa861/wheels/04/85/14/def7ad66af0388d8f597af90753caaf2c4fd289d4c084162db\n",
            "Successfully built tee\n",
            "Installing collected packages: tee, pyuac\n",
            "Successfully installed pyuac-0.0.3 tee-0.0.3\n",
            "Collecting pypiwin32\n",
            "  Downloading pypiwin32-223-py3-none-any.whl (1.7 kB)\n",
            "INFO: pip is looking at multiple versions of pypiwin32 to determine which version is compatible with other requirements. This could take a while.\n",
            "  Downloading pypiwin32-219.zip (4.8 MB)\n",
            "\u001b[2K     \u001b[90m━━━━━━━━━━━━━━━━━━━━━━━━━━━━━━━━━━━━━━━━\u001b[0m \u001b[32m4.8/4.8 MB\u001b[0m \u001b[31m12.8 MB/s\u001b[0m eta \u001b[36m0:00:00\u001b[0m\n",
            "\u001b[?25h  \u001b[1;31merror\u001b[0m: \u001b[1msubprocess-exited-with-error\u001b[0m\n",
            "  \n",
            "  \u001b[31m×\u001b[0m \u001b[32mpython setup.py egg_info\u001b[0m did not run successfully.\n",
            "  \u001b[31m│\u001b[0m exit code: \u001b[1;36m1\u001b[0m\n",
            "  \u001b[31m╰─>\u001b[0m See above for output.\n",
            "  \n",
            "  \u001b[1;35mnote\u001b[0m: This error originates from a subprocess, and is likely not a problem with pip.\n",
            "  Preparing metadata (setup.py) ... \u001b[?25l\u001b[?25herror\n",
            "\u001b[1;31merror\u001b[0m: \u001b[1mmetadata-generation-failed\u001b[0m\n",
            "\n",
            "\u001b[31m×\u001b[0m Encountered error while generating package metadata.\n",
            "\u001b[31m╰─>\u001b[0m See above for output.\n",
            "\n",
            "\u001b[1;35mnote\u001b[0m: This is an issue with the package mentioned above, not pip.\n",
            "\u001b[1;36mhint\u001b[0m: See above for details.\n"
          ]
        }
      ]
    },
    {
      "cell_type": "markdown",
      "source": [
        "##1.2 Sync vs Async\n",
        "\n",
        "It is basically consecutive vs concurrent"
      ],
      "metadata": {
        "id": "wv5CWvGKTfo8"
      }
    },
    {
      "cell_type": "markdown",
      "source": [
        "**Synchronous Code**"
      ],
      "metadata": {
        "id": "oock4_irUjea"
      }
    },
    {
      "cell_type": "code",
      "execution_count": 2,
      "metadata": {
        "colab": {
          "base_uri": "https://localhost:8080/"
        },
        "id": "VBD8m0c_Gli_",
        "outputId": "01595b75-af2d-44c9-e770-bd71d30b906d"
      },
      "outputs": [
        {
          "output_type": "stream",
          "name": "stdout",
          "text": [
            "0\t1s\n",
            "1\t3s\n",
            "2\t2s\n",
            "3\t4s\n"
          ]
        }
      ],
      "source": [
        "import time # it gives us the run time\n",
        "\n",
        "iteration_times = [1, 3, 2, 4]\n",
        "\n",
        "# It emulates the processes that take some time\n",
        "def sleeper(seconds, i = -1):\n",
        "  if i != -1:\n",
        "    print(f\"{i}\\t{seconds}s\")\n",
        "  time.sleep(seconds)\n",
        "\n",
        "def run():\n",
        "  for i, second in enumerate(iteration_times):\n",
        "    sleeper(second, i=i)\n",
        "\n",
        "run()"
      ]
    },
    {
      "cell_type": "markdown",
      "source": [
        "**Asynchronous Code**"
      ],
      "metadata": {
        "id": "qJywZrSAVXL4"
      }
    },
    {
      "cell_type": "code",
      "source": [
        "import asyncio\n",
        "\n",
        "iteration_times = [1, 3, 2, 4]\n",
        "\n",
        "async def a_sleeper(seconds, i = -1):\n",
        "  if i != -1:\n",
        "    print(f\"{i}\\t{seconds}s\")\n",
        "  await asyncio.sleep(seconds)\n",
        "\n",
        "async def a_run():\n",
        "  results = []\n",
        "  for i, second in enumerate(iteration_times):\n",
        "    results.append(\n",
        "        asyncio.create_task(a_sleeper(second, i=i))\n",
        "        )\n",
        "  return results\n",
        "\n",
        "results = await a_run()\n",
        "\n",
        "print(results)"
      ],
      "metadata": {
        "colab": {
          "base_uri": "https://localhost:8080/"
        },
        "id": "3kP878CaVbye",
        "outputId": "f8e86c20-aaa8-462e-9463-0a75db890099"
      },
      "execution_count": 3,
      "outputs": [
        {
          "output_type": "stream",
          "name": "stdout",
          "text": [
            "[<Task pending name='Task-2' coro=<a_sleeper() running at <ipython-input-3-2040a03a9e27>:5>>, <Task pending name='Task-3' coro=<a_sleeper() running at <ipython-input-3-2040a03a9e27>:5>>, <Task pending name='Task-4' coro=<a_sleeper() running at <ipython-input-3-2040a03a9e27>:5>>, <Task pending name='Task-5' coro=<a_sleeper() running at <ipython-input-3-2040a03a9e27>:5>>]\n",
            "0\t1s\n",
            "1\t3s\n",
            "2\t2s\n",
            "3\t4s\n"
          ]
        }
      ]
    },
    {
      "cell_type": "markdown",
      "source": [
        "##1.2 Blocking & Timeouts"
      ],
      "metadata": {
        "id": "Ac2L5b_cYW7W"
      }
    },
    {
      "cell_type": "code",
      "source": [
        "def sleeper(seconds, i = -1):\n",
        "  if i != -1:\n",
        "    print(f\"{i}\\t{seconds}s\")\n",
        "  time.sleep(seconds)"
      ],
      "metadata": {
        "id": "Ei2u5j5XYahJ"
      },
      "execution_count": 4,
      "outputs": []
    },
    {
      "cell_type": "code",
      "source": [
        "async def a_sleeper(seconds, i = -1, timeout = 4):\n",
        "  if i != -1:\n",
        "    print(f\"{i}\\t{seconds}s\")\n",
        "  await asyncio.wait_for(asyncio.sleep(seconds), timeout=timeout)\n",
        "\n",
        "await a_sleeper(3) #Allows us to block tasks similar to cells in this notebook"
      ],
      "metadata": {
        "id": "uf1PhzX3Y0Zf"
      },
      "execution_count": 5,
      "outputs": []
    },
    {
      "cell_type": "code",
      "source": [
        "# Running asynchronously here allows us to run this code cell and still use rest of the notebook except for the result here\n",
        "loop = asyncio.get_event_loop()\n",
        "# loop = asyncio.new_event_loop()\n",
        "# asyncio.run()\n",
        "loop.create_task(a_sleeper(123))"
      ],
      "metadata": {
        "colab": {
          "base_uri": "https://localhost:8080/"
        },
        "id": "gZZl6w0-ZRJO",
        "outputId": "7bfaf70a-6785-4510-9c2e-5df51b4fdea2"
      },
      "execution_count": 6,
      "outputs": [
        {
          "output_type": "execute_result",
          "data": {
            "text/plain": [
              "<Task pending name='Task-8' coro=<a_sleeper() running at <ipython-input-5-9ff22a539f79>:1>>"
            ]
          },
          "metadata": {},
          "execution_count": 6
        }
      ]
    },
    {
      "cell_type": "code",
      "source": [
        "# Here we can assign status of tasks based on the execution time using timeout\n",
        "done, pending = await asyncio.wait([a_sleeper(1), a_sleeper(4)], timeout = 2)"
      ],
      "metadata": {
        "colab": {
          "base_uri": "https://localhost:8080/"
        },
        "id": "5UyPMxU8aKIA",
        "outputId": "0fdd4b3c-dd3f-4d9b-8dca-0c48fa3c8f5c"
      },
      "execution_count": 7,
      "outputs": [
        {
          "output_type": "stream",
          "name": "stderr",
          "text": [
            "<ipython-input-7-425562a28b43>:2: DeprecationWarning: The explicit passing of coroutine objects to asyncio.wait() is deprecated since Python 3.8, and scheduled for removal in Python 3.11.\n",
            "  done, pending = await asyncio.wait([a_sleeper(1), a_sleeper(4)], timeout = 2)\n"
          ]
        }
      ]
    },
    {
      "cell_type": "code",
      "source": [
        "done"
      ],
      "metadata": {
        "colab": {
          "base_uri": "https://localhost:8080/"
        },
        "id": "3E57vcy2amGU",
        "outputId": "bc30bed6-8a89-4b43-aa99-7d98cd920d3a"
      },
      "execution_count": 8,
      "outputs": [
        {
          "output_type": "execute_result",
          "data": {
            "text/plain": [
              "{<Task finished name='Task-12' coro=<a_sleeper() done, defined at <ipython-input-5-9ff22a539f79>:1> result=None>}"
            ]
          },
          "metadata": {},
          "execution_count": 8
        }
      ]
    },
    {
      "cell_type": "code",
      "source": [
        "pending"
      ],
      "metadata": {
        "colab": {
          "base_uri": "https://localhost:8080/"
        },
        "id": "Rk2kqiWhcW7r",
        "outputId": "fbb77e72-458c-4351-ba36-5f466547b081"
      },
      "execution_count": 9,
      "outputs": [
        {
          "output_type": "execute_result",
          "data": {
            "text/plain": [
              "{<Task finished name='Task-11' coro=<a_sleeper() done, defined at <ipython-input-5-9ff22a539f79>:1> exception=TimeoutError()>}"
            ]
          },
          "metadata": {},
          "execution_count": 9
        }
      ]
    },
    {
      "cell_type": "code",
      "source": [
        "# It will finish the pending task\n",
        "await asyncio.wait(pending)"
      ],
      "metadata": {
        "colab": {
          "base_uri": "https://localhost:8080/"
        },
        "id": "8RKE64eybOxa",
        "outputId": "e125f15d-fa53-434f-a6a9-02c7faad4167"
      },
      "execution_count": 86,
      "outputs": [
        {
          "output_type": "execute_result",
          "data": {
            "text/plain": [
              "({<Task finished name='Task-11' coro=<a_sleeper() done, defined at <ipython-input-5-9ff22a539f79>:1> exception=TimeoutError()>},\n",
              " set())"
            ]
          },
          "metadata": {},
          "execution_count": 86
        }
      ]
    },
    {
      "cell_type": "code",
      "source": [
        "# This returns if a task passes timeout limit\n",
        "try:\n",
        "  await asyncio.wait_for(a_sleeper(5), timeout = 3)\n",
        "except asyncio.TimeoutError:\n",
        "  print(\"Task failed\")"
      ],
      "metadata": {
        "colab": {
          "base_uri": "https://localhost:8080/"
        },
        "id": "hT-lWbhNa-dn",
        "outputId": "a2d708b9-3e25-4ce9-9c5a-16ac17790e76"
      },
      "execution_count": 85,
      "outputs": [
        {
          "output_type": "stream",
          "name": "stdout",
          "text": [
            "Task failed\n"
          ]
        }
      ]
    },
    {
      "cell_type": "markdown",
      "source": [
        "##1.3 Scraping with Selenium"
      ],
      "metadata": {
        "id": "khXnfRi6dwRO"
      }
    },
    {
      "cell_type": "code",
      "source": [
        "url = 'https://www.spoonflower.com/en/shop?on=fabric%27'"
      ],
      "metadata": {
        "id": "nJjHR15VdznA"
      },
      "execution_count": 100,
      "outputs": []
    },
    {
      "cell_type": "code",
      "source": [
        "import re\n",
        "import requests\n",
        "from requests_html import HTML\n",
        "import pandas as pd\n",
        "\n",
        "from selenium import webdriver\n",
        "from selenium.webdriver.chrome.options import Options"
      ],
      "metadata": {
        "id": "2bYRXABxJgzn"
      },
      "execution_count": 101,
      "outputs": []
    },
    {
      "cell_type": "code",
      "source": [
        "def scraper(url):\n",
        "  options = Options()\n",
        "  options.add_argument(\"--headless\")\n",
        "  options.add_argument(\"--no-sandbox\");\n",
        "  options.add_argument(\"--disable-dev-shm-usage\");\n",
        "  driver = webdriver.Chrome(options = options)\n",
        "  driver.get(url)\n",
        "  return driver.page_source\n",
        "\n",
        "def extract_id_slug(url_path):\n",
        "  regex = r\"^[^\\s]+/(?P<id>\\d+)-(?P<slug>[\\w_-]+)$\"\n",
        "  group = re.match(regex, url_path)\n",
        "  if not group:\n",
        "    return None, None\n",
        "  return group['id'], group['slug']"
      ],
      "metadata": {
        "id": "NS1SdMb9KDxE"
      },
      "execution_count": 102,
      "outputs": []
    },
    {
      "cell_type": "code",
      "source": [
        "# Here we pull the data from the page\n",
        "content = scraper(url)\n",
        "html_r = HTML(html = content)"
      ],
      "metadata": {
        "id": "r1jAXw3oLaHH"
      },
      "execution_count": 103,
      "outputs": []
    },
    {
      "cell_type": "code",
      "source": [
        "fabric_links = [x for x in list(html_r.links) if x.startswith(\"/en/fabric\")]   # Links for fabric images\n",
        "\n",
        "datas = []\n",
        "\n",
        "for path in fabric_links:\n",
        "  id_, slug_ = extract_id_slug(path) #product id and product\n",
        "  data = {\n",
        "      \"id\" : id_,\n",
        "      \"slug\" : slug_,\n",
        "      \"path\" : path,\n",
        "      \"scraped\" : 0 # True / False -> 1 / 0\n",
        "  }\n",
        "  datas.append(data)\n",
        "  #print(id_, slug_)"
      ],
      "metadata": {
        "id": "diQpM0FcMn3r"
      },
      "execution_count": 104,
      "outputs": []
    },
    {
      "cell_type": "code",
      "source": [
        "# Here we save it to dataframe\n",
        "df = pd.DataFrame(datas)\n",
        "df.head()"
      ],
      "metadata": {
        "colab": {
          "base_uri": "https://localhost:8080/",
          "height": 206
        },
        "id": "K69kzdNINqfr",
        "outputId": "9ab5b96c-0f83-4af6-9f10-b2aeeb13868d"
      },
      "execution_count": 105,
      "outputs": [
        {
          "output_type": "execute_result",
          "data": {
            "text/plain": [
              "         id                                               slug  \\\n",
              "0  16194112  block-print-tortoise-hare-black-spice-large-sc...   \n",
              "1   6851270      floral-wallroll-dark-by-crumpetsandcrabsticks   \n",
              "2   9575438  rustic-forest-trees-white-woodland-winter-chri...   \n",
              "3  13488971  retro-whimsy-daisy-flower-power-on-blue-eggshe...   \n",
              "4   9709002             tiger-peacock-large-scale-by-sveta_aho   \n",
              "\n",
              "                                                path  scraped  \n",
              "0  /en/fabric/16194112-block-print-tortoise-hare-...        0  \n",
              "1  /en/fabric/6851270-floral-wallroll-dark-by-cru...        0  \n",
              "2  /en/fabric/9575438-rustic-forest-trees-white-w...        0  \n",
              "3  /en/fabric/13488971-retro-whimsy-daisy-flower-...        0  \n",
              "4  /en/fabric/9709002-tiger-peacock-large-scale-b...        0  "
            ],
            "text/html": [
              "\n",
              "  <div id=\"df-d7a7ec3e-a112-44c1-92b1-8f0e259ef67f\" class=\"colab-df-container\">\n",
              "    <div>\n",
              "<style scoped>\n",
              "    .dataframe tbody tr th:only-of-type {\n",
              "        vertical-align: middle;\n",
              "    }\n",
              "\n",
              "    .dataframe tbody tr th {\n",
              "        vertical-align: top;\n",
              "    }\n",
              "\n",
              "    .dataframe thead th {\n",
              "        text-align: right;\n",
              "    }\n",
              "</style>\n",
              "<table border=\"1\" class=\"dataframe\">\n",
              "  <thead>\n",
              "    <tr style=\"text-align: right;\">\n",
              "      <th></th>\n",
              "      <th>id</th>\n",
              "      <th>slug</th>\n",
              "      <th>path</th>\n",
              "      <th>scraped</th>\n",
              "    </tr>\n",
              "  </thead>\n",
              "  <tbody>\n",
              "    <tr>\n",
              "      <th>0</th>\n",
              "      <td>16194112</td>\n",
              "      <td>block-print-tortoise-hare-black-spice-large-sc...</td>\n",
              "      <td>/en/fabric/16194112-block-print-tortoise-hare-...</td>\n",
              "      <td>0</td>\n",
              "    </tr>\n",
              "    <tr>\n",
              "      <th>1</th>\n",
              "      <td>6851270</td>\n",
              "      <td>floral-wallroll-dark-by-crumpetsandcrabsticks</td>\n",
              "      <td>/en/fabric/6851270-floral-wallroll-dark-by-cru...</td>\n",
              "      <td>0</td>\n",
              "    </tr>\n",
              "    <tr>\n",
              "      <th>2</th>\n",
              "      <td>9575438</td>\n",
              "      <td>rustic-forest-trees-white-woodland-winter-chri...</td>\n",
              "      <td>/en/fabric/9575438-rustic-forest-trees-white-w...</td>\n",
              "      <td>0</td>\n",
              "    </tr>\n",
              "    <tr>\n",
              "      <th>3</th>\n",
              "      <td>13488971</td>\n",
              "      <td>retro-whimsy-daisy-flower-power-on-blue-eggshe...</td>\n",
              "      <td>/en/fabric/13488971-retro-whimsy-daisy-flower-...</td>\n",
              "      <td>0</td>\n",
              "    </tr>\n",
              "    <tr>\n",
              "      <th>4</th>\n",
              "      <td>9709002</td>\n",
              "      <td>tiger-peacock-large-scale-by-sveta_aho</td>\n",
              "      <td>/en/fabric/9709002-tiger-peacock-large-scale-b...</td>\n",
              "      <td>0</td>\n",
              "    </tr>\n",
              "  </tbody>\n",
              "</table>\n",
              "</div>\n",
              "    <div class=\"colab-df-buttons\">\n",
              "\n",
              "  <div class=\"colab-df-container\">\n",
              "    <button class=\"colab-df-convert\" onclick=\"convertToInteractive('df-d7a7ec3e-a112-44c1-92b1-8f0e259ef67f')\"\n",
              "            title=\"Convert this dataframe to an interactive table.\"\n",
              "            style=\"display:none;\">\n",
              "\n",
              "  <svg xmlns=\"http://www.w3.org/2000/svg\" height=\"24px\" viewBox=\"0 -960 960 960\">\n",
              "    <path d=\"M120-120v-720h720v720H120Zm60-500h600v-160H180v160Zm220 220h160v-160H400v160Zm0 220h160v-160H400v160ZM180-400h160v-160H180v160Zm440 0h160v-160H620v160ZM180-180h160v-160H180v160Zm440 0h160v-160H620v160Z\"/>\n",
              "  </svg>\n",
              "    </button>\n",
              "\n",
              "  <style>\n",
              "    .colab-df-container {\n",
              "      display:flex;\n",
              "      gap: 12px;\n",
              "    }\n",
              "\n",
              "    .colab-df-convert {\n",
              "      background-color: #E8F0FE;\n",
              "      border: none;\n",
              "      border-radius: 50%;\n",
              "      cursor: pointer;\n",
              "      display: none;\n",
              "      fill: #1967D2;\n",
              "      height: 32px;\n",
              "      padding: 0 0 0 0;\n",
              "      width: 32px;\n",
              "    }\n",
              "\n",
              "    .colab-df-convert:hover {\n",
              "      background-color: #E2EBFA;\n",
              "      box-shadow: 0px 1px 2px rgba(60, 64, 67, 0.3), 0px 1px 3px 1px rgba(60, 64, 67, 0.15);\n",
              "      fill: #174EA6;\n",
              "    }\n",
              "\n",
              "    .colab-df-buttons div {\n",
              "      margin-bottom: 4px;\n",
              "    }\n",
              "\n",
              "    [theme=dark] .colab-df-convert {\n",
              "      background-color: #3B4455;\n",
              "      fill: #D2E3FC;\n",
              "    }\n",
              "\n",
              "    [theme=dark] .colab-df-convert:hover {\n",
              "      background-color: #434B5C;\n",
              "      box-shadow: 0px 1px 3px 1px rgba(0, 0, 0, 0.15);\n",
              "      filter: drop-shadow(0px 1px 2px rgba(0, 0, 0, 0.3));\n",
              "      fill: #FFFFFF;\n",
              "    }\n",
              "  </style>\n",
              "\n",
              "    <script>\n",
              "      const buttonEl =\n",
              "        document.querySelector('#df-d7a7ec3e-a112-44c1-92b1-8f0e259ef67f button.colab-df-convert');\n",
              "      buttonEl.style.display =\n",
              "        google.colab.kernel.accessAllowed ? 'block' : 'none';\n",
              "\n",
              "      async function convertToInteractive(key) {\n",
              "        const element = document.querySelector('#df-d7a7ec3e-a112-44c1-92b1-8f0e259ef67f');\n",
              "        const dataTable =\n",
              "          await google.colab.kernel.invokeFunction('convertToInteractive',\n",
              "                                                    [key], {});\n",
              "        if (!dataTable) return;\n",
              "\n",
              "        const docLinkHtml = 'Like what you see? Visit the ' +\n",
              "          '<a target=\"_blank\" href=https://colab.research.google.com/notebooks/data_table.ipynb>data table notebook</a>'\n",
              "          + ' to learn more about interactive tables.';\n",
              "        element.innerHTML = '';\n",
              "        dataTable['output_type'] = 'display_data';\n",
              "        await google.colab.output.renderOutput(dataTable, element);\n",
              "        const docLink = document.createElement('div');\n",
              "        docLink.innerHTML = docLinkHtml;\n",
              "        element.appendChild(docLink);\n",
              "      }\n",
              "    </script>\n",
              "  </div>\n",
              "\n",
              "\n",
              "<div id=\"df-028c1d71-d2cc-44e1-9ae0-85611e9869e7\">\n",
              "  <button class=\"colab-df-quickchart\" onclick=\"quickchart('df-028c1d71-d2cc-44e1-9ae0-85611e9869e7')\"\n",
              "            title=\"Suggest charts\"\n",
              "            style=\"display:none;\">\n",
              "\n",
              "<svg xmlns=\"http://www.w3.org/2000/svg\" height=\"24px\"viewBox=\"0 0 24 24\"\n",
              "     width=\"24px\">\n",
              "    <g>\n",
              "        <path d=\"M19 3H5c-1.1 0-2 .9-2 2v14c0 1.1.9 2 2 2h14c1.1 0 2-.9 2-2V5c0-1.1-.9-2-2-2zM9 17H7v-7h2v7zm4 0h-2V7h2v10zm4 0h-2v-4h2v4z\"/>\n",
              "    </g>\n",
              "</svg>\n",
              "  </button>\n",
              "\n",
              "<style>\n",
              "  .colab-df-quickchart {\n",
              "      --bg-color: #E8F0FE;\n",
              "      --fill-color: #1967D2;\n",
              "      --hover-bg-color: #E2EBFA;\n",
              "      --hover-fill-color: #174EA6;\n",
              "      --disabled-fill-color: #AAA;\n",
              "      --disabled-bg-color: #DDD;\n",
              "  }\n",
              "\n",
              "  [theme=dark] .colab-df-quickchart {\n",
              "      --bg-color: #3B4455;\n",
              "      --fill-color: #D2E3FC;\n",
              "      --hover-bg-color: #434B5C;\n",
              "      --hover-fill-color: #FFFFFF;\n",
              "      --disabled-bg-color: #3B4455;\n",
              "      --disabled-fill-color: #666;\n",
              "  }\n",
              "\n",
              "  .colab-df-quickchart {\n",
              "    background-color: var(--bg-color);\n",
              "    border: none;\n",
              "    border-radius: 50%;\n",
              "    cursor: pointer;\n",
              "    display: none;\n",
              "    fill: var(--fill-color);\n",
              "    height: 32px;\n",
              "    padding: 0;\n",
              "    width: 32px;\n",
              "  }\n",
              "\n",
              "  .colab-df-quickchart:hover {\n",
              "    background-color: var(--hover-bg-color);\n",
              "    box-shadow: 0 1px 2px rgba(60, 64, 67, 0.3), 0 1px 3px 1px rgba(60, 64, 67, 0.15);\n",
              "    fill: var(--button-hover-fill-color);\n",
              "  }\n",
              "\n",
              "  .colab-df-quickchart-complete:disabled,\n",
              "  .colab-df-quickchart-complete:disabled:hover {\n",
              "    background-color: var(--disabled-bg-color);\n",
              "    fill: var(--disabled-fill-color);\n",
              "    box-shadow: none;\n",
              "  }\n",
              "\n",
              "  .colab-df-spinner {\n",
              "    border: 2px solid var(--fill-color);\n",
              "    border-color: transparent;\n",
              "    border-bottom-color: var(--fill-color);\n",
              "    animation:\n",
              "      spin 1s steps(1) infinite;\n",
              "  }\n",
              "\n",
              "  @keyframes spin {\n",
              "    0% {\n",
              "      border-color: transparent;\n",
              "      border-bottom-color: var(--fill-color);\n",
              "      border-left-color: var(--fill-color);\n",
              "    }\n",
              "    20% {\n",
              "      border-color: transparent;\n",
              "      border-left-color: var(--fill-color);\n",
              "      border-top-color: var(--fill-color);\n",
              "    }\n",
              "    30% {\n",
              "      border-color: transparent;\n",
              "      border-left-color: var(--fill-color);\n",
              "      border-top-color: var(--fill-color);\n",
              "      border-right-color: var(--fill-color);\n",
              "    }\n",
              "    40% {\n",
              "      border-color: transparent;\n",
              "      border-right-color: var(--fill-color);\n",
              "      border-top-color: var(--fill-color);\n",
              "    }\n",
              "    60% {\n",
              "      border-color: transparent;\n",
              "      border-right-color: var(--fill-color);\n",
              "    }\n",
              "    80% {\n",
              "      border-color: transparent;\n",
              "      border-right-color: var(--fill-color);\n",
              "      border-bottom-color: var(--fill-color);\n",
              "    }\n",
              "    90% {\n",
              "      border-color: transparent;\n",
              "      border-bottom-color: var(--fill-color);\n",
              "    }\n",
              "  }\n",
              "</style>\n",
              "\n",
              "  <script>\n",
              "    async function quickchart(key) {\n",
              "      const quickchartButtonEl =\n",
              "        document.querySelector('#' + key + ' button');\n",
              "      quickchartButtonEl.disabled = true;  // To prevent multiple clicks.\n",
              "      quickchartButtonEl.classList.add('colab-df-spinner');\n",
              "      try {\n",
              "        const charts = await google.colab.kernel.invokeFunction(\n",
              "            'suggestCharts', [key], {});\n",
              "      } catch (error) {\n",
              "        console.error('Error during call to suggestCharts:', error);\n",
              "      }\n",
              "      quickchartButtonEl.classList.remove('colab-df-spinner');\n",
              "      quickchartButtonEl.classList.add('colab-df-quickchart-complete');\n",
              "    }\n",
              "    (() => {\n",
              "      let quickchartButtonEl =\n",
              "        document.querySelector('#df-028c1d71-d2cc-44e1-9ae0-85611e9869e7 button');\n",
              "      quickchartButtonEl.style.display =\n",
              "        google.colab.kernel.accessAllowed ? 'block' : 'none';\n",
              "    })();\n",
              "  </script>\n",
              "</div>\n",
              "    </div>\n",
              "  </div>\n"
            ],
            "application/vnd.google.colaboratory.intrinsic+json": {
              "type": "dataframe",
              "variable_name": "df",
              "summary": "{\n  \"name\": \"df\",\n  \"rows\": 84,\n  \"fields\": [\n    {\n      \"column\": \"id\",\n      \"properties\": {\n        \"dtype\": \"string\",\n        \"num_unique_values\": 84,\n        \"samples\": [\n          \"6856907\",\n          \"16194112\",\n          \"10771343\"\n        ],\n        \"semantic_type\": \"\",\n        \"description\": \"\"\n      }\n    },\n    {\n      \"column\": \"slug\",\n      \"properties\": {\n        \"dtype\": \"string\",\n        \"num_unique_values\": 82,\n        \"samples\": [\n          \"napoleonic-bees-faux-gilt-on-blackest-black-by-peacoquettedesigns\",\n          \"block-print-tortoise-hare-black-spice-large-scale-14-by-shellypenko\",\n          \"spoonflower-unprinted-white-by-spoonflower_help\"\n        ],\n        \"semantic_type\": \"\",\n        \"description\": \"\"\n      }\n    },\n    {\n      \"column\": \"path\",\n      \"properties\": {\n        \"dtype\": \"string\",\n        \"num_unique_values\": 84,\n        \"samples\": [\n          \"/en/fabric/6856907-bunnies-dusky-green-by-katherine_quinn\",\n          \"/en/fabric/16194112-block-print-tortoise-hare-black-spice-large-scale-14-by-shellypenko\",\n          \"/en/fabric/10771343-cozy-cats-den-by-studioxtine\"\n        ],\n        \"semantic_type\": \"\",\n        \"description\": \"\"\n      }\n    },\n    {\n      \"column\": \"scraped\",\n      \"properties\": {\n        \"dtype\": \"number\",\n        \"std\": 0,\n        \"min\": 0,\n        \"max\": 0,\n        \"num_unique_values\": 1,\n        \"samples\": [\n          0\n        ],\n        \"semantic_type\": \"\",\n        \"description\": \"\"\n      }\n    }\n  ]\n}"
            }
          },
          "metadata": {},
          "execution_count": 105
        }
      ]
    },
    {
      "cell_type": "code",
      "source": [
        "# Here we save it to the local\n",
        "df.to_csv(\"local.csv\", index = False)\n",
        "df = pd.read_csv(\"local.csv\")\n",
        "df.head(5)"
      ],
      "metadata": {
        "colab": {
          "base_uri": "https://localhost:8080/",
          "height": 206
        },
        "id": "zS1NixczO5PR",
        "outputId": "b5685ea0-9186-4f28-9b30-6dcd745bff25"
      },
      "execution_count": 93,
      "outputs": [
        {
          "output_type": "execute_result",
          "data": {
            "text/plain": [
              "         id                                               slug  \\\n",
              "0  16194112  block-print-tortoise-hare-black-spice-large-sc...   \n",
              "1   6851270      floral-wallroll-dark-by-crumpetsandcrabsticks   \n",
              "2   9575438  rustic-forest-trees-white-woodland-winter-chri...   \n",
              "3  13488971  retro-whimsy-daisy-flower-power-on-blue-eggshe...   \n",
              "4   9709002             tiger-peacock-large-scale-by-sveta_aho   \n",
              "\n",
              "                                                path  scraped  \n",
              "0  /en/fabric/16194112-block-print-tortoise-hare-...        0  \n",
              "1  /en/fabric/6851270-floral-wallroll-dark-by-cru...        0  \n",
              "2  /en/fabric/9575438-rustic-forest-trees-white-w...        0  \n",
              "3  /en/fabric/13488971-retro-whimsy-daisy-flower-...        0  \n",
              "4  /en/fabric/9709002-tiger-peacock-large-scale-b...        0  "
            ],
            "text/html": [
              "\n",
              "  <div id=\"df-bd291e11-15c9-4f09-aead-3f2d0609980b\" class=\"colab-df-container\">\n",
              "    <div>\n",
              "<style scoped>\n",
              "    .dataframe tbody tr th:only-of-type {\n",
              "        vertical-align: middle;\n",
              "    }\n",
              "\n",
              "    .dataframe tbody tr th {\n",
              "        vertical-align: top;\n",
              "    }\n",
              "\n",
              "    .dataframe thead th {\n",
              "        text-align: right;\n",
              "    }\n",
              "</style>\n",
              "<table border=\"1\" class=\"dataframe\">\n",
              "  <thead>\n",
              "    <tr style=\"text-align: right;\">\n",
              "      <th></th>\n",
              "      <th>id</th>\n",
              "      <th>slug</th>\n",
              "      <th>path</th>\n",
              "      <th>scraped</th>\n",
              "    </tr>\n",
              "  </thead>\n",
              "  <tbody>\n",
              "    <tr>\n",
              "      <th>0</th>\n",
              "      <td>16194112</td>\n",
              "      <td>block-print-tortoise-hare-black-spice-large-sc...</td>\n",
              "      <td>/en/fabric/16194112-block-print-tortoise-hare-...</td>\n",
              "      <td>0</td>\n",
              "    </tr>\n",
              "    <tr>\n",
              "      <th>1</th>\n",
              "      <td>6851270</td>\n",
              "      <td>floral-wallroll-dark-by-crumpetsandcrabsticks</td>\n",
              "      <td>/en/fabric/6851270-floral-wallroll-dark-by-cru...</td>\n",
              "      <td>0</td>\n",
              "    </tr>\n",
              "    <tr>\n",
              "      <th>2</th>\n",
              "      <td>9575438</td>\n",
              "      <td>rustic-forest-trees-white-woodland-winter-chri...</td>\n",
              "      <td>/en/fabric/9575438-rustic-forest-trees-white-w...</td>\n",
              "      <td>0</td>\n",
              "    </tr>\n",
              "    <tr>\n",
              "      <th>3</th>\n",
              "      <td>13488971</td>\n",
              "      <td>retro-whimsy-daisy-flower-power-on-blue-eggshe...</td>\n",
              "      <td>/en/fabric/13488971-retro-whimsy-daisy-flower-...</td>\n",
              "      <td>0</td>\n",
              "    </tr>\n",
              "    <tr>\n",
              "      <th>4</th>\n",
              "      <td>9709002</td>\n",
              "      <td>tiger-peacock-large-scale-by-sveta_aho</td>\n",
              "      <td>/en/fabric/9709002-tiger-peacock-large-scale-b...</td>\n",
              "      <td>0</td>\n",
              "    </tr>\n",
              "  </tbody>\n",
              "</table>\n",
              "</div>\n",
              "    <div class=\"colab-df-buttons\">\n",
              "\n",
              "  <div class=\"colab-df-container\">\n",
              "    <button class=\"colab-df-convert\" onclick=\"convertToInteractive('df-bd291e11-15c9-4f09-aead-3f2d0609980b')\"\n",
              "            title=\"Convert this dataframe to an interactive table.\"\n",
              "            style=\"display:none;\">\n",
              "\n",
              "  <svg xmlns=\"http://www.w3.org/2000/svg\" height=\"24px\" viewBox=\"0 -960 960 960\">\n",
              "    <path d=\"M120-120v-720h720v720H120Zm60-500h600v-160H180v160Zm220 220h160v-160H400v160Zm0 220h160v-160H400v160ZM180-400h160v-160H180v160Zm440 0h160v-160H620v160ZM180-180h160v-160H180v160Zm440 0h160v-160H620v160Z\"/>\n",
              "  </svg>\n",
              "    </button>\n",
              "\n",
              "  <style>\n",
              "    .colab-df-container {\n",
              "      display:flex;\n",
              "      gap: 12px;\n",
              "    }\n",
              "\n",
              "    .colab-df-convert {\n",
              "      background-color: #E8F0FE;\n",
              "      border: none;\n",
              "      border-radius: 50%;\n",
              "      cursor: pointer;\n",
              "      display: none;\n",
              "      fill: #1967D2;\n",
              "      height: 32px;\n",
              "      padding: 0 0 0 0;\n",
              "      width: 32px;\n",
              "    }\n",
              "\n",
              "    .colab-df-convert:hover {\n",
              "      background-color: #E2EBFA;\n",
              "      box-shadow: 0px 1px 2px rgba(60, 64, 67, 0.3), 0px 1px 3px 1px rgba(60, 64, 67, 0.15);\n",
              "      fill: #174EA6;\n",
              "    }\n",
              "\n",
              "    .colab-df-buttons div {\n",
              "      margin-bottom: 4px;\n",
              "    }\n",
              "\n",
              "    [theme=dark] .colab-df-convert {\n",
              "      background-color: #3B4455;\n",
              "      fill: #D2E3FC;\n",
              "    }\n",
              "\n",
              "    [theme=dark] .colab-df-convert:hover {\n",
              "      background-color: #434B5C;\n",
              "      box-shadow: 0px 1px 3px 1px rgba(0, 0, 0, 0.15);\n",
              "      filter: drop-shadow(0px 1px 2px rgba(0, 0, 0, 0.3));\n",
              "      fill: #FFFFFF;\n",
              "    }\n",
              "  </style>\n",
              "\n",
              "    <script>\n",
              "      const buttonEl =\n",
              "        document.querySelector('#df-bd291e11-15c9-4f09-aead-3f2d0609980b button.colab-df-convert');\n",
              "      buttonEl.style.display =\n",
              "        google.colab.kernel.accessAllowed ? 'block' : 'none';\n",
              "\n",
              "      async function convertToInteractive(key) {\n",
              "        const element = document.querySelector('#df-bd291e11-15c9-4f09-aead-3f2d0609980b');\n",
              "        const dataTable =\n",
              "          await google.colab.kernel.invokeFunction('convertToInteractive',\n",
              "                                                    [key], {});\n",
              "        if (!dataTable) return;\n",
              "\n",
              "        const docLinkHtml = 'Like what you see? Visit the ' +\n",
              "          '<a target=\"_blank\" href=https://colab.research.google.com/notebooks/data_table.ipynb>data table notebook</a>'\n",
              "          + ' to learn more about interactive tables.';\n",
              "        element.innerHTML = '';\n",
              "        dataTable['output_type'] = 'display_data';\n",
              "        await google.colab.output.renderOutput(dataTable, element);\n",
              "        const docLink = document.createElement('div');\n",
              "        docLink.innerHTML = docLinkHtml;\n",
              "        element.appendChild(docLink);\n",
              "      }\n",
              "    </script>\n",
              "  </div>\n",
              "\n",
              "\n",
              "<div id=\"df-84081407-1c5f-4ba2-8da0-deb077c0de44\">\n",
              "  <button class=\"colab-df-quickchart\" onclick=\"quickchart('df-84081407-1c5f-4ba2-8da0-deb077c0de44')\"\n",
              "            title=\"Suggest charts\"\n",
              "            style=\"display:none;\">\n",
              "\n",
              "<svg xmlns=\"http://www.w3.org/2000/svg\" height=\"24px\"viewBox=\"0 0 24 24\"\n",
              "     width=\"24px\">\n",
              "    <g>\n",
              "        <path d=\"M19 3H5c-1.1 0-2 .9-2 2v14c0 1.1.9 2 2 2h14c1.1 0 2-.9 2-2V5c0-1.1-.9-2-2-2zM9 17H7v-7h2v7zm4 0h-2V7h2v10zm4 0h-2v-4h2v4z\"/>\n",
              "    </g>\n",
              "</svg>\n",
              "  </button>\n",
              "\n",
              "<style>\n",
              "  .colab-df-quickchart {\n",
              "      --bg-color: #E8F0FE;\n",
              "      --fill-color: #1967D2;\n",
              "      --hover-bg-color: #E2EBFA;\n",
              "      --hover-fill-color: #174EA6;\n",
              "      --disabled-fill-color: #AAA;\n",
              "      --disabled-bg-color: #DDD;\n",
              "  }\n",
              "\n",
              "  [theme=dark] .colab-df-quickchart {\n",
              "      --bg-color: #3B4455;\n",
              "      --fill-color: #D2E3FC;\n",
              "      --hover-bg-color: #434B5C;\n",
              "      --hover-fill-color: #FFFFFF;\n",
              "      --disabled-bg-color: #3B4455;\n",
              "      --disabled-fill-color: #666;\n",
              "  }\n",
              "\n",
              "  .colab-df-quickchart {\n",
              "    background-color: var(--bg-color);\n",
              "    border: none;\n",
              "    border-radius: 50%;\n",
              "    cursor: pointer;\n",
              "    display: none;\n",
              "    fill: var(--fill-color);\n",
              "    height: 32px;\n",
              "    padding: 0;\n",
              "    width: 32px;\n",
              "  }\n",
              "\n",
              "  .colab-df-quickchart:hover {\n",
              "    background-color: var(--hover-bg-color);\n",
              "    box-shadow: 0 1px 2px rgba(60, 64, 67, 0.3), 0 1px 3px 1px rgba(60, 64, 67, 0.15);\n",
              "    fill: var(--button-hover-fill-color);\n",
              "  }\n",
              "\n",
              "  .colab-df-quickchart-complete:disabled,\n",
              "  .colab-df-quickchart-complete:disabled:hover {\n",
              "    background-color: var(--disabled-bg-color);\n",
              "    fill: var(--disabled-fill-color);\n",
              "    box-shadow: none;\n",
              "  }\n",
              "\n",
              "  .colab-df-spinner {\n",
              "    border: 2px solid var(--fill-color);\n",
              "    border-color: transparent;\n",
              "    border-bottom-color: var(--fill-color);\n",
              "    animation:\n",
              "      spin 1s steps(1) infinite;\n",
              "  }\n",
              "\n",
              "  @keyframes spin {\n",
              "    0% {\n",
              "      border-color: transparent;\n",
              "      border-bottom-color: var(--fill-color);\n",
              "      border-left-color: var(--fill-color);\n",
              "    }\n",
              "    20% {\n",
              "      border-color: transparent;\n",
              "      border-left-color: var(--fill-color);\n",
              "      border-top-color: var(--fill-color);\n",
              "    }\n",
              "    30% {\n",
              "      border-color: transparent;\n",
              "      border-left-color: var(--fill-color);\n",
              "      border-top-color: var(--fill-color);\n",
              "      border-right-color: var(--fill-color);\n",
              "    }\n",
              "    40% {\n",
              "      border-color: transparent;\n",
              "      border-right-color: var(--fill-color);\n",
              "      border-top-color: var(--fill-color);\n",
              "    }\n",
              "    60% {\n",
              "      border-color: transparent;\n",
              "      border-right-color: var(--fill-color);\n",
              "    }\n",
              "    80% {\n",
              "      border-color: transparent;\n",
              "      border-right-color: var(--fill-color);\n",
              "      border-bottom-color: var(--fill-color);\n",
              "    }\n",
              "    90% {\n",
              "      border-color: transparent;\n",
              "      border-bottom-color: var(--fill-color);\n",
              "    }\n",
              "  }\n",
              "</style>\n",
              "\n",
              "  <script>\n",
              "    async function quickchart(key) {\n",
              "      const quickchartButtonEl =\n",
              "        document.querySelector('#' + key + ' button');\n",
              "      quickchartButtonEl.disabled = true;  // To prevent multiple clicks.\n",
              "      quickchartButtonEl.classList.add('colab-df-spinner');\n",
              "      try {\n",
              "        const charts = await google.colab.kernel.invokeFunction(\n",
              "            'suggestCharts', [key], {});\n",
              "      } catch (error) {\n",
              "        console.error('Error during call to suggestCharts:', error);\n",
              "      }\n",
              "      quickchartButtonEl.classList.remove('colab-df-spinner');\n",
              "      quickchartButtonEl.classList.add('colab-df-quickchart-complete');\n",
              "    }\n",
              "    (() => {\n",
              "      let quickchartButtonEl =\n",
              "        document.querySelector('#df-84081407-1c5f-4ba2-8da0-deb077c0de44 button');\n",
              "      quickchartButtonEl.style.display =\n",
              "        google.colab.kernel.accessAllowed ? 'block' : 'none';\n",
              "    })();\n",
              "  </script>\n",
              "</div>\n",
              "    </div>\n",
              "  </div>\n"
            ],
            "application/vnd.google.colaboratory.intrinsic+json": {
              "type": "dataframe",
              "variable_name": "df",
              "summary": "{\n  \"name\": \"df\",\n  \"rows\": 84,\n  \"fields\": [\n    {\n      \"column\": \"id\",\n      \"properties\": {\n        \"dtype\": \"number\",\n        \"std\": 3568514,\n        \"min\": 509390,\n        \"max\": 16194112,\n        \"num_unique_values\": 84,\n        \"samples\": [\n          6856907,\n          16194112,\n          10771343\n        ],\n        \"semantic_type\": \"\",\n        \"description\": \"\"\n      }\n    },\n    {\n      \"column\": \"slug\",\n      \"properties\": {\n        \"dtype\": \"string\",\n        \"num_unique_values\": 82,\n        \"samples\": [\n          \"napoleonic-bees-faux-gilt-on-blackest-black-by-peacoquettedesigns\",\n          \"block-print-tortoise-hare-black-spice-large-scale-14-by-shellypenko\",\n          \"spoonflower-unprinted-white-by-spoonflower_help\"\n        ],\n        \"semantic_type\": \"\",\n        \"description\": \"\"\n      }\n    },\n    {\n      \"column\": \"path\",\n      \"properties\": {\n        \"dtype\": \"string\",\n        \"num_unique_values\": 84,\n        \"samples\": [\n          \"/en/fabric/6856907-bunnies-dusky-green-by-katherine_quinn\",\n          \"/en/fabric/16194112-block-print-tortoise-hare-black-spice-large-scale-14-by-shellypenko\",\n          \"/en/fabric/10771343-cozy-cats-den-by-studioxtine\"\n        ],\n        \"semantic_type\": \"\",\n        \"description\": \"\"\n      }\n    },\n    {\n      \"column\": \"scraped\",\n      \"properties\": {\n        \"dtype\": \"number\",\n        \"std\": 0,\n        \"min\": 0,\n        \"max\": 0,\n        \"num_unique_values\": 1,\n        \"samples\": [\n          0\n        ],\n        \"semantic_type\": \"\",\n        \"description\": \"\"\n      }\n    }\n  ]\n}"
            }
          },
          "metadata": {},
          "execution_count": 93
        }
      ]
    },
    {
      "cell_type": "markdown",
      "source": [
        "##1.4 Asynchronous Functions"
      ],
      "metadata": {
        "id": "6g7Y2MKrW1zy"
      }
    },
    {
      "cell_type": "code",
      "source": [
        "import asyncio\n",
        "\n",
        "# This is how we define async function\n",
        "async def main():\n",
        "  print('hello...')\n",
        "  await asyncio.sleep(2) # Here we give a pause for 2 seconds\n",
        "  print('...world')\n",
        "  return 'bye'\n",
        "\n",
        "\n",
        "# To run an asynchronous function, we need to run as follows:\n",
        "await main()\n",
        "\n",
        "# Here we create a coroutine object\n",
        "# result =  main()\n",
        "# try:\n",
        "#   result.send(None)\n",
        "# except StopIteration as e:\n",
        "#   print('result was:', e.value)"
      ],
      "metadata": {
        "colab": {
          "base_uri": "https://localhost:8080/",
          "height": 70
        },
        "id": "COlw38TQXE7f",
        "outputId": "bc32a238-e515-496c-ed9b-f342580b2658"
      },
      "execution_count": 116,
      "outputs": [
        {
          "output_type": "stream",
          "name": "stdout",
          "text": [
            "hello...\n",
            "...world\n"
          ]
        },
        {
          "output_type": "execute_result",
          "data": {
            "text/plain": [
              "'bye'"
            ],
            "application/vnd.google.colaboratory.intrinsic+json": {
              "type": "string"
            }
          },
          "metadata": {},
          "execution_count": 116
        }
      ]
    },
    {
      "cell_type": "markdown",
      "source": [
        "##1.5 Asynchronous Iterators"
      ],
      "metadata": {
        "id": "PrqgGbfKa9YQ"
      }
    },
    {
      "cell_type": "code",
      "source": [
        "# Asynchronous For loop\n",
        "import asyncio\n",
        "import random\n",
        "\n",
        "class EggBoiler:\n",
        "  def __init__(self, amount):\n",
        "    self.eggs = iter(range(1,amount+1)) # Here we set # of eggs\n",
        "\n",
        "  # Iteration function\n",
        "  def __aiter__(self):\n",
        "    return self\n",
        "\n",
        "  # Exit function\n",
        "  async def __anext__(self):\n",
        "    try:\n",
        "      egg = next(self.eggs)\n",
        "    except StopIteration:\n",
        "      raise StopAsyncIteration\n",
        "    return self.boil(egg)\n",
        "\n",
        "  # Sleep function\n",
        "  async def boil(self, egg):\n",
        "    await asyncio.sleep(random.randint(2, 5))\n",
        "    print(f'Egg #{egg} is boiling')\n",
        "\n",
        "# This is how we define async function\n",
        "async def main_1():\n",
        "  async for egg in EggBoiler(4):\n",
        "      await egg\n",
        "\n",
        "# This is function does it all at once\n",
        "async def main_2():\n",
        "  eggs = []\n",
        "  async for egg in EggBoiler(4):\n",
        "      eggs.append(egg)\n",
        "  print('We wait for the eggs to boil...')\n",
        "  await asyncio.gather(*eggs)\n",
        "\n",
        "# To run an asynchronous function, we need to run as follows:\n",
        "await main_2()"
      ],
      "metadata": {
        "colab": {
          "base_uri": "https://localhost:8080/"
        },
        "id": "pludGZhnbBlm",
        "outputId": "b5d6e4f7-d3ac-4121-c181-9aca8b326b2b"
      },
      "execution_count": 132,
      "outputs": [
        {
          "output_type": "stream",
          "name": "stdout",
          "text": [
            "We wait for the eggs to boil...\n",
            "Egg #1 is boiling\n",
            "Egg #4 is boiling\n",
            "Egg #2 is boiling\n",
            "Egg #3 is boiling\n"
          ]
        }
      ]
    },
    {
      "cell_type": "code",
      "source": [
        "# The @asynccontextmanager Decorator\n",
        "import asyncio\n",
        "from contextlib import asynccontextmanager\n",
        "\n",
        "@asynccontextmanager\n",
        "async def connection():\n",
        "  print('Setting up connection')\n",
        "  await asyncio.sleep(1)\n",
        "  yield{ 'drive': 'sqlite' }\n",
        "  await asyncio.sleep(1)\n",
        "  print('Shutting down')\n",
        "\n",
        "async def main():\n",
        "  async with connection() as db:\n",
        "    print(db, 'is ready')\n",
        "\n",
        "await main()"
      ],
      "metadata": {
        "colab": {
          "base_uri": "https://localhost:8080/"
        },
        "id": "RL3ekyBUfhHA",
        "outputId": "48c10fc2-cc86-48ff-b211-78103381ac14"
      },
      "execution_count": 134,
      "outputs": [
        {
          "output_type": "stream",
          "name": "stdout",
          "text": [
            "Setting up connection\n",
            "{'drive': 'sqlite'} is ready\n",
            "Shutting down\n"
          ]
        }
      ]
    },
    {
      "cell_type": "code",
      "source": [
        "# The Asynchronous Context Manager Classes\n",
        "import asyncio\n",
        "\n",
        "class Connection:\n",
        "  async def __aenter__(self):\n",
        "    print('Setting up a connection')\n",
        "    await asyncio.sleep(1)\n",
        "    return {'driver' : 'sqlite'}\n",
        "\n",
        "  async def __aenter__(self, exc_type, exc, tb):\n",
        "    await asyncio.sleep(1)\n",
        "    print('Connection is closed')\n",
        "\n",
        "async def main():\n",
        "  async with connection() as db:\n",
        "    print(db, 'is ready')\n",
        "\n",
        "await main()"
      ],
      "metadata": {
        "colab": {
          "base_uri": "https://localhost:8080/"
        },
        "id": "OcxbOGJ3ioFR",
        "outputId": "b0d62b2a-35d2-455e-9b81-2fde5c9c85fc"
      },
      "execution_count": 135,
      "outputs": [
        {
          "output_type": "stream",
          "name": "stdout",
          "text": [
            "Setting up connection\n",
            "{'drive': 'sqlite'} is ready\n",
            "Shutting down\n"
          ]
        }
      ]
    },
    {
      "cell_type": "code",
      "source": [
        "# The Asynchronous Generators\n",
        "import asyncio\n",
        "\n",
        "async def download(urls):\n",
        "  for url in urls:\n",
        "    await asyncio.sleep(1)\n",
        "    response = {'status': 200, 'data': f'content of {url}'}\n",
        "    if url == 'bing.com':\n",
        "      response['status'] = 500\n",
        "    yield response\n",
        "\n",
        "async def main():\n",
        "  urls = [\n",
        "      'google.com',\n",
        "      'bing.com',\n",
        "      'duckduckgo.com'\n",
        "  ]\n",
        "\n",
        "  responses = [value async for value in download(urls) if value['status'] != 200]\n",
        "  print(responses)\n",
        "\n",
        "await main()"
      ],
      "metadata": {
        "colab": {
          "base_uri": "https://localhost:8080/"
        },
        "id": "TNBIyKXejeXZ",
        "outputId": "452d31ab-e33d-46c4-c428-0a39e5f14ef2"
      },
      "execution_count": 141,
      "outputs": [
        {
          "output_type": "stream",
          "name": "stdout",
          "text": [
            "[{'status': 500, 'data': 'content of bing.com'}]\n"
          ]
        }
      ]
    },
    {
      "cell_type": "markdown",
      "source": [
        "#**2. Coroutines & Awaitables**"
      ],
      "metadata": {
        "id": "zbJsvM2_Pjg2"
      }
    },
    {
      "cell_type": "markdown",
      "source": [
        "##2.1 Coroutines Objects and Async Functions"
      ],
      "metadata": {
        "id": "vgP5fqDfSIo2"
      }
    },
    {
      "cell_type": "code",
      "source": [
        "import asyncio\n",
        "import inspect\n",
        "\n",
        "async def main():\n",
        "  pass\n",
        "\n",
        "print(type(main))\n",
        "print(inspect.iscoroutinefunction(main))\n",
        "print(dir(main()))"
      ],
      "metadata": {
        "colab": {
          "base_uri": "https://localhost:8080/"
        },
        "id": "LJHtKJyRSOqD",
        "outputId": "a8ccb67c-50c5-4175-fb1f-17983b4fd97d"
      },
      "execution_count": 143,
      "outputs": [
        {
          "output_type": "stream",
          "name": "stdout",
          "text": [
            "<class 'function'>\n",
            "True\n",
            "['__await__', '__class__', '__del__', '__delattr__', '__dir__', '__doc__', '__eq__', '__format__', '__ge__', '__getattribute__', '__gt__', '__hash__', '__init__', '__init_subclass__', '__le__', '__lt__', '__name__', '__ne__', '__new__', '__qualname__', '__reduce__', '__reduce_ex__', '__repr__', '__setattr__', '__sizeof__', '__str__', '__subclasshook__', 'close', 'cr_await', 'cr_code', 'cr_frame', 'cr_origin', 'cr_running', 'send', 'throw']\n"
          ]
        },
        {
          "output_type": "stream",
          "name": "stderr",
          "text": [
            "<ipython-input-143-56483b0f906b>:9: RuntimeWarning: coroutine 'main' was never awaited\n",
            "  print(dir(main()))\n",
            "RuntimeWarning: Enable tracemalloc to get the object allocation traceback\n"
          ]
        }
      ]
    },
    {
      "cell_type": "markdown",
      "source": [
        "##2.2 Ways of Running Coroutines"
      ],
      "metadata": {
        "id": "XT00nREcmeH3"
      }
    },
    {
      "cell_type": "code",
      "source": [
        "import asyncio\n",
        "import inspect\n",
        "\n",
        "async def main():\n",
        "  print('The main function')\n",
        "\n",
        "# 1. using await\n",
        "await main()\n",
        "# 2. creating a task\n",
        "asyncio.create_task(main())"
      ],
      "metadata": {
        "colab": {
          "base_uri": "https://localhost:8080/"
        },
        "id": "yOwuVcD9mc-Y",
        "outputId": "03e3c596-53d7-4e85-cd0a-e2a302d18346"
      },
      "execution_count": 145,
      "outputs": [
        {
          "output_type": "stream",
          "name": "stdout",
          "text": [
            "The main function\n"
          ]
        },
        {
          "output_type": "execute_result",
          "data": {
            "text/plain": [
              "<Task pending name='Task-58' coro=<main() running at <ipython-input-145-bc733164109c>:4>>"
            ]
          },
          "metadata": {},
          "execution_count": 145
        },
        {
          "output_type": "stream",
          "name": "stdout",
          "text": [
            "The main function\n"
          ]
        }
      ]
    },
    {
      "cell_type": "markdown",
      "source": [
        "##2.3 Cancelling Coroutines"
      ],
      "metadata": {
        "id": "zLSKoMVWnN-w"
      }
    },
    {
      "cell_type": "code",
      "source": [
        "import asyncio\n",
        "\n",
        "async def stopwatch():\n",
        "  count = 0\n",
        "  while True:\n",
        "      await asyncio.sleep(1)\n",
        "      count += 1\n",
        "      print(count)\n",
        "\n",
        "async def main():\n",
        "  task = asyncio.create_task(stopwatch())\n",
        "  await asyncio.sleep(3)\n",
        "  task.cancel()   # Here we say \"Cancel the task after 3rd second\"\n",
        "\n",
        "await main()"
      ],
      "metadata": {
        "colab": {
          "base_uri": "https://localhost:8080/"
        },
        "id": "MO_zSzganU7-",
        "outputId": "86e23783-0e56-4f83-822b-821319ee7177"
      },
      "execution_count": 146,
      "outputs": [
        {
          "output_type": "stream",
          "name": "stdout",
          "text": [
            "1\n",
            "2\n"
          ]
        }
      ]
    },
    {
      "cell_type": "markdown",
      "source": [
        "##2.4 Awaitable Objects"
      ],
      "metadata": {
        "id": "UkUmRmb1oZXb"
      }
    },
    {
      "cell_type": "code",
      "source": [
        "import asyncio\n",
        "\n",
        "class Stopwatch:\n",
        "  def __await__(self):\n",
        "    yield\n",
        "\n",
        "async def main():\n",
        "  await Stopwatch()\n",
        "\n",
        "await main()"
      ],
      "metadata": {
        "id": "fRO9IWwjodfG"
      },
      "execution_count": 147,
      "outputs": []
    },
    {
      "cell_type": "markdown",
      "source": [
        "#**3. Tasks, Futures and the Event Loop**"
      ],
      "metadata": {
        "id": "1Ot24NPGo4so"
      }
    },
    {
      "cell_type": "markdown",
      "source": [
        "##3.1 Using Task Objects"
      ],
      "metadata": {
        "id": "Y7eaS5tUpB_A"
      }
    },
    {
      "cell_type": "code",
      "source": [
        "import asyncio\n",
        "\n",
        "async def stopwatch():\n",
        "  count = 0\n",
        "  while count < 4:\n",
        "      await asyncio.sleep(1)\n",
        "      count += 1\n",
        "      print(count)\n",
        "\n",
        "def callb(task):\n",
        "  print('task is done', task)\n",
        "\n",
        "async def main():\n",
        "  task = asyncio.create_task(stopwatch())\n",
        "  task.set_name('My Task')\n",
        "  task.add_done_callback(callb)\n",
        "  print(task.get_name())\n",
        "  print(task.get_coro())\n",
        "  print(task.get_name())\n",
        "  await task\n",
        "\n",
        "await main()"
      ],
      "metadata": {
        "colab": {
          "base_uri": "https://localhost:8080/"
        },
        "id": "XlgE8641pFjr",
        "outputId": "147c6672-1545-4324-8840-0c8f36c49c02"
      },
      "execution_count": 150,
      "outputs": [
        {
          "output_type": "stream",
          "name": "stdout",
          "text": [
            "My Task\n",
            "<coroutine object stopwatch at 0x7ea2787a4660>\n",
            "My Task\n",
            "1\n",
            "2\n",
            "3\n",
            "4\n",
            "task is done <Task finished name='My Task' coro=<stopwatch() done, defined at <ipython-input-150-b87e2fe8d0a6>:3> result=None>\n"
          ]
        }
      ]
    },
    {
      "cell_type": "markdown",
      "source": [
        "##3.2 Interacting with the Event Loop:"
      ],
      "metadata": {
        "id": "JtcmR96OqMhU"
      }
    },
    {
      "cell_type": "code",
      "source": [
        "import asyncio\n",
        "\n",
        "async def stopwatch():\n",
        "  count = 0\n",
        "  while count < 4:\n",
        "      await asyncio.sleep(1)\n",
        "      count += 1\n",
        "      print(count)\n",
        "\n",
        "def callb(task):\n",
        "  print('task is done', task)\n",
        "\n",
        "async def main():\n",
        "  print(asyncio.get_running_loop())\n",
        "  task = asyncio.create_task(stopwatch())\n",
        "  task.add_done_callback(callb)\n",
        "\n",
        "  await task\n",
        "\n",
        "await main()"
      ],
      "metadata": {
        "colab": {
          "base_uri": "https://localhost:8080/"
        },
        "id": "Mh-wehySrOoN",
        "outputId": "07e3c948-e133-47eb-a2f5-5d2998098287"
      },
      "execution_count": 151,
      "outputs": [
        {
          "output_type": "stream",
          "name": "stdout",
          "text": [
            "<_UnixSelectorEventLoop running=True closed=False debug=False>\n",
            "1\n",
            "2\n",
            "3\n",
            "4\n",
            "task is done <Task finished name='Task-69' coro=<stopwatch() done, defined at <ipython-input-151-f16058d61056>:3> result=None>\n"
          ]
        }
      ]
    },
    {
      "cell_type": "markdown",
      "source": [
        "##3.3 The concept of the future:"
      ],
      "metadata": {
        "id": "wla_cgp0rPJ6"
      }
    },
    {
      "cell_type": "code",
      "source": [
        "import asyncio\n",
        "\n",
        "async def stopwatch():\n",
        "  count = 0\n",
        "  while count < 4:\n",
        "      await asyncio.sleep(1)\n",
        "      count += 1\n",
        "      print(count)\n",
        "\n",
        "def callb(task):\n",
        "  print('task is done', task)\n",
        "\n",
        "async def main():\n",
        "  task = asyncio.create_task(stopwatch())\n",
        "  task.add_done_callback(callb)\n",
        "  print(asyncio.isfuture(task))\n",
        "\n",
        "  await task\n",
        "\n",
        "await main()"
      ],
      "metadata": {
        "colab": {
          "base_uri": "https://localhost:8080/"
        },
        "id": "b9oqkjWXruu7",
        "outputId": "d9acdd96-b9a1-49da-9af0-da8474b33956"
      },
      "execution_count": 152,
      "outputs": [
        {
          "output_type": "stream",
          "name": "stdout",
          "text": [
            "True\n",
            "1\n",
            "2\n",
            "3\n",
            "4\n",
            "task is done <Task finished name='Task-71' coro=<stopwatch() done, defined at <ipython-input-152-fd9b0fb67711>:3> result=None>\n"
          ]
        }
      ]
    }
  ]
}